{
 "cells": [
  {
   "cell_type": "code",
   "execution_count": 1,
   "metadata": {},
   "outputs": [],
   "source": [
    "import os\n",
    "import threading\n",
    "import midi_loader as ml\n",
    "import midi_playback as mp\n",
    "import midi_queue as mq"
   ]
  },
  {
   "cell_type": "code",
   "execution_count": 2,
   "metadata": {},
   "outputs": [],
   "source": [
    "# # Assuming the classes defined earlier have been imported\n",
    "\n",
    "# # Set up the tempo (e.g., 120 BPM)\n",
    "# tempo = 60\n",
    "\n",
    "# # Initialize the MIDI loader and load the files\n",
    "# midi_loader = ml.MidiLoader(directory=\"data/datasets/test/synthetic\", tempo=tempo)\n",
    "# midi_loader.load_midi_files()\n",
    "\n",
    "# # Initialize the queue and add the files with appropriate start times\n",
    "# midi_queue = mq.MidiQueue()\n",
    "\n",
    "# # Start time for the first file (global start time, e.g., 0 seconds)\n",
    "# start_time = 3.0\n",
    "\n",
    "# # Queue the files\n",
    "# for midi_file in midi_loader.midi_files:\n",
    "#     print(f\"queueing {midi_file.filename} at {start_time}s\")\n",
    "#     midi_queue.add_to_queue(midi_file, start_time)\n",
    "#     start_time += midi_file.duration - (\n",
    "#         60 / tempo\n",
    "#     )  # Start the next file 1 beat before the previous one ends\n",
    "\n",
    "# # Optionally, set a repeat section (e.g., repeat 'b.mid' and 'c.mid')\n",
    "# # midi_queue.set_repeat_section(1, 2)  # Indices of 'b.mid' and 'c.mid' in the queue\n",
    "\n",
    "# # Initialize the playback scheduler with the \"Disklavier\" output port\n",
    "# scheduler = mp.PlaybackScheduler(\n",
    "#     midi_queue=midi_queue, tempo=tempo, midi_output_name=\"Disklavier\"\n",
    "# )\n",
    "\n",
    "# # Start playback\n",
    "# print(\"starting\")\n",
    "# scheduler.start_playback()\n",
    "\n",
    "# # Playback will start in a separate thread. To stop playback, call:\n",
    "# # scheduler.stop_playback()"
   ]
  },
  {
   "cell_type": "code",
   "execution_count": 3,
   "metadata": {},
   "outputs": [
    {
     "name": "stdout",
     "output_type": "stream",
     "text": [
      "done loading 8 files\n",
      "comp 3.75 and 3.75\n",
      "comp 3.75 and 4.25\n",
      "comp 4.25 and 4.25\n"
     ]
    },
    {
     "name": "stderr",
     "output_type": "stream",
     "text": [
      "Exception in thread scheduler:\n",
      "Traceback (most recent call last):\n",
      "  File \"/Users/finlay/miniconda3/envs/disklavier/lib/python3.12/threading.py\", line 1073, in _bootstrap_inner\n",
      "    self.run()\n",
      "  File \"/Users/finlay/Documents/Programming/disklavier/.venv/lib/python3.12/site-packages/ipykernel/ipkernel.py\", line 761, in run_closure\n"
     ]
    },
    {
     "name": "stderr",
     "output_type": "stream",
     "text": [
      "    _threading_Thread_run(self)\n",
      "  File \"/Users/finlay/miniconda3/envs/disklavier/lib/python3.12/threading.py\", line 1010, in run\n",
      "    self._target(*self._args, **self._kwargs)\n",
      "  File \"/var/folders/8c/sxhlb80n0c93ft54s3hhn5yw0000gn/T/ipykernel_27138/2737991164.py\", line 17, in scheduling_thread\n",
      "  File \"/Users/finlay/Documents/Programming/disklavier/midi_playback/__init__.py\", line 40, in schedule_events\n",
      "    self._adjust_event_timing(event_time)\n",
      "  File \"/Users/finlay/Documents/Programming/disklavier/midi_playback/__init__.py\", line 47, in _adjust_event_timing\n",
      "    event_time, event = heapq.heappop(self.event_queue)\n",
      "                        ^^^^^^^^^^^^^^^^^^^^^^^^^^^^^^^\n",
      "TypeError: '<' not supported between instances of 'MidiEvent' and 'MidiEvent'\n"
     ]
    }
   ],
   "source": [
    "tempo = 60\n",
    "\n",
    "midi_loader = ml.MidiLoader(\n",
    "    directory=\"data/datasets/test/synthetic\",\n",
    "    tempo=tempo,\n",
    ")\n",
    "midi_loader.load_midi_files()\n",
    "scheduler = mp.PlaybackScheduler(tempo=tempo, midi_output_name=\"Disklavier\")\n",
    "\n",
    "scheduler.start_playback()\n",
    "\n",
    "\n",
    "# Schedule the files in a separate thread\n",
    "def scheduling_thread():\n",
    "    start_time = 3.0\n",
    "    for midi_file in midi_loader.midi_files:\n",
    "        scheduler.schedule_events(midi_file, start_time)\n",
    "        start_time += midi_file.duration - scheduler._beat_duration()\n",
    "\n",
    "\n",
    "threading.Thread(target=scheduling_thread, name=\"scheduler\").start()\n",
    "\n",
    "# Playback will continue until the queue is empty"
   ]
  }
 ],
 "metadata": {
  "kernelspec": {
   "display_name": ".venv",
   "language": "python",
   "name": "python3"
  },
  "language_info": {
   "codemirror_mode": {
    "name": "ipython",
    "version": 3
   },
   "file_extension": ".py",
   "mimetype": "text/x-python",
   "name": "python",
   "nbconvert_exporter": "python",
   "pygments_lexer": "ipython3",
   "version": "3.12.2"
  }
 },
 "nbformat": 4,
 "nbformat_minor": 2
}
