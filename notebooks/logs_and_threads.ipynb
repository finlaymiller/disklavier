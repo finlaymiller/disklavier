{
 "cells": [
  {
   "cell_type": "code",
   "execution_count": 1,
   "metadata": {},
   "outputs": [],
   "source": [
    "import os\n",
    "import logging\n",
    "import logging.config\n",
    "import threading\n",
    "import queue\n",
    "import time"
   ]
  },
  {
   "cell_type": "code",
   "execution_count": 2,
   "metadata": {},
   "outputs": [],
   "source": [
    "logging.config.fileConfig('../logging.conf')\n",
    "\n",
    "# create logger\n",
    "logger = logging.getLogger('main')"
   ]
  },
  {
   "cell_type": "code",
   "execution_count": 3,
   "metadata": {},
   "outputs": [
    {
     "name": "stdout",
     "output_type": "stream",
     "text": [
      "03-02 10:36:43 main   | This is a debug message\n",
      "03-02 10:36:43 main   | This is an info message\n",
      "03-02 10:36:43 main   | This is a warning message\n",
      "03-02 10:36:43 main   | This is an error message\n",
      "03-02 10:36:43 main   | This is a critical message\n"
     ]
    }
   ],
   "source": [
    "logger.debug('This is a debug message')\n",
    "logger.info('This is an info message')\n",
    "logger.warning('This is a warning message')\n",
    "logger.error('This is an error message')\n",
    "logger.critical('This is a critical message')"
   ]
  },
  {
   "cell_type": "code",
   "execution_count": 4,
   "metadata": {},
   "outputs": [
    {
     "name": "stdout",
     "output_type": "stream",
     "text": [
      "03-02 10:36:43 numbers | Number: 1\n",
      "03-02 10:36:43 letters | Letter: A\n",
      "03-02 10:36:44 numbers | Number: 2\n",
      "03-02 10:36:44 letters | Letter: B\n",
      "03-02 10:36:45 numbers | Number: 3\n",
      "03-02 10:36:46 letters | Letter: C\n",
      "Both threads finished execution.\n"
     ]
    }
   ],
   "source": [
    "def print_numbers():\n",
    "    logger = logging.getLogger('numbers')\n",
    "    for i in range(1, 4):\n",
    "        logger.info(f\"Number: {i}\")\n",
    "        time.sleep(1)\n",
    "\n",
    "def print_letters():\n",
    "    logger = logging.getLogger('letters')\n",
    "    for letter in ['A', 'B', 'C']:\n",
    "        logger.info(f\"Letter: {letter}\")\n",
    "        time.sleep(1.5)\n",
    "\n",
    "# Create threads\n",
    "thread1 = threading.Thread(target=print_numbers)\n",
    "thread2 = threading.Thread(target=print_letters)\n",
    "\n",
    "# Start threads\n",
    "thread1.start()\n",
    "thread2.start()\n",
    "\n",
    "# Wait for both threads to complete\n",
    "thread1.join()\n",
    "thread2.join()\n",
    "\n",
    "print(\"Both threads finished execution.\")"
   ]
  },
  {
   "cell_type": "code",
   "execution_count": 5,
   "metadata": {},
   "outputs": [
    {
     "name": "stdout",
     "output_type": "stream",
     "text": [
      "03-02 10:36:47 thread 1 | Thread 1: starting\n",
      "03-02 10:36:47 thread 2 | Thread 2: starting\n",
      "03-02 10:36:47 root   | Updated counter to 1\n",
      "03-02 10:36:47 root   | Updated counter to 2\n",
      "03-02 10:36:48 root   | Updated counter to 3\n",
      "03-02 10:36:48 root   | Updated counter to 4\n",
      "03-02 10:36:49 root   | Updated counter to 5\n",
      "03-02 10:36:49 root   | Updated counter to 6\n",
      "03-02 10:36:50 thread 2 | Thread 2: finishing\n",
      "03-02 10:36:50 thread 1 | Thread 1: finishing\n",
      "All threads finished execution. Final counter value: 6\n"
     ]
    }
   ],
   "source": [
    "# Shared variable\n",
    "counter = 0\n",
    "\n",
    "# Create a queue for thread communication\n",
    "command_queue = queue.Queue()\n",
    "\n",
    "def increment_counter():\n",
    "    \"\"\"Thread function to signal incrementing the counter.\"\"\"\n",
    "    for _ in range(3):\n",
    "        # Instead of modifying the counter directly, we put an 'increment' command into the queue\n",
    "        command_queue.put('increment')\n",
    "        time.sleep(1.0)\n",
    "\n",
    "# Thread target functions\n",
    "def thread_function(name):\n",
    "    logger = logging.getLogger(f\"thread {name}\")\n",
    "    logger.info(f\"Thread {name}: starting\")\n",
    "    increment_counter()\n",
    "    logger.info(f\"Thread {name}: finishing\")\n",
    "\n",
    "# Main thread operation to update the shared variable based on commands from the queue\n",
    "def process_queue_commands():\n",
    "    global counter\n",
    "    logger = logging.getLogger()\n",
    "    while True:\n",
    "        command = command_queue.get()\n",
    "        if command == 'increment':\n",
    "            counter += 1\n",
    "            logger.info(f\"Updated counter to {counter}\")\n",
    "        command_queue.task_done()\n",
    "        if counter >= 6:  # Assuming we want to stop after 20 increments\n",
    "            break\n",
    "\n",
    "# Create two threads\n",
    "thread1 = threading.Thread(target=thread_function, args=(1,))\n",
    "thread2 = threading.Thread(target=thread_function, args=(2,))\n",
    "\n",
    "# Start threads\n",
    "thread1.start()\n",
    "thread2.start()\n",
    "\n",
    "# Start processing commands from the queue\n",
    "process_queue_commands()\n",
    "\n",
    "# Wait for all items in the queue to be processed\n",
    "command_queue.join()\n",
    "\n",
    "# Wait for threads to complete\n",
    "thread1.join()\n",
    "thread2.join()\n",
    "\n",
    "print(\"All threads finished execution. Final counter value:\", counter)\n"
   ]
  }
 ],
 "metadata": {
  "kernelspec": {
   "display_name": "full",
   "language": "python",
   "name": "python3"
  },
  "language_info": {
   "codemirror_mode": {
    "name": "ipython",
    "version": 3
   },
   "file_extension": ".py",
   "mimetype": "text/x-python",
   "name": "python",
   "nbconvert_exporter": "python",
   "pygments_lexer": "ipython3",
   "version": "3.11.5"
  }
 },
 "nbformat": 4,
 "nbformat_minor": 2
}
