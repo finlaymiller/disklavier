{
 "cells": [
  {
   "cell_type": "code",
   "execution_count": 1,
   "metadata": {},
   "outputs": [],
   "source": [
    "import os\n",
    "import h5py\n",
    "import numpy as np\n",
    "import pandas as pd\n",
    "from scipy.spatial.distance import cosine\n",
    "from itertools import product\n",
    "from rich.progress import track"
   ]
  },
  {
   "cell_type": "code",
   "execution_count": 2,
   "metadata": {},
   "outputs": [],
   "source": [
    "rng = np.random.default_rng(0)"
   ]
  },
  {
   "cell_type": "code",
   "execution_count": 4,
   "metadata": {},
   "outputs": [
    {
     "data": {
      "application/vnd.jupyter.widget-view+json": {
       "model_id": "d4445ee08cd344e8a0b1314ea45e0aed",
       "version_major": 2,
       "version_minor": 0
      },
      "text/plain": [
       "Output()"
      ]
     },
     "metadata": {},
     "output_type": "display_data"
    },
    {
     "name": "stdout",
     "output_type": "stream",
     "text": [
      "545952 rows in file\n"
     ]
    },
    {
     "data": {
      "text/html": [
       "<pre style=\"white-space:pre;overflow-x:auto;line-height:normal;font-family:Menlo,'DejaVu Sans Mono',consolas,'Courier New',monospace\"></pre>\n"
      ],
      "text/plain": []
     },
     "metadata": {},
     "output_type": "display_data"
    },
    {
     "name": "stderr",
     "output_type": "stream",
     "text": [
      "/var/folders/8c/sxhlb80n0c93ft54s3hhn5yw0000gn/T/ipykernel_15858/1817444113.py:11: PerformanceWarning: \n",
      "your performance may suffer as PyTables will pickle object types that it cannot\n",
      "map directly to c-types [inferred_type->mixed,key->block0_values] [items->Index(['embeddings'], dtype='object')]\n",
      "\n",
      "  df.to_hdf(\"../data/tables/20240621/clamp_embeddings_new.h5\", key=\"embeddings\")\n"
     ]
    }
   ],
   "source": [
    "# verify hdf5 file\n",
    "p_h5 = \"../data/tables/20240621/clamp_embeddings.h5\"\n",
    "with h5py.File(p_h5, \"r\") as hdf:\n",
    "    print(f\"{len(hdf.keys())} rows in file\")\n",
    "    df = pd.DataFrame(index=list(hdf.keys()), columns=[\"embeddings\"])\n",
    "    # Iterate over all items in the HDF5 file\n",
    "    nk = 0\n",
    "    for key in track(hdf.keys()):\n",
    "        df.loc[key, \"embeddings\"] = hdf[key][:]  # type: ignore\n",
    "df.head()\n",
    "df.to_hdf(\"../data/tables/20240621/clamp_embeddings_new.h5\", key=\"embeddings\")"
   ]
  },
  {
   "cell_type": "code",
   "execution_count": null,
   "metadata": {},
   "outputs": [],
   "source": [
    "# load prompt dataset\n",
    "p_test = \"../data/datasets/test/dataset samples\"\n",
    "transformations = [f\"t{t:02d}s{s:02d}\" for t, s in product(range(12), range(8))]\n",
    "q_files = [f\"{f[:-4]}_{rng.choice(transformations)}\" for f in os.listdir(p_test)]\n",
    "q_files[:3]"
   ]
  },
  {
   "cell_type": "code",
   "execution_count": null,
   "metadata": {},
   "outputs": [],
   "source": [
    "# load prompt embeddings\n",
    "q_embeddings = [embedding_dataset[key] for key in q_files]\n",
    "q_embeddings[0]"
   ]
  },
  {
   "cell_type": "code",
   "execution_count": null,
   "metadata": {},
   "outputs": [],
   "source": [
    "embedding_dataset.values()"
   ]
  },
  {
   "cell_type": "code",
   "execution_count": null,
   "metadata": {},
   "outputs": [],
   "source": [
    "# find best and worst n matches for prompts\n",
    "n_matches = 3\n",
    "indices = []  # To store the indices of the best and worst matches\n",
    "for q_emb in q_embeddings:\n",
    "    similarities = []\n",
    "    for idx, dataset in enumerate(embedding_dataset.values()):\n",
    "        sim = 1 - cosine(q_emb, dataset)\n",
    "        similarities.append((sim, idx))\n",
    "\n",
    "    similarities.sort(key=lambda x: x[0], reverse=True)  # Highest first\n",
    "    best_indices = [idx for _, idx in similarities[:n_matches]]  # Top 3\n",
    "    worst_indices = [idx for _, idx in similarities[-n_matches:]]  # Bottom 3\n",
    "\n",
    "    indices.append((best_indices, worst_indices))"
   ]
  },
  {
   "cell_type": "code",
   "execution_count": null,
   "metadata": {},
   "outputs": [],
   "source": [
    "embedding_dataset.close()"
   ]
  }
 ],
 "metadata": {
  "kernelspec": {
   "display_name": ".venv",
   "language": "python",
   "name": "python3"
  },
  "language_info": {
   "codemirror_mode": {
    "name": "ipython",
    "version": 3
   },
   "file_extension": ".py",
   "mimetype": "text/x-python",
   "name": "python",
   "nbconvert_exporter": "python",
   "pygments_lexer": "ipython3",
   "version": "3.12.2"
  }
 },
 "nbformat": 4,
 "nbformat_minor": 2
}
