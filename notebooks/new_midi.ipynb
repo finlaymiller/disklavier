{
 "cells": [
  {
   "cell_type": "code",
   "execution_count": 25,
   "metadata": {},
   "outputs": [],
   "source": [
    "import mido"
   ]
  },
  {
   "cell_type": "code",
   "execution_count": 28,
   "metadata": {},
   "outputs": [
    {
     "data": {
      "text/plain": [
       "datetime.time(14, 26, 50, 882072)"
      ]
     },
     "execution_count": 28,
     "metadata": {},
     "output_type": "execute_result"
    }
   ],
   "source": [
    "import datetime\n",
    "\n",
    "datetime.datetime.now().time()"
   ]
  },
  {
   "cell_type": "code",
   "execution_count": 26,
   "metadata": {},
   "outputs": [
    {
     "name": "stdout",
     "output_type": "stream",
     "text": [
      "=== Track 0\n",
      "MetaMessage('set_tempo', tempo=375000, time=0)\n",
      "MetaMessage('track_name', name='bbbb-060-01_0005-0011', time=0)\n",
      "MetaMessage('time_signature', numerator=4, denominator=4, clocks_per_click=36, notated_32nd_notes_per_beat=8, time=0)\n",
      "MetaMessage('time_signature', numerator=4, denominator=4, clocks_per_click=36, notated_32nd_notes_per_beat=8, time=0)\n",
      "Message('note_on', channel=0, note=59, velocity=104, time=96)\n",
      "Message('note_off', channel=0, note=59, velocity=64, time=168)\n",
      "Message('note_on', channel=0, note=59, velocity=104, time=24)\n",
      "Message('note_off', channel=0, note=59, velocity=64, time=168)\n",
      "Message('note_on', channel=0, note=59, velocity=104, time=24)\n",
      "Message('note_off', channel=0, note=59, velocity=64, time=168)\n",
      "Message('note_on', channel=0, note=59, velocity=104, time=24)\n",
      "Message('note_off', channel=0, note=59, velocity=64, time=168)\n",
      "MetaMessage('end_of_track', time=0)\n"
     ]
    }
   ],
   "source": [
    "midi = mido.MidiFile(\"../data/datasets/test/play/bbbb-060-01_0005-0011.mid\")\n",
    "# midi = mido.MidiFile(\"../data/outputs/logs/240828-121346/recording_240828-121346.mid\")\n",
    "midi.tracks[0].insert(\n",
    "    0, mido.MetaMessage(\"set_tempo\", tempo=mido.bpm2tempo(160), time=0)\n",
    ")\n",
    "midi.print_tracks()\n",
    "midi.save(\"files/test.mid\")\n",
    "del midi"
   ]
  },
  {
   "cell_type": "code",
   "execution_count": 27,
   "metadata": {},
   "outputs": [
    {
     "name": "stdout",
     "output_type": "stream",
     "text": [
      "=== Track 0\n",
      "MetaMessage('set_tempo', tempo=375000, time=0)\n",
      "MetaMessage('track_name', name='bbbb-060-01_0005-0011', time=0)\n",
      "MetaMessage('time_signature', numerator=4, denominator=4, clocks_per_click=36, notated_32nd_notes_per_beat=8, time=0)\n",
      "MetaMessage('time_signature', numerator=4, denominator=4, clocks_per_click=36, notated_32nd_notes_per_beat=8, time=0)\n",
      "Message('note_on', channel=0, note=59, velocity=104, time=96)\n",
      "Message('note_off', channel=0, note=59, velocity=64, time=168)\n",
      "Message('note_on', channel=0, note=59, velocity=104, time=24)\n",
      "Message('note_off', channel=0, note=59, velocity=64, time=168)\n",
      "Message('note_on', channel=0, note=59, velocity=104, time=24)\n",
      "Message('note_off', channel=0, note=59, velocity=64, time=168)\n",
      "Message('note_on', channel=0, note=59, velocity=104, time=24)\n",
      "Message('note_off', channel=0, note=59, velocity=64, time=168)\n",
      "MetaMessage('end_of_track', time=0)\n"
     ]
    }
   ],
   "source": [
    "midi = mido.MidiFile(\"files/test.mid\")\n",
    "midi.print_tracks()\n",
    "with mido.open_output(\"Disklavier\") as output:\n",
    "    for msg in midi.play(True):\n",
    "        if not msg.is_meta:\n",
    "            output.send(msg)"
   ]
  }
 ],
 "metadata": {
  "kernelspec": {
   "display_name": ".venv",
   "language": "python",
   "name": "python3"
  },
  "language_info": {
   "codemirror_mode": {
    "name": "ipython",
    "version": 3
   },
   "file_extension": ".py",
   "mimetype": "text/x-python",
   "name": "python",
   "nbconvert_exporter": "python",
   "pygments_lexer": "ipython3",
   "version": "3.12.4"
  }
 },
 "nbformat": 4,
 "nbformat_minor": 2
}
