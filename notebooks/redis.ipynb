{
 "cells": [
  {
   "cell_type": "code",
   "execution_count": 6,
   "metadata": {},
   "outputs": [],
   "source": [
    "import redis\n",
    "import pandas as pd\n",
    "import numpy as np\n",
    "import time"
   ]
  },
  {
   "cell_type": "code",
   "execution_count": 10,
   "metadata": {},
   "outputs": [],
   "source": [
    "r = redis.Redis(host=\"localhost\", port=6379, db=0)"
   ]
  },
  {
   "cell_type": "code",
   "execution_count": 5,
   "metadata": {},
   "outputs": [
    {
     "name": "stdout",
     "output_type": "stream",
     "text": [
      "{'sim': 0.5}\n"
     ]
    }
   ],
   "source": [
    "r.json().set(\"test\", \"$\", {\"sim\": 0.5}, nx=True)\n",
    "print(r.json().get(\"test\"))"
   ]
  },
  {
   "cell_type": "code",
   "execution_count": 9,
   "metadata": {},
   "outputs": [
    {
     "name": "stdout",
     "output_type": "stream",
     "text": [
      "   0     1     2     3     4     5     6     7     8     9     ...  3990  \\\n",
      "0   0.5   0.5   0.5   0.5   0.5   0.5   0.5   0.5   0.5   0.5  ...   0.5   \n",
      "1   0.5   0.5   0.5   0.5   0.5   0.5   0.5   0.5   0.5   0.5  ...   0.5   \n",
      "2   0.5   0.5   0.5   0.5   0.5   0.5   0.5   0.5   0.5   0.5  ...   0.5   \n",
      "3   0.5   0.5   0.5   0.5   0.5   0.5   0.5   0.5   0.5   0.5  ...   0.5   \n",
      "4   0.5   0.5   0.5   0.5   0.5   0.5   0.5   0.5   0.5   0.5  ...   0.5   \n",
      "\n",
      "   3991  3992  3993  3994  3995  3996  3997  3998  3999  \n",
      "0   0.5   0.5   0.5   0.5   0.5   0.5   0.5   0.5   0.5  \n",
      "1   0.5   0.5   0.5   0.5   0.5   0.5   0.5   0.5   0.5  \n",
      "2   0.5   0.5   0.5   0.5   0.5   0.5   0.5   0.5   0.5  \n",
      "3   0.5   0.5   0.5   0.5   0.5   0.5   0.5   0.5   0.5  \n",
      "4   0.5   0.5   0.5   0.5   0.5   0.5   0.5   0.5   0.5  \n",
      "\n",
      "[5 rows x 4000 columns]\n",
      "Time taken to generate DataFrame: 79.40 seconds\n",
      "Memory usage of DataFrame: 30.52 MB\n"
     ]
    }
   ],
   "source": [
    "n = 4000\n",
    "data = np.zeros((n, n), dtype=np.float16)\n",
    "\n",
    "# Measure the time taken to populate the DataFrame\n",
    "start_time = time.time()\n",
    "\n",
    "for i in range(n):\n",
    "    pipeline = r.pipeline()\n",
    "    for j in range(n):\n",
    "        pipeline.execute_command(\"JSON.GET\", \"test\", \"$.sim\")\n",
    "\n",
    "    results = pipeline.execute()\n",
    "\n",
    "    data[i, :] = [float(result[0]) for result in results]\n",
    "\n",
    "df = pd.DataFrame(data)\n",
    "memory_usage = df.memory_usage(index=True).sum()\n",
    "df = df.astype(np.float16)\n",
    "\n",
    "end_time = time.time()\n",
    "elapsed_time = end_time - start_time\n",
    "\n",
    "# Verify the DataFrame\n",
    "print(df.head())\n",
    "print(f\"Time taken to generate DataFrame: {elapsed_time:.2f} seconds\")\n",
    "print(f\"Memory usage of DataFrame: {memory_usage / (1024 * 1024):.2f} MB\")\n",
    "del df"
   ]
  }
 ],
 "metadata": {
  "kernelspec": {
   "display_name": ".venv",
   "language": "python",
   "name": "python3"
  },
  "language_info": {
   "codemirror_mode": {
    "name": "ipython",
    "version": 3
   },
   "file_extension": ".py",
   "mimetype": "text/x-python",
   "name": "python",
   "nbconvert_exporter": "python",
   "pygments_lexer": "ipython3",
   "version": "3.12.2"
  }
 },
 "nbformat": 4,
 "nbformat_minor": 2
}
