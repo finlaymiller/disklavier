{
 "cells": [
  {
   "cell_type": "markdown",
   "metadata": {},
   "source": [
    "## setup"
   ]
  },
  {
   "cell_type": "code",
   "execution_count": 8,
   "metadata": {},
   "outputs": [],
   "source": [
    "import redis\n",
    "import json\n",
    "from multiprocessing import Process, cpu_count\n",
    "import json\n",
    "import pandas as pd\n",
    "import numpy as np\n",
    "\n",
    "from typing import List"
   ]
  },
  {
   "cell_type": "code",
   "execution_count": 9,
   "metadata": {},
   "outputs": [],
   "source": [
    "dataset_path = \"../data/datasets/careful\"\n",
    "properties_path = \"../data/outputs/careful.json\"\n",
    "metric = \"pitch_histogram\""
   ]
  },
  {
   "cell_type": "code",
   "execution_count": 10,
   "metadata": {},
   "outputs": [],
   "source": [
    "# FT.CREATE idx:table ON JSON PREFIX 1 cmp: SCHEMA $.sim AS sim NUMERIC $.row_file AS row_file TEXT $.col_file AS col_file TEXT $.metric AS metric TEXT"
   ]
  },
  {
   "cell_type": "code",
   "execution_count": 12,
   "metadata": {},
   "outputs": [
    {
     "name": "stdout",
     "output_type": "stream",
     "text": [
      "3868 & 12 -> 322 + 4\n"
     ]
    }
   ],
   "source": [
    "# redis setup\n",
    "redis_url = \"redis://localhost:6379\"\n",
    "r = redis.Redis(redis_url)\n",
    "\n",
    "\n",
    "# load from fs\n",
    "properties = {}\n",
    "with open(properties_path, \"r\") as f:\n",
    "    properties = json.load(f)\n",
    "\n",
    "names = list(properties.keys())\n",
    "names.sort()\n",
    "\n",
    "num_processes = cpu_count()\n",
    "rows_per_process = len(names) // num_processes  # type: ignore\n",
    "extra_rows = len(names) % num_processes  # type: ignore\n",
    "print(f\"{len(names)} & {num_processes} -> {rows_per_process} + {extra_rows}\")"
   ]
  },
  {
   "cell_type": "markdown",
   "metadata": {},
   "source": [
    "## general tests"
   ]
  },
  {
   "cell_type": "code",
   "execution_count": null,
   "metadata": {},
   "outputs": [],
   "source": [
    "name1 = \"20240121-70-06_0096-0104.mid\"  # names[0]\n",
    "name2 = \"20240227-76-05_0128-0136.mid\"  # names[-1]\n",
    "print(f\"{name1} {name2} {metric}\")\n",
    "r.json().get(f\"cmp:{name1}:{name2}:{metric}\")"
   ]
  },
  {
   "cell_type": "code",
   "execution_count": null,
   "metadata": {},
   "outputs": [],
   "source": [
    "def scan_keys(r, pattern):\n",
    "    cursor = 0\n",
    "    keys = []\n",
    "    while True:\n",
    "        cursor, new_keys = r.scan(cursor, match=pattern)\n",
    "        keys.extend(new_keys)\n",
    "        if cursor == 0:\n",
    "            break\n",
    "    return keys\n",
    "\n",
    "\n",
    "# Pattern to match\n",
    "pattern = \"20231220-80-01_0000-0008.mid:*:pitch_histogram\"\n",
    "\n",
    "# Get all keys matching the pattern\n",
    "# matching_keys = scan_keys(r, pattern)\n",
    "# print(f\"Keys matching pattern '{pattern}': {matching_keys}\")"
   ]
  },
  {
   "cell_type": "code",
   "execution_count": null,
   "metadata": {},
   "outputs": [],
   "source": [
    "def process_json_keys(redis_conn):\n",
    "    cursor = \"0\"\n",
    "    while cursor != 0:\n",
    "        cursor, keys = redis_conn.scan(cursor=cursor, count=1000)\n",
    "        for key in keys:\n",
    "            key_type = redis_conn.execute_command(\"TYPE\", key)\n",
    "            if key_type == b\"ReJSON-RL\":\n",
    "                value = redis_conn.json().get(key)\n",
    "\n",
    "                if value:\n",
    "                    row_file, col_file, metric = str(key).split(\":\")\n",
    "\n",
    "                    value[\"row_file\"] = row_file[2:]\n",
    "                    value[\"col_file\"] = col_file\n",
    "                    value[\"metric\"] = metric\n",
    "\n",
    "                    # print(f\"Key: {key}, Data: {value}\")\n",
    "                    r.json().set(key, \"$\", value)\n",
    "\n",
    "            else:\n",
    "                # Ignore non-JSON objects\n",
    "                continue\n",
    "        print(f\"finished section {cursor}\")\n",
    "\n",
    "\n",
    "# Call the function\n",
    "process_json_keys(r)\n",
    "print(\"DONE\")"
   ]
  },
  {
   "cell_type": "code",
   "execution_count": 6,
   "metadata": {},
   "outputs": [],
   "source": [
    "import redis\n",
    "import pandas as pd\n",
    "import numpy as np\n",
    "import time"
   ]
  },
  {
   "cell_type": "code",
   "execution_count": 10,
   "metadata": {},
   "outputs": [],
   "source": [
    "r = redis.Redis(host=\"localhost\", port=6379, db=0)"
   ]
  },
  {
   "cell_type": "code",
   "execution_count": 5,
   "metadata": {},
   "outputs": [
    {
     "name": "stdout",
     "output_type": "stream",
     "text": [
      "{'sim': 0.5}\n"
     ]
    }
   ],
   "source": [
    "r.json().set(\"test\", \"$\", {\"sim\": 0.5}, nx=True)\n",
    "print(r.json().get(\"test\"))"
   ]
  },
  {
   "cell_type": "code",
   "execution_count": 9,
   "metadata": {},
   "outputs": [
    {
     "name": "stdout",
     "output_type": "stream",
     "text": [
      "   0     1     2     3     4     5     6     7     8     9     ...  3990  \\\n",
      "0   0.5   0.5   0.5   0.5   0.5   0.5   0.5   0.5   0.5   0.5  ...   0.5   \n",
      "1   0.5   0.5   0.5   0.5   0.5   0.5   0.5   0.5   0.5   0.5  ...   0.5   \n",
      "2   0.5   0.5   0.5   0.5   0.5   0.5   0.5   0.5   0.5   0.5  ...   0.5   \n",
      "3   0.5   0.5   0.5   0.5   0.5   0.5   0.5   0.5   0.5   0.5  ...   0.5   \n",
      "4   0.5   0.5   0.5   0.5   0.5   0.5   0.5   0.5   0.5   0.5  ...   0.5   \n",
      "\n",
      "   3991  3992  3993  3994  3995  3996  3997  3998  3999  \n",
      "0   0.5   0.5   0.5   0.5   0.5   0.5   0.5   0.5   0.5  \n",
      "1   0.5   0.5   0.5   0.5   0.5   0.5   0.5   0.5   0.5  \n",
      "2   0.5   0.5   0.5   0.5   0.5   0.5   0.5   0.5   0.5  \n",
      "3   0.5   0.5   0.5   0.5   0.5   0.5   0.5   0.5   0.5  \n",
      "4   0.5   0.5   0.5   0.5   0.5   0.5   0.5   0.5   0.5  \n",
      "\n",
      "[5 rows x 4000 columns]\n",
      "Time taken to generate DataFrame: 79.40 seconds\n",
      "Memory usage of DataFrame: 30.52 MB\n"
     ]
    }
   ],
   "source": [
    "n = 4000\n",
    "data = np.zeros((n, n), dtype=np.float16)\n",
    "\n",
    "# Measure the time taken to populate the DataFrame\n",
    "start_time = time.time()\n",
    "\n",
    "for i in range(n):\n",
    "    pipeline = r.pipeline()\n",
    "    for j in range(n):\n",
    "        pipeline.execute_command(\"JSON.GET\", \"test\", \"$.sim\")\n",
    "\n",
    "    results = pipeline.execute()\n",
    "\n",
    "    data[i, :] = [float(result[0]) for result in results]\n",
    "\n",
    "df = pd.DataFrame(data)\n",
    "memory_usage = df.memory_usage(index=True).sum()\n",
    "df = df.astype(np.float16)\n",
    "\n",
    "end_time = time.time()\n",
    "elapsed_time = end_time - start_time\n",
    "\n",
    "# Verify the DataFrame\n",
    "print(df.head())\n",
    "print(f\"Time taken to generate DataFrame: {elapsed_time:.2f} seconds\")\n",
    "print(f\"Memory usage of DataFrame: {memory_usage / (1024 * 1024):.2f} MB\")\n",
    "del df"
   ]
  }
 ],
 "metadata": {
  "kernelspec": {
   "display_name": ".venv",
   "language": "python",
   "name": "python3"
  },
  "language_info": {
   "codemirror_mode": {
    "name": "ipython",
    "version": 3
   },
   "file_extension": ".py",
   "mimetype": "text/x-python",
   "name": "python",
   "nbconvert_exporter": "python",
   "pygments_lexer": "ipython3",
   "version": "3.12.2"
  }
 },
 "nbformat": 4,
 "nbformat_minor": 2
}
