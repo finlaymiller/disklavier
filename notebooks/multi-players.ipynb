{
 "cells": [
  {
   "cell_type": "code",
   "execution_count": 2,
   "metadata": {},
   "outputs": [],
   "source": [
    "import os\n",
    "import mido\n",
    "from mido import MidiFile, Message\n",
    "from threading import Event\n",
    "from queue import Queue\n",
    "import simpleaudio as sa"
   ]
  },
  {
   "cell_type": "code",
   "execution_count": 3,
   "metadata": {},
   "outputs": [],
   "source": [
    "class SimplePlayer:\n",
    "    do_tick = True\n",
    "\n",
    "    def __init__(\n",
    "        self,\n",
    "        kill_event: Event,\n",
    "        playback_event: Event,\n",
    "        filename_queue: Queue,\n",
    "    ) -> None:\n",
    "        self.kill_event = kill_event\n",
    "        self.get_next = playback_event\n",
    "        self.file_queue = filename_queue\n",
    "\n",
    "    def playback_loop(self, seed_file_path: str):\n",
    "        self.playing_file_path = seed_file_path\n",
    "        self.next_file_path = self.file_queue.get()\n",
    "        next_file = os.path.basename(self.next_file_path)\n",
    "\n",
    "        while self.next_file_path is not None and not self.kill_event.is_set():\n",
    "            self.playing_file = os.path.basename(self.playing_file_path)\n",
    "            file_tempo = int(os.path.basename(self.playing_file).split(\"-\")[1])\n",
    "            found_tempo = -1\n",
    "\n",
    "            for track in MidiFile(self.playing_file_path).tracks:\n",
    "                for msg in track:\n",
    "                    if msg.type == \"set_tempo\":\n",
    "                        found_tempo = msg.tempo\n",
    "\n",
    "            print(\n",
    "                f\"playing '{self.playing_file}' ({file_tempo}) --> '{next_file}' ({round(mido.tempo2bpm(found_tempo)):01d})\"\n",
    "            )\n",
    "\n",
    "            self.get_next.set()\n",
    "            self.play_midi_file(self.playing_file_path)\n",
    "            self.playing_file_path = self.next_file_path\n",
    "\n",
    "        print(f\"shutting down\")\n",
    "\n",
    "    def play_midi_file(self, midi_path: str) -> None:\n",
    "        midi = MidiFile(midi_path)\n",
    "\n",
    "        with mido.open_output(\"Disklavier\") as outport:  # type: ignore\n",
    "            for msg in midi.play(meta_messages=True):\n",
    "                if not msg.is_meta:\n",
    "                    outport.send(msg)\n",
    "                if msg.type == \"text\":  # type: ignore\n",
    "                    self.tick()\n",
    "\n",
    "                # check if we're dead yet\n",
    "                if self.kill_event.is_set():\n",
    "                    self.end_notes()\n",
    "                    break\n",
    "\n",
    "    def end_notes(self):\n",
    "        with mido.open_output(\"Disklavier\") as outport:  # type: ignore\n",
    "            for note in range(128):\n",
    "                msg = Message(\"note_off\", note=note, velocity=0, channel=0)\n",
    "                outport.send(msg)\n",
    "\n",
    "    def tick(self):\n",
    "        tick = sa.WaveObject.from_wave_file(\"../data/tick.wav\")\n",
    "        tick.play()"
   ]
  },
  {
   "cell_type": "code",
   "execution_count": null,
   "metadata": {},
   "outputs": [],
   "source": [
    "give_p1 = Event()\n",
    "kill_p1 = Event()\n",
    "plst_p1 = Queue()\n",
    "\n",
    "player1 = SimplePlayer()"
   ]
  }
 ],
 "metadata": {
  "kernelspec": {
   "display_name": ".venv",
   "language": "python",
   "name": "python3"
  },
  "language_info": {
   "codemirror_mode": {
    "name": "ipython",
    "version": 3
   },
   "file_extension": ".py",
   "mimetype": "text/x-python",
   "name": "python",
   "nbconvert_exporter": "python",
   "pygments_lexer": "ipython3",
   "version": "3.12.2"
  }
 },
 "nbformat": 4,
 "nbformat_minor": 2
}
