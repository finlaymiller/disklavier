{
 "cells": [
  {
   "cell_type": "code",
   "execution_count": 1,
   "metadata": {},
   "outputs": [],
   "source": [
    "import os\n",
    "import threading\n",
    "import queue\n",
    "import time\n",
    "from rich.console import Console"
   ]
  },
  {
   "cell_type": "code",
   "execution_count": 2,
   "metadata": {},
   "outputs": [
    {
     "data": {
      "text/html": [
       "<pre style=\"white-space:pre;overflow-x:auto;line-height:normal;font-family:Menlo,'DejaVu Sans Mono',consolas,'Courier New',monospace\"><span style=\"color: #7fbfbf; text-decoration-color: #7fbfbf\">[10:39:50] </span>Number: <span style=\"color: #008080; text-decoration-color: #008080; font-weight: bold\">1</span>                                                                                 <a href=\"file:///var/folders/8c/sxhlb80n0c93ft54s3hhn5yw0000gn/T/ipykernel_23323/237259010.py\" target=\"_blank\"><span style=\"color: #7f7f7f; text-decoration-color: #7f7f7f\">237259010.py</span></a><span style=\"color: #7f7f7f; text-decoration-color: #7f7f7f\">:</span><a href=\"file:///var/folders/8c/sxhlb80n0c93ft54s3hhn5yw0000gn/T/ipykernel_23323/237259010.py#5\" target=\"_blank\"><span style=\"color: #7f7f7f; text-decoration-color: #7f7f7f\">5</span></a>\n",
       "</pre>\n"
      ],
      "text/plain": [
       "\u001b[2;36m[10:39:50]\u001b[0m\u001b[2;36m \u001b[0mNumber: \u001b[1;36m1\u001b[0m                                                                                 \u001b]8;id=25794;file:///var/folders/8c/sxhlb80n0c93ft54s3hhn5yw0000gn/T/ipykernel_23323/237259010.py\u001b\\\u001b[2m237259010.py\u001b[0m\u001b]8;;\u001b\\\u001b[2m:\u001b[0m\u001b]8;id=556873;file:///var/folders/8c/sxhlb80n0c93ft54s3hhn5yw0000gn/T/ipykernel_23323/237259010.py#5\u001b\\\u001b[2m5\u001b[0m\u001b]8;;\u001b\\\n"
      ]
     },
     "metadata": {},
     "output_type": "display_data"
    },
    {
     "data": {
      "text/html": [
       "<pre style=\"white-space:pre;overflow-x:auto;line-height:normal;font-family:Menlo,'DejaVu Sans Mono',consolas,'Courier New',monospace\"><span style=\"color: #7fbfbf; text-decoration-color: #7fbfbf\">           </span>Letter: A                                                                                <a href=\"file:///var/folders/8c/sxhlb80n0c93ft54s3hhn5yw0000gn/T/ipykernel_23323/237259010.py\" target=\"_blank\"><span style=\"color: #7f7f7f; text-decoration-color: #7f7f7f\">237259010.py</span></a><span style=\"color: #7f7f7f; text-decoration-color: #7f7f7f\">:</span><a href=\"file:///var/folders/8c/sxhlb80n0c93ft54s3hhn5yw0000gn/T/ipykernel_23323/237259010.py#10\" target=\"_blank\"><span style=\"color: #7f7f7f; text-decoration-color: #7f7f7f\">10</span></a>\n",
       "</pre>\n"
      ],
      "text/plain": [
       "\u001b[2;36m          \u001b[0m\u001b[2;36m \u001b[0mLetter: A                                                                                \u001b]8;id=712649;file:///var/folders/8c/sxhlb80n0c93ft54s3hhn5yw0000gn/T/ipykernel_23323/237259010.py\u001b\\\u001b[2m237259010.py\u001b[0m\u001b]8;;\u001b\\\u001b[2m:\u001b[0m\u001b]8;id=788739;file:///var/folders/8c/sxhlb80n0c93ft54s3hhn5yw0000gn/T/ipykernel_23323/237259010.py#10\u001b\\\u001b[2m10\u001b[0m\u001b]8;;\u001b\\\n"
      ]
     },
     "metadata": {},
     "output_type": "display_data"
    },
    {
     "data": {
      "text/html": [
       "<pre style=\"white-space:pre;overflow-x:auto;line-height:normal;font-family:Menlo,'DejaVu Sans Mono',consolas,'Courier New',monospace\"><span style=\"color: #7fbfbf; text-decoration-color: #7fbfbf\">[10:39:51] </span>Number: <span style=\"color: #008080; text-decoration-color: #008080; font-weight: bold\">2</span>                                                                                 <a href=\"file:///var/folders/8c/sxhlb80n0c93ft54s3hhn5yw0000gn/T/ipykernel_23323/237259010.py\" target=\"_blank\"><span style=\"color: #7f7f7f; text-decoration-color: #7f7f7f\">237259010.py</span></a><span style=\"color: #7f7f7f; text-decoration-color: #7f7f7f\">:</span><a href=\"file:///var/folders/8c/sxhlb80n0c93ft54s3hhn5yw0000gn/T/ipykernel_23323/237259010.py#5\" target=\"_blank\"><span style=\"color: #7f7f7f; text-decoration-color: #7f7f7f\">5</span></a>\n",
       "</pre>\n"
      ],
      "text/plain": [
       "\u001b[2;36m[10:39:51]\u001b[0m\u001b[2;36m \u001b[0mNumber: \u001b[1;36m2\u001b[0m                                                                                 \u001b]8;id=10441;file:///var/folders/8c/sxhlb80n0c93ft54s3hhn5yw0000gn/T/ipykernel_23323/237259010.py\u001b\\\u001b[2m237259010.py\u001b[0m\u001b]8;;\u001b\\\u001b[2m:\u001b[0m\u001b]8;id=549738;file:///var/folders/8c/sxhlb80n0c93ft54s3hhn5yw0000gn/T/ipykernel_23323/237259010.py#5\u001b\\\u001b[2m5\u001b[0m\u001b]8;;\u001b\\\n"
      ]
     },
     "metadata": {},
     "output_type": "display_data"
    },
    {
     "data": {
      "text/html": [
       "<pre style=\"white-space:pre;overflow-x:auto;line-height:normal;font-family:Menlo,'DejaVu Sans Mono',consolas,'Courier New',monospace\"><span style=\"color: #7fbfbf; text-decoration-color: #7fbfbf\">           </span>Letter: B                                                                                <a href=\"file:///var/folders/8c/sxhlb80n0c93ft54s3hhn5yw0000gn/T/ipykernel_23323/237259010.py\" target=\"_blank\"><span style=\"color: #7f7f7f; text-decoration-color: #7f7f7f\">237259010.py</span></a><span style=\"color: #7f7f7f; text-decoration-color: #7f7f7f\">:</span><a href=\"file:///var/folders/8c/sxhlb80n0c93ft54s3hhn5yw0000gn/T/ipykernel_23323/237259010.py#10\" target=\"_blank\"><span style=\"color: #7f7f7f; text-decoration-color: #7f7f7f\">10</span></a>\n",
       "</pre>\n"
      ],
      "text/plain": [
       "\u001b[2;36m          \u001b[0m\u001b[2;36m \u001b[0mLetter: B                                                                                \u001b]8;id=996845;file:///var/folders/8c/sxhlb80n0c93ft54s3hhn5yw0000gn/T/ipykernel_23323/237259010.py\u001b\\\u001b[2m237259010.py\u001b[0m\u001b]8;;\u001b\\\u001b[2m:\u001b[0m\u001b]8;id=516386;file:///var/folders/8c/sxhlb80n0c93ft54s3hhn5yw0000gn/T/ipykernel_23323/237259010.py#10\u001b\\\u001b[2m10\u001b[0m\u001b]8;;\u001b\\\n"
      ]
     },
     "metadata": {},
     "output_type": "display_data"
    },
    {
     "data": {
      "text/html": [
       "<pre style=\"white-space:pre;overflow-x:auto;line-height:normal;font-family:Menlo,'DejaVu Sans Mono',consolas,'Courier New',monospace\"><span style=\"color: #7fbfbf; text-decoration-color: #7fbfbf\">[10:39:52] </span>Number: <span style=\"color: #008080; text-decoration-color: #008080; font-weight: bold\">3</span>                                                                                 <a href=\"file:///var/folders/8c/sxhlb80n0c93ft54s3hhn5yw0000gn/T/ipykernel_23323/237259010.py\" target=\"_blank\"><span style=\"color: #7f7f7f; text-decoration-color: #7f7f7f\">237259010.py</span></a><span style=\"color: #7f7f7f; text-decoration-color: #7f7f7f\">:</span><a href=\"file:///var/folders/8c/sxhlb80n0c93ft54s3hhn5yw0000gn/T/ipykernel_23323/237259010.py#5\" target=\"_blank\"><span style=\"color: #7f7f7f; text-decoration-color: #7f7f7f\">5</span></a>\n",
       "</pre>\n"
      ],
      "text/plain": [
       "\u001b[2;36m[10:39:52]\u001b[0m\u001b[2;36m \u001b[0mNumber: \u001b[1;36m3\u001b[0m                                                                                 \u001b]8;id=49085;file:///var/folders/8c/sxhlb80n0c93ft54s3hhn5yw0000gn/T/ipykernel_23323/237259010.py\u001b\\\u001b[2m237259010.py\u001b[0m\u001b]8;;\u001b\\\u001b[2m:\u001b[0m\u001b]8;id=538363;file:///var/folders/8c/sxhlb80n0c93ft54s3hhn5yw0000gn/T/ipykernel_23323/237259010.py#5\u001b\\\u001b[2m5\u001b[0m\u001b]8;;\u001b\\\n"
      ]
     },
     "metadata": {},
     "output_type": "display_data"
    },
    {
     "data": {
      "text/html": [
       "<pre style=\"white-space:pre;overflow-x:auto;line-height:normal;font-family:Menlo,'DejaVu Sans Mono',consolas,'Courier New',monospace\"><span style=\"color: #7fbfbf; text-decoration-color: #7fbfbf\">[10:39:53] </span>Letter: C                                                                                <a href=\"file:///var/folders/8c/sxhlb80n0c93ft54s3hhn5yw0000gn/T/ipykernel_23323/237259010.py\" target=\"_blank\"><span style=\"color: #7f7f7f; text-decoration-color: #7f7f7f\">237259010.py</span></a><span style=\"color: #7f7f7f; text-decoration-color: #7f7f7f\">:</span><a href=\"file:///var/folders/8c/sxhlb80n0c93ft54s3hhn5yw0000gn/T/ipykernel_23323/237259010.py#10\" target=\"_blank\"><span style=\"color: #7f7f7f; text-decoration-color: #7f7f7f\">10</span></a>\n",
       "</pre>\n"
      ],
      "text/plain": [
       "\u001b[2;36m[10:39:53]\u001b[0m\u001b[2;36m \u001b[0mLetter: C                                                                                \u001b]8;id=731709;file:///var/folders/8c/sxhlb80n0c93ft54s3hhn5yw0000gn/T/ipykernel_23323/237259010.py\u001b\\\u001b[2m237259010.py\u001b[0m\u001b]8;;\u001b\\\u001b[2m:\u001b[0m\u001b]8;id=181429;file:///var/folders/8c/sxhlb80n0c93ft54s3hhn5yw0000gn/T/ipykernel_23323/237259010.py#10\u001b\\\u001b[2m10\u001b[0m\u001b]8;;\u001b\\\n"
      ]
     },
     "metadata": {},
     "output_type": "display_data"
    },
    {
     "name": "stdout",
     "output_type": "stream",
     "text": [
      "Both threads finished execution.\n"
     ]
    }
   ],
   "source": [
    "console = Console()\n",
    "\n",
    "def print_numbers():\n",
    "    for i in range(1, 4):\n",
    "        console.log(f\"Number: {i}\")\n",
    "        time.sleep(1)\n",
    "\n",
    "def print_letters():\n",
    "    for letter in ['A', 'B', 'C']:\n",
    "        console.log(f\"Letter: {letter}\")\n",
    "        time.sleep(1.5)\n",
    "\n",
    "# Create threads\n",
    "thread1 = threading.Thread(target=print_numbers)\n",
    "thread2 = threading.Thread(target=print_letters)\n",
    "\n",
    "# Start threads\n",
    "thread1.start()\n",
    "thread2.start()\n",
    "\n",
    "# Wait for both threads to complete\n",
    "thread1.join()\n",
    "thread2.join()\n",
    "\n",
    "print(\"Both threads finished execution.\")"
   ]
  },
  {
   "cell_type": "code",
   "execution_count": 5,
   "metadata": {},
   "outputs": [
    {
     "data": {
      "text/html": [
       "<pre style=\"white-space:pre;overflow-x:auto;line-height:normal;font-family:Menlo,'DejaVu Sans Mono',consolas,'Courier New',monospace\">Thread <span style=\"color: #008080; text-decoration-color: #008080; font-weight: bold\">1</span>: starting\n",
       "</pre>\n"
      ],
      "text/plain": [
       "Thread \u001b[1;36m1\u001b[0m: starting\n"
      ]
     },
     "metadata": {},
     "output_type": "display_data"
    },
    {
     "data": {
      "text/html": [
       "<pre style=\"white-space:pre;overflow-x:auto;line-height:normal;font-family:Menlo,'DejaVu Sans Mono',consolas,'Courier New',monospace\">Thread <span style=\"color: #008080; text-decoration-color: #008080; font-weight: bold\">2</span>: starting\n",
       "</pre>\n"
      ],
      "text/plain": [
       "Thread \u001b[1;36m2\u001b[0m: starting\n"
      ]
     },
     "metadata": {},
     "output_type": "display_data"
    },
    {
     "data": {
      "text/html": [
       "<pre style=\"white-space:pre;overflow-x:auto;line-height:normal;font-family:Menlo,'DejaVu Sans Mono',consolas,'Courier New',monospace\">Updated counter to <span style=\"color: #008080; text-decoration-color: #008080; font-weight: bold\">1</span>\n",
       "</pre>\n"
      ],
      "text/plain": [
       "Updated counter to \u001b[1;36m1\u001b[0m\n"
      ]
     },
     "metadata": {},
     "output_type": "display_data"
    },
    {
     "data": {
      "text/html": [
       "<pre style=\"white-space:pre;overflow-x:auto;line-height:normal;font-family:Menlo,'DejaVu Sans Mono',consolas,'Courier New',monospace\">Updated counter to <span style=\"color: #008080; text-decoration-color: #008080; font-weight: bold\">2</span>\n",
       "</pre>\n"
      ],
      "text/plain": [
       "Updated counter to \u001b[1;36m2\u001b[0m\n"
      ]
     },
     "metadata": {},
     "output_type": "display_data"
    },
    {
     "data": {
      "text/html": [
       "<pre style=\"white-space:pre;overflow-x:auto;line-height:normal;font-family:Menlo,'DejaVu Sans Mono',consolas,'Courier New',monospace\">Updated counter to <span style=\"color: #008080; text-decoration-color: #008080; font-weight: bold\">3</span>\n",
       "</pre>\n"
      ],
      "text/plain": [
       "Updated counter to \u001b[1;36m3\u001b[0m\n"
      ]
     },
     "metadata": {},
     "output_type": "display_data"
    },
    {
     "data": {
      "text/html": [
       "<pre style=\"white-space:pre;overflow-x:auto;line-height:normal;font-family:Menlo,'DejaVu Sans Mono',consolas,'Courier New',monospace\">Updated counter to <span style=\"color: #008080; text-decoration-color: #008080; font-weight: bold\">4</span>\n",
       "</pre>\n"
      ],
      "text/plain": [
       "Updated counter to \u001b[1;36m4\u001b[0m\n"
      ]
     },
     "metadata": {},
     "output_type": "display_data"
    },
    {
     "data": {
      "text/html": [
       "<pre style=\"white-space:pre;overflow-x:auto;line-height:normal;font-family:Menlo,'DejaVu Sans Mono',consolas,'Courier New',monospace\">Updated counter to <span style=\"color: #008080; text-decoration-color: #008080; font-weight: bold\">5</span>\n",
       "</pre>\n"
      ],
      "text/plain": [
       "Updated counter to \u001b[1;36m5\u001b[0m\n"
      ]
     },
     "metadata": {},
     "output_type": "display_data"
    },
    {
     "data": {
      "text/html": [
       "<pre style=\"white-space:pre;overflow-x:auto;line-height:normal;font-family:Menlo,'DejaVu Sans Mono',consolas,'Courier New',monospace\">Updated counter to <span style=\"color: #008080; text-decoration-color: #008080; font-weight: bold\">6</span>\n",
       "</pre>\n"
      ],
      "text/plain": [
       "Updated counter to \u001b[1;36m6\u001b[0m\n"
      ]
     },
     "metadata": {},
     "output_type": "display_data"
    },
    {
     "data": {
      "text/html": [
       "<pre style=\"white-space:pre;overflow-x:auto;line-height:normal;font-family:Menlo,'DejaVu Sans Mono',consolas,'Courier New',monospace\">Thread <span style=\"color: #008080; text-decoration-color: #008080; font-weight: bold\">1</span>: finishing\n",
       "</pre>\n"
      ],
      "text/plain": [
       "Thread \u001b[1;36m1\u001b[0m: finishing\n"
      ]
     },
     "metadata": {},
     "output_type": "display_data"
    },
    {
     "data": {
      "text/html": [
       "<pre style=\"white-space:pre;overflow-x:auto;line-height:normal;font-family:Menlo,'DejaVu Sans Mono',consolas,'Courier New',monospace\">Thread <span style=\"color: #008080; text-decoration-color: #008080; font-weight: bold\">2</span>: finishing\n",
       "</pre>\n"
      ],
      "text/plain": [
       "Thread \u001b[1;36m2\u001b[0m: finishing\n"
      ]
     },
     "metadata": {},
     "output_type": "display_data"
    },
    {
     "name": "stdout",
     "output_type": "stream",
     "text": [
      "All threads finished execution. Final counter value: 6\n"
     ]
    }
   ],
   "source": [
    "# Shared variable\n",
    "counter = 0\n",
    "\n",
    "# Create a queue for thread communication\n",
    "command_queue = queue.Queue()\n",
    "\n",
    "def increment_counter():\n",
    "    \"\"\"Thread function to signal incrementing the counter.\"\"\"\n",
    "    for _ in range(3):\n",
    "        # Instead of modifying the counter directly, we put an 'increment' command into the queue\n",
    "        command_queue.put('increment')\n",
    "        time.sleep(1.0)\n",
    "\n",
    "# Thread target functions\n",
    "def thread_function(name):\n",
    "    console.print(f\"Thread {name}: starting\")\n",
    "    increment_counter()\n",
    "    console.print(f\"Thread {name}: finishing\")\n",
    "\n",
    "# Main thread operation to update the shared variable based on commands from the queue\n",
    "def process_queue_commands():\n",
    "    global counter\n",
    "    while True:\n",
    "        command = command_queue.get()\n",
    "        if command == 'increment':\n",
    "            counter += 1\n",
    "            console.print(f\"Updated counter to {counter}\")\n",
    "        command_queue.task_done()\n",
    "        if counter >= 6:  # Assuming we want to stop after 20 increments\n",
    "            break\n",
    "\n",
    "# Create two threads\n",
    "thread1 = threading.Thread(target=thread_function, args=(1,))\n",
    "thread2 = threading.Thread(target=thread_function, args=(2,))\n",
    "\n",
    "# Start threads\n",
    "thread1.start()\n",
    "thread2.start()\n",
    "\n",
    "# Start processing commands from the queue\n",
    "process_queue_commands()\n",
    "\n",
    "# Wait for all items in the queue to be processed\n",
    "command_queue.join()\n",
    "\n",
    "# Wait for threads to complete\n",
    "thread1.join()\n",
    "thread2.join()\n",
    "\n",
    "print(\"All threads finished execution. Final counter value:\", counter)\n"
   ]
  }
 ],
 "metadata": {
  "kernelspec": {
   "display_name": "full",
   "language": "python",
   "name": "python3"
  },
  "language_info": {
   "codemirror_mode": {
    "name": "ipython",
    "version": 3
   },
   "file_extension": ".py",
   "mimetype": "text/x-python",
   "name": "python",
   "nbconvert_exporter": "python",
   "pygments_lexer": "ipython3",
   "version": "3.1.0"
  }
 },
 "nbformat": 4,
 "nbformat_minor": 2
}
