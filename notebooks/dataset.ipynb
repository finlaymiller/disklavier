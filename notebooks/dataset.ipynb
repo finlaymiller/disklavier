{
 "cells": [
  {
   "cell_type": "markdown",
   "metadata": {},
   "source": [
    "# dataset building\n",
    "## imports"
   ]
  },
  {
   "cell_type": "code",
   "execution_count": 17,
   "metadata": {},
   "outputs": [],
   "source": [
    "import os\n",
    "from mido import MidiFile, MetaMessage, second2tick, tick2second, bpm2tempo\n",
    "import pretty_midi\n",
    "import numpy as np\n",
    "from midi_player import MIDIPlayer\n",
    "\n",
    "from rich import print\n",
    "from rich.progress import track\n",
    "\n",
    "from typing import List"
   ]
  },
  {
   "cell_type": "markdown",
   "metadata": {},
   "source": [
    "## helper functions"
   ]
  },
  {
   "cell_type": "code",
   "execution_count": 18,
   "metadata": {},
   "outputs": [],
   "source": [
    "def set_tempo(input_file_path, bpm) -> None:\n",
    "    mid = MidiFile(input_file_path)\n",
    "    tempo = bpm2tempo(bpm)\n",
    "    mid.tracks[0].insert(0, MetaMessage(\"set_tempo\", tempo=tempo, time=0))\n",
    "    mid.save(input_file_path)"
   ]
  },
  {
   "cell_type": "code",
   "execution_count": 19,
   "metadata": {},
   "outputs": [],
   "source": [
    "def modify_end_of_track(midi_file_path, new_end_time, tempo):\n",
    "    mid = MidiFile(midi_file_path)\n",
    "    new_end_time_t = second2tick(new_end_time, 220, bpm2tempo(tempo))\n",
    "    # print(f\"\\t{midi_file_path} bpm2tempo(tempo)}\")\n",
    "    # mid.print_tracks()\n",
    "\n",
    "    for i, track in enumerate(mid.tracks):\n",
    "        total_time_t = 0\n",
    "        # Remove existing 'end_of_track' messages and calculate last note time\n",
    "        for msg in track:\n",
    "            if msg.type == \"note_on\":\n",
    "                total_time_t += msg.time\n",
    "            if msg.type == \"end_of_track\":\n",
    "                track.remove(msg)\n",
    "                # Add a new 'end_of_track' message at the calculated offset time\n",
    "                offset = (\n",
    "                    new_end_time_t - total_time_t\n",
    "                    if new_end_time_t > total_time_t\n",
    "                    else 0\n",
    "                )\n",
    "                track.append(MetaMessage(\"end_of_track\", time=offset))\n",
    "\n",
    "                net = tick2second(new_end_time_t, mid.ticks_per_beat, bpm2tempo(tempo))\n",
    "                tt = tick2second(total_time_t, mid.ticks_per_beat, bpm2tempo(tempo))\n",
    "                o = tick2second(offset, mid.ticks_per_beat, bpm2tempo(tempo))\n",
    "                print(\n",
    "                    f\"\\tmodified '{os.path.basename(midi_file_path)}' track {i} to have end time {net:.03f}: {tt:.03f} -> offset is {o:.03f}\"\n",
    "                )\n",
    "\n",
    "    # Save the modified MIDI file\n",
    "    os.remove(midi_file_path)\n",
    "    mid.save(midi_file_path)"
   ]
  },
  {
   "cell_type": "code",
   "execution_count": 20,
   "metadata": {},
   "outputs": [],
   "source": [
    "def segment_midi(\n",
    "    midi_file_path: str,\n",
    "    output_dir: str,\n",
    "    num_beats: int = 8,\n",
    "    do_shift: bool = False,\n",
    "    do_transpose: bool = False,\n",
    ") -> List[str]:\n",
    "    filename = os.path.basename(midi_file_path)[:-4]\n",
    "    target_tempo = int(filename.split(\"-\")[1])\n",
    "    set_tempo(midi_file_path, target_tempo)\n",
    "    midi_pm = pretty_midi.PrettyMIDI(midi_file_path)\n",
    "    total_length = midi_pm.get_end_time()\n",
    "    segment_length = num_beats * 60 / target_tempo  # in seconds\n",
    "    num_segments = int(np.round(total_length / segment_length))\n",
    "    eighth_beat = segment_length / num_beats / 8  # eighth of a beat\n",
    "\n",
    "    print(\n",
    "        f\"\\tbreaking '{filename}' ({total_length:.03f} s at {target_tempo} bpm) into {num_segments:03d} segments of {segment_length:.03f}s\\n\\t(pre window is {eighth_beat:.03f} s)\"\n",
    "    )\n",
    "\n",
    "    new_files = []\n",
    "    for n in list(range(num_segments)):\n",
    "        start = n * segment_length\n",
    "        end = start + segment_length - eighth_beat\n",
    "        if n > 0:\n",
    "            start -= eighth_beat\n",
    "        print(f\"\\t{n:03d} splitting from {start:08.03f} s to {end:07.03f} s)\")\n",
    "        segment_midi = pretty_midi.PrettyMIDI(initial_tempo=target_tempo)\n",
    "        instrument = pretty_midi.Instrument(\n",
    "            program=midi_pm.instruments[0].program,\n",
    "            name=f\"{filename}_{int(start):04d}-{int(end):04d}\",\n",
    "        )\n",
    "\n",
    "        # add notes from the original MIDI that fall within the current segment\n",
    "        for note in midi_pm.instruments[0].notes:\n",
    "            if start <= note.start < end:\n",
    "                new_note = pretty_midi.Note(\n",
    "                    velocity=note.velocity,\n",
    "                    pitch=note.pitch,\n",
    "                    start=note.start - start,\n",
    "                    # end=min(note.end, end) - start,\n",
    "                    end=note.end - start,\n",
    "                )\n",
    "                instrument.notes.append(new_note)\n",
    "\n",
    "        # pad front of track to full bar for easier playback\n",
    "        if n > 0:\n",
    "            for note in instrument.notes:\n",
    "                note.start += eighth_beat * 7\n",
    "                note.end += eighth_beat * 7\n",
    "\n",
    "        # write out\n",
    "        segment_filename = os.path.join(\n",
    "            output_dir, f\"{filename}_{int(start):04d}-{int(end):04d}_n00.mid\"\n",
    "        )\n",
    "\n",
    "        segment_midi.instruments.append(instrument)\n",
    "        segment_midi.write(segment_filename)\n",
    "        set_tempo(segment_filename, target_tempo)\n",
    "        modify_end_of_track(segment_filename, segment_length, target_tempo)\n",
    "\n",
    "        new_files.append(segment_filename)\n",
    "\n",
    "    return new_files"
   ]
  },
  {
   "cell_type": "code",
   "execution_count": 21,
   "metadata": {},
   "outputs": [],
   "source": [
    "def build_fs(dirs: List[str]) -> None:\n",
    "    for dir in dirs:\n",
    "        if os.path.exists(dir):\n",
    "            i = 0\n",
    "            for i, file in enumerate(os.listdir(dir)):\n",
    "                os.remove(os.path.join(dir, file))\n",
    "                i += 1\n",
    "            print(f\"cleaned {i} files out of folder: '{dir}'\")\n",
    "        else:\n",
    "            os.mkdir(dir)\n",
    "            print(f\"created new folder: '{dir}'\")"
   ]
  },
  {
   "cell_type": "markdown",
   "metadata": {},
   "source": [
    "## go"
   ]
  },
  {
   "cell_type": "code",
   "execution_count": 22,
   "metadata": {},
   "outputs": [],
   "source": [
    "tracks = [\"from-60-db-test.mid\"]"
   ]
  },
  {
   "cell_type": "code",
   "execution_count": 23,
   "metadata": {},
   "outputs": [
    {
     "data": {
      "application/vnd.jupyter.widget-view+json": {
       "model_id": "5d9e48cdaeb540c9a02467b483f87bcb",
       "version_major": 2,
       "version_minor": 0
      },
      "text/plain": [
       "Output()"
      ]
     },
     "metadata": {},
     "output_type": "display_data"
    },
    {
     "data": {
      "text/html": [
       "<pre style=\"white-space:pre;overflow-x:auto;line-height:normal;font-family:Menlo,'DejaVu Sans Mono',consolas,'Courier New',monospace\">segmenting <span style=\"color: #008000; text-decoration-color: #008000\">'from-60-db-test.mid'</span>\n",
       "</pre>\n"
      ],
      "text/plain": [
       "segmenting \u001b[32m'from-60-db-test.mid'\u001b[0m\n"
      ]
     },
     "metadata": {},
     "output_type": "display_data"
    },
    {
     "data": {
      "text/html": [
       "<pre style=\"white-space:pre;overflow-x:auto;line-height:normal;font-family:Menlo,'DejaVu Sans Mono',consolas,'Courier New',monospace\">        breaking <span style=\"color: #008000; text-decoration-color: #008000\">'from-60-db-test'</span> <span style=\"font-weight: bold\">(</span><span style=\"color: #008080; text-decoration-color: #008080; font-weight: bold\">132.000</span> s at <span style=\"color: #008080; text-decoration-color: #008080; font-weight: bold\">60</span> bpm<span style=\"font-weight: bold\">)</span> into <span style=\"color: #008080; text-decoration-color: #008080; font-weight: bold\">016</span> segments of <span style=\"color: #008080; text-decoration-color: #008080; font-weight: bold\">8.</span>000s\n",
       "        <span style=\"font-weight: bold\">(</span>pre window is <span style=\"color: #008080; text-decoration-color: #008080; font-weight: bold\">0.125</span> s<span style=\"font-weight: bold\">)</span>\n",
       "</pre>\n"
      ],
      "text/plain": [
       "        breaking \u001b[32m'from-60-db-test'\u001b[0m \u001b[1m(\u001b[0m\u001b[1;36m132.000\u001b[0m s at \u001b[1;36m60\u001b[0m bpm\u001b[1m)\u001b[0m into \u001b[1;36m016\u001b[0m segments of \u001b[1;36m8.\u001b[0m000s\n",
       "        \u001b[1m(\u001b[0mpre window is \u001b[1;36m0.125\u001b[0m s\u001b[1m)\u001b[0m\n"
      ]
     },
     "metadata": {},
     "output_type": "display_data"
    },
    {
     "data": {
      "text/html": [
       "<pre style=\"white-space:pre;overflow-x:auto;line-height:normal;font-family:Menlo,'DejaVu Sans Mono',consolas,'Courier New',monospace\">        <span style=\"color: #008080; text-decoration-color: #008080; font-weight: bold\">000</span> splitting from <span style=\"color: #008080; text-decoration-color: #008080; font-weight: bold\">0000.000</span> s to <span style=\"color: #008080; text-decoration-color: #008080; font-weight: bold\">007.875</span> s<span style=\"font-weight: bold\">)</span>\n",
       "</pre>\n"
      ],
      "text/plain": [
       "        \u001b[1;36m000\u001b[0m splitting from \u001b[1;36m0000.000\u001b[0m s to \u001b[1;36m007.875\u001b[0m s\u001b[1m)\u001b[0m\n"
      ]
     },
     "metadata": {},
     "output_type": "display_data"
    },
    {
     "data": {
      "text/html": [
       "<pre style=\"white-space:pre;overflow-x:auto;line-height:normal;font-family:Menlo,'DejaVu Sans Mono',consolas,'Courier New',monospace\">        modified <span style=\"color: #008000; text-decoration-color: #008000\">'from-60-db-test_0000-0007_n00.mid'</span> track <span style=\"color: #008080; text-decoration-color: #008080; font-weight: bold\">0</span> to have end time <span style=\"color: #008080; text-decoration-color: #008080; font-weight: bold\">8.000</span>: <span style=\"color: #008080; text-decoration-color: #008080; font-weight: bold\">0.000</span> -&gt; offset is <span style=\"color: #008080; text-decoration-color: #008080; font-weight: bold\">8.000</span>\n",
       "</pre>\n"
      ],
      "text/plain": [
       "        modified \u001b[32m'from-60-db-test_0000-0007_n00.mid'\u001b[0m track \u001b[1;36m0\u001b[0m to have end time \u001b[1;36m8.000\u001b[0m: \u001b[1;36m0.000\u001b[0m -> offset is \u001b[1;36m8.000\u001b[0m\n"
      ]
     },
     "metadata": {},
     "output_type": "display_data"
    },
    {
     "data": {
      "text/html": [
       "<pre style=\"white-space:pre;overflow-x:auto;line-height:normal;font-family:Menlo,'DejaVu Sans Mono',consolas,'Courier New',monospace\">        modified <span style=\"color: #008000; text-decoration-color: #008000\">'from-60-db-test_0000-0007_n00.mid'</span> track <span style=\"color: #008080; text-decoration-color: #008080; font-weight: bold\">1</span> to have end time <span style=\"color: #008080; text-decoration-color: #008080; font-weight: bold\">8.000</span>: <span style=\"color: #008080; text-decoration-color: #008080; font-weight: bold\">4.845</span> -&gt; offset is <span style=\"color: #008080; text-decoration-color: #008080; font-weight: bold\">3.155</span>\n",
       "</pre>\n"
      ],
      "text/plain": [
       "        modified \u001b[32m'from-60-db-test_0000-0007_n00.mid'\u001b[0m track \u001b[1;36m1\u001b[0m to have end time \u001b[1;36m8.000\u001b[0m: \u001b[1;36m4.845\u001b[0m -> offset is \u001b[1;36m3.155\u001b[0m\n"
      ]
     },
     "metadata": {},
     "output_type": "display_data"
    },
    {
     "data": {
      "text/html": [
       "<pre style=\"white-space:pre;overflow-x:auto;line-height:normal;font-family:Menlo,'DejaVu Sans Mono',consolas,'Courier New',monospace\">        <span style=\"color: #008080; text-decoration-color: #008080; font-weight: bold\">001</span> splitting from <span style=\"color: #008080; text-decoration-color: #008080; font-weight: bold\">0007.875</span> s to <span style=\"color: #008080; text-decoration-color: #008080; font-weight: bold\">015.875</span> s<span style=\"font-weight: bold\">)</span>\n",
       "</pre>\n"
      ],
      "text/plain": [
       "        \u001b[1;36m001\u001b[0m splitting from \u001b[1;36m0007.875\u001b[0m s to \u001b[1;36m015.875\u001b[0m s\u001b[1m)\u001b[0m\n"
      ]
     },
     "metadata": {},
     "output_type": "display_data"
    },
    {
     "data": {
      "text/html": [
       "<pre style=\"white-space:pre;overflow-x:auto;line-height:normal;font-family:Menlo,'DejaVu Sans Mono',consolas,'Courier New',monospace\">        modified <span style=\"color: #008000; text-decoration-color: #008000\">'from-60-db-test_0007-0015_n00.mid'</span> track <span style=\"color: #008080; text-decoration-color: #008080; font-weight: bold\">0</span> to have end time <span style=\"color: #008080; text-decoration-color: #008080; font-weight: bold\">8.000</span>: <span style=\"color: #008080; text-decoration-color: #008080; font-weight: bold\">0.000</span> -&gt; offset is <span style=\"color: #008080; text-decoration-color: #008080; font-weight: bold\">8.000</span>\n",
       "</pre>\n"
      ],
      "text/plain": [
       "        modified \u001b[32m'from-60-db-test_0007-0015_n00.mid'\u001b[0m track \u001b[1;36m0\u001b[0m to have end time \u001b[1;36m8.000\u001b[0m: \u001b[1;36m0.000\u001b[0m -> offset is \u001b[1;36m8.000\u001b[0m\n"
      ]
     },
     "metadata": {},
     "output_type": "display_data"
    },
    {
     "data": {
      "text/html": [
       "<pre style=\"white-space:pre;overflow-x:auto;line-height:normal;font-family:Menlo,'DejaVu Sans Mono',consolas,'Courier New',monospace\">        modified <span style=\"color: #008000; text-decoration-color: #008000\">'from-60-db-test_0007-0015_n00.mid'</span> track <span style=\"color: #008080; text-decoration-color: #008080; font-weight: bold\">1</span> to have end time <span style=\"color: #008080; text-decoration-color: #008080; font-weight: bold\">8.000</span>: <span style=\"color: #008080; text-decoration-color: #008080; font-weight: bold\">5.845</span> -&gt; offset is <span style=\"color: #008080; text-decoration-color: #008080; font-weight: bold\">2.155</span>\n",
       "</pre>\n"
      ],
      "text/plain": [
       "        modified \u001b[32m'from-60-db-test_0007-0015_n00.mid'\u001b[0m track \u001b[1;36m1\u001b[0m to have end time \u001b[1;36m8.000\u001b[0m: \u001b[1;36m5.845\u001b[0m -> offset is \u001b[1;36m2.155\u001b[0m\n"
      ]
     },
     "metadata": {},
     "output_type": "display_data"
    },
    {
     "data": {
      "text/html": [
       "<pre style=\"white-space:pre;overflow-x:auto;line-height:normal;font-family:Menlo,'DejaVu Sans Mono',consolas,'Courier New',monospace\">        <span style=\"color: #008080; text-decoration-color: #008080; font-weight: bold\">002</span> splitting from <span style=\"color: #008080; text-decoration-color: #008080; font-weight: bold\">0015.875</span> s to <span style=\"color: #008080; text-decoration-color: #008080; font-weight: bold\">023.875</span> s<span style=\"font-weight: bold\">)</span>\n",
       "</pre>\n"
      ],
      "text/plain": [
       "        \u001b[1;36m002\u001b[0m splitting from \u001b[1;36m0015.875\u001b[0m s to \u001b[1;36m023.875\u001b[0m s\u001b[1m)\u001b[0m\n"
      ]
     },
     "metadata": {},
     "output_type": "display_data"
    },
    {
     "data": {
      "text/html": [
       "<pre style=\"white-space:pre;overflow-x:auto;line-height:normal;font-family:Menlo,'DejaVu Sans Mono',consolas,'Courier New',monospace\">        modified <span style=\"color: #008000; text-decoration-color: #008000\">'from-60-db-test_0015-0023_n00.mid'</span> track <span style=\"color: #008080; text-decoration-color: #008080; font-weight: bold\">0</span> to have end time <span style=\"color: #008080; text-decoration-color: #008080; font-weight: bold\">8.000</span>: <span style=\"color: #008080; text-decoration-color: #008080; font-weight: bold\">0.000</span> -&gt; offset is <span style=\"color: #008080; text-decoration-color: #008080; font-weight: bold\">8.000</span>\n",
       "</pre>\n"
      ],
      "text/plain": [
       "        modified \u001b[32m'from-60-db-test_0015-0023_n00.mid'\u001b[0m track \u001b[1;36m0\u001b[0m to have end time \u001b[1;36m8.000\u001b[0m: \u001b[1;36m0.000\u001b[0m -> offset is \u001b[1;36m8.000\u001b[0m\n"
      ]
     },
     "metadata": {},
     "output_type": "display_data"
    },
    {
     "data": {
      "text/html": [
       "<pre style=\"white-space:pre;overflow-x:auto;line-height:normal;font-family:Menlo,'DejaVu Sans Mono',consolas,'Courier New',monospace\">        modified <span style=\"color: #008000; text-decoration-color: #008000\">'from-60-db-test_0015-0023_n00.mid'</span> track <span style=\"color: #008080; text-decoration-color: #008080; font-weight: bold\">1</span> to have end time <span style=\"color: #008080; text-decoration-color: #008080; font-weight: bold\">8.000</span>: <span style=\"color: #008080; text-decoration-color: #008080; font-weight: bold\">8.927</span> -&gt; offset is <span style=\"color: #008080; text-decoration-color: #008080; font-weight: bold\">0.000</span>\n",
       "</pre>\n"
      ],
      "text/plain": [
       "        modified \u001b[32m'from-60-db-test_0015-0023_n00.mid'\u001b[0m track \u001b[1;36m1\u001b[0m to have end time \u001b[1;36m8.000\u001b[0m: \u001b[1;36m8.927\u001b[0m -> offset is \u001b[1;36m0.000\u001b[0m\n"
      ]
     },
     "metadata": {},
     "output_type": "display_data"
    },
    {
     "data": {
      "text/html": [
       "<pre style=\"white-space:pre;overflow-x:auto;line-height:normal;font-family:Menlo,'DejaVu Sans Mono',consolas,'Courier New',monospace\">        <span style=\"color: #008080; text-decoration-color: #008080; font-weight: bold\">003</span> splitting from <span style=\"color: #008080; text-decoration-color: #008080; font-weight: bold\">0023.875</span> s to <span style=\"color: #008080; text-decoration-color: #008080; font-weight: bold\">031.875</span> s<span style=\"font-weight: bold\">)</span>\n",
       "</pre>\n"
      ],
      "text/plain": [
       "        \u001b[1;36m003\u001b[0m splitting from \u001b[1;36m0023.875\u001b[0m s to \u001b[1;36m031.875\u001b[0m s\u001b[1m)\u001b[0m\n"
      ]
     },
     "metadata": {},
     "output_type": "display_data"
    },
    {
     "data": {
      "text/html": [
       "<pre style=\"white-space:pre;overflow-x:auto;line-height:normal;font-family:Menlo,'DejaVu Sans Mono',consolas,'Courier New',monospace\">        modified <span style=\"color: #008000; text-decoration-color: #008000\">'from-60-db-test_0023-0031_n00.mid'</span> track <span style=\"color: #008080; text-decoration-color: #008080; font-weight: bold\">0</span> to have end time <span style=\"color: #008080; text-decoration-color: #008080; font-weight: bold\">8.000</span>: <span style=\"color: #008080; text-decoration-color: #008080; font-weight: bold\">0.000</span> -&gt; offset is <span style=\"color: #008080; text-decoration-color: #008080; font-weight: bold\">8.000</span>\n",
       "</pre>\n"
      ],
      "text/plain": [
       "        modified \u001b[32m'from-60-db-test_0023-0031_n00.mid'\u001b[0m track \u001b[1;36m0\u001b[0m to have end time \u001b[1;36m8.000\u001b[0m: \u001b[1;36m0.000\u001b[0m -> offset is \u001b[1;36m8.000\u001b[0m\n"
      ]
     },
     "metadata": {},
     "output_type": "display_data"
    },
    {
     "data": {
      "text/html": [
       "<pre style=\"white-space:pre;overflow-x:auto;line-height:normal;font-family:Menlo,'DejaVu Sans Mono',consolas,'Courier New',monospace\">        modified <span style=\"color: #008000; text-decoration-color: #008000\">'from-60-db-test_0023-0031_n00.mid'</span> track <span style=\"color: #008080; text-decoration-color: #008080; font-weight: bold\">1</span> to have end time <span style=\"color: #008080; text-decoration-color: #008080; font-weight: bold\">8.000</span>: <span style=\"color: #008080; text-decoration-color: #008080; font-weight: bold\">8.895</span> -&gt; offset is <span style=\"color: #008080; text-decoration-color: #008080; font-weight: bold\">0.000</span>\n",
       "</pre>\n"
      ],
      "text/plain": [
       "        modified \u001b[32m'from-60-db-test_0023-0031_n00.mid'\u001b[0m track \u001b[1;36m1\u001b[0m to have end time \u001b[1;36m8.000\u001b[0m: \u001b[1;36m8.895\u001b[0m -> offset is \u001b[1;36m0.000\u001b[0m\n"
      ]
     },
     "metadata": {},
     "output_type": "display_data"
    },
    {
     "data": {
      "text/html": [
       "<pre style=\"white-space:pre;overflow-x:auto;line-height:normal;font-family:Menlo,'DejaVu Sans Mono',consolas,'Courier New',monospace\">        <span style=\"color: #008080; text-decoration-color: #008080; font-weight: bold\">004</span> splitting from <span style=\"color: #008080; text-decoration-color: #008080; font-weight: bold\">0031.875</span> s to <span style=\"color: #008080; text-decoration-color: #008080; font-weight: bold\">039.875</span> s<span style=\"font-weight: bold\">)</span>\n",
       "</pre>\n"
      ],
      "text/plain": [
       "        \u001b[1;36m004\u001b[0m splitting from \u001b[1;36m0031.875\u001b[0m s to \u001b[1;36m039.875\u001b[0m s\u001b[1m)\u001b[0m\n"
      ]
     },
     "metadata": {},
     "output_type": "display_data"
    },
    {
     "data": {
      "text/html": [
       "<pre style=\"white-space:pre;overflow-x:auto;line-height:normal;font-family:Menlo,'DejaVu Sans Mono',consolas,'Courier New',monospace\">        modified <span style=\"color: #008000; text-decoration-color: #008000\">'from-60-db-test_0031-0039_n00.mid'</span> track <span style=\"color: #008080; text-decoration-color: #008080; font-weight: bold\">0</span> to have end time <span style=\"color: #008080; text-decoration-color: #008080; font-weight: bold\">8.000</span>: <span style=\"color: #008080; text-decoration-color: #008080; font-weight: bold\">0.000</span> -&gt; offset is <span style=\"color: #008080; text-decoration-color: #008080; font-weight: bold\">8.000</span>\n",
       "</pre>\n"
      ],
      "text/plain": [
       "        modified \u001b[32m'from-60-db-test_0031-0039_n00.mid'\u001b[0m track \u001b[1;36m0\u001b[0m to have end time \u001b[1;36m8.000\u001b[0m: \u001b[1;36m0.000\u001b[0m -> offset is \u001b[1;36m8.000\u001b[0m\n"
      ]
     },
     "metadata": {},
     "output_type": "display_data"
    },
    {
     "data": {
      "text/html": [
       "<pre style=\"white-space:pre;overflow-x:auto;line-height:normal;font-family:Menlo,'DejaVu Sans Mono',consolas,'Courier New',monospace\">        modified <span style=\"color: #008000; text-decoration-color: #008000\">'from-60-db-test_0031-0039_n00.mid'</span> track <span style=\"color: #008080; text-decoration-color: #008080; font-weight: bold\">1</span> to have end time <span style=\"color: #008080; text-decoration-color: #008080; font-weight: bold\">8.000</span>: <span style=\"color: #008080; text-decoration-color: #008080; font-weight: bold\">9.595</span> -&gt; offset is <span style=\"color: #008080; text-decoration-color: #008080; font-weight: bold\">0.000</span>\n",
       "</pre>\n"
      ],
      "text/plain": [
       "        modified \u001b[32m'from-60-db-test_0031-0039_n00.mid'\u001b[0m track \u001b[1;36m1\u001b[0m to have end time \u001b[1;36m8.000\u001b[0m: \u001b[1;36m9.595\u001b[0m -> offset is \u001b[1;36m0.000\u001b[0m\n"
      ]
     },
     "metadata": {},
     "output_type": "display_data"
    },
    {
     "data": {
      "text/html": [
       "<pre style=\"white-space:pre;overflow-x:auto;line-height:normal;font-family:Menlo,'DejaVu Sans Mono',consolas,'Courier New',monospace\">        <span style=\"color: #008080; text-decoration-color: #008080; font-weight: bold\">005</span> splitting from <span style=\"color: #008080; text-decoration-color: #008080; font-weight: bold\">0039.875</span> s to <span style=\"color: #008080; text-decoration-color: #008080; font-weight: bold\">047.875</span> s<span style=\"font-weight: bold\">)</span>\n",
       "</pre>\n"
      ],
      "text/plain": [
       "        \u001b[1;36m005\u001b[0m splitting from \u001b[1;36m0039.875\u001b[0m s to \u001b[1;36m047.875\u001b[0m s\u001b[1m)\u001b[0m\n"
      ]
     },
     "metadata": {},
     "output_type": "display_data"
    },
    {
     "data": {
      "text/html": [
       "<pre style=\"white-space:pre;overflow-x:auto;line-height:normal;font-family:Menlo,'DejaVu Sans Mono',consolas,'Courier New',monospace\">        modified <span style=\"color: #008000; text-decoration-color: #008000\">'from-60-db-test_0039-0047_n00.mid'</span> track <span style=\"color: #008080; text-decoration-color: #008080; font-weight: bold\">0</span> to have end time <span style=\"color: #008080; text-decoration-color: #008080; font-weight: bold\">8.000</span>: <span style=\"color: #008080; text-decoration-color: #008080; font-weight: bold\">0.000</span> -&gt; offset is <span style=\"color: #008080; text-decoration-color: #008080; font-weight: bold\">8.000</span>\n",
       "</pre>\n"
      ],
      "text/plain": [
       "        modified \u001b[32m'from-60-db-test_0039-0047_n00.mid'\u001b[0m track \u001b[1;36m0\u001b[0m to have end time \u001b[1;36m8.000\u001b[0m: \u001b[1;36m0.000\u001b[0m -> offset is \u001b[1;36m8.000\u001b[0m\n"
      ]
     },
     "metadata": {},
     "output_type": "display_data"
    },
    {
     "data": {
      "text/html": [
       "<pre style=\"white-space:pre;overflow-x:auto;line-height:normal;font-family:Menlo,'DejaVu Sans Mono',consolas,'Courier New',monospace\">        modified <span style=\"color: #008000; text-decoration-color: #008000\">'from-60-db-test_0039-0047_n00.mid'</span> track <span style=\"color: #008080; text-decoration-color: #008080; font-weight: bold\">1</span> to have end time <span style=\"color: #008080; text-decoration-color: #008080; font-weight: bold\">8.000</span>: <span style=\"color: #008080; text-decoration-color: #008080; font-weight: bold\">9.114</span> -&gt; offset is <span style=\"color: #008080; text-decoration-color: #008080; font-weight: bold\">0.000</span>\n",
       "</pre>\n"
      ],
      "text/plain": [
       "        modified \u001b[32m'from-60-db-test_0039-0047_n00.mid'\u001b[0m track \u001b[1;36m1\u001b[0m to have end time \u001b[1;36m8.000\u001b[0m: \u001b[1;36m9.114\u001b[0m -> offset is \u001b[1;36m0.000\u001b[0m\n"
      ]
     },
     "metadata": {},
     "output_type": "display_data"
    },
    {
     "data": {
      "text/html": [
       "<pre style=\"white-space:pre;overflow-x:auto;line-height:normal;font-family:Menlo,'DejaVu Sans Mono',consolas,'Courier New',monospace\">        <span style=\"color: #008080; text-decoration-color: #008080; font-weight: bold\">006</span> splitting from <span style=\"color: #008080; text-decoration-color: #008080; font-weight: bold\">0047.875</span> s to <span style=\"color: #008080; text-decoration-color: #008080; font-weight: bold\">055.875</span> s<span style=\"font-weight: bold\">)</span>\n",
       "</pre>\n"
      ],
      "text/plain": [
       "        \u001b[1;36m006\u001b[0m splitting from \u001b[1;36m0047.875\u001b[0m s to \u001b[1;36m055.875\u001b[0m s\u001b[1m)\u001b[0m\n"
      ]
     },
     "metadata": {},
     "output_type": "display_data"
    },
    {
     "data": {
      "text/html": [
       "<pre style=\"white-space:pre;overflow-x:auto;line-height:normal;font-family:Menlo,'DejaVu Sans Mono',consolas,'Courier New',monospace\">        modified <span style=\"color: #008000; text-decoration-color: #008000\">'from-60-db-test_0047-0055_n00.mid'</span> track <span style=\"color: #008080; text-decoration-color: #008080; font-weight: bold\">0</span> to have end time <span style=\"color: #008080; text-decoration-color: #008080; font-weight: bold\">8.000</span>: <span style=\"color: #008080; text-decoration-color: #008080; font-weight: bold\">0.000</span> -&gt; offset is <span style=\"color: #008080; text-decoration-color: #008080; font-weight: bold\">8.000</span>\n",
       "</pre>\n"
      ],
      "text/plain": [
       "        modified \u001b[32m'from-60-db-test_0047-0055_n00.mid'\u001b[0m track \u001b[1;36m0\u001b[0m to have end time \u001b[1;36m8.000\u001b[0m: \u001b[1;36m0.000\u001b[0m -> offset is \u001b[1;36m8.000\u001b[0m\n"
      ]
     },
     "metadata": {},
     "output_type": "display_data"
    },
    {
     "data": {
      "text/html": [
       "<pre style=\"white-space:pre;overflow-x:auto;line-height:normal;font-family:Menlo,'DejaVu Sans Mono',consolas,'Courier New',monospace\">        modified <span style=\"color: #008000; text-decoration-color: #008000\">'from-60-db-test_0047-0055_n00.mid'</span> track <span style=\"color: #008080; text-decoration-color: #008080; font-weight: bold\">1</span> to have end time <span style=\"color: #008080; text-decoration-color: #008080; font-weight: bold\">8.000</span>: <span style=\"color: #008080; text-decoration-color: #008080; font-weight: bold\">9.136</span> -&gt; offset is <span style=\"color: #008080; text-decoration-color: #008080; font-weight: bold\">0.000</span>\n",
       "</pre>\n"
      ],
      "text/plain": [
       "        modified \u001b[32m'from-60-db-test_0047-0055_n00.mid'\u001b[0m track \u001b[1;36m1\u001b[0m to have end time \u001b[1;36m8.000\u001b[0m: \u001b[1;36m9.136\u001b[0m -> offset is \u001b[1;36m0.000\u001b[0m\n"
      ]
     },
     "metadata": {},
     "output_type": "display_data"
    },
    {
     "data": {
      "text/html": [
       "<pre style=\"white-space:pre;overflow-x:auto;line-height:normal;font-family:Menlo,'DejaVu Sans Mono',consolas,'Courier New',monospace\">        <span style=\"color: #008080; text-decoration-color: #008080; font-weight: bold\">007</span> splitting from <span style=\"color: #008080; text-decoration-color: #008080; font-weight: bold\">0055.875</span> s to <span style=\"color: #008080; text-decoration-color: #008080; font-weight: bold\">063.875</span> s<span style=\"font-weight: bold\">)</span>\n",
       "</pre>\n"
      ],
      "text/plain": [
       "        \u001b[1;36m007\u001b[0m splitting from \u001b[1;36m0055.875\u001b[0m s to \u001b[1;36m063.875\u001b[0m s\u001b[1m)\u001b[0m\n"
      ]
     },
     "metadata": {},
     "output_type": "display_data"
    },
    {
     "data": {
      "text/html": [
       "<pre style=\"white-space:pre;overflow-x:auto;line-height:normal;font-family:Menlo,'DejaVu Sans Mono',consolas,'Courier New',monospace\">        modified <span style=\"color: #008000; text-decoration-color: #008000\">'from-60-db-test_0055-0063_n00.mid'</span> track <span style=\"color: #008080; text-decoration-color: #008080; font-weight: bold\">0</span> to have end time <span style=\"color: #008080; text-decoration-color: #008080; font-weight: bold\">8.000</span>: <span style=\"color: #008080; text-decoration-color: #008080; font-weight: bold\">0.000</span> -&gt; offset is <span style=\"color: #008080; text-decoration-color: #008080; font-weight: bold\">8.000</span>\n",
       "</pre>\n"
      ],
      "text/plain": [
       "        modified \u001b[32m'from-60-db-test_0055-0063_n00.mid'\u001b[0m track \u001b[1;36m0\u001b[0m to have end time \u001b[1;36m8.000\u001b[0m: \u001b[1;36m0.000\u001b[0m -> offset is \u001b[1;36m8.000\u001b[0m\n"
      ]
     },
     "metadata": {},
     "output_type": "display_data"
    },
    {
     "data": {
      "text/html": [
       "<pre style=\"white-space:pre;overflow-x:auto;line-height:normal;font-family:Menlo,'DejaVu Sans Mono',consolas,'Courier New',monospace\">        modified <span style=\"color: #008000; text-decoration-color: #008000\">'from-60-db-test_0055-0063_n00.mid'</span> track <span style=\"color: #008080; text-decoration-color: #008080; font-weight: bold\">1</span> to have end time <span style=\"color: #008080; text-decoration-color: #008080; font-weight: bold\">8.000</span>: <span style=\"color: #008080; text-decoration-color: #008080; font-weight: bold\">9.436</span> -&gt; offset is <span style=\"color: #008080; text-decoration-color: #008080; font-weight: bold\">0.000</span>\n",
       "</pre>\n"
      ],
      "text/plain": [
       "        modified \u001b[32m'from-60-db-test_0055-0063_n00.mid'\u001b[0m track \u001b[1;36m1\u001b[0m to have end time \u001b[1;36m8.000\u001b[0m: \u001b[1;36m9.436\u001b[0m -> offset is \u001b[1;36m0.000\u001b[0m\n"
      ]
     },
     "metadata": {},
     "output_type": "display_data"
    },
    {
     "data": {
      "text/html": [
       "<pre style=\"white-space:pre;overflow-x:auto;line-height:normal;font-family:Menlo,'DejaVu Sans Mono',consolas,'Courier New',monospace\">        <span style=\"color: #008080; text-decoration-color: #008080; font-weight: bold\">008</span> splitting from <span style=\"color: #008080; text-decoration-color: #008080; font-weight: bold\">0063.875</span> s to <span style=\"color: #008080; text-decoration-color: #008080; font-weight: bold\">071.875</span> s<span style=\"font-weight: bold\">)</span>\n",
       "</pre>\n"
      ],
      "text/plain": [
       "        \u001b[1;36m008\u001b[0m splitting from \u001b[1;36m0063.875\u001b[0m s to \u001b[1;36m071.875\u001b[0m s\u001b[1m)\u001b[0m\n"
      ]
     },
     "metadata": {},
     "output_type": "display_data"
    },
    {
     "data": {
      "text/html": [
       "<pre style=\"white-space:pre;overflow-x:auto;line-height:normal;font-family:Menlo,'DejaVu Sans Mono',consolas,'Courier New',monospace\">        modified <span style=\"color: #008000; text-decoration-color: #008000\">'from-60-db-test_0063-0071_n00.mid'</span> track <span style=\"color: #008080; text-decoration-color: #008080; font-weight: bold\">0</span> to have end time <span style=\"color: #008080; text-decoration-color: #008080; font-weight: bold\">8.000</span>: <span style=\"color: #008080; text-decoration-color: #008080; font-weight: bold\">0.000</span> -&gt; offset is <span style=\"color: #008080; text-decoration-color: #008080; font-weight: bold\">8.000</span>\n",
       "</pre>\n"
      ],
      "text/plain": [
       "        modified \u001b[32m'from-60-db-test_0063-0071_n00.mid'\u001b[0m track \u001b[1;36m0\u001b[0m to have end time \u001b[1;36m8.000\u001b[0m: \u001b[1;36m0.000\u001b[0m -> offset is \u001b[1;36m8.000\u001b[0m\n"
      ]
     },
     "metadata": {},
     "output_type": "display_data"
    },
    {
     "data": {
      "text/html": [
       "<pre style=\"white-space:pre;overflow-x:auto;line-height:normal;font-family:Menlo,'DejaVu Sans Mono',consolas,'Courier New',monospace\">        modified <span style=\"color: #008000; text-decoration-color: #008000\">'from-60-db-test_0063-0071_n00.mid'</span> track <span style=\"color: #008080; text-decoration-color: #008080; font-weight: bold\">1</span> to have end time <span style=\"color: #008080; text-decoration-color: #008080; font-weight: bold\">8.000</span>: <span style=\"color: #008080; text-decoration-color: #008080; font-weight: bold\">9.459</span> -&gt; offset is <span style=\"color: #008080; text-decoration-color: #008080; font-weight: bold\">0.000</span>\n",
       "</pre>\n"
      ],
      "text/plain": [
       "        modified \u001b[32m'from-60-db-test_0063-0071_n00.mid'\u001b[0m track \u001b[1;36m1\u001b[0m to have end time \u001b[1;36m8.000\u001b[0m: \u001b[1;36m9.459\u001b[0m -> offset is \u001b[1;36m0.000\u001b[0m\n"
      ]
     },
     "metadata": {},
     "output_type": "display_data"
    },
    {
     "data": {
      "text/html": [
       "<pre style=\"white-space:pre;overflow-x:auto;line-height:normal;font-family:Menlo,'DejaVu Sans Mono',consolas,'Courier New',monospace\">        <span style=\"color: #008080; text-decoration-color: #008080; font-weight: bold\">009</span> splitting from <span style=\"color: #008080; text-decoration-color: #008080; font-weight: bold\">0071.875</span> s to <span style=\"color: #008080; text-decoration-color: #008080; font-weight: bold\">079.875</span> s<span style=\"font-weight: bold\">)</span>\n",
       "</pre>\n"
      ],
      "text/plain": [
       "        \u001b[1;36m009\u001b[0m splitting from \u001b[1;36m0071.875\u001b[0m s to \u001b[1;36m079.875\u001b[0m s\u001b[1m)\u001b[0m\n"
      ]
     },
     "metadata": {},
     "output_type": "display_data"
    },
    {
     "data": {
      "text/html": [
       "<pre style=\"white-space:pre;overflow-x:auto;line-height:normal;font-family:Menlo,'DejaVu Sans Mono',consolas,'Courier New',monospace\">        modified <span style=\"color: #008000; text-decoration-color: #008000\">'from-60-db-test_0071-0079_n00.mid'</span> track <span style=\"color: #008080; text-decoration-color: #008080; font-weight: bold\">0</span> to have end time <span style=\"color: #008080; text-decoration-color: #008080; font-weight: bold\">8.000</span>: <span style=\"color: #008080; text-decoration-color: #008080; font-weight: bold\">0.000</span> -&gt; offset is <span style=\"color: #008080; text-decoration-color: #008080; font-weight: bold\">8.000</span>\n",
       "</pre>\n"
      ],
      "text/plain": [
       "        modified \u001b[32m'from-60-db-test_0071-0079_n00.mid'\u001b[0m track \u001b[1;36m0\u001b[0m to have end time \u001b[1;36m8.000\u001b[0m: \u001b[1;36m0.000\u001b[0m -> offset is \u001b[1;36m8.000\u001b[0m\n"
      ]
     },
     "metadata": {},
     "output_type": "display_data"
    },
    {
     "data": {
      "text/html": [
       "<pre style=\"white-space:pre;overflow-x:auto;line-height:normal;font-family:Menlo,'DejaVu Sans Mono',consolas,'Courier New',monospace\">        modified <span style=\"color: #008000; text-decoration-color: #008000\">'from-60-db-test_0071-0079_n00.mid'</span> track <span style=\"color: #008080; text-decoration-color: #008080; font-weight: bold\">1</span> to have end time <span style=\"color: #008080; text-decoration-color: #008080; font-weight: bold\">8.000</span>: <span style=\"color: #008080; text-decoration-color: #008080; font-weight: bold\">9.523</span> -&gt; offset is <span style=\"color: #008080; text-decoration-color: #008080; font-weight: bold\">0.000</span>\n",
       "</pre>\n"
      ],
      "text/plain": [
       "        modified \u001b[32m'from-60-db-test_0071-0079_n00.mid'\u001b[0m track \u001b[1;36m1\u001b[0m to have end time \u001b[1;36m8.000\u001b[0m: \u001b[1;36m9.523\u001b[0m -> offset is \u001b[1;36m0.000\u001b[0m\n"
      ]
     },
     "metadata": {},
     "output_type": "display_data"
    },
    {
     "data": {
      "text/html": [
       "<pre style=\"white-space:pre;overflow-x:auto;line-height:normal;font-family:Menlo,'DejaVu Sans Mono',consolas,'Courier New',monospace\">        <span style=\"color: #008080; text-decoration-color: #008080; font-weight: bold\">010</span> splitting from <span style=\"color: #008080; text-decoration-color: #008080; font-weight: bold\">0079.875</span> s to <span style=\"color: #008080; text-decoration-color: #008080; font-weight: bold\">087.875</span> s<span style=\"font-weight: bold\">)</span>\n",
       "</pre>\n"
      ],
      "text/plain": [
       "        \u001b[1;36m010\u001b[0m splitting from \u001b[1;36m0079.875\u001b[0m s to \u001b[1;36m087.875\u001b[0m s\u001b[1m)\u001b[0m\n"
      ]
     },
     "metadata": {},
     "output_type": "display_data"
    },
    {
     "data": {
      "text/html": [
       "<pre style=\"white-space:pre;overflow-x:auto;line-height:normal;font-family:Menlo,'DejaVu Sans Mono',consolas,'Courier New',monospace\">        modified <span style=\"color: #008000; text-decoration-color: #008000\">'from-60-db-test_0079-0087_n00.mid'</span> track <span style=\"color: #008080; text-decoration-color: #008080; font-weight: bold\">0</span> to have end time <span style=\"color: #008080; text-decoration-color: #008080; font-weight: bold\">8.000</span>: <span style=\"color: #008080; text-decoration-color: #008080; font-weight: bold\">0.000</span> -&gt; offset is <span style=\"color: #008080; text-decoration-color: #008080; font-weight: bold\">8.000</span>\n",
       "</pre>\n"
      ],
      "text/plain": [
       "        modified \u001b[32m'from-60-db-test_0079-0087_n00.mid'\u001b[0m track \u001b[1;36m0\u001b[0m to have end time \u001b[1;36m8.000\u001b[0m: \u001b[1;36m0.000\u001b[0m -> offset is \u001b[1;36m8.000\u001b[0m\n"
      ]
     },
     "metadata": {},
     "output_type": "display_data"
    },
    {
     "data": {
      "text/html": [
       "<pre style=\"white-space:pre;overflow-x:auto;line-height:normal;font-family:Menlo,'DejaVu Sans Mono',consolas,'Courier New',monospace\">        modified <span style=\"color: #008000; text-decoration-color: #008000\">'from-60-db-test_0079-0087_n00.mid'</span> track <span style=\"color: #008080; text-decoration-color: #008080; font-weight: bold\">1</span> to have end time <span style=\"color: #008080; text-decoration-color: #008080; font-weight: bold\">8.000</span>: <span style=\"color: #008080; text-decoration-color: #008080; font-weight: bold\">9.550</span> -&gt; offset is <span style=\"color: #008080; text-decoration-color: #008080; font-weight: bold\">0.000</span>\n",
       "</pre>\n"
      ],
      "text/plain": [
       "        modified \u001b[32m'from-60-db-test_0079-0087_n00.mid'\u001b[0m track \u001b[1;36m1\u001b[0m to have end time \u001b[1;36m8.000\u001b[0m: \u001b[1;36m9.550\u001b[0m -> offset is \u001b[1;36m0.000\u001b[0m\n"
      ]
     },
     "metadata": {},
     "output_type": "display_data"
    },
    {
     "data": {
      "text/html": [
       "<pre style=\"white-space:pre;overflow-x:auto;line-height:normal;font-family:Menlo,'DejaVu Sans Mono',consolas,'Courier New',monospace\">        <span style=\"color: #008080; text-decoration-color: #008080; font-weight: bold\">011</span> splitting from <span style=\"color: #008080; text-decoration-color: #008080; font-weight: bold\">0087.875</span> s to <span style=\"color: #008080; text-decoration-color: #008080; font-weight: bold\">095.875</span> s<span style=\"font-weight: bold\">)</span>\n",
       "</pre>\n"
      ],
      "text/plain": [
       "        \u001b[1;36m011\u001b[0m splitting from \u001b[1;36m0087.875\u001b[0m s to \u001b[1;36m095.875\u001b[0m s\u001b[1m)\u001b[0m\n"
      ]
     },
     "metadata": {},
     "output_type": "display_data"
    },
    {
     "data": {
      "text/html": [
       "<pre style=\"white-space:pre;overflow-x:auto;line-height:normal;font-family:Menlo,'DejaVu Sans Mono',consolas,'Courier New',monospace\">        modified <span style=\"color: #008000; text-decoration-color: #008000\">'from-60-db-test_0087-0095_n00.mid'</span> track <span style=\"color: #008080; text-decoration-color: #008080; font-weight: bold\">0</span> to have end time <span style=\"color: #008080; text-decoration-color: #008080; font-weight: bold\">8.000</span>: <span style=\"color: #008080; text-decoration-color: #008080; font-weight: bold\">0.000</span> -&gt; offset is <span style=\"color: #008080; text-decoration-color: #008080; font-weight: bold\">8.000</span>\n",
       "</pre>\n"
      ],
      "text/plain": [
       "        modified \u001b[32m'from-60-db-test_0087-0095_n00.mid'\u001b[0m track \u001b[1;36m0\u001b[0m to have end time \u001b[1;36m8.000\u001b[0m: \u001b[1;36m0.000\u001b[0m -> offset is \u001b[1;36m8.000\u001b[0m\n"
      ]
     },
     "metadata": {},
     "output_type": "display_data"
    },
    {
     "data": {
      "text/html": [
       "<pre style=\"white-space:pre;overflow-x:auto;line-height:normal;font-family:Menlo,'DejaVu Sans Mono',consolas,'Courier New',monospace\">        modified <span style=\"color: #008000; text-decoration-color: #008000\">'from-60-db-test_0087-0095_n00.mid'</span> track <span style=\"color: #008080; text-decoration-color: #008080; font-weight: bold\">1</span> to have end time <span style=\"color: #008080; text-decoration-color: #008080; font-weight: bold\">8.000</span>: <span style=\"color: #008080; text-decoration-color: #008080; font-weight: bold\">9.564</span> -&gt; offset is <span style=\"color: #008080; text-decoration-color: #008080; font-weight: bold\">0.000</span>\n",
       "</pre>\n"
      ],
      "text/plain": [
       "        modified \u001b[32m'from-60-db-test_0087-0095_n00.mid'\u001b[0m track \u001b[1;36m1\u001b[0m to have end time \u001b[1;36m8.000\u001b[0m: \u001b[1;36m9.564\u001b[0m -> offset is \u001b[1;36m0.000\u001b[0m\n"
      ]
     },
     "metadata": {},
     "output_type": "display_data"
    },
    {
     "data": {
      "text/html": [
       "<pre style=\"white-space:pre;overflow-x:auto;line-height:normal;font-family:Menlo,'DejaVu Sans Mono',consolas,'Courier New',monospace\">        <span style=\"color: #008080; text-decoration-color: #008080; font-weight: bold\">012</span> splitting from <span style=\"color: #008080; text-decoration-color: #008080; font-weight: bold\">0095.875</span> s to <span style=\"color: #008080; text-decoration-color: #008080; font-weight: bold\">103.875</span> s<span style=\"font-weight: bold\">)</span>\n",
       "</pre>\n"
      ],
      "text/plain": [
       "        \u001b[1;36m012\u001b[0m splitting from \u001b[1;36m0095.875\u001b[0m s to \u001b[1;36m103.875\u001b[0m s\u001b[1m)\u001b[0m\n"
      ]
     },
     "metadata": {},
     "output_type": "display_data"
    },
    {
     "data": {
      "text/html": [
       "<pre style=\"white-space:pre;overflow-x:auto;line-height:normal;font-family:Menlo,'DejaVu Sans Mono',consolas,'Courier New',monospace\">        modified <span style=\"color: #008000; text-decoration-color: #008000\">'from-60-db-test_0095-0103_n00.mid'</span> track <span style=\"color: #008080; text-decoration-color: #008080; font-weight: bold\">0</span> to have end time <span style=\"color: #008080; text-decoration-color: #008080; font-weight: bold\">8.000</span>: <span style=\"color: #008080; text-decoration-color: #008080; font-weight: bold\">0.000</span> -&gt; offset is <span style=\"color: #008080; text-decoration-color: #008080; font-weight: bold\">8.000</span>\n",
       "</pre>\n"
      ],
      "text/plain": [
       "        modified \u001b[32m'from-60-db-test_0095-0103_n00.mid'\u001b[0m track \u001b[1;36m0\u001b[0m to have end time \u001b[1;36m8.000\u001b[0m: \u001b[1;36m0.000\u001b[0m -> offset is \u001b[1;36m8.000\u001b[0m\n"
      ]
     },
     "metadata": {},
     "output_type": "display_data"
    },
    {
     "data": {
      "text/html": [
       "<pre style=\"white-space:pre;overflow-x:auto;line-height:normal;font-family:Menlo,'DejaVu Sans Mono',consolas,'Courier New',monospace\">        modified <span style=\"color: #008000; text-decoration-color: #008000\">'from-60-db-test_0095-0103_n00.mid'</span> track <span style=\"color: #008080; text-decoration-color: #008080; font-weight: bold\">1</span> to have end time <span style=\"color: #008080; text-decoration-color: #008080; font-weight: bold\">8.000</span>: <span style=\"color: #008080; text-decoration-color: #008080; font-weight: bold\">9.405</span> -&gt; offset is <span style=\"color: #008080; text-decoration-color: #008080; font-weight: bold\">0.000</span>\n",
       "</pre>\n"
      ],
      "text/plain": [
       "        modified \u001b[32m'from-60-db-test_0095-0103_n00.mid'\u001b[0m track \u001b[1;36m1\u001b[0m to have end time \u001b[1;36m8.000\u001b[0m: \u001b[1;36m9.405\u001b[0m -> offset is \u001b[1;36m0.000\u001b[0m\n"
      ]
     },
     "metadata": {},
     "output_type": "display_data"
    },
    {
     "data": {
      "text/html": [
       "<pre style=\"white-space:pre;overflow-x:auto;line-height:normal;font-family:Menlo,'DejaVu Sans Mono',consolas,'Courier New',monospace\">        <span style=\"color: #008080; text-decoration-color: #008080; font-weight: bold\">013</span> splitting from <span style=\"color: #008080; text-decoration-color: #008080; font-weight: bold\">0103.875</span> s to <span style=\"color: #008080; text-decoration-color: #008080; font-weight: bold\">111.875</span> s<span style=\"font-weight: bold\">)</span>\n",
       "</pre>\n"
      ],
      "text/plain": [
       "        \u001b[1;36m013\u001b[0m splitting from \u001b[1;36m0103.875\u001b[0m s to \u001b[1;36m111.875\u001b[0m s\u001b[1m)\u001b[0m\n"
      ]
     },
     "metadata": {},
     "output_type": "display_data"
    },
    {
     "data": {
      "text/html": [
       "<pre style=\"white-space:pre;overflow-x:auto;line-height:normal;font-family:Menlo,'DejaVu Sans Mono',consolas,'Courier New',monospace\">        modified <span style=\"color: #008000; text-decoration-color: #008000\">'from-60-db-test_0103-0111_n00.mid'</span> track <span style=\"color: #008080; text-decoration-color: #008080; font-weight: bold\">0</span> to have end time <span style=\"color: #008080; text-decoration-color: #008080; font-weight: bold\">8.000</span>: <span style=\"color: #008080; text-decoration-color: #008080; font-weight: bold\">0.000</span> -&gt; offset is <span style=\"color: #008080; text-decoration-color: #008080; font-weight: bold\">8.000</span>\n",
       "</pre>\n"
      ],
      "text/plain": [
       "        modified \u001b[32m'from-60-db-test_0103-0111_n00.mid'\u001b[0m track \u001b[1;36m0\u001b[0m to have end time \u001b[1;36m8.000\u001b[0m: \u001b[1;36m0.000\u001b[0m -> offset is \u001b[1;36m8.000\u001b[0m\n"
      ]
     },
     "metadata": {},
     "output_type": "display_data"
    },
    {
     "data": {
      "text/html": [
       "<pre style=\"white-space:pre;overflow-x:auto;line-height:normal;font-family:Menlo,'DejaVu Sans Mono',consolas,'Courier New',monospace\">        modified <span style=\"color: #008000; text-decoration-color: #008000\">'from-60-db-test_0103-0111_n00.mid'</span> track <span style=\"color: #008080; text-decoration-color: #008080; font-weight: bold\">1</span> to have end time <span style=\"color: #008080; text-decoration-color: #008080; font-weight: bold\">8.000</span>: <span style=\"color: #008080; text-decoration-color: #008080; font-weight: bold\">9.073</span> -&gt; offset is <span style=\"color: #008080; text-decoration-color: #008080; font-weight: bold\">0.000</span>\n",
       "</pre>\n"
      ],
      "text/plain": [
       "        modified \u001b[32m'from-60-db-test_0103-0111_n00.mid'\u001b[0m track \u001b[1;36m1\u001b[0m to have end time \u001b[1;36m8.000\u001b[0m: \u001b[1;36m9.073\u001b[0m -> offset is \u001b[1;36m0.000\u001b[0m\n"
      ]
     },
     "metadata": {},
     "output_type": "display_data"
    },
    {
     "data": {
      "text/html": [
       "<pre style=\"white-space:pre;overflow-x:auto;line-height:normal;font-family:Menlo,'DejaVu Sans Mono',consolas,'Courier New',monospace\">        <span style=\"color: #008080; text-decoration-color: #008080; font-weight: bold\">014</span> splitting from <span style=\"color: #008080; text-decoration-color: #008080; font-weight: bold\">0111.875</span> s to <span style=\"color: #008080; text-decoration-color: #008080; font-weight: bold\">119.875</span> s<span style=\"font-weight: bold\">)</span>\n",
       "</pre>\n"
      ],
      "text/plain": [
       "        \u001b[1;36m014\u001b[0m splitting from \u001b[1;36m0111.875\u001b[0m s to \u001b[1;36m119.875\u001b[0m s\u001b[1m)\u001b[0m\n"
      ]
     },
     "metadata": {},
     "output_type": "display_data"
    },
    {
     "data": {
      "text/html": [
       "<pre style=\"white-space:pre;overflow-x:auto;line-height:normal;font-family:Menlo,'DejaVu Sans Mono',consolas,'Courier New',monospace\">        modified <span style=\"color: #008000; text-decoration-color: #008000\">'from-60-db-test_0111-0119_n00.mid'</span> track <span style=\"color: #008080; text-decoration-color: #008080; font-weight: bold\">0</span> to have end time <span style=\"color: #008080; text-decoration-color: #008080; font-weight: bold\">8.000</span>: <span style=\"color: #008080; text-decoration-color: #008080; font-weight: bold\">0.000</span> -&gt; offset is <span style=\"color: #008080; text-decoration-color: #008080; font-weight: bold\">8.000</span>\n",
       "</pre>\n"
      ],
      "text/plain": [
       "        modified \u001b[32m'from-60-db-test_0111-0119_n00.mid'\u001b[0m track \u001b[1;36m0\u001b[0m to have end time \u001b[1;36m8.000\u001b[0m: \u001b[1;36m0.000\u001b[0m -> offset is \u001b[1;36m8.000\u001b[0m\n"
      ]
     },
     "metadata": {},
     "output_type": "display_data"
    },
    {
     "data": {
      "text/html": [
       "<pre style=\"white-space:pre;overflow-x:auto;line-height:normal;font-family:Menlo,'DejaVu Sans Mono',consolas,'Courier New',monospace\">        modified <span style=\"color: #008000; text-decoration-color: #008000\">'from-60-db-test_0111-0119_n00.mid'</span> track <span style=\"color: #008080; text-decoration-color: #008080; font-weight: bold\">1</span> to have end time <span style=\"color: #008080; text-decoration-color: #008080; font-weight: bold\">8.000</span>: <span style=\"color: #008080; text-decoration-color: #008080; font-weight: bold\">10.023</span> -&gt; offset is <span style=\"color: #008080; text-decoration-color: #008080; font-weight: bold\">0.000</span>\n",
       "</pre>\n"
      ],
      "text/plain": [
       "        modified \u001b[32m'from-60-db-test_0111-0119_n00.mid'\u001b[0m track \u001b[1;36m1\u001b[0m to have end time \u001b[1;36m8.000\u001b[0m: \u001b[1;36m10.023\u001b[0m -> offset is \u001b[1;36m0.000\u001b[0m\n"
      ]
     },
     "metadata": {},
     "output_type": "display_data"
    },
    {
     "data": {
      "text/html": [
       "<pre style=\"white-space:pre;overflow-x:auto;line-height:normal;font-family:Menlo,'DejaVu Sans Mono',consolas,'Courier New',monospace\">        <span style=\"color: #008080; text-decoration-color: #008080; font-weight: bold\">015</span> splitting from <span style=\"color: #008080; text-decoration-color: #008080; font-weight: bold\">0119.875</span> s to <span style=\"color: #008080; text-decoration-color: #008080; font-weight: bold\">127.875</span> s<span style=\"font-weight: bold\">)</span>\n",
       "</pre>\n"
      ],
      "text/plain": [
       "        \u001b[1;36m015\u001b[0m splitting from \u001b[1;36m0119.875\u001b[0m s to \u001b[1;36m127.875\u001b[0m s\u001b[1m)\u001b[0m\n"
      ]
     },
     "metadata": {},
     "output_type": "display_data"
    },
    {
     "data": {
      "text/html": [
       "<pre style=\"white-space:pre;overflow-x:auto;line-height:normal;font-family:Menlo,'DejaVu Sans Mono',consolas,'Courier New',monospace\">        modified <span style=\"color: #008000; text-decoration-color: #008000\">'from-60-db-test_0119-0127_n00.mid'</span> track <span style=\"color: #008080; text-decoration-color: #008080; font-weight: bold\">0</span> to have end time <span style=\"color: #008080; text-decoration-color: #008080; font-weight: bold\">8.000</span>: <span style=\"color: #008080; text-decoration-color: #008080; font-weight: bold\">0.000</span> -&gt; offset is <span style=\"color: #008080; text-decoration-color: #008080; font-weight: bold\">8.000</span>\n",
       "</pre>\n"
      ],
      "text/plain": [
       "        modified \u001b[32m'from-60-db-test_0119-0127_n00.mid'\u001b[0m track \u001b[1;36m0\u001b[0m to have end time \u001b[1;36m8.000\u001b[0m: \u001b[1;36m0.000\u001b[0m -> offset is \u001b[1;36m8.000\u001b[0m\n"
      ]
     },
     "metadata": {},
     "output_type": "display_data"
    },
    {
     "data": {
      "text/html": [
       "<pre style=\"white-space:pre;overflow-x:auto;line-height:normal;font-family:Menlo,'DejaVu Sans Mono',consolas,'Courier New',monospace\">        modified <span style=\"color: #008000; text-decoration-color: #008000\">'from-60-db-test_0119-0127_n00.mid'</span> track <span style=\"color: #008080; text-decoration-color: #008080; font-weight: bold\">1</span> to have end time <span style=\"color: #008080; text-decoration-color: #008080; font-weight: bold\">8.000</span>: <span style=\"color: #008080; text-decoration-color: #008080; font-weight: bold\">9.095</span> -&gt; offset is <span style=\"color: #008080; text-decoration-color: #008080; font-weight: bold\">0.000</span>\n",
       "</pre>\n"
      ],
      "text/plain": [
       "        modified \u001b[32m'from-60-db-test_0119-0127_n00.mid'\u001b[0m track \u001b[1;36m1\u001b[0m to have end time \u001b[1;36m8.000\u001b[0m: \u001b[1;36m9.095\u001b[0m -> offset is \u001b[1;36m0.000\u001b[0m\n"
      ]
     },
     "metadata": {},
     "output_type": "display_data"
    },
    {
     "data": {
      "text/html": [
       "<pre style=\"white-space:pre;overflow-x:auto;line-height:normal;font-family:Menlo,'DejaVu Sans Mono',consolas,'Courier New',monospace\"></pre>\n"
      ],
      "text/plain": []
     },
     "metadata": {},
     "output_type": "display_data"
    },
    {
     "data": {
      "text/html": [
       "<pre style=\"white-space:pre;overflow-x:auto;line-height:normal;font-family:Menlo,'DejaVu Sans Mono',consolas,'Courier New',monospace\">\n",
       "</pre>\n"
      ],
      "text/plain": [
       "\n"
      ]
     },
     "metadata": {},
     "output_type": "display_data"
    },
    {
     "data": {
      "text/html": [
       "<pre style=\"white-space:pre;overflow-x:auto;line-height:normal;font-family:Menlo,'DejaVu Sans Mono',consolas,'Courier New',monospace\"><span style=\"color: #008000; text-decoration-color: #008000\">segmentation complete, </span><span style=\"color: #008000; text-decoration-color: #008000; font-weight: bold\">16</span><span style=\"color: #008000; text-decoration-color: #008000\"> files generated</span>\n",
       "</pre>\n"
      ],
      "text/plain": [
       "\u001b[32msegmentation complete, \u001b[0m\u001b[1;32m16\u001b[0m\u001b[32m files generated\u001b[0m\n"
      ]
     },
     "metadata": {},
     "output_type": "display_data"
    }
   ],
   "source": [
    "# segment files\n",
    "segment_paths = []\n",
    "for filename in track(tracks, description=\"generating segments\"):\n",
    "    if filename.endswith(\".mid\"):\n",
    "        print(f\"segmenting '{filename}'\")\n",
    "        segment_paths.extend(\n",
    "            segment_midi(\n",
    "                os.path.join(\"files\", filename),\n",
    "                os.path.join(\"files\", \"play\"),\n",
    "            )\n",
    "        )\n",
    "\n",
    "print(f\"[green]segmentation complete, {len(segment_paths)} files generated\")"
   ]
  },
  {
   "cell_type": "code",
   "execution_count": 24,
   "metadata": {},
   "outputs": [
    {
     "name": "stdout",
     "output_type": "stream",
     "text": [
      "=== Track 0\n",
      "MetaMessage('set_tempo', tempo=1000000, time=0)\n",
      "MetaMessage('set_tempo', tempo=1000000, time=0)\n",
      "MetaMessage('time_signature', numerator=4, denominator=4, clocks_per_click=24, notated_32nd_notes_per_beat=8, time=0)\n",
      "MetaMessage('end_of_track', time=1760)\n",
      "=== Track 1\n",
      "MetaMessage('track_name', name='from-60-db-test_0023-0031', time=0)\n",
      "Message('program_change', channel=0, program=0, time=0)\n",
      "Message('note_on', channel=0, note=33, velocity=41, time=218)\n",
      "Message('note_on', channel=0, note=33, velocity=0, time=103)\n",
      "Message('note_on', channel=0, note=60, velocity=47, time=121)\n",
      "Message('note_on', channel=0, note=38, velocity=34, time=5)\n",
      "Message('note_on', channel=0, note=53, velocity=40, time=0)\n",
      "Message('note_on', channel=0, note=57, velocity=44, time=0)\n",
      "Message('note_on', channel=0, note=64, velocity=43, time=0)\n",
      "Message('note_on', channel=0, note=53, velocity=0, time=75)\n",
      "Message('note_on', channel=0, note=57, velocity=0, time=0)\n",
      "Message('note_on', channel=0, note=64, velocity=0, time=0)\n",
      "Message('note_on', channel=0, note=60, velocity=0, time=17)\n",
      "Message('note_on', channel=0, note=64, velocity=52, time=130)\n",
      "Message('note_on', channel=0, note=60, velocity=51, time=2)\n",
      "Message('note_on', channel=0, note=57, velocity=46, time=3)\n",
      "Message('note_on', channel=0, note=53, velocity=41, time=2)\n",
      "Message('note_on', channel=0, note=38, velocity=0, time=5)\n",
      "Message('note_on', channel=0, note=57, velocity=0, time=94)\n",
      "Message('note_on', channel=0, note=64, velocity=0, time=0)\n",
      "Message('note_on', channel=0, note=60, velocity=0, time=9)\n",
      "Message('note_on', channel=0, note=38, velocity=54, time=2)\n",
      "Message('note_on', channel=0, note=53, velocity=0, time=2)\n",
      "Message('note_on', channel=0, note=50, velocity=36, time=103)\n",
      "Message('note_on', channel=0, note=53, velocity=46, time=3)\n",
      "Message('note_on', channel=0, note=60, velocity=47, time=0)\n",
      "Message('note_on', channel=0, note=57, velocity=47, time=2)\n",
      "Message('note_on', channel=0, note=64, velocity=45, time=0)\n",
      "Message('note_on', channel=0, note=50, velocity=0, time=18)\n",
      "Message('note_on', channel=0, note=53, velocity=0, time=0)\n",
      "Message('note_on', channel=0, note=57, velocity=0, time=3)\n",
      "Message('note_on', channel=0, note=64, velocity=0, time=0)\n",
      "Message('note_on', channel=0, note=60, velocity=0, time=4)\n",
      "Message('note_on', channel=0, note=60, velocity=56, time=78)\n",
      "Message('note_on', channel=0, note=64, velocity=68, time=0)\n",
      "Message('note_on', channel=0, note=53, velocity=54, time=5)\n",
      "Message('note_on', channel=0, note=57, velocity=54, time=0)\n",
      "Message('note_on', channel=0, note=50, velocity=46, time=107)\n",
      "Message('note_on', channel=0, note=50, velocity=0, time=14)\n",
      "Message('note_on', channel=0, note=53, velocity=0, time=12)\n",
      "Message('note_on', channel=0, note=38, velocity=0, time=9)\n",
      "Message('note_on', channel=0, note=57, velocity=0, time=18)\n",
      "Message('note_on', channel=0, note=64, velocity=0, time=5)\n",
      "Message('note_on', channel=0, note=60, velocity=0, time=16)\n",
      "Message('note_on', channel=0, note=31, velocity=49, time=30)\n",
      "Message('note_on', channel=0, note=64, velocity=52, time=6)\n",
      "Message('note_on', channel=0, note=59, velocity=51, time=3)\n",
      "Message('note_on', channel=0, note=43, velocity=45, time=2)\n",
      "Message('note_on', channel=0, note=53, velocity=50, time=0)\n",
      "Message('note_on', channel=0, note=57, velocity=13, time=16)\n",
      "Message('note_on', channel=0, note=43, velocity=0, time=7)\n",
      "Message('note_on', channel=0, note=57, velocity=0, time=11)\n",
      "Message('note_on', channel=0, note=64, velocity=0, time=3)\n",
      "Message('note_on', channel=0, note=53, velocity=0, time=4)\n",
      "Message('note_on', channel=0, note=59, velocity=0, time=3)\n",
      "Message('note_on', channel=0, note=31, velocity=0, time=2)\n",
      "Message('note_on', channel=0, note=43, velocity=35, time=174)\n",
      "Message('note_on', channel=0, note=43, velocity=0, time=30)\n",
      "Message('note_on', channel=0, note=31, velocity=24, time=181)\n",
      "Message('note_on', channel=0, note=31, velocity=0, time=105)\n",
      "Message('note_on', channel=0, note=43, velocity=45, time=3)\n",
      "Message('note_on', channel=0, note=43, velocity=0, time=73)\n",
      "Message('note_on', channel=0, note=31, velocity=6, time=23)\n",
      "Message('note_on', channel=0, note=31, velocity=0, time=96)\n",
      "MetaMessage('end_of_track', time=0)\n"
     ]
    },
    {
     "data": {
      "text/html": [
       "<iframe srcdoc=\"&lt;script src=&quot;https://cdn.jsdelivr.net/combine/npm/tone@14.7.58,npm/@magenta/music@1.23.1/es6/core.js,npm/focus-visible@5,npm/html-midi-player@1.5.0&quot;&gt;&lt;/script&gt;  &amp;nbsp; &lt;a href=&quot;data:audio/midi;base64,TVRoZAAAAAYAAQACANxNVHJrAAAAGwD/UQMPQkAA/1EDD0JAAP9YBAQCGAiNYP8vAE1UcmsAAADRAP8DGWZyb20tNjAtZGItdGVzdF8wMTE5LTAxMjcAwACBWpA7PgQ1PGE1AAsrK0wrACQ8LgUmIwI1LA47ABk8AAw1AIElPDQGNS0aJgAwNQALPAAVJhxuQEgCNUEAPEU+NQACQAAHPAAjJgACQDQCPCICNS4zNQAAQAAHPAApJigZJgBeKyEANSIAQCoCOyAqQAAENQAAOwCBMTUmAkAlBTsgcisAYx8sAjUAADsAB0AAUh8AEEAnByslADUdADshTjsAAEAAAzUAgQ4rAAD/LwA=&quot; target=&quot;_blank&quot;&gt;Download MIDI&lt;/a&gt;&lt;br&gt;\n",
       "            &lt;midi-player src=&quot;data:audio/midi;base64,TVRoZAAAAAYAAQACANxNVHJrAAAAGwD/UQMPQkAA/1EDD0JAAP9YBAQCGAiNYP8vAE1UcmsAAADRAP8DGWZyb20tNjAtZGItdGVzdF8wMTE5LTAxMjcAwACBWpA7PgQ1PGE1AAsrK0wrACQ8LgUmIwI1LA47ABk8AAw1AIElPDQGNS0aJgAwNQALPAAVJhxuQEgCNUEAPEU+NQACQAAHPAAjJgACQDQCPCICNS4zNQAAQAAHPAApJigZJgBeKyEANSIAQCoCOyAqQAAENQAAOwCBMTUmAkAlBTsgcisAYx8sAjUAADsAB0AAUh8AEEAnByslADUdADshTjsAAEAAAzUAgQ4rAAD/LwA=&quot; sound-font visualizer=&quot;#myVisualizer&quot;&gt;&lt;/midi-player&gt;\n",
       "            &lt;midi-visualizer type=&quot;piano-roll&quot; id=&quot;myVisualizer&quot; style=&quot;background: #fff;&quot;&gt;&lt;/midi-visualizer&gt;\" width=\"100%\" height=\"300\"\n",
       "            style=\"border:none !important;\"\n",
       "            \"allowfullscreen\" \"webkitallowfullscreen\" \"mozallowfullscreen\">'\n",
       "            </iframe>"
      ],
      "text/plain": [
       "<midi_player.midi_player.MIDIPlayer at 0x11a20c860>"
      ]
     },
     "execution_count": 24,
     "metadata": {},
     "output_type": "execute_result"
    }
   ],
   "source": [
    "MidiFile(segment_paths[3]).print_tracks()\n",
    "MIDIPlayer(segment_paths[-1], 300)"
   ]
  },
  {
   "cell_type": "code",
   "execution_count": 28,
   "metadata": {},
   "outputs": [
    {
     "data": {
      "text/plain": [
       "'LEAVE ME'"
      ]
     },
     "execution_count": 28,
     "metadata": {},
     "output_type": "execute_result"
    }
   ],
   "source": [
    "s = \"LEAVE ME_s00t0\"\n",
    "s[:-6]"
   ]
  }
 ],
 "metadata": {
  "kernelspec": {
   "display_name": ".venv",
   "language": "python",
   "name": "python3"
  },
  "language_info": {
   "codemirror_mode": {
    "name": "ipython",
    "version": 3
   },
   "file_extension": ".py",
   "mimetype": "text/x-python",
   "name": "python",
   "nbconvert_exporter": "python",
   "pygments_lexer": "ipython3",
   "version": "3.12.2"
  }
 },
 "nbformat": 4,
 "nbformat_minor": 2
}
