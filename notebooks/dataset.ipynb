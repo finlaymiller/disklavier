{
 "cells": [
  {
   "cell_type": "markdown",
   "metadata": {},
   "source": [
    "# dataset building\n",
    "## imports"
   ]
  },
  {
   "cell_type": "code",
   "execution_count": null,
   "metadata": {},
   "outputs": [],
   "source": [
    "import os\n",
    "from mido import MidiFile, MetaMessage, second2tick, tick2second, bpm2tempo\n",
    "import pretty_midi\n",
    "import numpy as np\n",
    "\n",
    "from collections import Counter\n",
    "import mido\n",
    "import matplotlib.pyplot as plt\n",
    "\n",
    "from rich import print\n",
    "from rich.progress import track\n",
    "\n",
    "from typing import List"
   ]
  },
  {
   "cell_type": "markdown",
   "metadata": {},
   "source": [
    "## helper functions"
   ]
  },
  {
   "cell_type": "code",
   "execution_count": null,
   "metadata": {},
   "outputs": [],
   "source": [
    "def set_tempo(input_file_path, bpm) -> None:\n",
    "    mid = MidiFile(input_file_path)\n",
    "    tempo = bpm2tempo(bpm)\n",
    "    mid.tracks[0].insert(0, MetaMessage(\"set_tempo\", tempo=tempo, time=0))\n",
    "    mid.save(input_file_path)"
   ]
  },
  {
   "cell_type": "code",
   "execution_count": null,
   "metadata": {},
   "outputs": [],
   "source": [
    "def modify_end_of_track(midi_file_path, new_end_time, tempo):\n",
    "    mid = MidiFile(midi_file_path)\n",
    "    new_end_time_t = second2tick(new_end_time, 220, bpm2tempo(tempo))\n",
    "    # print(f\"\\t{midi_file_path} bpm2tempo(tempo)}\")\n",
    "    # mid.print_tracks()\n",
    "\n",
    "    for i, track in enumerate(mid.tracks):\n",
    "        total_time_t = 0\n",
    "        # Remove existing 'end_of_track' messages and calculate last note time\n",
    "        for msg in track:\n",
    "            if msg.type == \"note_on\":\n",
    "                total_time_t += msg.time\n",
    "            if msg.type == \"end_of_track\":\n",
    "                track.remove(msg)\n",
    "                # Add a new 'end_of_track' message at the calculated offset time\n",
    "                offset = (\n",
    "                    new_end_time_t - total_time_t\n",
    "                    if new_end_time_t > total_time_t\n",
    "                    else 0\n",
    "                )\n",
    "                track.append(MetaMessage(\"end_of_track\", time=offset))\n",
    "\n",
    "                net = tick2second(new_end_time_t, mid.ticks_per_beat, bpm2tempo(tempo))\n",
    "                tt = tick2second(total_time_t, mid.ticks_per_beat, bpm2tempo(tempo))\n",
    "                o = tick2second(offset, mid.ticks_per_beat, bpm2tempo(tempo))\n",
    "                print(\n",
    "                    f\"\\tmodified '{os.path.basename(midi_file_path)}' track {i} to have end time {net:.03f}: {tt:.03f} -> offset is {o:.03f}\"\n",
    "                )\n",
    "\n",
    "    # Save the modified MIDI file\n",
    "    os.remove(midi_file_path)\n",
    "    mid.save(midi_file_path)"
   ]
  },
  {
   "cell_type": "code",
   "execution_count": null,
   "metadata": {},
   "outputs": [],
   "source": [
    "def segment_midi(\n",
    "    midi_file_path: str,\n",
    "    output_dir: str,\n",
    "    num_beats: int = 8,\n",
    "    do_shift: bool = False,\n",
    "    do_transpose: bool = False,\n",
    ") -> List[str]:\n",
    "    filename = os.path.basename(midi_file_path)[:-4]\n",
    "    target_tempo = int(filename.split(\"-\")[1])\n",
    "    set_tempo(midi_file_path, target_tempo)\n",
    "    midi_pm = pretty_midi.PrettyMIDI(midi_file_path)\n",
    "    total_length = midi_pm.get_end_time()\n",
    "    segment_length = num_beats * 60 / target_tempo  # in seconds\n",
    "    num_segments = int(np.round(total_length / segment_length))\n",
    "    eighth_beat = segment_length / num_beats / 8  # eighth of a beat\n",
    "\n",
    "    print(\n",
    "        f\"\\tbreaking '{filename}' ({total_length:.03f} s at {target_tempo} bpm) into {num_segments:03d} segments of {segment_length:.03f}s\\n\\t(pre window is {eighth_beat:.03f} s)\"\n",
    "    )\n",
    "\n",
    "    new_files = []\n",
    "    for n in list(range(num_segments)):\n",
    "        start = n * segment_length\n",
    "        end = start + segment_length - eighth_beat\n",
    "        if n > 0:\n",
    "            start -= eighth_beat\n",
    "        print(f\"\\t{n:03d} splitting from {start:08.03f} s to {end:07.03f} s)\")\n",
    "        segment_midi = pretty_midi.PrettyMIDI(initial_tempo=target_tempo)\n",
    "        instrument = pretty_midi.Instrument(\n",
    "            program=midi_pm.instruments[0].program,\n",
    "            name=f\"{filename}_{int(start):04d}-{int(end):04d}\",\n",
    "        )\n",
    "\n",
    "        # add notes from the original MIDI that fall within the current segment\n",
    "        for note in midi_pm.instruments[0].notes:\n",
    "            if start <= note.start < end:\n",
    "                new_note = pretty_midi.Note(\n",
    "                    velocity=note.velocity,\n",
    "                    pitch=note.pitch,\n",
    "                    start=note.start - start,\n",
    "                    # end=min(note.end, end) - start,\n",
    "                    end=note.end - start,\n",
    "                )\n",
    "                instrument.notes.append(new_note)\n",
    "\n",
    "        # pad front of track to full bar for easier playback\n",
    "        if n > 0:\n",
    "            for note in instrument.notes:\n",
    "                note.start += eighth_beat * 7\n",
    "                note.end += eighth_beat * 7\n",
    "\n",
    "        # write out\n",
    "        segment_filename = os.path.join(\n",
    "            output_dir, f\"{filename}_{int(start):04d}-{int(end):04d}_n00.mid\"\n",
    "        )\n",
    "\n",
    "        segment_midi.instruments.append(instrument)\n",
    "        segment_midi.write(segment_filename)\n",
    "        set_tempo(segment_filename, target_tempo)\n",
    "        modify_end_of_track(segment_filename, segment_length, target_tempo)\n",
    "\n",
    "        new_files.append(segment_filename)\n",
    "\n",
    "    return new_files"
   ]
  },
  {
   "cell_type": "code",
   "execution_count": null,
   "metadata": {},
   "outputs": [],
   "source": [
    "def build_fs(dirs: List[str]) -> None:\n",
    "    for dir in dirs:\n",
    "        if os.path.exists(dir):\n",
    "            i = 0\n",
    "            for i, file in enumerate(os.listdir(dir)):\n",
    "                os.remove(os.path.join(dir, file))\n",
    "                i += 1\n",
    "            print(f\"cleaned {i} files out of folder: '{dir}'\")\n",
    "        else:\n",
    "            os.mkdir(dir)\n",
    "            print(f\"created new folder: '{dir}'\")"
   ]
  },
  {
   "cell_type": "markdown",
   "metadata": {},
   "source": [
    "## go"
   ]
  },
  {
   "cell_type": "code",
   "execution_count": null,
   "metadata": {},
   "outputs": [],
   "source": [
    "tracks = [\"from-60-db-test.mid\"]"
   ]
  },
  {
   "cell_type": "code",
   "execution_count": null,
   "metadata": {},
   "outputs": [],
   "source": [
    "# segment files\n",
    "segment_paths = []\n",
    "for filename in track(tracks, description=\"generating segments\"):\n",
    "    if filename.endswith(\".mid\"):\n",
    "        print(f\"segmenting '{filename}'\")\n",
    "        segment_paths.extend(\n",
    "            segment_midi(\n",
    "                os.path.join(\"files\", filename),\n",
    "                os.path.join(\"files\", \"play\"),\n",
    "            )\n",
    "        )\n",
    "\n",
    "print(f\"[green]segmentation complete, {len(segment_paths)} files generated\")"
   ]
  },
  {
   "cell_type": "code",
   "execution_count": null,
   "metadata": {},
   "outputs": [],
   "source": [
    "MidiFile(segment_paths[3]).print_tracks()\n",
    "MIDIPlayer(segment_paths[-1], 300)"
   ]
  }
 ],
 "metadata": {
  "kernelspec": {
   "display_name": ".venv",
   "language": "python",
   "name": "python3"
  },
  "language_info": {
   "codemirror_mode": {
    "name": "ipython",
    "version": 3
   },
   "file_extension": ".py",
   "mimetype": "text/x-python",
   "name": "python",
   "nbconvert_exporter": "python",
   "pygments_lexer": "ipython3",
   "version": "3.12.2"
  }
 },
 "nbformat": 4,
 "nbformat_minor": 2
}
