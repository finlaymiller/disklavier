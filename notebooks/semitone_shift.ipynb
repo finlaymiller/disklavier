{
 "cells": [
  {
   "cell_type": "code",
   "execution_count": 8,
   "metadata": {},
   "outputs": [],
   "source": [
    "import os\n",
    "import numpy as np\n",
    "from rich import print\n",
    "from pretty_midi import PrettyMIDI"
   ]
  },
  {
   "cell_type": "code",
   "execution_count": 10,
   "metadata": {},
   "outputs": [
    {
     "data": {
      "text/html": [
       "<pre style=\"white-space:pre;overflow-x:auto;line-height:normal;font-family:Menlo,'DejaVu Sans Mono',consolas,'Courier New',monospace\"><span style=\"font-weight: bold\">[</span><span style=\"color: #008080; text-decoration-color: #008080; font-weight: bold\">0</span>.         <span style=\"color: #008080; text-decoration-color: #008080; font-weight: bold\">0</span>.         <span style=\"color: #008080; text-decoration-color: #008080; font-weight: bold\">0</span>.         <span style=\"color: #008080; text-decoration-color: #008080; font-weight: bold\">0</span>.         <span style=\"color: #008080; text-decoration-color: #008080; font-weight: bold\">0</span>.         <span style=\"color: #008080; text-decoration-color: #008080; font-weight: bold\">0.11764706</span>\n",
       " <span style=\"color: #008080; text-decoration-color: #008080; font-weight: bold\">0.11764706</span> <span style=\"color: #008080; text-decoration-color: #008080; font-weight: bold\">0</span>.         <span style=\"color: #008080; text-decoration-color: #008080; font-weight: bold\">0.02941176</span> <span style=\"color: #008080; text-decoration-color: #008080; font-weight: bold\">0.02941176</span> <span style=\"color: #008080; text-decoration-color: #008080; font-weight: bold\">0.70588235</span> <span style=\"color: #008080; text-decoration-color: #008080; font-weight: bold\">0</span>.        <span style=\"font-weight: bold\">]</span>\n",
       "</pre>\n"
      ],
      "text/plain": [
       "\u001b[1m[\u001b[0m\u001b[1;36m0\u001b[0m.         \u001b[1;36m0\u001b[0m.         \u001b[1;36m0\u001b[0m.         \u001b[1;36m0\u001b[0m.         \u001b[1;36m0\u001b[0m.         \u001b[1;36m0.11764706\u001b[0m\n",
       " \u001b[1;36m0.11764706\u001b[0m \u001b[1;36m0\u001b[0m.         \u001b[1;36m0.02941176\u001b[0m \u001b[1;36m0.02941176\u001b[0m \u001b[1;36m0.70588235\u001b[0m \u001b[1;36m0\u001b[0m.        \u001b[1m]\u001b[0m\n"
      ]
     },
     "metadata": {},
     "output_type": "display_data"
    },
    {
     "data": {
      "text/html": [
       "<pre style=\"white-space:pre;overflow-x:auto;line-height:normal;font-family:Menlo,'DejaVu Sans Mono',consolas,'Courier New',monospace\"><span style=\"font-weight: bold\">[</span><span style=\"color: #008080; text-decoration-color: #008080; font-weight: bold\">0</span>.         <span style=\"color: #008080; text-decoration-color: #008080; font-weight: bold\">0</span>.         <span style=\"color: #008080; text-decoration-color: #008080; font-weight: bold\">0</span>.         <span style=\"color: #008080; text-decoration-color: #008080; font-weight: bold\">0</span>.         <span style=\"color: #008080; text-decoration-color: #008080; font-weight: bold\">0</span>.         <span style=\"color: #008080; text-decoration-color: #008080; font-weight: bold\">0</span>.\n",
       " <span style=\"color: #008080; text-decoration-color: #008080; font-weight: bold\">0.11764706</span> <span style=\"color: #008080; text-decoration-color: #008080; font-weight: bold\">0.11764706</span> <span style=\"color: #008080; text-decoration-color: #008080; font-weight: bold\">0</span>.         <span style=\"color: #008080; text-decoration-color: #008080; font-weight: bold\">0.02941176</span> <span style=\"color: #008080; text-decoration-color: #008080; font-weight: bold\">0.02941176</span> <span style=\"color: #008080; text-decoration-color: #008080; font-weight: bold\">0.70588235</span><span style=\"font-weight: bold\">]</span>\n",
       "</pre>\n"
      ],
      "text/plain": [
       "\u001b[1m[\u001b[0m\u001b[1;36m0\u001b[0m.         \u001b[1;36m0\u001b[0m.         \u001b[1;36m0\u001b[0m.         \u001b[1;36m0\u001b[0m.         \u001b[1;36m0\u001b[0m.         \u001b[1;36m0\u001b[0m.\n",
       " \u001b[1;36m0.11764706\u001b[0m \u001b[1;36m0.11764706\u001b[0m \u001b[1;36m0\u001b[0m.         \u001b[1;36m0.02941176\u001b[0m \u001b[1;36m0.02941176\u001b[0m \u001b[1;36m0.70588235\u001b[0m\u001b[1m]\u001b[0m\n"
      ]
     },
     "metadata": {},
     "output_type": "display_data"
    },
    {
     "data": {
      "text/html": [
       "<pre style=\"white-space:pre;overflow-x:auto;line-height:normal;font-family:Menlo,'DejaVu Sans Mono',consolas,'Courier New',monospace\"><span style=\"font-weight: bold\">[</span><span style=\"color: #008080; text-decoration-color: #008080; font-weight: bold\">0.70588235</span> <span style=\"color: #008080; text-decoration-color: #008080; font-weight: bold\">0</span>.         <span style=\"color: #008080; text-decoration-color: #008080; font-weight: bold\">0</span>.         <span style=\"color: #008080; text-decoration-color: #008080; font-weight: bold\">0</span>.         <span style=\"color: #008080; text-decoration-color: #008080; font-weight: bold\">0</span>.         <span style=\"color: #008080; text-decoration-color: #008080; font-weight: bold\">0</span>.\n",
       " <span style=\"color: #008080; text-decoration-color: #008080; font-weight: bold\">0</span>.         <span style=\"color: #008080; text-decoration-color: #008080; font-weight: bold\">0.11764706</span> <span style=\"color: #008080; text-decoration-color: #008080; font-weight: bold\">0.11764706</span> <span style=\"color: #008080; text-decoration-color: #008080; font-weight: bold\">0</span>.         <span style=\"color: #008080; text-decoration-color: #008080; font-weight: bold\">0.02941176</span> <span style=\"color: #008080; text-decoration-color: #008080; font-weight: bold\">0.02941176</span><span style=\"font-weight: bold\">]</span>\n",
       "</pre>\n"
      ],
      "text/plain": [
       "\u001b[1m[\u001b[0m\u001b[1;36m0.70588235\u001b[0m \u001b[1;36m0\u001b[0m.         \u001b[1;36m0\u001b[0m.         \u001b[1;36m0\u001b[0m.         \u001b[1;36m0\u001b[0m.         \u001b[1;36m0\u001b[0m.\n",
       " \u001b[1;36m0\u001b[0m.         \u001b[1;36m0.11764706\u001b[0m \u001b[1;36m0.11764706\u001b[0m \u001b[1;36m0\u001b[0m.         \u001b[1;36m0.02941176\u001b[0m \u001b[1;36m0.02941176\u001b[0m\u001b[1m]\u001b[0m\n"
      ]
     },
     "metadata": {},
     "output_type": "display_data"
    },
    {
     "data": {
      "text/html": [
       "<pre style=\"white-space:pre;overflow-x:auto;line-height:normal;font-family:Menlo,'DejaVu Sans Mono',consolas,'Courier New',monospace\"><span style=\"font-weight: bold\">[</span><span style=\"color: #008080; text-decoration-color: #008080; font-weight: bold\">0.02941176</span> <span style=\"color: #008080; text-decoration-color: #008080; font-weight: bold\">0.70588235</span> <span style=\"color: #008080; text-decoration-color: #008080; font-weight: bold\">0</span>.         <span style=\"color: #008080; text-decoration-color: #008080; font-weight: bold\">0</span>.         <span style=\"color: #008080; text-decoration-color: #008080; font-weight: bold\">0</span>.         <span style=\"color: #008080; text-decoration-color: #008080; font-weight: bold\">0</span>.\n",
       " <span style=\"color: #008080; text-decoration-color: #008080; font-weight: bold\">0</span>.         <span style=\"color: #008080; text-decoration-color: #008080; font-weight: bold\">0</span>.         <span style=\"color: #008080; text-decoration-color: #008080; font-weight: bold\">0.11764706</span> <span style=\"color: #008080; text-decoration-color: #008080; font-weight: bold\">0.11764706</span> <span style=\"color: #008080; text-decoration-color: #008080; font-weight: bold\">0</span>.         <span style=\"color: #008080; text-decoration-color: #008080; font-weight: bold\">0.02941176</span><span style=\"font-weight: bold\">]</span>\n",
       "</pre>\n"
      ],
      "text/plain": [
       "\u001b[1m[\u001b[0m\u001b[1;36m0.02941176\u001b[0m \u001b[1;36m0.70588235\u001b[0m \u001b[1;36m0\u001b[0m.         \u001b[1;36m0\u001b[0m.         \u001b[1;36m0\u001b[0m.         \u001b[1;36m0\u001b[0m.\n",
       " \u001b[1;36m0\u001b[0m.         \u001b[1;36m0\u001b[0m.         \u001b[1;36m0.11764706\u001b[0m \u001b[1;36m0.11764706\u001b[0m \u001b[1;36m0\u001b[0m.         \u001b[1;36m0.02941176\u001b[0m\u001b[1m]\u001b[0m\n"
      ]
     },
     "metadata": {},
     "output_type": "display_data"
    },
    {
     "data": {
      "text/html": [
       "<pre style=\"white-space:pre;overflow-x:auto;line-height:normal;font-family:Menlo,'DejaVu Sans Mono',consolas,'Courier New',monospace\"><span style=\"font-weight: bold\">[</span><span style=\"color: #008080; text-decoration-color: #008080; font-weight: bold\">0.02941176</span> <span style=\"color: #008080; text-decoration-color: #008080; font-weight: bold\">0.02941176</span> <span style=\"color: #008080; text-decoration-color: #008080; font-weight: bold\">0.70588235</span> <span style=\"color: #008080; text-decoration-color: #008080; font-weight: bold\">0</span>.         <span style=\"color: #008080; text-decoration-color: #008080; font-weight: bold\">0</span>.         <span style=\"color: #008080; text-decoration-color: #008080; font-weight: bold\">0</span>.\n",
       " <span style=\"color: #008080; text-decoration-color: #008080; font-weight: bold\">0</span>.         <span style=\"color: #008080; text-decoration-color: #008080; font-weight: bold\">0</span>.         <span style=\"color: #008080; text-decoration-color: #008080; font-weight: bold\">0</span>.         <span style=\"color: #008080; text-decoration-color: #008080; font-weight: bold\">0.11764706</span> <span style=\"color: #008080; text-decoration-color: #008080; font-weight: bold\">0.11764706</span> <span style=\"color: #008080; text-decoration-color: #008080; font-weight: bold\">0</span>.        <span style=\"font-weight: bold\">]</span>\n",
       "</pre>\n"
      ],
      "text/plain": [
       "\u001b[1m[\u001b[0m\u001b[1;36m0.02941176\u001b[0m \u001b[1;36m0.02941176\u001b[0m \u001b[1;36m0.70588235\u001b[0m \u001b[1;36m0\u001b[0m.         \u001b[1;36m0\u001b[0m.         \u001b[1;36m0\u001b[0m.\n",
       " \u001b[1;36m0\u001b[0m.         \u001b[1;36m0\u001b[0m.         \u001b[1;36m0\u001b[0m.         \u001b[1;36m0.11764706\u001b[0m \u001b[1;36m0.11764706\u001b[0m \u001b[1;36m0\u001b[0m.        \u001b[1m]\u001b[0m\n"
      ]
     },
     "metadata": {},
     "output_type": "display_data"
    },
    {
     "data": {
      "text/html": [
       "<pre style=\"white-space:pre;overflow-x:auto;line-height:normal;font-family:Menlo,'DejaVu Sans Mono',consolas,'Courier New',monospace\"><span style=\"font-weight: bold\">[</span><span style=\"color: #008080; text-decoration-color: #008080; font-weight: bold\">0</span>.         <span style=\"color: #008080; text-decoration-color: #008080; font-weight: bold\">0.02941176</span> <span style=\"color: #008080; text-decoration-color: #008080; font-weight: bold\">0.02941176</span> <span style=\"color: #008080; text-decoration-color: #008080; font-weight: bold\">0.70588235</span> <span style=\"color: #008080; text-decoration-color: #008080; font-weight: bold\">0</span>.         <span style=\"color: #008080; text-decoration-color: #008080; font-weight: bold\">0</span>.\n",
       " <span style=\"color: #008080; text-decoration-color: #008080; font-weight: bold\">0</span>.         <span style=\"color: #008080; text-decoration-color: #008080; font-weight: bold\">0</span>.         <span style=\"color: #008080; text-decoration-color: #008080; font-weight: bold\">0</span>.         <span style=\"color: #008080; text-decoration-color: #008080; font-weight: bold\">0</span>.         <span style=\"color: #008080; text-decoration-color: #008080; font-weight: bold\">0.11764706</span> <span style=\"color: #008080; text-decoration-color: #008080; font-weight: bold\">0.11764706</span><span style=\"font-weight: bold\">]</span>\n",
       "</pre>\n"
      ],
      "text/plain": [
       "\u001b[1m[\u001b[0m\u001b[1;36m0\u001b[0m.         \u001b[1;36m0.02941176\u001b[0m \u001b[1;36m0.02941176\u001b[0m \u001b[1;36m0.70588235\u001b[0m \u001b[1;36m0\u001b[0m.         \u001b[1;36m0\u001b[0m.\n",
       " \u001b[1;36m0\u001b[0m.         \u001b[1;36m0\u001b[0m.         \u001b[1;36m0\u001b[0m.         \u001b[1;36m0\u001b[0m.         \u001b[1;36m0.11764706\u001b[0m \u001b[1;36m0.11764706\u001b[0m\u001b[1m]\u001b[0m\n"
      ]
     },
     "metadata": {},
     "output_type": "display_data"
    },
    {
     "data": {
      "text/html": [
       "<pre style=\"white-space:pre;overflow-x:auto;line-height:normal;font-family:Menlo,'DejaVu Sans Mono',consolas,'Courier New',monospace\"><span style=\"font-weight: bold\">[</span><span style=\"color: #008080; text-decoration-color: #008080; font-weight: bold\">0.11764706</span> <span style=\"color: #008080; text-decoration-color: #008080; font-weight: bold\">0</span>.         <span style=\"color: #008080; text-decoration-color: #008080; font-weight: bold\">0.02941176</span> <span style=\"color: #008080; text-decoration-color: #008080; font-weight: bold\">0.02941176</span> <span style=\"color: #008080; text-decoration-color: #008080; font-weight: bold\">0.70588235</span> <span style=\"color: #008080; text-decoration-color: #008080; font-weight: bold\">0</span>.\n",
       " <span style=\"color: #008080; text-decoration-color: #008080; font-weight: bold\">0</span>.         <span style=\"color: #008080; text-decoration-color: #008080; font-weight: bold\">0</span>.         <span style=\"color: #008080; text-decoration-color: #008080; font-weight: bold\">0</span>.         <span style=\"color: #008080; text-decoration-color: #008080; font-weight: bold\">0</span>.         <span style=\"color: #008080; text-decoration-color: #008080; font-weight: bold\">0</span>.         <span style=\"color: #008080; text-decoration-color: #008080; font-weight: bold\">0.11764706</span><span style=\"font-weight: bold\">]</span>\n",
       "</pre>\n"
      ],
      "text/plain": [
       "\u001b[1m[\u001b[0m\u001b[1;36m0.11764706\u001b[0m \u001b[1;36m0\u001b[0m.         \u001b[1;36m0.02941176\u001b[0m \u001b[1;36m0.02941176\u001b[0m \u001b[1;36m0.70588235\u001b[0m \u001b[1;36m0\u001b[0m.\n",
       " \u001b[1;36m0\u001b[0m.         \u001b[1;36m0\u001b[0m.         \u001b[1;36m0\u001b[0m.         \u001b[1;36m0\u001b[0m.         \u001b[1;36m0\u001b[0m.         \u001b[1;36m0.11764706\u001b[0m\u001b[1m]\u001b[0m\n"
      ]
     },
     "metadata": {},
     "output_type": "display_data"
    },
    {
     "data": {
      "text/html": [
       "<pre style=\"white-space:pre;overflow-x:auto;line-height:normal;font-family:Menlo,'DejaVu Sans Mono',consolas,'Courier New',monospace\"><span style=\"font-weight: bold\">[</span><span style=\"color: #008080; text-decoration-color: #008080; font-weight: bold\">0.11764706</span> <span style=\"color: #008080; text-decoration-color: #008080; font-weight: bold\">0.11764706</span> <span style=\"color: #008080; text-decoration-color: #008080; font-weight: bold\">0</span>.         <span style=\"color: #008080; text-decoration-color: #008080; font-weight: bold\">0.02941176</span> <span style=\"color: #008080; text-decoration-color: #008080; font-weight: bold\">0.02941176</span> <span style=\"color: #008080; text-decoration-color: #008080; font-weight: bold\">0.70588235</span>\n",
       " <span style=\"color: #008080; text-decoration-color: #008080; font-weight: bold\">0</span>.         <span style=\"color: #008080; text-decoration-color: #008080; font-weight: bold\">0</span>.         <span style=\"color: #008080; text-decoration-color: #008080; font-weight: bold\">0</span>.         <span style=\"color: #008080; text-decoration-color: #008080; font-weight: bold\">0</span>.         <span style=\"color: #008080; text-decoration-color: #008080; font-weight: bold\">0</span>.         <span style=\"color: #008080; text-decoration-color: #008080; font-weight: bold\">0</span>.        <span style=\"font-weight: bold\">]</span>\n",
       "</pre>\n"
      ],
      "text/plain": [
       "\u001b[1m[\u001b[0m\u001b[1;36m0.11764706\u001b[0m \u001b[1;36m0.11764706\u001b[0m \u001b[1;36m0\u001b[0m.         \u001b[1;36m0.02941176\u001b[0m \u001b[1;36m0.02941176\u001b[0m \u001b[1;36m0.70588235\u001b[0m\n",
       " \u001b[1;36m0\u001b[0m.         \u001b[1;36m0\u001b[0m.         \u001b[1;36m0\u001b[0m.         \u001b[1;36m0\u001b[0m.         \u001b[1;36m0\u001b[0m.         \u001b[1;36m0\u001b[0m.        \u001b[1m]\u001b[0m\n"
      ]
     },
     "metadata": {},
     "output_type": "display_data"
    },
    {
     "data": {
      "text/html": [
       "<pre style=\"white-space:pre;overflow-x:auto;line-height:normal;font-family:Menlo,'DejaVu Sans Mono',consolas,'Courier New',monospace\"><span style=\"font-weight: bold\">[</span><span style=\"color: #008080; text-decoration-color: #008080; font-weight: bold\">0</span>.         <span style=\"color: #008080; text-decoration-color: #008080; font-weight: bold\">0.11764706</span> <span style=\"color: #008080; text-decoration-color: #008080; font-weight: bold\">0.11764706</span> <span style=\"color: #008080; text-decoration-color: #008080; font-weight: bold\">0</span>.         <span style=\"color: #008080; text-decoration-color: #008080; font-weight: bold\">0.02941176</span> <span style=\"color: #008080; text-decoration-color: #008080; font-weight: bold\">0.02941176</span>\n",
       " <span style=\"color: #008080; text-decoration-color: #008080; font-weight: bold\">0.70588235</span> <span style=\"color: #008080; text-decoration-color: #008080; font-weight: bold\">0</span>.         <span style=\"color: #008080; text-decoration-color: #008080; font-weight: bold\">0</span>.         <span style=\"color: #008080; text-decoration-color: #008080; font-weight: bold\">0</span>.         <span style=\"color: #008080; text-decoration-color: #008080; font-weight: bold\">0</span>.         <span style=\"color: #008080; text-decoration-color: #008080; font-weight: bold\">0</span>.        <span style=\"font-weight: bold\">]</span>\n",
       "</pre>\n"
      ],
      "text/plain": [
       "\u001b[1m[\u001b[0m\u001b[1;36m0\u001b[0m.         \u001b[1;36m0.11764706\u001b[0m \u001b[1;36m0.11764706\u001b[0m \u001b[1;36m0\u001b[0m.         \u001b[1;36m0.02941176\u001b[0m \u001b[1;36m0.02941176\u001b[0m\n",
       " \u001b[1;36m0.70588235\u001b[0m \u001b[1;36m0\u001b[0m.         \u001b[1;36m0\u001b[0m.         \u001b[1;36m0\u001b[0m.         \u001b[1;36m0\u001b[0m.         \u001b[1;36m0\u001b[0m.        \u001b[1m]\u001b[0m\n"
      ]
     },
     "metadata": {},
     "output_type": "display_data"
    },
    {
     "data": {
      "text/html": [
       "<pre style=\"white-space:pre;overflow-x:auto;line-height:normal;font-family:Menlo,'DejaVu Sans Mono',consolas,'Courier New',monospace\"><span style=\"font-weight: bold\">[</span><span style=\"color: #008080; text-decoration-color: #008080; font-weight: bold\">0</span>.         <span style=\"color: #008080; text-decoration-color: #008080; font-weight: bold\">0</span>.         <span style=\"color: #008080; text-decoration-color: #008080; font-weight: bold\">0.11764706</span> <span style=\"color: #008080; text-decoration-color: #008080; font-weight: bold\">0.11764706</span> <span style=\"color: #008080; text-decoration-color: #008080; font-weight: bold\">0</span>.         <span style=\"color: #008080; text-decoration-color: #008080; font-weight: bold\">0.02941176</span>\n",
       " <span style=\"color: #008080; text-decoration-color: #008080; font-weight: bold\">0.02941176</span> <span style=\"color: #008080; text-decoration-color: #008080; font-weight: bold\">0.70588235</span> <span style=\"color: #008080; text-decoration-color: #008080; font-weight: bold\">0</span>.         <span style=\"color: #008080; text-decoration-color: #008080; font-weight: bold\">0</span>.         <span style=\"color: #008080; text-decoration-color: #008080; font-weight: bold\">0</span>.         <span style=\"color: #008080; text-decoration-color: #008080; font-weight: bold\">0</span>.        <span style=\"font-weight: bold\">]</span>\n",
       "</pre>\n"
      ],
      "text/plain": [
       "\u001b[1m[\u001b[0m\u001b[1;36m0\u001b[0m.         \u001b[1;36m0\u001b[0m.         \u001b[1;36m0.11764706\u001b[0m \u001b[1;36m0.11764706\u001b[0m \u001b[1;36m0\u001b[0m.         \u001b[1;36m0.02941176\u001b[0m\n",
       " \u001b[1;36m0.02941176\u001b[0m \u001b[1;36m0.70588235\u001b[0m \u001b[1;36m0\u001b[0m.         \u001b[1;36m0\u001b[0m.         \u001b[1;36m0\u001b[0m.         \u001b[1;36m0\u001b[0m.        \u001b[1m]\u001b[0m\n"
      ]
     },
     "metadata": {},
     "output_type": "display_data"
    },
    {
     "data": {
      "text/html": [
       "<pre style=\"white-space:pre;overflow-x:auto;line-height:normal;font-family:Menlo,'DejaVu Sans Mono',consolas,'Courier New',monospace\"><span style=\"font-weight: bold\">[</span><span style=\"color: #008080; text-decoration-color: #008080; font-weight: bold\">0</span>.         <span style=\"color: #008080; text-decoration-color: #008080; font-weight: bold\">0</span>.         <span style=\"color: #008080; text-decoration-color: #008080; font-weight: bold\">0</span>.         <span style=\"color: #008080; text-decoration-color: #008080; font-weight: bold\">0.11764706</span> <span style=\"color: #008080; text-decoration-color: #008080; font-weight: bold\">0.11764706</span> <span style=\"color: #008080; text-decoration-color: #008080; font-weight: bold\">0</span>.\n",
       " <span style=\"color: #008080; text-decoration-color: #008080; font-weight: bold\">0.02941176</span> <span style=\"color: #008080; text-decoration-color: #008080; font-weight: bold\">0.02941176</span> <span style=\"color: #008080; text-decoration-color: #008080; font-weight: bold\">0.70588235</span> <span style=\"color: #008080; text-decoration-color: #008080; font-weight: bold\">0</span>.         <span style=\"color: #008080; text-decoration-color: #008080; font-weight: bold\">0</span>.         <span style=\"color: #008080; text-decoration-color: #008080; font-weight: bold\">0</span>.        <span style=\"font-weight: bold\">]</span>\n",
       "</pre>\n"
      ],
      "text/plain": [
       "\u001b[1m[\u001b[0m\u001b[1;36m0\u001b[0m.         \u001b[1;36m0\u001b[0m.         \u001b[1;36m0\u001b[0m.         \u001b[1;36m0.11764706\u001b[0m \u001b[1;36m0.11764706\u001b[0m \u001b[1;36m0\u001b[0m.\n",
       " \u001b[1;36m0.02941176\u001b[0m \u001b[1;36m0.02941176\u001b[0m \u001b[1;36m0.70588235\u001b[0m \u001b[1;36m0\u001b[0m.         \u001b[1;36m0\u001b[0m.         \u001b[1;36m0\u001b[0m.        \u001b[1m]\u001b[0m\n"
      ]
     },
     "metadata": {},
     "output_type": "display_data"
    },
    {
     "data": {
      "text/html": [
       "<pre style=\"white-space:pre;overflow-x:auto;line-height:normal;font-family:Menlo,'DejaVu Sans Mono',consolas,'Courier New',monospace\"><span style=\"font-weight: bold\">[</span><span style=\"color: #008080; text-decoration-color: #008080; font-weight: bold\">0</span>.         <span style=\"color: #008080; text-decoration-color: #008080; font-weight: bold\">0</span>.         <span style=\"color: #008080; text-decoration-color: #008080; font-weight: bold\">0</span>.         <span style=\"color: #008080; text-decoration-color: #008080; font-weight: bold\">0</span>.         <span style=\"color: #008080; text-decoration-color: #008080; font-weight: bold\">0.11764706</span> <span style=\"color: #008080; text-decoration-color: #008080; font-weight: bold\">0.11764706</span>\n",
       " <span style=\"color: #008080; text-decoration-color: #008080; font-weight: bold\">0</span>.         <span style=\"color: #008080; text-decoration-color: #008080; font-weight: bold\">0.02941176</span> <span style=\"color: #008080; text-decoration-color: #008080; font-weight: bold\">0.02941176</span> <span style=\"color: #008080; text-decoration-color: #008080; font-weight: bold\">0.70588235</span> <span style=\"color: #008080; text-decoration-color: #008080; font-weight: bold\">0</span>.         <span style=\"color: #008080; text-decoration-color: #008080; font-weight: bold\">0</span>.        <span style=\"font-weight: bold\">]</span>\n",
       "</pre>\n"
      ],
      "text/plain": [
       "\u001b[1m[\u001b[0m\u001b[1;36m0\u001b[0m.         \u001b[1;36m0\u001b[0m.         \u001b[1;36m0\u001b[0m.         \u001b[1;36m0\u001b[0m.         \u001b[1;36m0.11764706\u001b[0m \u001b[1;36m0.11764706\u001b[0m\n",
       " \u001b[1;36m0\u001b[0m.         \u001b[1;36m0.02941176\u001b[0m \u001b[1;36m0.02941176\u001b[0m \u001b[1;36m0.70588235\u001b[0m \u001b[1;36m0\u001b[0m.         \u001b[1;36m0\u001b[0m.        \u001b[1m]\u001b[0m\n"
      ]
     },
     "metadata": {},
     "output_type": "display_data"
    }
   ],
   "source": [
    "data_dir = os.path.join(\"..\", \"inputs\", \"all-time\")\n",
    "num_semitones = 12\n",
    "\n",
    "for file in os.listdir(data_dir)[:1]:\n",
    "    midi = PrettyMIDI(os.path.join(data_dir, file))\n",
    "    pch = midi.get_pitch_class_histogram()\n",
    "    for offset in range(num_semitones):\n",
    "        # pch = [pch[-1]] + pch[:-1]\n",
    "        print(np.roll(pch, offset))"
   ]
  }
 ],
 "metadata": {
  "kernelspec": {
   "display_name": "full",
   "language": "python",
   "name": "python3"
  },
  "language_info": {
   "codemirror_mode": {
    "name": "ipython",
    "version": 3
   },
   "file_extension": ".py",
   "mimetype": "text/x-python",
   "name": "python",
   "nbconvert_exporter": "python",
   "pygments_lexer": "ipython3",
   "version": "3.11.5"
  }
 },
 "nbformat": 4,
 "nbformat_minor": 2
}
