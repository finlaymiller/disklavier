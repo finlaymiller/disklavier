{
 "cells": [
  {
   "cell_type": "code",
   "execution_count": 69,
   "metadata": {},
   "outputs": [],
   "source": [
    "import os\n",
    "from pathlib import Path\n",
    "import mido\n",
    "from mido import MidiFile, MidiTrack, MetaMessage, Message\n",
    "import numpy as np\n",
    "from pretty_midi import PrettyMIDI\n",
    "import random\n",
    "from matplotlib import pyplot as plt\n",
    "\n",
    "from rich import print\n",
    "from rich.layout import Layout"
   ]
  },
  {
   "cell_type": "code",
   "execution_count": 58,
   "metadata": {},
   "outputs": [],
   "source": [
    "def plot_images(\n",
    "    images,\n",
    "    titles,\n",
    "    shape = None,\n",
    "    main_title = None,\n",
    "    set_axis: str = \"off\",\n",
    ") -> None:\n",
    "    \"\"\"Plot images vertically\"\"\"\n",
    "    num_images = len(images)\n",
    "\n",
    "    if shape is None:\n",
    "        shape = [num_images, 1]\n",
    "\n",
    "    plt.style.use(\"dark_background\")\n",
    "    plt.figure(figsize=(12, 12))\n",
    "\n",
    "    if main_title:\n",
    "        plt.suptitle(main_title)\n",
    "    for num_plot in range(num_images):\n",
    "        plt.subplot(shape[0], shape[1], num_plot + 1)\n",
    "        plt.imshow(\n",
    "            np.squeeze(images[num_plot]),\n",
    "            aspect=\"auto\",\n",
    "            origin=\"lower\",\n",
    "            cmap=\"magma\",\n",
    "            interpolation=\"nearest\",\n",
    "        )\n",
    "        plt.title(titles[num_plot])\n",
    "        plt.axis(set_axis)\n",
    "    plt.show()"
   ]
  },
  {
   "cell_type": "code",
   "execution_count": 59,
   "metadata": {},
   "outputs": [],
   "source": [
    "def get_note_min_max(input_file_path):\n",
    "    mid = MidiFile(input_file_path)\n",
    "\n",
    "    lowest_note = 127\n",
    "    highest_note = 0\n",
    "\n",
    "    for track in mid.tracks:\n",
    "        for msg in track:\n",
    "            if not msg.is_meta and msg.type in ['note_on', 'note_off']:\n",
    "                # Update lowest and highest note if this is a note_on message\n",
    "                if msg.velocity > 0:  # Considering note_on messages only\n",
    "                    lowest_note = min(lowest_note, msg.note)\n",
    "                    highest_note = max(highest_note, msg.note)\n",
    "    \n",
    "    return lowest_note, highest_note"
   ]
  },
  {
   "cell_type": "code",
   "execution_count": 84,
   "metadata": {},
   "outputs": [],
   "source": [
    "def transpose_midi(input_file_path, output_file_path, semitones):\n",
    "    \"\"\"\n",
    "    Transposes all the notes in a MIDI file by a specified number of semitones.\n",
    "    \n",
    "    Args:\n",
    "    - input_file_path: Path to the input MIDI file.\n",
    "    - output_file_path: Path where the transposed MIDI file will be saved.\n",
    "    - semitones: Number of semitones to transpose the notes. Positive for up, negative for down.\n",
    "    \"\"\"\n",
    "    midi = PrettyMIDI(input_file_path)\n",
    "    print(f\"shifting notes by {semitones} semitones\")\n",
    "    for instrument in midi.instruments:\n",
    "        # Don't want to shift drum notes\n",
    "        if not instrument.is_drum:\n",
    "            for note in instrument.notes:\n",
    "                note.pitch += semitones\n",
    "    midi.write(output_file_path)"
   ]
  },
  {
   "cell_type": "code",
   "execution_count": 61,
   "metadata": {},
   "outputs": [],
   "source": [
    "def alternate_count(max_up, max_down, iter):\n",
    "    \"\"\"chatgpt\"\"\"\n",
    "    results = []\n",
    "    up = 1\n",
    "    down = -1\n",
    "    for i in range(iter):\n",
    "        if i % 2 == 0:\n",
    "            if up > max_up:  # If exceeding max_up, adjust by switching to down immediately\n",
    "                results.append(down)\n",
    "                down -= 1\n",
    "            else:\n",
    "                results.append(up)\n",
    "                up += 1\n",
    "        else:\n",
    "            if abs(down) > max_down:  # If exceeding max_down, adjust by switching to up immediately\n",
    "                results.append(up)\n",
    "                up += 1\n",
    "            else:\n",
    "                results.append(down)\n",
    "                down -= 1\n",
    "    return results"
   ]
  },
  {
   "cell_type": "code",
   "execution_count": 89,
   "metadata": {},
   "outputs": [],
   "source": [
    "def semitone_shift(filepath, output_dir, num_iterations: int = 1):\n",
    "    \"\"\"vertically shift a matrix\n",
    "    \"\"\"\n",
    "    lowest_note, highest_note = get_note_min_max(filepath)\n",
    "    max_up = 108 - highest_note # TODO double-check this\n",
    "    max_down = lowest_note\n",
    "\n",
    "    # zipper up & down\n",
    "    up = 1\n",
    "    down = -1\n",
    "    for i in range(num_iterations):\n",
    "        up_filename = f\"{Path(filepath).stem}_u{up:02d}.mid\"\n",
    "        down_filename = f\"{Path(filepath).stem}_d{abs(down):02d}.mid\"\n",
    "        \n",
    "        if i % 2 == 0:\n",
    "            if up > max_up:  # If exceeding max_up, adjust by switching to down immediately\n",
    "                transpose_midi(filepath, os.path.join(output_dir, down_filename), down)\n",
    "                down -= 1\n",
    "            else:\n",
    "                transpose_midi(filepath, os.path.join(output_dir, up_filename), up)\n",
    "                up += 1\n",
    "        else:\n",
    "            if abs(down) > max_down:  # If exceeding max_down, adjust by switching to up immediately\n",
    "                transpose_midi(filepath, os.path.join(output_dir, up_filename), up)\n",
    "                up += 1\n",
    "            else:\n",
    "                transpose_midi(filepath, os.path.join(output_dir, down_filename), down)\n",
    "                down -= 1"
   ]
  },
  {
   "cell_type": "code",
   "execution_count": 91,
   "metadata": {},
   "outputs": [
    {
     "data": {
      "text/html": [
       "<pre style=\"white-space:pre;overflow-x:auto;line-height:normal;font-family:Menlo,'DejaVu Sans Mono',consolas,'Courier New',monospace\">shifting notes by <span style=\"color: #008080; text-decoration-color: #008080; font-weight: bold\">1</span> semitones\n",
       "</pre>\n"
      ],
      "text/plain": [
       "shifting notes by \u001b[1;36m1\u001b[0m semitones\n"
      ]
     },
     "metadata": {},
     "output_type": "display_data"
    },
    {
     "data": {
      "text/html": [
       "<pre style=\"white-space:pre;overflow-x:auto;line-height:normal;font-family:Menlo,'DejaVu Sans Mono',consolas,'Courier New',monospace\">shifting notes by <span style=\"color: #008080; text-decoration-color: #008080; font-weight: bold\">-1</span> semitones\n",
       "</pre>\n"
      ],
      "text/plain": [
       "shifting notes by \u001b[1;36m-1\u001b[0m semitones\n"
      ]
     },
     "metadata": {},
     "output_type": "display_data"
    },
    {
     "data": {
      "text/html": [
       "<pre style=\"white-space:pre;overflow-x:auto;line-height:normal;font-family:Menlo,'DejaVu Sans Mono',consolas,'Courier New',monospace\">shifting notes by <span style=\"color: #008080; text-decoration-color: #008080; font-weight: bold\">2</span> semitones\n",
       "</pre>\n"
      ],
      "text/plain": [
       "shifting notes by \u001b[1;36m2\u001b[0m semitones\n"
      ]
     },
     "metadata": {},
     "output_type": "display_data"
    },
    {
     "data": {
      "text/html": [
       "<pre style=\"white-space:pre;overflow-x:auto;line-height:normal;font-family:Menlo,'DejaVu Sans Mono',consolas,'Courier New',monospace\">shifting notes by <span style=\"color: #008080; text-decoration-color: #008080; font-weight: bold\">-2</span> semitones\n",
       "</pre>\n"
      ],
      "text/plain": [
       "shifting notes by \u001b[1;36m-2\u001b[0m semitones\n"
      ]
     },
     "metadata": {},
     "output_type": "display_data"
    },
    {
     "data": {
      "text/html": [
       "<pre style=\"white-space:pre;overflow-x:auto;line-height:normal;font-family:Menlo,'DejaVu Sans Mono',consolas,'Courier New',monospace\">shifting notes by <span style=\"color: #008080; text-decoration-color: #008080; font-weight: bold\">3</span> semitones\n",
       "</pre>\n"
      ],
      "text/plain": [
       "shifting notes by \u001b[1;36m3\u001b[0m semitones\n"
      ]
     },
     "metadata": {},
     "output_type": "display_data"
    },
    {
     "data": {
      "text/html": [
       "<pre style=\"white-space:pre;overflow-x:auto;line-height:normal;font-family:Menlo,'DejaVu Sans Mono',consolas,'Courier New',monospace\">shifting notes by <span style=\"color: #008080; text-decoration-color: #008080; font-weight: bold\">-3</span> semitones\n",
       "</pre>\n"
      ],
      "text/plain": [
       "shifting notes by \u001b[1;36m-3\u001b[0m semitones\n"
      ]
     },
     "metadata": {},
     "output_type": "display_data"
    },
    {
     "data": {
      "text/html": [
       "<pre style=\"white-space:pre;overflow-x:auto;line-height:normal;font-family:Menlo,'DejaVu Sans Mono',consolas,'Courier New',monospace\">shifting notes by <span style=\"color: #008080; text-decoration-color: #008080; font-weight: bold\">4</span> semitones\n",
       "</pre>\n"
      ],
      "text/plain": [
       "shifting notes by \u001b[1;36m4\u001b[0m semitones\n"
      ]
     },
     "metadata": {},
     "output_type": "display_data"
    },
    {
     "data": {
      "text/html": [
       "<pre style=\"white-space:pre;overflow-x:auto;line-height:normal;font-family:Menlo,'DejaVu Sans Mono',consolas,'Courier New',monospace\">shifting notes by <span style=\"color: #008080; text-decoration-color: #008080; font-weight: bold\">-4</span> semitones\n",
       "</pre>\n"
      ],
      "text/plain": [
       "shifting notes by \u001b[1;36m-4\u001b[0m semitones\n"
      ]
     },
     "metadata": {},
     "output_type": "display_data"
    }
   ],
   "source": [
    "num_semitones = 8\n",
    "out_dir = \"tmp\"\n",
    "\n",
    "for file in os.listdir(out_dir):\n",
    "    os.remove(os.path.join(out_dir, file))\n",
    "\n",
    "semitone_shift(os.path.join(\"..\", \"inputs\", \"test datasets\", \"octaveC-70-01.mid\"), out_dir, num_semitones)"
   ]
  },
  {
   "cell_type": "code",
   "execution_count": 82,
   "metadata": {},
   "outputs": [
    {
     "data": {
      "image/png": "[encoded data removed]",
      "text/plain": [
       "<Figure size 1200x1200 with 8 Axes>"
      ]
     },
     "metadata": {},
     "output_type": "display_data"
    }
   ],
   "source": [
    "prs = []\n",
    "titles = []\n",
    "for file in os.listdir(out_dir):\n",
    "    file_path = os.path.join(out_dir, file)\n",
    "    prs.append(PrettyMIDI(file_path).get_piano_roll())\n",
    "    titles.append(file)\n",
    "plot_images(prs, titles, [3, 3], set_axis=\"on\")"
   ]
  },
  {
   "cell_type": "code",
   "execution_count": 21,
   "metadata": {},
   "outputs": [],
   "source": [
    "def shift_array(arr, up=0, down=0):\n",
    "    \"\"\"Shift array vertically within bounds\"\"\"\n",
    "    if up > 0:\n",
    "        arr = np.roll(arr, -up, axis=0)\n",
    "        arr[-up:] = 0\n",
    "    elif down > 0:\n",
    "        arr = np.roll(arr, down, axis=0)\n",
    "        arr[:down] = 0\n",
    "    return arr"
   ]
  },
  {
   "cell_type": "code",
   "execution_count": 22,
   "metadata": {},
   "outputs": [],
   "source": [
    "def vertical_shift(array, name: str, num_iterations: int = 1, do_shuffle: bool = False):\n",
    "    \"\"\"vertically shift a matrix\n",
    "    \"\"\"\n",
    "    shifted_matrices = []\n",
    "\n",
    "    rows_with_non_zero = np.where(array.any(axis=1))[0]\n",
    "    maximum_up = array.shape[0] - rows_with_non_zero[-1] - 1\n",
    "    maximum_down = rows_with_non_zero[0]\n",
    "\n",
    "    # zipper up & down\n",
    "    for i in range(1, num_iterations):\n",
    "        if i < maximum_up:\n",
    "            shifted_matrices.append((f\"{Path(name).stem}_u{i:02d}\", np.copy(shift_array(array, down=i))))\n",
    "        else:\n",
    "            shifted_matrices.append((f\"{Path(name).stem}_d{i:02d}\", np.copy(shift_array(array, up=i))))\n",
    "\n",
    "        if i < maximum_down:\n",
    "            shifted_matrices.append((f\"{Path(name).stem}_d{i:02d}\", np.copy(shift_array(array, up=i))))\n",
    "        else:\n",
    "            shifted_matrices.append((f\"{Path(name).stem}_u{i:02d}\", np.copy(shift_array(array, down=i))))\n",
    "\n",
    "    if do_shuffle:\n",
    "        random.shuffle(shifted_matrices)\n",
    "\n",
    "    return shifted_matrices[:num_iterations]"
   ]
  },
  {
   "cell_type": "code",
   "execution_count": null,
   "metadata": {},
   "outputs": [],
   "source": [
    "data_dir = os.path.join(\"..\", \"inputs\", \"test datasets\")\n",
    "file = os.path.join(data_dir, \"amfamf-70-03.mid\")\n",
    "num_semitones = 12\n",
    "\n",
    "titles, prs = zip(*vertical_shift(PrettyMIDI(file).get_piano_roll(), \"test\", num_semitones))\n",
    "plot_images(prs, titles, [4, 3], set_axis=\"on\")"
   ]
  },
  {
   "cell_type": "code",
   "execution_count": 78,
   "metadata": {},
   "outputs": [
    {
     "name": "stdout",
     "output_type": "stream",
     "text": [
      "=== Track 0\n",
      "MetaMessage('set_tempo', tempo=857143, time=0)\n",
      "MetaMessage('track_name', name='octaveC-70-01', time=0)\n",
      "MetaMessage('time_signature', numerator=4, denominator=4, clocks_per_click=36, notated_32nd_notes_per_beat=8, time=0)\n",
      "MetaMessage('time_signature', numerator=4, denominator=4, clocks_per_click=36, notated_32nd_notes_per_beat=8, time=0)\n",
      "Message('note_on', channel=0, note=72, velocity=60, time=0)\n",
      "Message('note_off', channel=0, note=72, velocity=58, time=96)\n",
      "Message('note_on', channel=0, note=84, velocity=78, time=0)\n",
      "Message('note_on', channel=0, note=72, velocity=66, time=96)\n",
      "Message('note_off', channel=0, note=84, velocity=58, time=0)\n",
      "Message('note_off', channel=0, note=72, velocity=58, time=96)\n",
      "Message('note_on', channel=0, note=84, velocity=81, time=0)\n",
      "Message('note_on', channel=0, note=72, velocity=60, time=96)\n",
      "Message('note_off', channel=0, note=84, velocity=61, time=0)\n",
      "Message('note_off', channel=0, note=72, velocity=58, time=96)\n",
      "Message('note_on', channel=0, note=84, velocity=78, time=0)\n",
      "Message('note_on', channel=0, note=72, velocity=66, time=96)\n",
      "Message('note_off', channel=0, note=84, velocity=58, time=0)\n",
      "Message('note_off', channel=0, note=72, velocity=58, time=96)\n",
      "Message('note_on', channel=0, note=84, velocity=81, time=0)\n",
      "Message('note_on', channel=0, note=72, velocity=60, time=96)\n",
      "Message('note_off', channel=0, note=84, velocity=61, time=0)\n",
      "Message('note_off', channel=0, note=72, velocity=58, time=96)\n",
      "Message('note_on', channel=0, note=84, velocity=78, time=0)\n",
      "Message('note_on', channel=0, note=72, velocity=66, time=96)\n",
      "Message('note_off', channel=0, note=84, velocity=58, time=0)\n",
      "Message('note_off', channel=0, note=72, velocity=58, time=96)\n",
      "Message('note_on', channel=0, note=84, velocity=81, time=0)\n",
      "Message('note_on', channel=0, note=72, velocity=60, time=96)\n",
      "Message('note_off', channel=0, note=84, velocity=61, time=0)\n",
      "Message('note_off', channel=0, note=72, velocity=58, time=96)\n",
      "Message('note_on', channel=0, note=84, velocity=78, time=0)\n",
      "Message('note_on', channel=0, note=72, velocity=66, time=96)\n",
      "Message('note_off', channel=0, note=84, velocity=58, time=0)\n",
      "Message('note_off', channel=0, note=72, velocity=58, time=96)\n",
      "Message('note_on', channel=0, note=84, velocity=81, time=0)\n",
      "Message('note_off', channel=0, note=84, velocity=61, time=96)\n",
      "MetaMessage('end_of_track', time=0)\n",
      "=== Track 0\n",
      "MetaMessage('set_tempo', tempo=857143, time=0)\n",
      "MetaMessage('track_name', name='octaveC-70-01', time=0)\n",
      "MetaMessage('time_signature', numerator=4, denominator=4, clocks_per_click=36, notated_32nd_notes_per_beat=8, time=0)\n",
      "MetaMessage('time_signature', numerator=4, denominator=4, clocks_per_click=36, notated_32nd_notes_per_beat=8, time=0)\n",
      "Message('note_on', channel=0, note=60, velocity=60, time=0)\n",
      "Message('note_off', channel=0, note=60, velocity=58, time=96)\n",
      "Message('note_on', channel=0, note=72, velocity=78, time=0)\n",
      "Message('note_on', channel=0, note=60, velocity=66, time=96)\n",
      "Message('note_off', channel=0, note=72, velocity=58, time=0)\n",
      "Message('note_off', channel=0, note=60, velocity=58, time=96)\n",
      "Message('note_on', channel=0, note=72, velocity=81, time=0)\n",
      "Message('note_on', channel=0, note=60, velocity=60, time=96)\n",
      "Message('note_off', channel=0, note=72, velocity=61, time=0)\n",
      "Message('note_off', channel=0, note=60, velocity=58, time=96)\n",
      "Message('note_on', channel=0, note=72, velocity=78, time=0)\n",
      "Message('note_on', channel=0, note=60, velocity=66, time=96)\n",
      "Message('note_off', channel=0, note=72, velocity=58, time=0)\n",
      "Message('note_off', channel=0, note=60, velocity=58, time=96)\n",
      "Message('note_on', channel=0, note=72, velocity=81, time=0)\n",
      "Message('note_on', channel=0, note=60, velocity=60, time=96)\n",
      "Message('note_off', channel=0, note=72, velocity=61, time=0)\n",
      "Message('note_off', channel=0, note=60, velocity=58, time=96)\n",
      "Message('note_on', channel=0, note=72, velocity=78, time=0)\n",
      "Message('note_on', channel=0, note=60, velocity=66, time=96)\n",
      "Message('note_off', channel=0, note=72, velocity=58, time=0)\n",
      "Message('note_off', channel=0, note=60, velocity=58, time=96)\n",
      "Message('note_on', channel=0, note=72, velocity=81, time=0)\n",
      "Message('note_on', channel=0, note=60, velocity=60, time=96)\n",
      "Message('note_off', channel=0, note=72, velocity=61, time=0)\n",
      "Message('note_off', channel=0, note=60, velocity=58, time=96)\n",
      "Message('note_on', channel=0, note=72, velocity=78, time=0)\n",
      "Message('note_on', channel=0, note=60, velocity=66, time=96)\n",
      "Message('note_off', channel=0, note=72, velocity=58, time=0)\n",
      "Message('note_off', channel=0, note=60, velocity=58, time=96)\n",
      "Message('note_on', channel=0, note=72, velocity=81, time=0)\n",
      "Message('note_off', channel=0, note=72, velocity=61, time=96)\n",
      "MetaMessage('end_of_track', time=0)\n"
     ]
    },
    {
     "data": {
      "text/html": [
       "<pre style=\"white-space:pre;overflow-x:auto;line-height:normal;font-family:Menlo,'DejaVu Sans Mono',consolas,'Courier New',monospace\">starting\n",
       "</pre>\n"
      ],
      "text/plain": [
       "starting\n"
      ]
     },
     "metadata": {},
     "output_type": "display_data"
    },
    {
     "data": {
      "text/html": [
       "<pre style=\"white-space:pre;overflow-x:auto;line-height:normal;font-family:Menlo,'DejaVu Sans Mono',consolas,'Courier New',monospace\">done\n",
       "</pre>\n"
      ],
      "text/plain": [
       "done\n"
      ]
     },
     "metadata": {},
     "output_type": "display_data"
    },
    {
     "data": {
      "text/html": [
       "<pre style=\"white-space:pre;overflow-x:auto;line-height:normal;font-family:Menlo,'DejaVu Sans Mono',consolas,'Courier New',monospace\">starting\n",
       "</pre>\n"
      ],
      "text/plain": [
       "starting\n"
      ]
     },
     "metadata": {},
     "output_type": "display_data"
    },
    {
     "data": {
      "text/html": [
       "<pre style=\"white-space:pre;overflow-x:auto;line-height:normal;font-family:Menlo,'DejaVu Sans Mono',consolas,'Courier New',monospace\">done\n",
       "</pre>\n"
      ],
      "text/plain": [
       "done\n"
      ]
     },
     "metadata": {},
     "output_type": "display_data"
    }
   ],
   "source": [
    "out_port = \"to Max 1\"\n",
    "messages = [\n",
    "    MetaMessage('set_tempo', tempo=mido.bpm2tempo(70), time=0),\n",
    "    MetaMessage('track_name', name='octaveC-70-01', time=0),\n",
    "    MetaMessage('time_signature', numerator=4, denominator=4, clocks_per_click=36, notated_32nd_notes_per_beat=8, time=0),\n",
    "    MetaMessage('time_signature', numerator=4, denominator=4, clocks_per_click=36, notated_32nd_notes_per_beat=8, time=0),\n",
    "    Message('note_on', channel=0, note=60, velocity=60, time=0),\n",
    "    Message('note_off', channel=0, note=60, velocity=58, time=96),\n",
    "    Message('note_on', channel=0, note=72, velocity=78, time=0),\n",
    "    Message('note_on', channel=0, note=60, velocity=66, time=96),\n",
    "    Message('note_off', channel=0, note=72, velocity=58, time=0),\n",
    "    Message('note_off', channel=0, note=60, velocity=58, time=96),\n",
    "    Message('note_on', channel=0, note=72, velocity=81, time=0),\n",
    "    Message('note_on', channel=0, note=60, velocity=60, time=96),\n",
    "    Message('note_off', channel=0, note=72, velocity=61, time=0),\n",
    "    Message('note_off', channel=0, note=60, velocity=58, time=96),\n",
    "    Message('note_on', channel=0, note=72, velocity=78, time=0),\n",
    "    Message('note_on', channel=0, note=60, velocity=66, time=96),\n",
    "    Message('note_off', channel=0, note=72, velocity=58, time=0),\n",
    "    Message('note_off', channel=0, note=60, velocity=58, time=96),\n",
    "    Message('note_on', channel=0, note=72, velocity=81, time=0),\n",
    "    Message('note_on', channel=0, note=60, velocity=60, time=96),\n",
    "    Message('note_off', channel=0, note=72, velocity=61, time=0),\n",
    "    Message('note_off', channel=0, note=60, velocity=58, time=96),\n",
    "    Message('note_on', channel=0, note=72, velocity=78, time=0),\n",
    "    Message('note_on', channel=0, note=60, velocity=66, time=96),\n",
    "    Message('note_off', channel=0, note=72, velocity=58, time=0),\n",
    "    Message('note_off', channel=0, note=60, velocity=58, time=96),\n",
    "    Message('note_on', channel=0, note=72, velocity=81, time=0),\n",
    "    Message('note_on', channel=0, note=60, velocity=60, time=96),\n",
    "    Message('note_off', channel=0, note=72, velocity=61, time=0),\n",
    "    Message('note_off', channel=0, note=60, velocity=58, time=96),\n",
    "    Message('note_on', channel=0, note=72, velocity=78, time=0),\n",
    "    Message('note_on', channel=0, note=60, velocity=66, time=96),\n",
    "    Message('note_off', channel=0, note=72, velocity=58, time=0),\n",
    "    Message('note_off', channel=0, note=60, velocity=58, time=96),\n",
    "    Message('note_on', channel=0, note=72, velocity=81, time=0),\n",
    "    Message('note_off', channel=0, note=72, velocity=61, time=96),\n",
    "    MetaMessage('end_of_track', time=0)\n",
    "]\n",
    "\n",
    "og_mid = MidiFile()\n",
    "sh_mid = MidiFile()\n",
    "og_track = MidiTrack()\n",
    "sh_track = MidiTrack()\n",
    "og_mid.tracks.append(og_track)\n",
    "sh_mid.tracks.append(sh_track)\n",
    "\n",
    "for message in messages:\n",
    "    og_track.append(message)\n",
    "\n",
    "    if message.is_meta:\n",
    "        sh_track.append(message)\n",
    "    else:\n",
    "        sh_msg = Message(type=message.type, \n",
    "                         note=message.note + 12, \n",
    "                         velocity=message.velocity, \n",
    "                         channel=message.channel,\n",
    "                         time=message.time)\n",
    "        sh_msg.note = message.note + 12\n",
    "        sh_track.append(sh_msg)\n",
    "sh_mid.print_tracks()\n",
    "og_mid.print_tracks()\n",
    "og_mid.save('og_mido.mid')\n",
    "sh_mid.save('sh_mido.mid')\n",
    "\n",
    "with mido.open_output(out_port) as outport: # type: ignore\n",
    "    print('starting')\n",
    "    for msg in og_mid.play():\n",
    "        outport.send(msg)\n",
    "\n",
    "    print('done')\n",
    "    print('starting')\n",
    "    for msg in sh_mid.play():\n",
    "        outport.send(msg)\n",
    "    print('done')"
   ]
  }
 ],
 "metadata": {
  "kernelspec": {
   "display_name": "full",
   "language": "python",
   "name": "python3"
  },
  "language_info": {
   "codemirror_mode": {
    "name": "ipython",
    "version": 3
   },
   "file_extension": ".py",
   "mimetype": "text/x-python",
   "name": "python",
   "nbconvert_exporter": "python",
   "pygments_lexer": "ipython3",
   "version": "3.12.2"
  }
 },
 "nbformat": 4,
 "nbformat_minor": 2
}
