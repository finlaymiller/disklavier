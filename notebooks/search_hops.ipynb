{
 "cells": [
  {
   "cell_type": "code",
   "execution_count": 1,
   "metadata": {},
   "outputs": [],
   "source": [
    "import os\n",
    "import h5py\n",
    "import faiss\n",
    "import numpy as np\n",
    "import pandas as pd\n",
    "import networkx as nx\n",
    "import matplotlib.pyplot as plt"
   ]
  },
  {
   "cell_type": "code",
   "execution_count": 2,
   "metadata": {},
   "outputs": [],
   "source": [
    "seed = 0\n",
    "path = \"../data/tables/20250110/specdiff.h5\"\n",
    "rng = np.random.default_rng(seed)"
   ]
  },
  {
   "cell_type": "code",
   "execution_count": 3,
   "metadata": {},
   "outputs": [
    {
     "name": "stdout",
     "output_type": "stream",
     "text": [
      "                                                                         embeddings  \\\n",
      "20231220-080-01_0000-0005_t00s00  [-0.053769037, -0.13694727, 0.061716847, 0.084...   \n",
      "20231220-080-01_0005-0011_t00s00  [-0.057366654, -0.12334323, 0.057373736, 0.101...   \n",
      "20231220-080-01_0011-0017_t00s00  [-0.055338886, -0.14652249, 0.06530251, 0.0786...   \n",
      "20231220-080-01_0017-0023_t00s00  [-0.045787167, -0.11423969, 0.087408744, 0.082...   \n",
      "20231220-080-01_0023-0029_t00s00  [-0.054149292, -0.11939049, 0.07611654, 0.0770...   \n",
      "\n",
      "                                                                  normed_embeddings  \n",
      "20231220-080-01_0000-0005_t00s00  [-0.019927025, -0.05075322, 0.022872515, 0.031...  \n",
      "20231220-080-01_0005-0011_t00s00  [-0.02097576, -0.045099683, 0.020978348, 0.037...  \n",
      "20231220-080-01_0011-0017_t00s00  [-0.020351348, -0.0538849, 0.024015559, 0.0289...  \n",
      "20231220-080-01_0017-0023_t00s00  [-0.016738767, -0.041763484, 0.031954687, 0.03...  \n",
      "20231220-080-01_0023-0029_t00s00  [-0.019924775, -0.043930925, 0.028007843, 0.02...  \n"
     ]
    }
   ],
   "source": [
    "pf_emb_table = os.path.join(path)\n",
    "if os.path.isfile(pf_emb_table):\n",
    "    with h5py.File(pf_emb_table, \"r\") as f:\n",
    "        emb_table = pd.DataFrame(\n",
    "            list([e] for e in f[\"embeddings\"]),\n",
    "            index=[str(name[0], \"utf-8\") for name in f[\"filenames\"]],\n",
    "            columns=[\"embeddings\"],\n",
    "        )\n",
    "emb_table[\"normed_embeddings\"] = emb_table[\"embeddings\"].apply(\n",
    "    lambda x: x / np.linalg.norm(x)\n",
    ")\n",
    "print(emb_table.head())"
   ]
  },
  {
   "cell_type": "code",
   "execution_count": 4,
   "metadata": {},
   "outputs": [],
   "source": [
    "faiss_index = faiss.IndexFlatIP(768)\n",
    "faiss_index.add(\n",
    "    np.array(emb_table[\"embeddings\"].to_list(), dtype=np.float32)\n",
    ")  # type: ignore"
   ]
  },
  {
   "cell_type": "code",
   "execution_count": 5,
   "metadata": {},
   "outputs": [
    {
     "data": {
      "text/plain": [
       "{'20231220-080-01_0011-0017_t00s00': 7.305689811706543,\n",
       " '20231220-080-01_0005-0011_t00s00': 7.293644428253174,\n",
       " '20231220-080-01_0000-0005_t00s00': 7.280808448791504,\n",
       " '20231220-080-01_0017-0023_t00s00': 7.277745246887207,\n",
       " '20231220-080-01_0023-0029_t00s00': 7.27194881439209,\n",
       " '20231220-080-01_0065-0071_t00s00': 6.739600658416748,\n",
       " '20231228-072-01_0059-0066_t00s00': 6.636743068695068,\n",
       " '20231220-080-01_0071-0077_t00s00': 6.39804744720459,\n",
       " '20231220-080-01_0029-0035_t00s00': 6.31468391418457,\n",
       " '20240511-088-01_0229-0234_t00s00': 6.280410289764404}"
      ]
     },
     "execution_count": 5,
     "metadata": {},
     "output_type": "execute_result"
    }
   ],
   "source": [
    "q_embedding = np.array(\n",
    "    [emb_table.loc[\"20231220-080-01_0000-0005_t00s00\", \"embeddings\"]],\n",
    "    dtype=np.float32,\n",
    ")\n",
    "\n",
    "# print(f\"{self.tag} querying with key '{q_key}'\")\n",
    "similarities, indices = faiss_index.search(q_embedding, 10)\n",
    "indices, similarities = zip(\n",
    "    *[\n",
    "        (i, s)\n",
    "        for i, s in zip(indices[0], similarities[0])\n",
    "        if str(emb_table.index[i]).endswith(\"s00\")\n",
    "    ]\n",
    ")\n",
    "nearest_neighbors = {}\n",
    "for i, s in zip(indices, similarities):\n",
    "    nearest_neighbors[str(emb_table.index[i])] = float(s)\n",
    "nearest_neighbors"
   ]
  },
  {
   "cell_type": "code",
   "execution_count": null,
   "metadata": {},
   "outputs": [
    {
     "name": "stdout",
     "output_type": "stream",
     "text": [
      "nearest segments from different tracks are:\n",
      "['20231228-072-01_0059-0066_t00s00', '20240511-088-01_0229-0234_t00s00', '20240305-050-03_0000-0009_t00s00', '20240511-088-01_0283-0289_t00s00', '20240511-088-01_0218-0223_t00s00', '20240511-088-01_0212-0218_t00s00', '20240511-088-03_0158-0163_t00s00', '20240511-088-01_0147-0152_t00s00', '20240511-088-01_0207-0212_t00s00', '20240117-064-05_0000-0007_t00s00']\n"
     ]
    },
    {
     "data": {
      "image/png": "[encoded data removed]",
      "text/plain": [
       "<Figure size 640x480 with 1 Axes>"
      ]
     },
     "metadata": {},
     "output_type": "display_data"
    },
    {
     "ename": "ValueError",
     "evalue": "Contradictory paths found: negative weights?",
     "output_type": "error",
     "traceback": [
      "\u001b[0;31m---------------------------------------------------------------------------\u001b[0m",
      "\u001b[0;31mValueError\u001b[0m                                Traceback (most recent call last)",
      "Cell \u001b[0;32mIn[6], line 67\u001b[0m\n\u001b[1;32m     63\u001b[0m     \u001b[38;5;28;01mreturn\u001b[39;00m paths_and_costs\n\u001b[1;32m     66\u001b[0m \u001b[38;5;66;03m# example usage (requires actual data):\u001b[39;00m\n\u001b[0;32m---> 67\u001b[0m paths \u001b[38;5;241m=\u001b[39m \u001b[43mfind_cheapest_paths\u001b[49m\u001b[43m(\u001b[49m\u001b[38;5;124;43m\"\u001b[39;49m\u001b[38;5;124;43m20231220-080-01_0000-0005_t00s00\u001b[39;49m\u001b[38;5;124;43m\"\u001b[39;49m\u001b[43m,\u001b[49m\u001b[43m \u001b[49m\u001b[43memb_table\u001b[49m\u001b[43m,\u001b[49m\u001b[43m \u001b[49m\u001b[43mfaiss_index\u001b[49m\u001b[43m)\u001b[49m\n\u001b[1;32m     68\u001b[0m \u001b[38;5;28mprint\u001b[39m(paths)\n",
      "Cell \u001b[0;32mIn[6], line 55\u001b[0m, in \u001b[0;36mfind_cheapest_paths\u001b[0;34m(input_file, dataframe, faiss_index)\u001b[0m\n\u001b[1;32m     53\u001b[0m paths_and_costs \u001b[38;5;241m=\u001b[39m {}\n\u001b[1;32m     54\u001b[0m \u001b[38;5;28;01mfor\u001b[39;00m neighbor \u001b[38;5;129;01min\u001b[39;00m nearest_files:\n\u001b[0;32m---> 55\u001b[0m     path \u001b[38;5;241m=\u001b[39m \u001b[43mnx\u001b[49m\u001b[38;5;241;43m.\u001b[39;49m\u001b[43mshortest_path\u001b[49m\u001b[43m(\u001b[49m\n\u001b[1;32m     56\u001b[0m \u001b[43m        \u001b[49m\u001b[43mgraph\u001b[49m\u001b[43m,\u001b[49m\u001b[43m \u001b[49m\u001b[43msource\u001b[49m\u001b[38;5;241;43m=\u001b[39;49m\u001b[43minput_file\u001b[49m\u001b[43m,\u001b[49m\u001b[43m \u001b[49m\u001b[43mtarget\u001b[49m\u001b[38;5;241;43m=\u001b[39;49m\u001b[43mneighbor\u001b[49m\u001b[43m,\u001b[49m\u001b[43m \u001b[49m\u001b[43mweight\u001b[49m\u001b[38;5;241;43m=\u001b[39;49m\u001b[38;5;124;43m\"\u001b[39;49m\u001b[38;5;124;43mweight\u001b[39;49m\u001b[38;5;124;43m\"\u001b[39;49m\n\u001b[1;32m     57\u001b[0m \u001b[43m    \u001b[49m\u001b[43m)\u001b[49m\n\u001b[1;32m     58\u001b[0m     cost \u001b[38;5;241m=\u001b[39m nx\u001b[38;5;241m.\u001b[39mshortest_path_length(\n\u001b[1;32m     59\u001b[0m         graph, source\u001b[38;5;241m=\u001b[39minput_file, target\u001b[38;5;241m=\u001b[39mneighbor, weight\u001b[38;5;241m=\u001b[39m\u001b[38;5;124m\"\u001b[39m\u001b[38;5;124mweight\u001b[39m\u001b[38;5;124m\"\u001b[39m\n\u001b[1;32m     60\u001b[0m     )\n\u001b[1;32m     61\u001b[0m     paths_and_costs[neighbor] \u001b[38;5;241m=\u001b[39m {\u001b[38;5;124m\"\u001b[39m\u001b[38;5;124mpath\u001b[39m\u001b[38;5;124m\"\u001b[39m: path, \u001b[38;5;124m\"\u001b[39m\u001b[38;5;124mcost\u001b[39m\u001b[38;5;124m\"\u001b[39m: cost}\n",
      "File \u001b[0;32m~/Documents/Programming/disklavier/.venv/lib/python3.12/site-packages/networkx/utils/decorators.py:789\u001b[0m, in \u001b[0;36margmap.__call__.<locals>.func\u001b[0;34m(_argmap__wrapper, *args, **kwargs)\u001b[0m\n\u001b[1;32m    788\u001b[0m \u001b[38;5;28;01mdef\u001b[39;00m \u001b[38;5;21mfunc\u001b[39m(\u001b[38;5;241m*\u001b[39margs, __wrapper\u001b[38;5;241m=\u001b[39m\u001b[38;5;28;01mNone\u001b[39;00m, \u001b[38;5;241m*\u001b[39m\u001b[38;5;241m*\u001b[39mkwargs):\n\u001b[0;32m--> 789\u001b[0m     \u001b[38;5;28;01mreturn\u001b[39;00m \u001b[43margmap\u001b[49m\u001b[38;5;241;43m.\u001b[39;49m\u001b[43m_lazy_compile\u001b[49m\u001b[43m(\u001b[49m\u001b[43m__wrapper\u001b[49m\u001b[43m)\u001b[49m\u001b[43m(\u001b[49m\u001b[38;5;241;43m*\u001b[39;49m\u001b[43margs\u001b[49m\u001b[43m,\u001b[49m\u001b[43m \u001b[49m\u001b[38;5;241;43m*\u001b[39;49m\u001b[38;5;241;43m*\u001b[39;49m\u001b[43mkwargs\u001b[49m\u001b[43m)\u001b[49m\n",
      "File \u001b[0;32m<class 'networkx.utils.decorators.argmap'> compilation 16:3\u001b[0m, in \u001b[0;36margmap_shortest_path_13\u001b[0;34m(G, source, target, weight, method, backend, **backend_kwargs)\u001b[0m\n\u001b[1;32m      1\u001b[0m \u001b[38;5;28;01mimport\u001b[39;00m \u001b[38;5;21;01mbz2\u001b[39;00m\n\u001b[1;32m      2\u001b[0m \u001b[38;5;28;01mimport\u001b[39;00m \u001b[38;5;21;01mcollections\u001b[39;00m\n\u001b[0;32m----> 3\u001b[0m \u001b[38;5;28;01mimport\u001b[39;00m \u001b[38;5;21;01mgzip\u001b[39;00m\n\u001b[1;32m      4\u001b[0m \u001b[38;5;28;01mimport\u001b[39;00m \u001b[38;5;21;01minspect\u001b[39;00m\n\u001b[1;32m      5\u001b[0m \u001b[38;5;28;01mimport\u001b[39;00m \u001b[38;5;21;01mitertools\u001b[39;00m\n",
      "File \u001b[0;32m~/Documents/Programming/disklavier/.venv/lib/python3.12/site-packages/networkx/utils/backends.py:633\u001b[0m, in \u001b[0;36m_dispatchable.__call__\u001b[0;34m(self, backend, *args, **kwargs)\u001b[0m\n\u001b[1;32m    628\u001b[0m \u001b[38;5;250m\u001b[39m\u001b[38;5;124;03m\"\"\"Returns the result of the original function, or the backend function if\u001b[39;00m\n\u001b[1;32m    629\u001b[0m \u001b[38;5;124;03mthe backend is specified and that backend implements `func`.\"\"\"\u001b[39;00m\n\u001b[1;32m    631\u001b[0m \u001b[38;5;28;01mif\u001b[39;00m \u001b[38;5;129;01mnot\u001b[39;00m backends:\n\u001b[1;32m    632\u001b[0m     \u001b[38;5;66;03m# Fast path if no backends are installed\u001b[39;00m\n\u001b[0;32m--> 633\u001b[0m     \u001b[38;5;28;01mreturn\u001b[39;00m \u001b[38;5;28;43mself\u001b[39;49m\u001b[38;5;241;43m.\u001b[39;49m\u001b[43morig_func\u001b[49m\u001b[43m(\u001b[49m\u001b[38;5;241;43m*\u001b[39;49m\u001b[43margs\u001b[49m\u001b[43m,\u001b[49m\u001b[43m \u001b[49m\u001b[38;5;241;43m*\u001b[39;49m\u001b[38;5;241;43m*\u001b[39;49m\u001b[43mkwargs\u001b[49m\u001b[43m)\u001b[49m\n\u001b[1;32m    635\u001b[0m \u001b[38;5;66;03m# Use `backend_name` in this function instead of `backend`\u001b[39;00m\n\u001b[1;32m    636\u001b[0m backend_name \u001b[38;5;241m=\u001b[39m backend\n",
      "File \u001b[0;32m~/Documents/Programming/disklavier/.venv/lib/python3.12/site-packages/networkx/algorithms/shortest_paths/generic.py:184\u001b[0m, in \u001b[0;36mshortest_path\u001b[0;34m(G, source, target, weight, method)\u001b[0m\n\u001b[1;32m    182\u001b[0m     paths \u001b[38;5;241m=\u001b[39m nx\u001b[38;5;241m.\u001b[39mbidirectional_shortest_path(G, source, target)\n\u001b[1;32m    183\u001b[0m \u001b[38;5;28;01melif\u001b[39;00m method \u001b[38;5;241m==\u001b[39m \u001b[38;5;124m\"\u001b[39m\u001b[38;5;124mdijkstra\u001b[39m\u001b[38;5;124m\"\u001b[39m:\n\u001b[0;32m--> 184\u001b[0m     _, paths \u001b[38;5;241m=\u001b[39m \u001b[43mnx\u001b[49m\u001b[38;5;241;43m.\u001b[39;49m\u001b[43mbidirectional_dijkstra\u001b[49m\u001b[43m(\u001b[49m\u001b[43mG\u001b[49m\u001b[43m,\u001b[49m\u001b[43m \u001b[49m\u001b[43msource\u001b[49m\u001b[43m,\u001b[49m\u001b[43m \u001b[49m\u001b[43mtarget\u001b[49m\u001b[43m,\u001b[49m\u001b[43m \u001b[49m\u001b[43mweight\u001b[49m\u001b[43m)\u001b[49m\n\u001b[1;32m    185\u001b[0m \u001b[38;5;28;01melse\u001b[39;00m:  \u001b[38;5;66;03m# method == 'bellman-ford':\u001b[39;00m\n\u001b[1;32m    186\u001b[0m     paths \u001b[38;5;241m=\u001b[39m nx\u001b[38;5;241m.\u001b[39mbellman_ford_path(G, source, target, weight)\n",
      "File \u001b[0;32m~/Documents/Programming/disklavier/.venv/lib/python3.12/site-packages/networkx/utils/decorators.py:789\u001b[0m, in \u001b[0;36margmap.__call__.<locals>.func\u001b[0;34m(_argmap__wrapper, *args, **kwargs)\u001b[0m\n\u001b[1;32m    788\u001b[0m \u001b[38;5;28;01mdef\u001b[39;00m \u001b[38;5;21mfunc\u001b[39m(\u001b[38;5;241m*\u001b[39margs, __wrapper\u001b[38;5;241m=\u001b[39m\u001b[38;5;28;01mNone\u001b[39;00m, \u001b[38;5;241m*\u001b[39m\u001b[38;5;241m*\u001b[39mkwargs):\n\u001b[0;32m--> 789\u001b[0m     \u001b[38;5;28;01mreturn\u001b[39;00m \u001b[43margmap\u001b[49m\u001b[38;5;241;43m.\u001b[39;49m\u001b[43m_lazy_compile\u001b[49m\u001b[43m(\u001b[49m\u001b[43m__wrapper\u001b[49m\u001b[43m)\u001b[49m\u001b[43m(\u001b[49m\u001b[38;5;241;43m*\u001b[39;49m\u001b[43margs\u001b[49m\u001b[43m,\u001b[49m\u001b[43m \u001b[49m\u001b[38;5;241;43m*\u001b[39;49m\u001b[38;5;241;43m*\u001b[39;49m\u001b[43mkwargs\u001b[49m\u001b[43m)\u001b[49m\n",
      "File \u001b[0;32m<class 'networkx.utils.decorators.argmap'> compilation 20:3\u001b[0m, in \u001b[0;36margmap_bidirectional_dijkstra_17\u001b[0;34m(G, source, target, weight, backend, **backend_kwargs)\u001b[0m\n\u001b[1;32m      1\u001b[0m \u001b[38;5;28;01mimport\u001b[39;00m \u001b[38;5;21;01mbz2\u001b[39;00m\n\u001b[1;32m      2\u001b[0m \u001b[38;5;28;01mimport\u001b[39;00m \u001b[38;5;21;01mcollections\u001b[39;00m\n\u001b[0;32m----> 3\u001b[0m \u001b[38;5;28;01mimport\u001b[39;00m \u001b[38;5;21;01mgzip\u001b[39;00m\n\u001b[1;32m      4\u001b[0m \u001b[38;5;28;01mimport\u001b[39;00m \u001b[38;5;21;01minspect\u001b[39;00m\n\u001b[1;32m      5\u001b[0m \u001b[38;5;28;01mimport\u001b[39;00m \u001b[38;5;21;01mitertools\u001b[39;00m\n",
      "File \u001b[0;32m~/Documents/Programming/disklavier/.venv/lib/python3.12/site-packages/networkx/utils/backends.py:633\u001b[0m, in \u001b[0;36m_dispatchable.__call__\u001b[0;34m(self, backend, *args, **kwargs)\u001b[0m\n\u001b[1;32m    628\u001b[0m \u001b[38;5;250m\u001b[39m\u001b[38;5;124;03m\"\"\"Returns the result of the original function, or the backend function if\u001b[39;00m\n\u001b[1;32m    629\u001b[0m \u001b[38;5;124;03mthe backend is specified and that backend implements `func`.\"\"\"\u001b[39;00m\n\u001b[1;32m    631\u001b[0m \u001b[38;5;28;01mif\u001b[39;00m \u001b[38;5;129;01mnot\u001b[39;00m backends:\n\u001b[1;32m    632\u001b[0m     \u001b[38;5;66;03m# Fast path if no backends are installed\u001b[39;00m\n\u001b[0;32m--> 633\u001b[0m     \u001b[38;5;28;01mreturn\u001b[39;00m \u001b[38;5;28;43mself\u001b[39;49m\u001b[38;5;241;43m.\u001b[39;49m\u001b[43morig_func\u001b[49m\u001b[43m(\u001b[49m\u001b[38;5;241;43m*\u001b[39;49m\u001b[43margs\u001b[49m\u001b[43m,\u001b[49m\u001b[43m \u001b[49m\u001b[38;5;241;43m*\u001b[39;49m\u001b[38;5;241;43m*\u001b[39;49m\u001b[43mkwargs\u001b[49m\u001b[43m)\u001b[49m\n\u001b[1;32m    635\u001b[0m \u001b[38;5;66;03m# Use `backend_name` in this function instead of `backend`\u001b[39;00m\n\u001b[1;32m    636\u001b[0m backend_name \u001b[38;5;241m=\u001b[39m backend\n",
      "File \u001b[0;32m~/Documents/Programming/disklavier/.venv/lib/python3.12/site-packages/networkx/algorithms/shortest_paths/weighted.py:2419\u001b[0m, in \u001b[0;36mbidirectional_dijkstra\u001b[0;34m(G, source, target, weight)\u001b[0m\n\u001b[1;32m   2417\u001b[0m \u001b[38;5;28;01mif\u001b[39;00m w \u001b[38;5;129;01min\u001b[39;00m dists[\u001b[38;5;28mdir\u001b[39m]:\n\u001b[1;32m   2418\u001b[0m     \u001b[38;5;28;01mif\u001b[39;00m vwLength \u001b[38;5;241m<\u001b[39m dists[\u001b[38;5;28mdir\u001b[39m][w]:\n\u001b[0;32m-> 2419\u001b[0m         \u001b[38;5;28;01mraise\u001b[39;00m \u001b[38;5;167;01mValueError\u001b[39;00m(\u001b[38;5;124m\"\u001b[39m\u001b[38;5;124mContradictory paths found: negative weights?\u001b[39m\u001b[38;5;124m\"\u001b[39m)\n\u001b[1;32m   2420\u001b[0m \u001b[38;5;28;01melif\u001b[39;00m w \u001b[38;5;129;01mnot\u001b[39;00m \u001b[38;5;129;01min\u001b[39;00m seen[\u001b[38;5;28mdir\u001b[39m] \u001b[38;5;129;01mor\u001b[39;00m vwLength \u001b[38;5;241m<\u001b[39m seen[\u001b[38;5;28mdir\u001b[39m][w]:\n\u001b[1;32m   2421\u001b[0m     \u001b[38;5;66;03m# relaxing\u001b[39;00m\n\u001b[1;32m   2422\u001b[0m     seen[\u001b[38;5;28mdir\u001b[39m][w] \u001b[38;5;241m=\u001b[39m vwLength\n",
      "\u001b[0;31mValueError\u001b[0m: Contradictory paths found: negative weights?"
     ]
    }
   ],
   "source": [
    "def find_cheapest_paths(input_file, dataframe, faiss_index):\n",
    "    \"\"\"\n",
    "    Finds the 10 nearest files with different TRACK values and computes the cheapest paths to each.\n",
    "\n",
    "    Args:\n",
    "        input_file (str): The input filename in the format \"TRACK_SEGMENT_TRANSFORM\".\n",
    "        dataframe (pd.DataFrame): A pandas DataFrame with filenames as index and a \"embeddings\" column containing 768-element vectors.\n",
    "        faiss_index (IndexFlatIP): A FAISS index for fast similarity searches.\n",
    "\n",
    "    Returns:\n",
    "        dict: A dictionary where keys are filenames and values are the cheapest path and its cost.\n",
    "    \"\"\"\n",
    "    # extract the TRACK value from the input file\n",
    "    input_track = input_file.split(\"_\")[0]\n",
    "\n",
    "    # get the embedding of the input file\n",
    "    input_embedding = (\n",
    "        dataframe.loc[input_file, \"embeddings\"].astype(np.float32).reshape(1, -1)\n",
    "    )\n",
    "\n",
    "    # find the 50 nearest neighbors (for redundancy, filter later by TRACK)\n",
    "    _, indices = faiss_index.search(input_embedding, 50)\n",
    "\n",
    "    # map indices back to filenames\n",
    "    neighbor_files = dataframe.index[indices.flatten()].tolist()\n",
    "\n",
    "    # filter neighbors by TRACK value to ensure different TRACKs\n",
    "    filtered_neighbors = [\n",
    "        file for file in neighbor_files if file.split(\"_\")[0] != input_track\n",
    "    ]\n",
    "\n",
    "    # limit to the 10 nearest neighbors with different TRACKs\n",
    "    nearest_files = list(set(filtered_neighbors))[:10]\n",
    "    print(f\"nearest segments from different tracks are:\\n{nearest_files}\")\n",
    "\n",
    "    # build a graph where nodes are filenames and edges are costs based on similarity\n",
    "    graph = nx.Graph()\n",
    "\n",
    "    # add nodes and weighted edges based on 1 - similarity\n",
    "    for i, file1 in enumerate(dataframe.index):\n",
    "        embedding1 = dataframe.loc[file1, \"embeddings\"].astype(np.float32)\n",
    "        for j, file2 in enumerate(dataframe.index):\n",
    "            if i != j:\n",
    "                embedding2 = dataframe.loc[file2, \"embeddings\"].astype(np.float32)\n",
    "                similarity = np.dot(embedding1, embedding2)  # cosine similarity\n",
    "                cost = 1 - similarity\n",
    "                graph.add_edge(file1, file2, weight=cost)\n",
    "\n",
    "    # nx.draw(graph)\n",
    "    # plt.show()\n",
    "\n",
    "    # find the cheapest paths to the 10 nearest files\n",
    "    paths_and_costs = {}\n",
    "    for neighbor in nearest_files:\n",
    "        path = nx.shortest_path(\n",
    "            graph, source=input_file, target=neighbor, weight=\"weight\"\n",
    "        )\n",
    "        cost = nx.shortest_path_length(\n",
    "            graph, source=input_file, target=neighbor, weight=\"weight\"\n",
    "        )\n",
    "        paths_and_costs[neighbor] = {\"path\": path, \"cost\": cost}\n",
    "\n",
    "    return paths_and_costs\n",
    "\n",
    "\n",
    "# example usage (requires actual data):\n",
    "paths = find_cheapest_paths(\"20231220-080-01_0000-0005_t00s00\", emb_table, faiss_index)\n",
    "print(paths)"
   ]
  }
 ],
 "metadata": {
  "kernelspec": {
   "display_name": ".venv",
   "language": "python",
   "name": "python3"
  },
  "language_info": {
   "codemirror_mode": {
    "name": "ipython",
    "version": 3
   },
   "file_extension": ".py",
   "mimetype": "text/x-python",
   "name": "python",
   "nbconvert_exporter": "python",
   "pygments_lexer": "ipython3",
   "version": "3.12.2"
  }
 },
 "nbformat": 4,
 "nbformat_minor": 2
}
