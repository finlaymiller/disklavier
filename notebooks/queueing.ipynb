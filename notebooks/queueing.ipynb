{
 "cells": [
  {
   "cell_type": "code",
   "execution_count": 2,
   "metadata": {},
   "outputs": [],
   "source": [
    "import mido\n",
    "import queue\n",
    "import time\n",
    "import threading\n",
    "import mido.backends.rtmidi"
   ]
  },
  {
   "cell_type": "code",
   "execution_count": 5,
   "metadata": {},
   "outputs": [],
   "source": [
    "# Function to read MIDI file and add messages to a priority queue\n",
    "def read_midi_to_queue(midi_file_path, midi_queue):\n",
    "    midi_file = mido.MidiFile(midi_file_path)\n",
    "    absolute_time = 0  # to keep track of the absolute time in seconds\n",
    "\n",
    "    for msg in midi_file:\n",
    "        if not msg.is_meta:\n",
    "            absolute_time += msg.time\n",
    "            midi_queue.put(\n",
    "                (absolute_time, msg)\n",
    "            )  # Add message with its absolute time to the queue\n",
    "\n",
    "\n",
    "# Function to send messages to a MIDI port at the correct times\n",
    "def send_midi_from_queue(midi_queue, midi_out_port):\n",
    "    start_time = time.time()\n",
    "\n",
    "    while not midi_queue.empty():\n",
    "        absolute_time, msg = midi_queue.get()\n",
    "        sleep_time = absolute_time - (time.time() - start_time)\n",
    "\n",
    "        if sleep_time > 0:\n",
    "            time.sleep(sleep_time)\n",
    "\n",
    "        midi_out_port.send(msg)"
   ]
  },
  {
   "cell_type": "code",
   "execution_count": 6,
   "metadata": {},
   "outputs": [],
   "source": [
    "# Initialize a priority queue\n",
    "midi_queue = queue.PriorityQueue()\n",
    "\n",
    "# Replace 'your_midi_file.mid' with the path to your MIDI file\n",
    "midi_file_path = \"../data/datasets/test/play/20231220-080-01_0000-0005.mid\"\n",
    "\n",
    "# Read the MIDI file and add messages to the queue\n",
    "read_midi_to_queue(midi_file_path, midi_queue)\n",
    "\n",
    "# Initialize a MIDI output port\n",
    "# Replace 'Your MIDI Output Port' with the name of your actual MIDI output port\n",
    "with mido.open_output(\"Disklavier\") as midi_out_port:\n",
    "    send_midi_from_queue(midi_queue, midi_out_port)"
   ]
  }
 ],
 "metadata": {
  "kernelspec": {
   "display_name": ".venv",
   "language": "python",
   "name": "python3"
  },
  "language_info": {
   "codemirror_mode": {
    "name": "ipython",
    "version": 3
   },
   "file_extension": ".py",
   "mimetype": "text/x-python",
   "name": "python",
   "nbconvert_exporter": "python",
   "pygments_lexer": "ipython3",
   "version": "3.12.4"
  }
 },
 "nbformat": 4,
 "nbformat_minor": 2
}
