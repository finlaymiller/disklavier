{
 "cells": [
  {
   "cell_type": "code",
   "execution_count": 1,
   "metadata": {},
   "outputs": [],
   "source": [
    "import faiss\n",
    "import h5py\n",
    "import torch\n",
    "from torch.nn.functional import normalize\n",
    "import numpy as np\n",
    "import pandas as pd"
   ]
  },
  {
   "cell_type": "code",
   "execution_count": 20,
   "metadata": {},
   "outputs": [
    {
     "name": "stdout",
     "output_type": "stream",
     "text": [
      "                                                                         embeddings\n",
      "20231220-080-01_0000-0005_t00s00  [0.0, 0.0, 0.18383147, 0.0, 0.0, 0.0, 0.0, 0.8...\n",
      "20231220-080-01_0000-0005_t00s01  [0.0, 0.0, 0.18383147, 0.0, 0.0, 0.0, 0.0, 0.8...\n",
      "20231220-080-01_0000-0005_t00s02  [0.0, 0.0, 0.18383147, 0.0, 0.0, 0.0, 0.0, 0.8...\n",
      "20231220-080-01_0000-0005_t00s03  [0.0, 0.0, 0.18383147, 0.0, 0.0, 0.0, 0.0, 0.8...\n",
      "20231220-080-01_0000-0005_t00s04  [0.0, 0.0, 0.18383147, 0.0, 0.0, 0.0, 0.0, 0.8...\n",
      "Type of first entry in df['embeddings']: <class 'numpy.ndarray'>\n",
      "Dtype of first entry: float32\n",
      "Shape of first entry: (12,)\n"
     ]
    }
   ],
   "source": [
    "# hdf_path = \"../data/tables/20240621/clamp.h5\"\n",
    "hdf_path = \"/media/nova/Datasets/sageev-midi/20250320/pitch-histogram.h5\"\n",
    "\n",
    "with h5py.File(hdf_path, \"r\") as f:\n",
    "    # get filenames and embeddings from the file\n",
    "    filenames = np.array([str(filename[0], \"utf-8\") for filename in f[\"filenames\"][:]])\n",
    "    embeddings = np.array(f[\"pitch-histogram\"][:])\n",
    "\n",
    "    df = pd.DataFrame({\"embeddings\": [np.array(e, dtype=np.float32) for e in embeddings]}, index=filenames)\n",
    "\n",
    "    # create dataframe with filenames as index\n",
    "    # torch.nn.functional.normalize(enc[mask].mean(0).cpu().detach(), p=2, dim=0)\n",
    "    # df = pd.DataFrame(\n",
    "    #     # {\"embeddings\": list(e / np.linalg.norm(e, keepdims=True) for e in embeddings)},\n",
    "    #     {\n",
    "    #         \"embeddings\": list(\n",
    "    #             normalize(torch.tensor(e), p=2, dim=0) for e in embeddings\n",
    "    #         )\n",
    "    #     },\n",
    "    #     index=filenames,\n",
    "    #     dtype=np.float32,\n",
    "    # )\n",
    "\n",
    "print(df.head())\n",
    "first_entry = df[\"embeddings\"].iloc[0]\n",
    "print(f\"Type of first entry in df['embeddings']: {type(first_entry)}\")\n",
    "print(f\"Dtype of first entry: {first_entry.dtype}\")\n",
    "print(f\"Shape of first entry: {first_entry.shape}\")"
   ]
  },
  {
   "cell_type": "code",
   "execution_count": null,
   "metadata": {},
   "outputs": [
    {
     "ename": "ValueError",
     "evalue": "not enough values to unpack (expected 2, got 1)",
     "output_type": "error",
     "traceback": [
      "\u001b[0;31m---------------------------------------------------------------------------\u001b[0m",
      "\u001b[0;31mValueError\u001b[0m                                Traceback (most recent call last)",
      "Cell \u001b[0;32mIn[24], line 2\u001b[0m\n\u001b[1;32m      1\u001b[0m faiss_index \u001b[38;5;241m=\u001b[39m faiss\u001b[38;5;241m.\u001b[39mIndexFlatIP(\u001b[38;5;241m768\u001b[39m)\n\u001b[0;32m----> 2\u001b[0m \u001b[43mfaiss_index\u001b[49m\u001b[38;5;241;43m.\u001b[39;49m\u001b[43madd\u001b[49m\u001b[43m(\u001b[49m\u001b[43mnp\u001b[49m\u001b[38;5;241;43m.\u001b[39;49m\u001b[43marray\u001b[49m\u001b[43m(\u001b[49m\u001b[43mdf\u001b[49m\u001b[43m[\u001b[49m\u001b[38;5;124;43m\"\u001b[39;49m\u001b[38;5;124;43membeddings\u001b[39;49m\u001b[38;5;124;43m\"\u001b[39;49m\u001b[43m]\u001b[49m\u001b[43m[\u001b[49m\u001b[43m:\u001b[49m\u001b[43m]\u001b[49m\u001b[43m)\u001b[49m\u001b[43m)\u001b[49m\n\u001b[1;32m      3\u001b[0m faiss\u001b[38;5;241m.\u001b[39mwrite_index(\n\u001b[1;32m      4\u001b[0m     faiss_index, \u001b[38;5;124m\"\u001b[39m\u001b[38;5;124m/media/nova/Datasets/sageev-midi/20250320/pitch-histogram.faiss\u001b[39m\u001b[38;5;124m\"\u001b[39m\n\u001b[1;32m      5\u001b[0m )\n",
      "File \u001b[0;32m~/miniconda/envs/midi-ml/lib/python3.12/site-packages/faiss/class_wrappers.py:227\u001b[0m, in \u001b[0;36mhandle_Index.<locals>.replacement_add\u001b[0;34m(self, x)\u001b[0m\n\u001b[1;32m    214\u001b[0m \u001b[38;5;28;01mdef\u001b[39;00m\u001b[38;5;250m \u001b[39m\u001b[38;5;21mreplacement_add\u001b[39m(\u001b[38;5;28mself\u001b[39m, x):\n\u001b[1;32m    215\u001b[0m \u001b[38;5;250m    \u001b[39m\u001b[38;5;124;03m\"\"\"Adds vectors to the index.\u001b[39;00m\n\u001b[1;32m    216\u001b[0m \u001b[38;5;124;03m    The index must be trained before vectors can be added to it.\u001b[39;00m\n\u001b[1;32m    217\u001b[0m \u001b[38;5;124;03m    The vectors are implicitly numbered in sequence. When `n` vectors are\u001b[39;00m\n\u001b[0;32m   (...)\u001b[0m\n\u001b[1;32m    224\u001b[0m \u001b[38;5;124;03m        `dtype` must be float32.\u001b[39;00m\n\u001b[1;32m    225\u001b[0m \u001b[38;5;124;03m    \"\"\"\u001b[39;00m\n\u001b[0;32m--> 227\u001b[0m     n, d \u001b[38;5;241m=\u001b[39m x\u001b[38;5;241m.\u001b[39mshape\n\u001b[1;32m    228\u001b[0m     \u001b[38;5;28;01massert\u001b[39;00m d \u001b[38;5;241m==\u001b[39m \u001b[38;5;28mself\u001b[39m\u001b[38;5;241m.\u001b[39md\n\u001b[1;32m    229\u001b[0m     x \u001b[38;5;241m=\u001b[39m np\u001b[38;5;241m.\u001b[39mascontiguousarray(x, dtype\u001b[38;5;241m=\u001b[39m\u001b[38;5;124m'\u001b[39m\u001b[38;5;124mfloat32\u001b[39m\u001b[38;5;124m'\u001b[39m)\n",
      "\u001b[0;31mValueError\u001b[0m: not enough values to unpack (expected 2, got 1)"
     ]
    }
   ],
   "source": [
    "faiss_index = faiss.IndexFlatIP(768)\n",
    "faiss_index.add(np.array(df[\"embeddings\"]))\n",
    "faiss.write_index(\n",
    "    faiss_index, \"/media/nova/Datasets/sageev-midi/20250320/pitch-histogram.faiss\"\n",
    ")"
   ]
  },
  {
   "cell_type": "code",
   "execution_count": null,
   "metadata": {},
   "outputs": [],
   "source": [
    "# new_df = df.copy()  # avoid modifying the original DataFrame\n",
    "\n",
    "\n",
    "# def rename_index(index):\n",
    "#     if index.endswith(\".mid\"):\n",
    "#         return f\"{index[:-4]}_t00s00\"  # remove '.mid' and append '_t00s00'\n",
    "#     return index  # if not ending with '.mid', keep it as is\n",
    "\n",
    "\n",
    "# new_df.index = [rename_index(idx) for idx in new_df.index]\n",
    "# new_df.head()\n",
    "# new_df.to_hdf(\"specdiff.h5\", key=\"dataset\")"
   ]
  },
  {
   "cell_type": "code",
   "execution_count": 3,
   "metadata": {},
   "outputs": [
    {
     "data": {
      "text/html": [
       "<div>\n",
       "<style scoped>\n",
       "    .dataframe tbody tr th:only-of-type {\n",
       "        vertical-align: middle;\n",
       "    }\n",
       "\n",
       "    .dataframe tbody tr th {\n",
       "        vertical-align: top;\n",
       "    }\n",
       "\n",
       "    .dataframe thead th {\n",
       "        text-align: right;\n",
       "    }\n",
       "</style>\n",
       "<table border=\"1\" class=\"dataframe\">\n",
       "  <thead>\n",
       "    <tr style=\"text-align: right;\">\n",
       "      <th></th>\n",
       "      <th>embeddings</th>\n",
       "      <th>normed_embeddings</th>\n",
       "    </tr>\n",
       "  </thead>\n",
       "  <tbody>\n",
       "    <tr>\n",
       "      <th>20240117-064-2b_0044-0052.mid</th>\n",
       "      <td>NaN</td>\n",
       "      <td>NaN</td>\n",
       "    </tr>\n",
       "    <tr>\n",
       "      <th>20240117-064-2b_0059-0067.mid</th>\n",
       "      <td>NaN</td>\n",
       "      <td>NaN</td>\n",
       "    </tr>\n",
       "    <tr>\n",
       "      <th>20240117-064-2b_0112-0119.mid</th>\n",
       "      <td>NaN</td>\n",
       "      <td>NaN</td>\n",
       "    </tr>\n",
       "    <tr>\n",
       "      <th>20240117-064-2b_0142-0149.mid</th>\n",
       "      <td>NaN</td>\n",
       "      <td>NaN</td>\n",
       "    </tr>\n",
       "    <tr>\n",
       "      <th>20240117-064-2b_0074-0082.mid</th>\n",
       "      <td>NaN</td>\n",
       "      <td>NaN</td>\n",
       "    </tr>\n",
       "  </tbody>\n",
       "</table>\n",
       "</div>"
      ],
      "text/plain": [
       "                              embeddings normed_embeddings\n",
       "20240117-064-2b_0044-0052.mid        NaN               NaN\n",
       "20240117-064-2b_0059-0067.mid        NaN               NaN\n",
       "20240117-064-2b_0112-0119.mid        NaN               NaN\n",
       "20240117-064-2b_0142-0149.mid        NaN               NaN\n",
       "20240117-064-2b_0074-0082.mid        NaN               NaN"
      ]
     },
     "execution_count": 3,
     "metadata": {},
     "output_type": "execute_result"
    }
   ],
   "source": [
    "def normalize_vector(vec):\n",
    "    norm = np.linalg.norm(vec)\n",
    "    return vec / norm if norm != 0 else vec\n",
    "\n",
    "\n",
    "df[\"normed_embeddings\"] = df[\"embeddings\"].apply(normalize_vector)\n",
    "df.head()"
   ]
  },
  {
   "cell_type": "code",
   "execution_count": 4,
   "metadata": {},
   "outputs": [
    {
     "ename": "ValueError",
     "evalue": "setting an array element with a sequence. The requested array has an inhomogeneous shape after 1 dimensions. The detected shape was (11356,) + inhomogeneous part.",
     "output_type": "error",
     "traceback": [
      "\u001b[0;31m---------------------------------------------------------------------------\u001b[0m",
      "\u001b[0;31mValueError\u001b[0m                                Traceback (most recent call last)",
      "Cell \u001b[0;32mIn[4], line 2\u001b[0m\n\u001b[1;32m      1\u001b[0m index \u001b[38;5;241m=\u001b[39m faiss\u001b[38;5;241m.\u001b[39mIndexFlatIP(\u001b[38;5;241m768\u001b[39m)\n\u001b[0;32m----> 2\u001b[0m embedding_array \u001b[38;5;241m=\u001b[39m \u001b[43mnp\u001b[49m\u001b[38;5;241;43m.\u001b[39;49m\u001b[43marray\u001b[49m\u001b[43m(\u001b[49m\u001b[43mdf\u001b[49m\u001b[43m[\u001b[49m\u001b[38;5;124;43m\"\u001b[39;49m\u001b[38;5;124;43mnormed_embeddings\u001b[39;49m\u001b[38;5;124;43m\"\u001b[39;49m\u001b[43m]\u001b[49m\u001b[38;5;241;43m.\u001b[39;49m\u001b[43mtolist\u001b[49m\u001b[43m(\u001b[49m\u001b[43m)\u001b[49m\u001b[43m,\u001b[49m\u001b[43m \u001b[49m\u001b[43mdtype\u001b[49m\u001b[38;5;241;43m=\u001b[39;49m\u001b[43mnp\u001b[49m\u001b[38;5;241;43m.\u001b[39;49m\u001b[43mfloat32\u001b[49m\u001b[43m)\u001b[49m\n\u001b[1;32m      3\u001b[0m index\u001b[38;5;241m.\u001b[39madd(embedding_array)\n",
      "\u001b[0;31mValueError\u001b[0m: setting an array element with a sequence. The requested array has an inhomogeneous shape after 1 dimensions. The detected shape was (11356,) + inhomogeneous part."
     ]
    }
   ],
   "source": [
    "index = faiss.IndexFlatIP(768)\n",
    "embedding_array = np.array(df[\"normed_embeddings\"].tolist(), dtype=np.float32)\n",
    "index.add(embedding_array)"
   ]
  },
  {
   "cell_type": "code",
   "execution_count": null,
   "metadata": {},
   "outputs": [],
   "source": [
    "k = 5\n",
    "distances, indices = index.search(\n",
    "    np.array(\n",
    "        [df.loc[\"20240117-064-2b_0044-0052.mid\", \"normed_embeddings\"]],\n",
    "        dtype=np.float32,\n",
    "    ),\n",
    "    k=k,\n",
    ")"
   ]
  },
  {
   "cell_type": "code",
   "execution_count": 12,
   "metadata": {},
   "outputs": [
    {
     "name": "stdout",
     "output_type": "stream",
     "text": [
      "Nearest neighbor 1: 20240117-064-2b_0044-0052.mid, Distance 1.00000\n",
      "Nearest neighbor 2: 20240117-064-2b_0037-0044.mid, Distance 0.97732\n",
      "Nearest neighbor 3: 20240117-064-2b_0014-0022.mid, Distance 0.96528\n",
      "Nearest neighbor 4: 20240117-064-2b_0007-0014.mid, Distance 0.96513\n",
      "Nearest neighbor 5: 20240117-064-2b_0067-0074.mid, Distance 0.95847\n"
     ]
    }
   ],
   "source": [
    "# Print the most similar documents\n",
    "for i, index in enumerate(indices[0]):\n",
    "    distance = distances[0][i]\n",
    "    print(f\"Nearest neighbor {i+1}: {df.iloc[index, :].name}, Distance {distance:.05f}\")"
   ]
  }
 ],
 "metadata": {
  "kernelspec": {
   "display_name": "midi-ml",
   "language": "python",
   "name": "python3"
  },
  "language_info": {
   "codemirror_mode": {
    "name": "ipython",
    "version": 3
   },
   "file_extension": ".py",
   "mimetype": "text/x-python",
   "name": "python",
   "nbconvert_exporter": "python",
   "pygments_lexer": "ipython3",
   "version": "3.12.2"
  }
 },
 "nbformat": 4,
 "nbformat_minor": 2
}
