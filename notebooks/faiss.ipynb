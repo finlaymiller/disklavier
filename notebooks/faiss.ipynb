{
 "cells": [
  {
   "cell_type": "code",
   "execution_count": 1,
   "metadata": {},
   "outputs": [],
   "source": [
    "import faiss\n",
    "import h5py\n",
    "import numpy as np\n",
    "import pandas as pd\n",
    "from glob import glob\n",
    "from scipy.spatial.distance import cosine"
   ]
  },
  {
   "cell_type": "code",
   "execution_count": 2,
   "metadata": {},
   "outputs": [
    {
     "name": "stdout",
     "output_type": "stream",
     "text": [
      "                                                                         embeddings\n",
      "20231220-080-01_0000-0005_t00s00  [-0.04725124, -0.121528685, 0.09200393, 0.0497...\n",
      "20231220-080-01_0000-0005_t00s01  [-0.054494906, -0.13553616, 0.08727736, 0.0638...\n",
      "20231220-080-01_0000-0005_t00s02  [-0.042115744, -0.1166673, 0.10321771, 0.06491...\n",
      "20231220-080-01_0000-0005_t00s03  [-0.053316344, -0.13745646, 0.08773589, 0.0467...\n",
      "20231220-080-01_0000-0005_t00s04  [-0.0399059, -0.108871914, 0.11089589, 0.06425...\n",
      "Type of first entry in df['embeddings']: <class 'numpy.ndarray'>\n",
      "Dtype of first entry: float32\n",
      "Shape of first entry: (768,)\n"
     ]
    }
   ],
   "source": [
    "hdf_path = \"../data/tables/20250320/specdiff.h5\"\n",
    "# hdf_path = \"/media/nova/Datasets/sageev-midi/20250320/pitch-histogram.h5\"\n",
    "\n",
    "with h5py.File(hdf_path, \"r\") as f:\n",
    "    # get filenames and embeddings from the file\n",
    "    filenames = np.array([str(filename[0], \"utf-8\") for filename in f[\"filenames\"][:]])\n",
    "    embeddings = np.array(f[\"embeddings\"][:])\n",
    "\n",
    "    df = pd.DataFrame(\n",
    "        {\"embeddings\": [np.array(e, dtype=np.float32) for e in embeddings]},\n",
    "        index=filenames,\n",
    "    )\n",
    "\n",
    "print(df.head())\n",
    "first_entry = df[\"embeddings\"].iloc[0]\n",
    "print(f\"Type of first entry in df['embeddings']: {type(first_entry)}\")\n",
    "print(f\"Dtype of first entry: {first_entry.dtype}\")\n",
    "print(f\"Shape of first entry: {first_entry.shape}\")"
   ]
  },
  {
   "cell_type": "code",
   "execution_count": 16,
   "metadata": {},
   "outputs": [
    {
     "name": "stdout",
     "output_type": "stream",
     "text": [
      "(768,)\n",
      "(128,)\n"
     ]
    },
    {
     "ename": "ValueError",
     "evalue": "shapes (768,) and (128,) not aligned: 768 (dim 0) != 128 (dim 0)",
     "output_type": "error",
     "traceback": [
      "\u001b[0;31m---------------------------------------------------------------------------\u001b[0m",
      "\u001b[0;31mValueError\u001b[0m                                Traceback (most recent call last)",
      "Cell \u001b[0;32mIn[16], line 6\u001b[0m\n\u001b[1;32m      4\u001b[0m \u001b[38;5;28mprint\u001b[39m(normed_emb\u001b[38;5;241m.\u001b[39mshape)\n\u001b[1;32m      5\u001b[0m \u001b[38;5;28mprint\u001b[39m(np\u001b[38;5;241m.\u001b[39marray(faiss_index\u001b[38;5;241m.\u001b[39mreconstruct(\u001b[38;5;241m0\u001b[39m))\u001b[38;5;241m.\u001b[39mshape)\n\u001b[0;32m----> 6\u001b[0m \u001b[43mcosine\u001b[49m\u001b[43m(\u001b[49m\u001b[43mnormed_emb\u001b[49m\u001b[43m,\u001b[49m\u001b[43m \u001b[49m\u001b[43mfaiss_index\u001b[49m\u001b[38;5;241;43m.\u001b[39;49m\u001b[43mreconstruct\u001b[49m\u001b[43m(\u001b[49m\u001b[38;5;241;43m0\u001b[39;49m\u001b[43m)\u001b[49m\u001b[43m)\u001b[49m\n",
      "File \u001b[0;32m~/Documents/Programming/disklavier/.venv/lib/python3.12/site-packages/scipy/spatial/distance.py:694\u001b[0m, in \u001b[0;36mcosine\u001b[0;34m(u, v, w)\u001b[0m\n\u001b[1;32m    653\u001b[0m \u001b[38;5;250m\u001b[39m\u001b[38;5;124;03m\"\"\"\u001b[39;00m\n\u001b[1;32m    654\u001b[0m \u001b[38;5;124;03mCompute the Cosine distance between 1-D arrays.\u001b[39;00m\n\u001b[1;32m    655\u001b[0m \n\u001b[0;32m   (...)\u001b[0m\n\u001b[1;32m    690\u001b[0m \n\u001b[1;32m    691\u001b[0m \u001b[38;5;124;03m\"\"\"\u001b[39;00m\n\u001b[1;32m    692\u001b[0m \u001b[38;5;66;03m# cosine distance is also referred to as 'uncentered correlation',\u001b[39;00m\n\u001b[1;32m    693\u001b[0m \u001b[38;5;66;03m#   or 'reflective correlation'\u001b[39;00m\n\u001b[0;32m--> 694\u001b[0m \u001b[38;5;28;01mreturn\u001b[39;00m \u001b[43mcorrelation\u001b[49m\u001b[43m(\u001b[49m\u001b[43mu\u001b[49m\u001b[43m,\u001b[49m\u001b[43m \u001b[49m\u001b[43mv\u001b[49m\u001b[43m,\u001b[49m\u001b[43m \u001b[49m\u001b[43mw\u001b[49m\u001b[38;5;241;43m=\u001b[39;49m\u001b[43mw\u001b[49m\u001b[43m,\u001b[49m\u001b[43m \u001b[49m\u001b[43mcentered\u001b[49m\u001b[38;5;241;43m=\u001b[39;49m\u001b[38;5;28;43;01mFalse\u001b[39;49;00m\u001b[43m)\u001b[49m\n",
      "File \u001b[0;32m~/Documents/Programming/disklavier/.venv/lib/python3.12/site-packages/scipy/spatial/distance.py:644\u001b[0m, in \u001b[0;36mcorrelation\u001b[0;34m(u, v, w, centered)\u001b[0m\n\u001b[1;32m    642\u001b[0m \u001b[38;5;28;01melse\u001b[39;00m:\n\u001b[1;32m    643\u001b[0m     vw, uw \u001b[38;5;241m=\u001b[39m v, u\n\u001b[0;32m--> 644\u001b[0m uv \u001b[38;5;241m=\u001b[39m \u001b[43mnp\u001b[49m\u001b[38;5;241;43m.\u001b[39;49m\u001b[43mdot\u001b[49m\u001b[43m(\u001b[49m\u001b[43mu\u001b[49m\u001b[43m,\u001b[49m\u001b[43m \u001b[49m\u001b[43mvw\u001b[49m\u001b[43m)\u001b[49m\n\u001b[1;32m    645\u001b[0m uu \u001b[38;5;241m=\u001b[39m np\u001b[38;5;241m.\u001b[39mdot(u, uw)\n\u001b[1;32m    646\u001b[0m vv \u001b[38;5;241m=\u001b[39m np\u001b[38;5;241m.\u001b[39mdot(v, vw)\n",
      "\u001b[0;31mValueError\u001b[0m: shapes (768,) and (128,) not aligned: 768 (dim 0) != 128 (dim 0)"
     ]
    }
   ],
   "source": [
    "faiss_path = \"../data/tables/20250320/specdiff.faiss\"\n",
    "faiss_index = faiss.read_index(faiss_path)\n",
    "normed_emb = df.iloc[0][\"embeddings\"] / np.linalg.norm(df.iloc[0][\"embeddings\"])\n",
    "print(normed_emb.shape)\n",
    "print(np.array(faiss_index.reconstruct(0)).shape)\n",
    "cosine(normed_emb, faiss_index.reconstruct(0))"
   ]
  },
  {
   "cell_type": "code",
   "execution_count": null,
   "metadata": {},
   "outputs": [],
   "source": [
    "print(normed_emb.shape)\n",
    "res = faiss_index.search(normed_emb, 10)\n",
    "res"
   ]
  },
  {
   "cell_type": "code",
   "execution_count": null,
   "metadata": {},
   "outputs": [],
   "source": [
    "\n",
    "for i, (match, distance) in enumerate(zip(matches[0], distances[0])):\n",
    "    print(f\"Match {i+1}: {df.iloc[match].name}, Distance: {distance:.05f}\")"
   ]
  },
  {
   "cell_type": "code",
   "execution_count": null,
   "metadata": {},
   "outputs": [],
   "source": [
    "# new_df = df.copy()  # avoid modifying the original DataFrame\n",
    "\n",
    "\n",
    "# def rename_index(index):\n",
    "#     if index.endswith(\".mid\"):\n",
    "#         return f\"{index[:-4]}_t00s00\"  # remove '.mid' and append '_t00s00'\n",
    "#     return index  # if not ending with '.mid', keep it as is\n",
    "\n",
    "\n",
    "# new_df.index = [rename_index(idx) for idx in new_df.index]\n",
    "# new_df.head()\n",
    "# new_df.to_hdf(\"specdiff.h5\", key=\"dataset\")"
   ]
  },
  {
   "cell_type": "code",
   "execution_count": 3,
   "metadata": {},
   "outputs": [
    {
     "data": {
      "text/html": [
       "<div>\n",
       "<style scoped>\n",
       "    .dataframe tbody tr th:only-of-type {\n",
       "        vertical-align: middle;\n",
       "    }\n",
       "\n",
       "    .dataframe tbody tr th {\n",
       "        vertical-align: top;\n",
       "    }\n",
       "\n",
       "    .dataframe thead th {\n",
       "        text-align: right;\n",
       "    }\n",
       "</style>\n",
       "<table border=\"1\" class=\"dataframe\">\n",
       "  <thead>\n",
       "    <tr style=\"text-align: right;\">\n",
       "      <th></th>\n",
       "      <th>embeddings</th>\n",
       "      <th>normed_embeddings</th>\n",
       "    </tr>\n",
       "  </thead>\n",
       "  <tbody>\n",
       "    <tr>\n",
       "      <th>20240117-064-2b_0044-0052.mid</th>\n",
       "      <td>NaN</td>\n",
       "      <td>NaN</td>\n",
       "    </tr>\n",
       "    <tr>\n",
       "      <th>20240117-064-2b_0059-0067.mid</th>\n",
       "      <td>NaN</td>\n",
       "      <td>NaN</td>\n",
       "    </tr>\n",
       "    <tr>\n",
       "      <th>20240117-064-2b_0112-0119.mid</th>\n",
       "      <td>NaN</td>\n",
       "      <td>NaN</td>\n",
       "    </tr>\n",
       "    <tr>\n",
       "      <th>20240117-064-2b_0142-0149.mid</th>\n",
       "      <td>NaN</td>\n",
       "      <td>NaN</td>\n",
       "    </tr>\n",
       "    <tr>\n",
       "      <th>20240117-064-2b_0074-0082.mid</th>\n",
       "      <td>NaN</td>\n",
       "      <td>NaN</td>\n",
       "    </tr>\n",
       "  </tbody>\n",
       "</table>\n",
       "</div>"
      ],
      "text/plain": [
       "                              embeddings normed_embeddings\n",
       "20240117-064-2b_0044-0052.mid        NaN               NaN\n",
       "20240117-064-2b_0059-0067.mid        NaN               NaN\n",
       "20240117-064-2b_0112-0119.mid        NaN               NaN\n",
       "20240117-064-2b_0142-0149.mid        NaN               NaN\n",
       "20240117-064-2b_0074-0082.mid        NaN               NaN"
      ]
     },
     "execution_count": 3,
     "metadata": {},
     "output_type": "execute_result"
    }
   ],
   "source": [
    "def normalize_vector(vec):\n",
    "    norm = np.linalg.norm(vec)\n",
    "    return vec / norm if norm != 0 else vec\n",
    "\n",
    "\n",
    "df[\"normed_embeddings\"] = df[\"embeddings\"].apply(normalize_vector)\n",
    "df.head()"
   ]
  },
  {
   "cell_type": "code",
   "execution_count": 4,
   "metadata": {},
   "outputs": [
    {
     "ename": "ValueError",
     "evalue": "setting an array element with a sequence. The requested array has an inhomogeneous shape after 1 dimensions. The detected shape was (11356,) + inhomogeneous part.",
     "output_type": "error",
     "traceback": [
      "\u001b[0;31m---------------------------------------------------------------------------\u001b[0m",
      "\u001b[0;31mValueError\u001b[0m                                Traceback (most recent call last)",
      "Cell \u001b[0;32mIn[4], line 2\u001b[0m\n\u001b[1;32m      1\u001b[0m index \u001b[38;5;241m=\u001b[39m faiss\u001b[38;5;241m.\u001b[39mIndexFlatIP(\u001b[38;5;241m768\u001b[39m)\n\u001b[0;32m----> 2\u001b[0m embedding_array \u001b[38;5;241m=\u001b[39m \u001b[43mnp\u001b[49m\u001b[38;5;241;43m.\u001b[39;49m\u001b[43marray\u001b[49m\u001b[43m(\u001b[49m\u001b[43mdf\u001b[49m\u001b[43m[\u001b[49m\u001b[38;5;124;43m\"\u001b[39;49m\u001b[38;5;124;43mnormed_embeddings\u001b[39;49m\u001b[38;5;124;43m\"\u001b[39;49m\u001b[43m]\u001b[49m\u001b[38;5;241;43m.\u001b[39;49m\u001b[43mtolist\u001b[49m\u001b[43m(\u001b[49m\u001b[43m)\u001b[49m\u001b[43m,\u001b[49m\u001b[43m \u001b[49m\u001b[43mdtype\u001b[49m\u001b[38;5;241;43m=\u001b[39;49m\u001b[43mnp\u001b[49m\u001b[38;5;241;43m.\u001b[39;49m\u001b[43mfloat32\u001b[49m\u001b[43m)\u001b[49m\n\u001b[1;32m      3\u001b[0m index\u001b[38;5;241m.\u001b[39madd(embedding_array)\n",
      "\u001b[0;31mValueError\u001b[0m: setting an array element with a sequence. The requested array has an inhomogeneous shape after 1 dimensions. The detected shape was (11356,) + inhomogeneous part."
     ]
    }
   ],
   "source": [
    "index = faiss.IndexFlatIP(768)\n",
    "embedding_array = np.array(df[\"normed_embeddings\"].tolist(), dtype=np.float32)\n",
    "index.add(embedding_array)"
   ]
  },
  {
   "cell_type": "code",
   "execution_count": null,
   "metadata": {},
   "outputs": [],
   "source": [
    "k = 5\n",
    "distances, indices = index.search(\n",
    "    np.array(\n",
    "        [df.loc[\"20240117-064-2b_0044-0052.mid\", \"normed_embeddings\"]],\n",
    "        dtype=np.float32,\n",
    "    ),\n",
    "    k=k,\n",
    ")"
   ]
  },
  {
   "cell_type": "code",
   "execution_count": 12,
   "metadata": {},
   "outputs": [
    {
     "name": "stdout",
     "output_type": "stream",
     "text": [
      "Nearest neighbor 1: 20240117-064-2b_0044-0052.mid, Distance 1.00000\n",
      "Nearest neighbor 2: 20240117-064-2b_0037-0044.mid, Distance 0.97732\n",
      "Nearest neighbor 3: 20240117-064-2b_0014-0022.mid, Distance 0.96528\n",
      "Nearest neighbor 4: 20240117-064-2b_0007-0014.mid, Distance 0.96513\n",
      "Nearest neighbor 5: 20240117-064-2b_0067-0074.mid, Distance 0.95847\n"
     ]
    }
   ],
   "source": [
    "# Print the most similar documents\n",
    "for i, index in enumerate(indices[0]):\n",
    "    distance = distances[0][i]\n",
    "    print(f\"Nearest neighbor {i+1}: {df.iloc[index, :].name}, Distance {distance:.05f}\")"
   ]
  },
  {
   "cell_type": "code",
   "execution_count": 4,
   "metadata": {},
   "outputs": [],
   "source": [
    "h5_path = \"/media/scratch/sageev-midi/20250320/specdiff.h5\"\n",
    "with h5py.File(h5_path, \"r\") as f:\n",
    "    embeddings = np.array(f[\"embeddings\"][:])\n",
    "    num_files = len(embeddings)"
   ]
  },
  {
   "cell_type": "code",
   "execution_count": 6,
   "metadata": {},
   "outputs": [
    {
     "name": "stdout",
     "output_type": "stream",
     "text": [
      "copying vectors to FAISS index\n",
      "FAISS index saved to '/media/scratch/sageev-midi/20250320/specdiff.faiss'\n"
     ]
    }
   ],
   "source": [
    "# initialize faiss index\n",
    "faiss_path = \"/media/scratch/sageev-midi/20250320/specdiff.faiss\"\n",
    "index = faiss.IndexFlatIP(768)\n",
    "# vecs = np.zeros((num_files, 12), dtype=np.float32)\n",
    "\n",
    "\n",
    "# for i, file in enumerate(all_files):\n",
    "#     vecs[i] = PrettyMIDI(file).get_pitch_class_histogram(True, True)\n",
    "\n",
    "print(\"copying vectors to FAISS index\")\n",
    "index.add(embeddings)  # type: ignore\n",
    "faiss.write_index(index, faiss_path)\n",
    "print(f\"FAISS index saved to '{faiss_path}'\")"
   ]
  }
 ],
 "metadata": {
  "kernelspec": {
   "display_name": "midi-ml",
   "language": "python",
   "name": "python3"
  },
  "language_info": {
   "codemirror_mode": {
    "name": "ipython",
    "version": 3
   },
   "file_extension": ".py",
   "mimetype": "text/x-python",
   "name": "python",
   "nbconvert_exporter": "python",
   "pygments_lexer": "ipython3",
   "version": "3.12.2"
  }
 },
 "nbformat": 4,
 "nbformat_minor": 2
}
