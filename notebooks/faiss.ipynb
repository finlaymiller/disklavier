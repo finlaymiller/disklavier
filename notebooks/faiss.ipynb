{
 "cells": [
  {
   "cell_type": "code",
   "execution_count": 1,
   "metadata": {},
   "outputs": [],
   "source": [
    "import faiss\n",
    "import numpy as np\n",
    "import pandas as pd\n",
    "from rich.progress import track"
   ]
  },
  {
   "cell_type": "code",
   "execution_count": 2,
   "metadata": {},
   "outputs": [
    {
     "ename": "ValueError",
     "evalue": "Dataset(s) incompatible with Pandas data types, not table, or no datasets found in HDF5 file.",
     "output_type": "error",
     "traceback": [
      "\u001b[0;31m---------------------------------------------------------------------------\u001b[0m",
      "\u001b[0;31mValueError\u001b[0m                                Traceback (most recent call last)",
      "Cell \u001b[0;32mIn[2], line 3\u001b[0m\n\u001b[1;32m      1\u001b[0m \u001b[38;5;66;03m# hdf_path = \"../data/tables/20240621/clamp.h5\"\u001b[39;00m\n\u001b[1;32m      2\u001b[0m hdf_path \u001b[38;5;241m=\u001b[39m \u001b[38;5;124m\"\u001b[39m\u001b[38;5;124m../data/tables/20250110/specdiff.h5\u001b[39m\u001b[38;5;124m\"\u001b[39m\n\u001b[0;32m----> 3\u001b[0m df \u001b[38;5;241m=\u001b[39m \u001b[43mpd\u001b[49m\u001b[38;5;241;43m.\u001b[39;49m\u001b[43mread_hdf\u001b[49m\u001b[43m(\u001b[49m\u001b[43mhdf_path\u001b[49m\u001b[43m)\u001b[49m\n\u001b[1;32m      4\u001b[0m df\u001b[38;5;241m.\u001b[39mhead()\n",
      "File \u001b[0;32m~/Documents/Programming/disklavier/.venv/lib/python3.12/site-packages/pandas/io/pytables.py:435\u001b[0m, in \u001b[0;36mread_hdf\u001b[0;34m(path_or_buf, key, mode, errors, where, start, stop, columns, iterator, chunksize, **kwargs)\u001b[0m\n\u001b[1;32m    433\u001b[0m groups \u001b[38;5;241m=\u001b[39m store\u001b[38;5;241m.\u001b[39mgroups()\n\u001b[1;32m    434\u001b[0m \u001b[38;5;28;01mif\u001b[39;00m \u001b[38;5;28mlen\u001b[39m(groups) \u001b[38;5;241m==\u001b[39m \u001b[38;5;241m0\u001b[39m:\n\u001b[0;32m--> 435\u001b[0m     \u001b[38;5;28;01mraise\u001b[39;00m \u001b[38;5;167;01mValueError\u001b[39;00m(\n\u001b[1;32m    436\u001b[0m         \u001b[38;5;124m\"\u001b[39m\u001b[38;5;124mDataset(s) incompatible with Pandas data types, \u001b[39m\u001b[38;5;124m\"\u001b[39m\n\u001b[1;32m    437\u001b[0m         \u001b[38;5;124m\"\u001b[39m\u001b[38;5;124mnot table, or no datasets found in HDF5 file.\u001b[39m\u001b[38;5;124m\"\u001b[39m\n\u001b[1;32m    438\u001b[0m     )\n\u001b[1;32m    439\u001b[0m candidate_only_group \u001b[38;5;241m=\u001b[39m groups[\u001b[38;5;241m0\u001b[39m]\n\u001b[1;32m    441\u001b[0m \u001b[38;5;66;03m# For the HDF file to have only one dataset, all other groups\u001b[39;00m\n\u001b[1;32m    442\u001b[0m \u001b[38;5;66;03m# should then be metadata groups for that candidate group. (This\u001b[39;00m\n\u001b[1;32m    443\u001b[0m \u001b[38;5;66;03m# assumes that the groups() method enumerates parent groups\u001b[39;00m\n\u001b[1;32m    444\u001b[0m \u001b[38;5;66;03m# before their children.)\u001b[39;00m\n",
      "\u001b[0;31mValueError\u001b[0m: Dataset(s) incompatible with Pandas data types, not table, or no datasets found in HDF5 file."
     ]
    }
   ],
   "source": [
    "# hdf_path = \"../data/tables/20240621/clamp.h5\"\n",
    "hdf_path = \"../data/tables/20250110/specdiff.h5\"\n",
    "df = pd.read_hdf(hdf_path)\n",
    "df.head()"
   ]
  },
  {
   "cell_type": "code",
   "execution_count": null,
   "metadata": {},
   "outputs": [],
   "source": [
    "# new_df = df.copy()  # avoid modifying the original DataFrame\n",
    "\n",
    "\n",
    "# def rename_index(index):\n",
    "#     if index.endswith(\".mid\"):\n",
    "#         return f\"{index[:-4]}_t00s00\"  # remove '.mid' and append '_t00s00'\n",
    "#     return index  # if not ending with '.mid', keep it as is\n",
    "\n",
    "\n",
    "# new_df.index = [rename_index(idx) for idx in new_df.index]\n",
    "# new_df.head()\n",
    "# new_df.to_hdf(\"specdiff.h5\", key=\"dataset\")"
   ]
  },
  {
   "cell_type": "code",
   "execution_count": 3,
   "metadata": {},
   "outputs": [
    {
     "data": {
      "text/html": [
       "<div>\n",
       "<style scoped>\n",
       "    .dataframe tbody tr th:only-of-type {\n",
       "        vertical-align: middle;\n",
       "    }\n",
       "\n",
       "    .dataframe tbody tr th {\n",
       "        vertical-align: top;\n",
       "    }\n",
       "\n",
       "    .dataframe thead th {\n",
       "        text-align: right;\n",
       "    }\n",
       "</style>\n",
       "<table border=\"1\" class=\"dataframe\">\n",
       "  <thead>\n",
       "    <tr style=\"text-align: right;\">\n",
       "      <th></th>\n",
       "      <th>embeddings</th>\n",
       "      <th>normed_embeddings</th>\n",
       "    </tr>\n",
       "  </thead>\n",
       "  <tbody>\n",
       "    <tr>\n",
       "      <th>20240117-064-2b_0044-0052.mid</th>\n",
       "      <td>NaN</td>\n",
       "      <td>NaN</td>\n",
       "    </tr>\n",
       "    <tr>\n",
       "      <th>20240117-064-2b_0059-0067.mid</th>\n",
       "      <td>NaN</td>\n",
       "      <td>NaN</td>\n",
       "    </tr>\n",
       "    <tr>\n",
       "      <th>20240117-064-2b_0112-0119.mid</th>\n",
       "      <td>NaN</td>\n",
       "      <td>NaN</td>\n",
       "    </tr>\n",
       "    <tr>\n",
       "      <th>20240117-064-2b_0142-0149.mid</th>\n",
       "      <td>NaN</td>\n",
       "      <td>NaN</td>\n",
       "    </tr>\n",
       "    <tr>\n",
       "      <th>20240117-064-2b_0074-0082.mid</th>\n",
       "      <td>NaN</td>\n",
       "      <td>NaN</td>\n",
       "    </tr>\n",
       "  </tbody>\n",
       "</table>\n",
       "</div>"
      ],
      "text/plain": [
       "                              embeddings normed_embeddings\n",
       "20240117-064-2b_0044-0052.mid        NaN               NaN\n",
       "20240117-064-2b_0059-0067.mid        NaN               NaN\n",
       "20240117-064-2b_0112-0119.mid        NaN               NaN\n",
       "20240117-064-2b_0142-0149.mid        NaN               NaN\n",
       "20240117-064-2b_0074-0082.mid        NaN               NaN"
      ]
     },
     "execution_count": 3,
     "metadata": {},
     "output_type": "execute_result"
    }
   ],
   "source": [
    "def normalize_vector(vec):\n",
    "    norm = np.linalg.norm(vec)\n",
    "    return vec / norm if norm != 0 else vec\n",
    "\n",
    "\n",
    "df[\"normed_embeddings\"] = df[\"embeddings\"].apply(normalize_vector)\n",
    "df.head()"
   ]
  },
  {
   "cell_type": "code",
   "execution_count": 4,
   "metadata": {},
   "outputs": [
    {
     "ename": "ValueError",
     "evalue": "setting an array element with a sequence. The requested array has an inhomogeneous shape after 1 dimensions. The detected shape was (11356,) + inhomogeneous part.",
     "output_type": "error",
     "traceback": [
      "\u001b[0;31m---------------------------------------------------------------------------\u001b[0m",
      "\u001b[0;31mValueError\u001b[0m                                Traceback (most recent call last)",
      "Cell \u001b[0;32mIn[4], line 2\u001b[0m\n\u001b[1;32m      1\u001b[0m index \u001b[38;5;241m=\u001b[39m faiss\u001b[38;5;241m.\u001b[39mIndexFlatIP(\u001b[38;5;241m768\u001b[39m)\n\u001b[0;32m----> 2\u001b[0m embedding_array \u001b[38;5;241m=\u001b[39m \u001b[43mnp\u001b[49m\u001b[38;5;241;43m.\u001b[39;49m\u001b[43marray\u001b[49m\u001b[43m(\u001b[49m\u001b[43mdf\u001b[49m\u001b[43m[\u001b[49m\u001b[38;5;124;43m\"\u001b[39;49m\u001b[38;5;124;43mnormed_embeddings\u001b[39;49m\u001b[38;5;124;43m\"\u001b[39;49m\u001b[43m]\u001b[49m\u001b[38;5;241;43m.\u001b[39;49m\u001b[43mtolist\u001b[49m\u001b[43m(\u001b[49m\u001b[43m)\u001b[49m\u001b[43m,\u001b[49m\u001b[43m \u001b[49m\u001b[43mdtype\u001b[49m\u001b[38;5;241;43m=\u001b[39;49m\u001b[43mnp\u001b[49m\u001b[38;5;241;43m.\u001b[39;49m\u001b[43mfloat32\u001b[49m\u001b[43m)\u001b[49m\n\u001b[1;32m      3\u001b[0m index\u001b[38;5;241m.\u001b[39madd(embedding_array)\n",
      "\u001b[0;31mValueError\u001b[0m: setting an array element with a sequence. The requested array has an inhomogeneous shape after 1 dimensions. The detected shape was (11356,) + inhomogeneous part."
     ]
    }
   ],
   "source": [
    "index = faiss.IndexFlatIP(768)\n",
    "embedding_array = np.array(df[\"normed_embeddings\"].tolist(), dtype=np.float32)\n",
    "index.add(embedding_array)"
   ]
  },
  {
   "cell_type": "code",
   "execution_count": null,
   "metadata": {},
   "outputs": [],
   "source": [
    "k = 5\n",
    "distances, indices = index.search(\n",
    "    np.array(\n",
    "        [df.loc[\"20240117-064-2b_0044-0052.mid\", \"normed_embeddings\"]],\n",
    "        dtype=np.float32,\n",
    "    ),\n",
    "    k=k,\n",
    ")"
   ]
  },
  {
   "cell_type": "code",
   "execution_count": 12,
   "metadata": {},
   "outputs": [
    {
     "name": "stdout",
     "output_type": "stream",
     "text": [
      "Nearest neighbor 1: 20240117-064-2b_0044-0052.mid, Distance 1.00000\n",
      "Nearest neighbor 2: 20240117-064-2b_0037-0044.mid, Distance 0.97732\n",
      "Nearest neighbor 3: 20240117-064-2b_0014-0022.mid, Distance 0.96528\n",
      "Nearest neighbor 4: 20240117-064-2b_0007-0014.mid, Distance 0.96513\n",
      "Nearest neighbor 5: 20240117-064-2b_0067-0074.mid, Distance 0.95847\n"
     ]
    }
   ],
   "source": [
    "# Print the most similar documents\n",
    "for i, index in enumerate(indices[0]):\n",
    "    distance = distances[0][i]\n",
    "    print(f\"Nearest neighbor {i+1}: {df.iloc[index, :].name}, Distance {distance:.05f}\")"
   ]
  }
 ],
 "metadata": {
  "kernelspec": {
   "display_name": ".venv",
   "language": "python",
   "name": "python3"
  },
  "language_info": {
   "codemirror_mode": {
    "name": "ipython",
    "version": 3
   },
   "file_extension": ".py",
   "mimetype": "text/x-python",
   "name": "python",
   "nbconvert_exporter": "python",
   "pygments_lexer": "ipython3",
   "version": "3.12.2"
  }
 },
 "nbformat": 4,
 "nbformat_minor": 2
}
