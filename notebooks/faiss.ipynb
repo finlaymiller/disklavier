{
 "cells": [
  {
   "cell_type": "code",
   "execution_count": 1,
   "metadata": {},
   "outputs": [],
   "source": [
    "import faiss\n",
    "import numpy as np\n",
    "import pandas as pd\n",
    "from rich.progress import track"
   ]
  },
  {
   "cell_type": "code",
   "execution_count": 2,
   "metadata": {},
   "outputs": [
    {
     "data": {
      "text/html": [
       "<div>\n",
       "<style scoped>\n",
       "    .dataframe tbody tr th:only-of-type {\n",
       "        vertical-align: middle;\n",
       "    }\n",
       "\n",
       "    .dataframe tbody tr th {\n",
       "        vertical-align: top;\n",
       "    }\n",
       "\n",
       "    .dataframe thead th {\n",
       "        text-align: right;\n",
       "    }\n",
       "</style>\n",
       "<table border=\"1\" class=\"dataframe\">\n",
       "  <thead>\n",
       "    <tr style=\"text-align: right;\">\n",
       "      <th></th>\n",
       "      <th>embeddings</th>\n",
       "    </tr>\n",
       "  </thead>\n",
       "  <tbody>\n",
       "    <tr>\n",
       "      <th>20231220-080-01_0000-0005_t00s00</th>\n",
       "      <td>[0.7469334, -0.6023911, -0.5720417, 0.21939746...</td>\n",
       "    </tr>\n",
       "    <tr>\n",
       "      <th>20231220-080-01_0000-0005_t00s01</th>\n",
       "      <td>[0.4681878, -0.3210357, -0.35862225, -0.391038...</td>\n",
       "    </tr>\n",
       "    <tr>\n",
       "      <th>20231220-080-01_0000-0005_t00s02</th>\n",
       "      <td>[0.44789648, 0.028915457, -0.10429096, -0.0388...</td>\n",
       "    </tr>\n",
       "    <tr>\n",
       "      <th>20231220-080-01_0000-0005_t00s03</th>\n",
       "      <td>[0.44101596, -0.10274381, 0.0016073268, 0.1810...</td>\n",
       "    </tr>\n",
       "    <tr>\n",
       "      <th>20231220-080-01_0000-0005_t00s04</th>\n",
       "      <td>[0.67255557, -0.08258019, -0.7770954, -0.26789...</td>\n",
       "    </tr>\n",
       "  </tbody>\n",
       "</table>\n",
       "</div>"
      ],
      "text/plain": [
       "                                                                         embeddings\n",
       "20231220-080-01_0000-0005_t00s00  [0.7469334, -0.6023911, -0.5720417, 0.21939746...\n",
       "20231220-080-01_0000-0005_t00s01  [0.4681878, -0.3210357, -0.35862225, -0.391038...\n",
       "20231220-080-01_0000-0005_t00s02  [0.44789648, 0.028915457, -0.10429096, -0.0388...\n",
       "20231220-080-01_0000-0005_t00s03  [0.44101596, -0.10274381, 0.0016073268, 0.1810...\n",
       "20231220-080-01_0000-0005_t00s04  [0.67255557, -0.08258019, -0.7770954, -0.26789..."
      ]
     },
     "execution_count": 2,
     "metadata": {},
     "output_type": "execute_result"
    }
   ],
   "source": [
    "df = pd.read_hdf(\"../data/tables/20240621/clamp_embeddings_new.h5\")\n",
    "df.head()"
   ]
  },
  {
   "cell_type": "code",
   "execution_count": 4,
   "metadata": {},
   "outputs": [
    {
     "data": {
      "text/html": [
       "<div>\n",
       "<style scoped>\n",
       "    .dataframe tbody tr th:only-of-type {\n",
       "        vertical-align: middle;\n",
       "    }\n",
       "\n",
       "    .dataframe tbody tr th {\n",
       "        vertical-align: top;\n",
       "    }\n",
       "\n",
       "    .dataframe thead th {\n",
       "        text-align: right;\n",
       "    }\n",
       "</style>\n",
       "<table border=\"1\" class=\"dataframe\">\n",
       "  <thead>\n",
       "    <tr style=\"text-align: right;\">\n",
       "      <th></th>\n",
       "      <th>embeddings</th>\n",
       "      <th>normed_embeddings</th>\n",
       "    </tr>\n",
       "  </thead>\n",
       "  <tbody>\n",
       "    <tr>\n",
       "      <th>20231220-080-01_0000-0005_t00s00</th>\n",
       "      <td>[0.7469334, -0.6023911, -0.5720417, 0.21939746...</td>\n",
       "      <td>[0.048320405, -0.038969718, -0.03700636, 0.014...</td>\n",
       "    </tr>\n",
       "    <tr>\n",
       "      <th>20231220-080-01_0000-0005_t00s01</th>\n",
       "      <td>[0.4681878, -0.3210357, -0.35862225, -0.391038...</td>\n",
       "      <td>[0.032188773, -0.022071796, -0.024655938, -0.0...</td>\n",
       "    </tr>\n",
       "    <tr>\n",
       "      <th>20231220-080-01_0000-0005_t00s02</th>\n",
       "      <td>[0.44789648, 0.028915457, -0.10429096, -0.0388...</td>\n",
       "      <td>[0.030919641, 0.0019961211, -0.007199519, -0.0...</td>\n",
       "    </tr>\n",
       "    <tr>\n",
       "      <th>20231220-080-01_0000-0005_t00s03</th>\n",
       "      <td>[0.44101596, -0.10274381, 0.0016073268, 0.1810...</td>\n",
       "      <td>[0.029843057, -0.0069525586, 0.000108766006, 0...</td>\n",
       "    </tr>\n",
       "    <tr>\n",
       "      <th>20231220-080-01_0000-0005_t00s04</th>\n",
       "      <td>[0.67255557, -0.08258019, -0.7770954, -0.26789...</td>\n",
       "      <td>[0.044362742, -0.005447109, -0.05125834, -0.01...</td>\n",
       "    </tr>\n",
       "  </tbody>\n",
       "</table>\n",
       "</div>"
      ],
      "text/plain": [
       "                                                                         embeddings  \\\n",
       "20231220-080-01_0000-0005_t00s00  [0.7469334, -0.6023911, -0.5720417, 0.21939746...   \n",
       "20231220-080-01_0000-0005_t00s01  [0.4681878, -0.3210357, -0.35862225, -0.391038...   \n",
       "20231220-080-01_0000-0005_t00s02  [0.44789648, 0.028915457, -0.10429096, -0.0388...   \n",
       "20231220-080-01_0000-0005_t00s03  [0.44101596, -0.10274381, 0.0016073268, 0.1810...   \n",
       "20231220-080-01_0000-0005_t00s04  [0.67255557, -0.08258019, -0.7770954, -0.26789...   \n",
       "\n",
       "                                                                  normed_embeddings  \n",
       "20231220-080-01_0000-0005_t00s00  [0.048320405, -0.038969718, -0.03700636, 0.014...  \n",
       "20231220-080-01_0000-0005_t00s01  [0.032188773, -0.022071796, -0.024655938, -0.0...  \n",
       "20231220-080-01_0000-0005_t00s02  [0.030919641, 0.0019961211, -0.007199519, -0.0...  \n",
       "20231220-080-01_0000-0005_t00s03  [0.029843057, -0.0069525586, 0.000108766006, 0...  \n",
       "20231220-080-01_0000-0005_t00s04  [0.044362742, -0.005447109, -0.05125834, -0.01...  "
      ]
     },
     "execution_count": 4,
     "metadata": {},
     "output_type": "execute_result"
    }
   ],
   "source": [
    "def normalize_vector(vec):\n",
    "    norm = np.linalg.norm(vec)\n",
    "    return vec / norm if norm != 0 else vec\n",
    "\n",
    "\n",
    "df[\"normed_embeddings\"] = df[\"embeddings\"].apply(normalize_vector)\n",
    "df.head()"
   ]
  },
  {
   "cell_type": "code",
   "execution_count": 5,
   "metadata": {},
   "outputs": [],
   "source": [
    "index = faiss.IndexFlatIP(768)\n",
    "embedding_array = np.array(df[\"normed_embeddings\"].tolist(), dtype=np.float32)\n",
    "index.add(embedding_array)"
   ]
  },
  {
   "cell_type": "code",
   "execution_count": 6,
   "metadata": {},
   "outputs": [],
   "source": [
    "k = 5\n",
    "distances, indices = index.search(\n",
    "    np.array(\n",
    "        [df.loc[\"20231220-080-01_0000-0005_t00s00\", \"normed_embeddings\"]],\n",
    "        dtype=np.float32,\n",
    "    ),\n",
    "    k,\n",
    ")"
   ]
  },
  {
   "cell_type": "code",
   "execution_count": 7,
   "metadata": {},
   "outputs": [
    {
     "name": "stdout",
     "output_type": "stream",
     "text": [
      "Nearest neighbor 1: 20231220-080-01_0000-0005_t00s00, Distance 1.00000\n",
      "Nearest neighbor 2: 20231220-080-01_0023-0029_t10s00, Distance 0.98886\n",
      "Nearest neighbor 3: 20231220-080-01_0005-0011_t11s07, Distance 0.98792\n",
      "Nearest neighbor 4: 20231220-080-01_0023-0029_t06s01, Distance 0.98581\n",
      "Nearest neighbor 5: 20231220-080-01_0000-0005_t10s06, Distance 0.98567\n"
     ]
    }
   ],
   "source": [
    "# Print the most similar documents\n",
    "for i, index in enumerate(indices[0]):\n",
    "    distance = distances[0][i]\n",
    "    print(f\"Nearest neighbor {i+1}: {df.iloc[index, :].name}, Distance {distance:.05f}\")"
   ]
  },
  {
   "cell_type": "code",
   "execution_count": null,
   "metadata": {},
   "outputs": [],
   "source": [
    "\n",
    "for i, (idx, sim) in enumerate(zip(top_indices, top_similarities)):\n",
    "    print(f\"Nearest neighbor {i+1}: {idx}, Distance {sim:.05f}\")"
   ]
  }
 ],
 "metadata": {
  "kernelspec": {
   "display_name": ".venv",
   "language": "python",
   "name": "python3"
  },
  "language_info": {
   "codemirror_mode": {
    "name": "ipython",
    "version": 3
   },
   "file_extension": ".py",
   "mimetype": "text/x-python",
   "name": "python",
   "nbconvert_exporter": "python",
   "pygments_lexer": "ipython3",
   "version": "3.12.2"
  }
 },
 "nbformat": 4,
 "nbformat_minor": 2
}
