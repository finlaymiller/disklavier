{
 "cells": [
  {
   "cell_type": "code",
   "execution_count": 93,
   "metadata": {},
   "outputs": [],
   "source": [
    "import os\n",
    "import time\n",
    "import paramiko\n",
    "from midi_player import MIDIPlayer\n",
    "from midi_player.stylers import dark"
   ]
  },
  {
   "cell_type": "code",
   "execution_count": 94,
   "metadata": {},
   "outputs": [
    {
     "data": {
      "text/html": [
       "<iframe srcdoc=\"&lt;script src=&quot;https://cdn.jsdelivr.net/combine/npm/tone@14.7.58,npm/@magenta/music@1.23.1/es6/core.js,npm/focus-visible@5,npm/html-midi-player@1.5.0&quot;&gt;&lt;/script&gt;\n",
       "\n",
       "&lt;style&gt;\n",
       "/* Custom player style */\n",
       "p { \n",
       "  margin:0; \n",
       "  color: #c4c4c4; /* mid-lightness text color for title, intended for dark backgrounds */\n",
       "}\n",
       "\n",
       "#section446 midi-player {\n",
       "  display: block;\n",
       "  width: inherit;\n",
       "  margin: 4px;\n",
       "  margin-bottom: 0;\n",
       "  color: #d4d4d4; /* Lighter text color for better readability */\n",
       "}\n",
       "#section446 midi-player::part(control-panel) {\n",
       "  background: #222; /* Dark background */\n",
       "  border: 2px solid #888; /* Lightened border color for contrast */\n",
       "  border-radius: 10px 10px 0 0;\n",
       "}\n",
       "#section446 midi-player::part(play-button) {\n",
       "  color: #ffffff; /* White text for visibility */\n",
       "  border: 2px solid currentColor;\n",
       "  background-color: #6c7a89; \n",
       "  border-radius: 20px;\n",
       "  transition: all 0.2s;\n",
       "  content: &#x27;hello&#x27;;\n",
       "}\n",
       "#section446 midi-player::part(play-button):hover {\n",
       "  color: #00a; \n",
       "  background-color: #9fafc9; \n",
       "  border-radius: 10px;\n",
       "}\n",
       "#section446 midi-player::part(time) {\n",
       "  font-family: monospace; /* Monospace font for time */\n",
       "}\n",
       "\n",
       "/* Custom visualizer style */\n",
       "#section446 midi-visualizer .piano-roll-visualizer {\n",
       "  background: #333; /* Dark background for visualizer */\n",
       "  border: 2px solid #505050; /* Dark border for subtle appearance */\n",
       "  border-top: none;\n",
       "  border-radius: 0 0 10px 10px;\n",
       "  margin: 4px;\n",
       "  width: inherit;\n",
       "  margin-top: 0;\n",
       "  overflow: auto;\n",
       "}\n",
       "#section446 midi-visualizer svg rect.note {\n",
       "  opacity: 0.9; \n",
       "  stroke-width: 1; /* Stroke width for note clarity */\n",
       "}\n",
       "\n",
       "/* Different instrument colors */\n",
       "#section446 midi-visualizer svg rect.note[data-instrument=&quot;0&quot;]{\n",
       "  fill: #7aa6ed; /*  blue for Instrument 0 */\n",
       "  stroke: #444; \n",
       "}\n",
       "#section446 midi-visualizer svg rect.note[data-instrument=&quot;2&quot;]{\n",
       "  fill: #d586d0; /* purple for Instrument 2 for consistency */\n",
       "  stroke: #444; /* White stroke for visibility */\n",
       "}\n",
       "#section446 midi-visualizer svg rect.note[data-is-drum=&quot;true&quot;]{\n",
       "  fill: brightorange; \n",
       "  stroke: #bbb;\n",
       "}\n",
       "#section446 midi-visualizer svg rect.note.active {\n",
       "  opacity: 0.9; /* Highlight active notes */\n",
       "  stroke: #ddd; /* White stroke for maximum contrast */\n",
       "  stroke-width: 2; /* Thicker stroke for active notes */\n",
       "}\n",
       "&lt;/style&gt;\n",
       "\n",
       "          &lt;section id=&quot;section446&quot;&gt;&lt;p style=&quot;text-align:left;font-family:Arial;&quot;&gt;&amp;nbsp;&lt;span style=&quot;float:right;&quot;&gt;&lt;a href=&quot;data:audio/midi;base64,TVRoZAAAAAYAAQACANxNVHJrAAAAGwD/UQMST4AA/1EDEk+AAP9YBAQCGAiNYP8vAE1UcmsAAAHWAP8DGTIwMjQwMTI2LTA1MC0wNF8wMzM1LTAzNDUAwACBXpA1Vxc1AAc2Sww1Ogs2AAUwNgk1ABIwABcYXAAkXgAzUDIYAAMkAAI1PAIzACc1ABAwRi4wAEMYXwIkZyUYAAIkAAswNBMwACQ2WgA8VCA8AAc2ABM3WwA8XSQ3AAU8AEIYUgAkTiAYAAokAEI6XwIsSgAxTQA/VyA/ABUsAAAxAAIwNwA6AAMrNgA3NQA8OiQ8AAcwAAIrAAAsMQAxLgA3AAU6PAA/Nx4/ABcxAAA6AAA8RgIrPwAsAAAwOwI3NS48AAIwAAA3AAMrAAAsKAIxLwU1LAA6Jyc6AAYxAAM1AAA3OwIsAAAwPQAzPQUrMy0zAAA1MAA3AAMsJgAwAAAxJwQrAAMxAAksACczPwIYSwA3PQIkQxA1AA4YAAAzAAA3AAckAEkwSQMrQiAwAAQrABAsPgAxPA4xAAIsACo/VgI6UTU8SwJBUAk6AA4/AAQ8AAdBABUZVQAlU3wlABQZABUYVgIkVwA4WgA9UwBCWScYAAA4AAVCAAckAAI3NAI9AABBPgI8RBM3AAJBAAw8ABAsSwAxUwQ4UQA9VABCUx5CAAI4AB49AB4sAAcxAAD/LwA=&quot; target=&quot;_blank&quot;&gt;Download MIDI&lt;/a&gt;&lt;br&gt;&lt;/span&gt;&lt;/p&gt;\n",
       "          &lt;midi-player src=data:audio/midi;base64,TVRoZAAAAAYAAQACANxNVHJrAAAAGwD/UQMST4AA/1EDEk+AAP9YBAQCGAiNYP8vAE1UcmsAAAHWAP8DGTIwMjQwMTI2LTA1MC0wNF8wMzM1LTAzNDUAwACBXpA1Vxc1AAc2Sww1Ogs2AAUwNgk1ABIwABcYXAAkXgAzUDIYAAMkAAI1PAIzACc1ABAwRi4wAEMYXwIkZyUYAAIkAAswNBMwACQ2WgA8VCA8AAc2ABM3WwA8XSQ3AAU8AEIYUgAkTiAYAAokAEI6XwIsSgAxTQA/VyA/ABUsAAAxAAIwNwA6AAMrNgA3NQA8OiQ8AAcwAAIrAAAsMQAxLgA3AAU6PAA/Nx4/ABcxAAA6AAA8RgIrPwAsAAAwOwI3NS48AAIwAAA3AAMrAAAsKAIxLwU1LAA6Jyc6AAYxAAM1AAA3OwIsAAAwPQAzPQUrMy0zAAA1MAA3AAMsJgAwAAAxJwQrAAMxAAksACczPwIYSwA3PQIkQxA1AA4YAAAzAAA3AAckAEkwSQMrQiAwAAQrABAsPgAxPA4xAAIsACo/VgI6UTU8SwJBUAk6AA4/AAQ8AAdBABUZVQAlU3wlABQZABUYVgIkVwA4WgA9UwBCWScYAAA4AAVCAAckAAI3NAI9AABBPgI8RBM3AAJBAAw8ABAsSwAxUwQ4UQA9VABCUx5CAAI4AB49AB4sAAcxAAD/LwA= sound-font visualizer=&quot;#section446 midi-visualizer&quot;&gt;&lt;/midi-player&gt;\n",
       "          &lt;midi-visualizer src=data:audio/midi;base64,TVRoZAAAAAYAAQACANxNVHJrAAAAGwD/UQMST4AA/1EDEk+AAP9YBAQCGAiNYP8vAE1UcmsAAAHWAP8DGTIwMjQwMTI2LTA1MC0wNF8wMzM1LTAzNDUAwACBXpA1Vxc1AAc2Sww1Ogs2AAUwNgk1ABIwABcYXAAkXgAzUDIYAAMkAAI1PAIzACc1ABAwRi4wAEMYXwIkZyUYAAIkAAswNBMwACQ2WgA8VCA8AAc2ABM3WwA8XSQ3AAU8AEIYUgAkTiAYAAokAEI6XwIsSgAxTQA/VyA/ABUsAAAxAAIwNwA6AAMrNgA3NQA8OiQ8AAcwAAIrAAAsMQAxLgA3AAU6PAA/Nx4/ABcxAAA6AAA8RgIrPwAsAAAwOwI3NS48AAIwAAA3AAMrAAAsKAIxLwU1LAA6Jyc6AAYxAAM1AAA3OwIsAAAwPQAzPQUrMy0zAAA1MAA3AAMsJgAwAAAxJwQrAAMxAAksACczPwIYSwA3PQIkQxA1AA4YAAAzAAA3AAckAEkwSQMrQiAwAAQrABAsPgAxPA4xAAIsACo/VgI6UTU8SwJBUAk6AA4/AAQ8AAdBABUZVQAlU3wlABQZABUYVgIkVwA4WgA9UwBCWScYAAA4AAVCAAckAAI3NAI9AABBPgI8RBM3AAJBAAw8ABAsSwAxUwQ4UQA9VABCUx5CAAI4AB49AB4sAAcxAAD/LwA= type=piano-roll&gt;&lt;/midi-visualizer&gt;\n",
       "          &lt;/section&gt;\n",
       "          \" width=\"100%\" height=\"400\"\n",
       "            style=\"border:none !important;\"\n",
       "            \"allowfullscreen\" \"webkitallowfullscreen\" \"mozallowfullscreen\">'\n",
       "            </iframe>"
      ],
      "text/plain": [
       "<midi_player.midi_player.MIDIPlayer at 0x10d8edd30>"
      ]
     },
     "execution_count": 94,
     "metadata": {},
     "output_type": "execute_result"
    }
   ],
   "source": [
    "# Configuration\n",
    "remote_host = \"129.173.66.44\"\n",
    "remote_folder = \"/home/finlay/disklavier/data/outputs\"\n",
    "local_file_path = os.path.join(\n",
    "    \"../data/datasets/20240606/play\", os.listdir(\"../data/datasets/20240606/play\")[0]\n",
    ")\n",
    "local_folder = os.path.dirname(local_file_path)\n",
    "\n",
    "assert os.path.exists(local_file_path)\n",
    "MIDIPlayer(local_file_path, 400, styler=dark)"
   ]
  },
  {
   "cell_type": "code",
   "execution_count": 95,
   "metadata": {},
   "outputs": [],
   "source": [
    "# Create SSH client\n",
    "ssh = paramiko.SSHClient()\n",
    "ssh.set_missing_host_key_policy(paramiko.AutoAddPolicy())\n",
    "ssh.connect(remote_host, 22, \"finlay\")\n",
    "\n",
    "# Create SFTP client\n",
    "sftp = ssh.open_sftp()"
   ]
  },
  {
   "cell_type": "code",
   "execution_count": 96,
   "metadata": {},
   "outputs": [
    {
     "name": "stdout",
     "output_type": "stream",
     "text": [
      "Existing file '/home/finlay/disklavier/data/outputs/20240126-050-04_0335-0345.mid' deleted.\n"
     ]
    },
    {
     "data": {
      "text/plain": [
       "<SFTPAttributes: [ size=527 uid=1011 gid=1011 mode=0o100664 atime=1728957454 mtime=1728957454 ]>"
      ]
     },
     "execution_count": 96,
     "metadata": {},
     "output_type": "execute_result"
    }
   ],
   "source": [
    "# Check if the file already exists on the remote server\n",
    "try:\n",
    "    sftp.stat(remote_file_path)  # Try to get the file's status\n",
    "    # If the file exists, delete it\n",
    "    sftp.remove(remote_file_path)\n",
    "    sftp.remove(remote_file_path[:-4] + \".pt\")\n",
    "    print(f\"Existing file '{remote_file_path}' deleted.\")\n",
    "except FileNotFoundError:\n",
    "    # File does not exist, no action needed\n",
    "    print(f\"No existing file found at '{remote_file_path}'. Proceeding with upload.\")\n",
    "# Upload the file\n",
    "remote_file_path = os.path.join(remote_folder, os.path.basename(local_file_path))\n",
    "sftp.put(local_file_path, remote_file_path)"
   ]
  },
  {
   "cell_type": "code",
   "execution_count": 97,
   "metadata": {},
   "outputs": [
    {
     "name": "stdout",
     "output_type": "stream",
     "text": [
      "looking for '/home/finlay/disklavier/data/outputs/20240126-050-04_0335-0345.pt'\n",
      "looking for '/home/finlay/disklavier/data/outputs/20240126-050-04_0335-0345.pt'\n"
     ]
    }
   ],
   "source": [
    "fp_tensor = remote_file_path[:-4] + \".pt\"\n",
    "while 1:\n",
    "    try:\n",
    "        print(f\"looking for '{fp_tensor}'\")\n",
    "        sftp.stat(fp_tensor)\n",
    "        break\n",
    "    except FileNotFoundError:\n",
    "        time.sleep(1)"
   ]
  },
  {
   "cell_type": "code",
   "execution_count": 98,
   "metadata": {},
   "outputs": [],
   "source": [
    "# Download the new file\n",
    "sftp.get(fp_tensor, os.path.join(local_folder, os.path.basename(new_file_path)))"
   ]
  },
  {
   "cell_type": "code",
   "execution_count": 99,
   "metadata": {},
   "outputs": [],
   "source": [
    "# Clean up\n",
    "sftp.close()\n",
    "ssh.close()"
   ]
  }
 ],
 "metadata": {
  "kernelspec": {
   "display_name": ".venv",
   "language": "python",
   "name": "python3"
  },
  "language_info": {
   "codemirror_mode": {
    "name": "ipython",
    "version": 3
   },
   "file_extension": ".py",
   "mimetype": "text/x-python",
   "name": "python",
   "nbconvert_exporter": "python",
   "pygments_lexer": "ipython3",
   "version": "3.12.2"
  }
 },
 "nbformat": 4,
 "nbformat_minor": 2
}
