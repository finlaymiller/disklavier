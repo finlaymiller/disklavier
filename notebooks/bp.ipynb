{
 "cells": [
  {
   "cell_type": "code",
   "execution_count": 1,
   "metadata": {},
   "outputs": [],
   "source": [
    "from basic_pitch.inference import predict_and_save"
   ]
  },
  {
   "cell_type": "code",
   "execution_count": 2,
   "metadata": {},
   "outputs": [
    {
     "name": "stdout",
     "output_type": "stream",
     "text": [
      "Recording audio for 10 seconds...\n",
      "Audio saved to data/my_recording.wav\n"
     ]
    }
   ],
   "source": [
    "import os\n",
    "import numpy as np\n",
    "import sounddevice as sd\n",
    "from scipy.io.wavfile import write\n",
    "\n",
    "\n",
    "def record_audio(\n",
    "    duration=5, sample_rate=44100, channels=1, filename=\"recorded_audio.wav\"\n",
    "):\n",
    "    \"\"\"\n",
    "    Record audio from the default microphone and save it locally.\n",
    "\n",
    "    Parameters\n",
    "    ----------\n",
    "    duration : int\n",
    "        Recording duration in seconds.\n",
    "    sample_rate : int\n",
    "        Sample rate for the recording.\n",
    "    channels : int\n",
    "        Number of audio channels.\n",
    "    filename : str\n",
    "        Path where the audio file will be saved.\n",
    "\n",
    "    Returns\n",
    "    -------\n",
    "    str\n",
    "        Path to the saved audio file.\n",
    "    \"\"\"\n",
    "    print(f\"Recording audio for {duration} seconds...\")\n",
    "\n",
    "    # record audio\n",
    "    recording = sd.rec(\n",
    "        int(duration * sample_rate),\n",
    "        samplerate=sample_rate,\n",
    "        channels=channels,\n",
    "        dtype=np.int16,\n",
    "    )\n",
    "    sd.wait()  # wait until recording is finished\n",
    "\n",
    "    # save to file\n",
    "    write(filename, sample_rate, recording)\n",
    "    print(f\"Audio saved to {filename}\")\n",
    "\n",
    "    return filename\n",
    "\n",
    "\n",
    "# example usage\n",
    "audio_file = record_audio(duration=10, filename=\"data/my_recording.wav\")"
   ]
  },
  {
   "cell_type": "code",
   "execution_count": 6,
   "metadata": {},
   "outputs": [
    {
     "name": "stderr",
     "output_type": "stream",
     "text": [
      "WARNING:root:Could not load TensorFlow saved model /Users/finlay/Documents/Programming/disklavier/.venv/lib/python3.12/site-packages/basic_pitch/saved_models/icassp_2022/nmp even though it looks like a saved model file with error AttributeError(\"'_UserObject' object has no attribute 'add_slot'\"). Are you sure it's a TensorFlow saved model?\n"
     ]
    },
    {
     "ename": "ValueError",
     "evalue": "File /Users/finlay/Documents/Programming/disklavier/.venv/lib/python3.12/site-packages/basic_pitch/saved_models/icassp_2022/nmp cannot be loaded into either TensorFlow, CoreML, TFLite or ONNX. Please check if it is a supported and valid serialized model and that one of these packages are installed. On this system, ['TensorFlow', 'TensorFlowLite'] is installed.",
     "output_type": "error",
     "traceback": [
      "\u001b[0;31m---------------------------------------------------------------------------\u001b[0m",
      "\u001b[0;31mValueError\u001b[0m                                Traceback (most recent call last)",
      "Cell \u001b[0;32mIn[6], line 4\u001b[0m\n\u001b[1;32m      1\u001b[0m \u001b[38;5;28;01mfrom\u001b[39;00m \u001b[38;5;21;01mbasic_pitch\u001b[39;00m\u001b[38;5;21;01m.\u001b[39;00m\u001b[38;5;21;01minference\u001b[39;00m \u001b[38;5;28;01mimport\u001b[39;00m predict, Model\n\u001b[1;32m      2\u001b[0m \u001b[38;5;28;01mfrom\u001b[39;00m \u001b[38;5;21;01mbasic_pitch\u001b[39;00m \u001b[38;5;28;01mimport\u001b[39;00m ICASSP_2022_MODEL_PATH\n\u001b[0;32m----> 4\u001b[0m basic_pitch_model \u001b[38;5;241m=\u001b[39m \u001b[43mModel\u001b[49m\u001b[43m(\u001b[49m\u001b[43mICASSP_2022_MODEL_PATH\u001b[49m\u001b[43m)\u001b[49m\n",
      "File \u001b[0;32m~/Documents/Programming/disklavier/.venv/lib/python3.12/site-packages/basic_pitch/inference.py:144\u001b[0m, in \u001b[0;36mModel.__init__\u001b[0;34m(self, model_path)\u001b[0m\n\u001b[1;32m    135\u001b[0m         \u001b[38;5;28;01mif\u001b[39;00m \u001b[38;5;28mstr\u001b[39m(model_path)\u001b[38;5;241m.\u001b[39mendswith(\u001b[38;5;124m\"\u001b[39m\u001b[38;5;124m.onnx\u001b[39m\u001b[38;5;124m\"\u001b[39m):\n\u001b[1;32m    136\u001b[0m             logging\u001b[38;5;241m.\u001b[39mwarning(\n\u001b[1;32m    137\u001b[0m                 \u001b[38;5;124m\"\u001b[39m\u001b[38;5;124mCould not load ONNX file \u001b[39m\u001b[38;5;132;01m%s\u001b[39;00m\u001b[38;5;124m even \u001b[39m\u001b[38;5;124m\"\u001b[39m\n\u001b[1;32m    138\u001b[0m                 \u001b[38;5;124m\"\u001b[39m\u001b[38;5;124mthough it looks like a ONNX file with error \u001b[39m\u001b[38;5;132;01m%s\u001b[39;00m\u001b[38;5;124m. \u001b[39m\u001b[38;5;124m\"\u001b[39m\n\u001b[0;32m   (...)\u001b[0m\n\u001b[1;32m    141\u001b[0m                 e\u001b[38;5;241m.\u001b[39m\u001b[38;5;21m__repr__\u001b[39m(),\n\u001b[1;32m    142\u001b[0m             )\n\u001b[0;32m--> 144\u001b[0m \u001b[38;5;28;01mraise\u001b[39;00m \u001b[38;5;167;01mValueError\u001b[39;00m(\n\u001b[1;32m    145\u001b[0m     \u001b[38;5;124mf\u001b[39m\u001b[38;5;124m\"\u001b[39m\u001b[38;5;124mFile \u001b[39m\u001b[38;5;132;01m{\u001b[39;00mmodel_path\u001b[38;5;132;01m}\u001b[39;00m\u001b[38;5;124m cannot be loaded into either \u001b[39m\u001b[38;5;124m\"\u001b[39m\n\u001b[1;32m    146\u001b[0m     \u001b[38;5;124m\"\u001b[39m\u001b[38;5;124mTensorFlow, CoreML, TFLite or ONNX. \u001b[39m\u001b[38;5;124m\"\u001b[39m\n\u001b[1;32m    147\u001b[0m     \u001b[38;5;124m\"\u001b[39m\u001b[38;5;124mPlease check if it is a supported and valid serialized model \u001b[39m\u001b[38;5;124m\"\u001b[39m\n\u001b[1;32m    148\u001b[0m     \u001b[38;5;124m\"\u001b[39m\u001b[38;5;124mand that one of these packages are installed. On this system, \u001b[39m\u001b[38;5;124m\"\u001b[39m\n\u001b[1;32m    149\u001b[0m     \u001b[38;5;124mf\u001b[39m\u001b[38;5;124m\"\u001b[39m\u001b[38;5;132;01m{\u001b[39;00mpresent\u001b[38;5;132;01m}\u001b[39;00m\u001b[38;5;124m is installed.\u001b[39m\u001b[38;5;124m\"\u001b[39m\n\u001b[1;32m    150\u001b[0m )\n",
      "\u001b[0;31mValueError\u001b[0m: File /Users/finlay/Documents/Programming/disklavier/.venv/lib/python3.12/site-packages/basic_pitch/saved_models/icassp_2022/nmp cannot be loaded into either TensorFlow, CoreML, TFLite or ONNX. Please check if it is a supported and valid serialized model and that one of these packages are installed. On this system, ['TensorFlow', 'TensorFlowLite'] is installed."
     ]
    }
   ],
   "source": [
    "from basic_pitch.inference import predict, Model\n",
    "from basic_pitch import ICASSP_2022_MODEL_PATH\n",
    "\n",
    "basic_pitch_model = Model(ICASSP_2022_MODEL_PATH)"
   ]
  },
  {
   "cell_type": "code",
   "execution_count": 5,
   "metadata": {},
   "outputs": [
    {
     "ename": "TypeError",
     "evalue": "predict_and_save() missing 4 required positional arguments: 'sonify_midi', 'save_model_outputs', 'save_notes', and 'model_or_model_path'",
     "output_type": "error",
     "traceback": [
      "\u001b[0;31m---------------------------------------------------------------------------\u001b[0m",
      "\u001b[0;31mTypeError\u001b[0m                                 Traceback (most recent call last)",
      "Cell \u001b[0;32mIn[5], line 1\u001b[0m\n\u001b[0;32m----> 1\u001b[0m \u001b[43mpredict_and_save\u001b[49m\u001b[43m(\u001b[49m\u001b[43maudio_file\u001b[49m\u001b[43m,\u001b[49m\u001b[43m \u001b[49m\u001b[38;5;124;43m\"\u001b[39;49m\u001b[38;5;124;43mdata/predictions\u001b[39;49m\u001b[38;5;124;43m\"\u001b[39;49m\u001b[43m,\u001b[49m\u001b[43m \u001b[49m\u001b[43msave_midi\u001b[49m\u001b[38;5;241;43m=\u001b[39;49m\u001b[38;5;28;43;01mTrue\u001b[39;49;00m\u001b[43m)\u001b[49m\n",
      "\u001b[0;31mTypeError\u001b[0m: predict_and_save() missing 4 required positional arguments: 'sonify_midi', 'save_model_outputs', 'save_notes', and 'model_or_model_path'"
     ]
    }
   ],
   "source": [
    "predict_and_save(audio_file, \"data/predictions\", save_midi=True, False, False, False)"
   ]
  }
 ],
 "metadata": {
  "kernelspec": {
   "display_name": ".venv",
   "language": "python",
   "name": "python3"
  },
  "language_info": {
   "codemirror_mode": {
    "name": "ipython",
    "version": 3
   },
   "file_extension": ".py",
   "mimetype": "text/x-python",
   "name": "python",
   "nbconvert_exporter": "python",
   "pygments_lexer": "ipython3",
   "version": "3.12.2"
  }
 },
 "nbformat": 4,
 "nbformat_minor": 2
}
