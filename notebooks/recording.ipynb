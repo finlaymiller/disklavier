{
 "cells": [
  {
   "cell_type": "code",
   "execution_count": 1,
   "metadata": {},
   "outputs": [
    {
     "name": "stdout",
     "output_type": "stream",
     "text": [
      "Intel MKL WARNING: Support of Intel(R) Streaming SIMD Extensions 4.2 (Intel(R) SSE4.2) enabled only processors has been deprecated. Intel oneAPI Math Kernel Library 2025.0 will require Intel(R) Advanced Vector Extensions (Intel(R) AVX) instructions.\n",
      "Intel MKL WARNING: Support of Intel(R) Streaming SIMD Extensions 4.2 (Intel(R) SSE4.2) enabled only processors has been deprecated. Intel oneAPI Math Kernel Library 2025.0 will require Intel(R) Advanced Vector Extensions (Intel(R) AVX) instructions.\n"
     ]
    }
   ],
   "source": [
    "import mido\n",
    "from mido import Message, MidiFile, MidiTrack\n",
    "import pretty_midi\n",
    "import numpy as np\n",
    "from pathlib import Path\n",
    "import matplotlib.pyplot as plt\n",
    "import matplotlib.patches as patches\n",
    "import time"
   ]
  },
  {
   "cell_type": "code",
   "execution_count": 2,
   "metadata": {},
   "outputs": [
    {
     "name": "stdout",
     "output_type": "stream",
     "text": [
      "found input ports: ['Disklavier']\n",
      "found output ports: ['Disklavier']\n",
      "using port Disklavier\n"
     ]
    }
   ],
   "source": [
    "print(f\"found input ports: {mido.get_input_names()}\")\n",
    "print(f\"found output ports: {mido.get_output_names()}\")\n",
    "\n",
    "outfile = '../recordings/live_piano_recording.mid'\n",
    "ctrl = 67  # CC 64 is the standard sustain pedal\n",
    "pedal_value = 127  # Value might need adjustment\n",
    "\n",
    "device = mido.get_input_names()[0]\n",
    "print(f\"using port {device}\")"
   ]
  },
  {
   "cell_type": "code",
   "execution_count": 11,
   "metadata": {},
   "outputs": [],
   "source": [
    "def stretch_midi_file(midi, new_duration_seconds):\n",
    "    print(f\"rescaling file from {midi.length} to {new_duration_seconds}\")\n",
    "    # Calculate stretch factor based on the provided original duration\n",
    "    stretch_factor = new_duration_seconds / midi.length\n",
    "    \n",
    "    # Scale the time attribute of each message by the stretch factor\n",
    "    for track in midi.tracks:\n",
    "        for msg in track:\n",
    "            msg.time = int(msg.time * stretch_factor)\n",
    "    \n",
    "    # Save the modified MIDI file back to the same path\n",
    "    return midi\n"
   ]
  },
  {
   "cell_type": "code",
   "execution_count": 12,
   "metadata": {},
   "outputs": [],
   "source": [
    "def calculate_delta_time(start_time, current_time, ticks_per_beat):\n",
    "    # Calculate delta time in seconds\n",
    "    delta_seconds = current_time - start_time\n",
    "    # Convert delta time to ticks\n",
    "    return int(delta_seconds * ticks_per_beat)"
   ]
  },
  {
   "cell_type": "code",
   "execution_count": 25,
   "metadata": {},
   "outputs": [
    {
     "name": "stdout",
     "output_type": "stream",
     "text": [
      "recording at 480tpb... Press Ctrl+C to stop.\n",
      "control_change channel=0 control=67 value=10 time=820468597258\n",
      "recording...\n",
      "control_change channel=0 control=67 value=17 time=9\n",
      "control_change channel=0 control=67 value=21 time=9\n",
      "control_change channel=0 control=67 value=24 time=9\n",
      "control_change channel=0 control=67 value=26 time=9\n",
      "control_change channel=0 control=67 value=29 time=9\n",
      "control_change channel=0 control=67 value=33 time=9\n",
      "control_change channel=0 control=67 value=38 time=9\n",
      "control_change channel=0 control=67 value=45 time=9\n",
      "control_change channel=0 control=67 value=58 time=9\n",
      "control_change channel=0 control=67 value=76 time=9\n",
      "control_change channel=0 control=67 value=103 time=9\n",
      "control_change channel=0 control=67 value=127 time=9\n",
      "note_on channel=0 note=48 velocity=54 time=158\n",
      "adding note to track\n",
      "note_off channel=0 note=48 velocity=46 time=78\n",
      "adding note to track\n",
      "note_on channel=0 note=50 velocity=61 time=28\n",
      "adding note to track\n",
      "note_off channel=0 note=50 velocity=62 time=60\n",
      "adding note to track\n",
      "note_on channel=0 note=51 velocity=67 time=51\n",
      "adding note to track\n",
      "note_off channel=0 note=51 velocity=54 time=54\n",
      "adding note to track\n",
      "note_on channel=0 note=53 velocity=58 time=80\n",
      "adding note to track\n",
      "note_off channel=0 note=53 velocity=57 time=65\n",
      "adding note to track\n",
      "note_on channel=0 note=51 velocity=55 time=59\n",
      "adding note to track\n",
      "note_off channel=0 note=51 velocity=60 time=70\n",
      "adding note to track\n",
      "note_on channel=0 note=53 velocity=62 time=64\n",
      "adding note to track\n",
      "note_off channel=0 note=53 velocity=54 time=77\n",
      "adding note to track\n",
      "note_on channel=0 note=51 velocity=68 time=46\n",
      "adding note to track\n",
      "note_off channel=0 note=51 velocity=61 time=47\n",
      "adding note to track\n",
      "control_change channel=0 control=67 value=108 time=160\n",
      "control_change channel=0 control=67 value=72 time=9\n",
      "control_change channel=0 control=67 value=24 time=9\n",
      "control_change channel=0 control=67 value=0 time=9\n",
      "stopping recording at 2.60s...\n",
      "rescaling file from 0.9760416666666666 to 2.5995640754699707\n",
      "Recording saved to 'live_piano_recording.mid'.\n"
     ]
    }
   ],
   "source": [
    "# Create a new MIDI file and track\n",
    "mid = MidiFile()\n",
    "track = MidiTrack()\n",
    "mid.tracks.append(track)\n",
    "track.append(Message('program_change', program=12))\n",
    "\n",
    "ticks_per_beat = mid.ticks_per_beat  # Default ticks per beat for MIDI file\n",
    "start_time = -1\n",
    "end_time = -1\n",
    "last_note_time = start_time\n",
    "\n",
    "is_recording = False\n",
    "\n",
    "# Open the input port for the MIDI keyboard\n",
    "with mido.open_input(device) as inport:\n",
    "    print(f\"recording at {ticks_per_beat}tpb... Press Ctrl+C to stop.\")\n",
    "\n",
    "    try:\n",
    "        for msg in inport:\n",
    "            current_time = time.time()\n",
    "            delta_time = calculate_delta_time(last_note_time, current_time, ticks_per_beat)\n",
    "            msg.time = delta_time\n",
    "            print(msg)\n",
    "            last_note_time = current_time \n",
    "            if msg.type == 'control_change' and msg.control == ctrl:\n",
    "                if msg.value == 0:\n",
    "                    end_time = time.time()\n",
    "                    print(f\"stopping recording at {end_time - start_time:.02f}s...\")\n",
    "                    is_recording = False\n",
    "                    break\n",
    "                elif is_recording == False:\n",
    "                    print(f\"recording...\")\n",
    "                    start_time = time.time()\n",
    "                    is_recording = True\n",
    "            elif is_recording and msg.type in ['note_on', 'note_off']:\n",
    "                print(\"adding note to track\")\n",
    "                track.append(msg)\n",
    "    except KeyboardInterrupt:\n",
    "        # Stop recording on Ctrl+C\n",
    "        end_time = time.time()\n",
    "        print(f\"stopping recording at {end_time}...\")\n",
    "\n",
    "# Save the recorded MIDI messages to a file\n",
    "mid = stretch_midi_file(mid, end_time - start_time)\n",
    "mid.save(outfile)\n",
    "print(\"Recording saved to 'live_piano_recording.mid'.\")\n"
   ]
  },
  {
   "cell_type": "code",
   "execution_count": 26,
   "metadata": {},
   "outputs": [
    {
     "name": "stdout",
     "output_type": "stream",
     "text": [
      "=== Track 0\n",
      "\tMessage('program_change', channel=0, program=12, time=0)\n",
      "\tMessage('note_on', channel=0, note=48, velocity=54, time=420)\n",
      "\tMessage('note_off', channel=0, note=48, velocity=46, time=207)\n",
      "\tMessage('note_on', channel=0, note=50, velocity=61, time=74)\n",
      "\tMessage('note_off', channel=0, note=50, velocity=62, time=159)\n",
      "\tMessage('note_on', channel=0, note=51, velocity=67, time=135)\n",
      "\tMessage('note_off', channel=0, note=51, velocity=54, time=143)\n",
      "\tMessage('note_on', channel=0, note=53, velocity=58, time=213)\n",
      "\tMessage('note_off', channel=0, note=53, velocity=57, time=173)\n",
      "\tMessage('note_on', channel=0, note=51, velocity=55, time=157)\n",
      "\tMessage('note_off', channel=0, note=51, velocity=60, time=186)\n",
      "\tMessage('note_on', channel=0, note=53, velocity=62, time=170)\n",
      "\tMessage('note_off', channel=0, note=53, velocity=54, time=205)\n",
      "\tMessage('note_on', channel=0, note=51, velocity=68, time=122)\n",
      "\tMessage('note_off', channel=0, note=51, velocity=61, time=125)\n",
      "\tMetaMessage('end_of_track', time=0)\n"
     ]
    }
   ],
   "source": [
    "def print_midi(filename):\n",
    "    midi_file = MidiFile(filename)\n",
    "    for i, track in enumerate(midi_file.tracks):\n",
    "            print(f'=== Track {i}')\n",
    "            for message in track:\n",
    "                print(f'\\t{message!r}')\n",
    "print_midi(outfile)"
   ]
  },
  {
   "cell_type": "code",
   "execution_count": 27,
   "metadata": {},
   "outputs": [],
   "source": [
    "def draw_midi(midi_file: str, labels: bool = False):\n",
    "    plt.style.use(\"dark_background\")\n",
    "\n",
    "    midi = pretty_midi.PrettyMIDI(midi_file)\n",
    "\n",
    "    _, ax = plt.subplots(figsize=(12, 4))\n",
    "\n",
    "    for note in midi.instruments[0].notes:\n",
    "        rect = patches.Rectangle(\n",
    "            (note.start, note.pitch), note.end - note.start, 1, color=\"green\"\n",
    "        )\n",
    "        ax.add_patch(rect)\n",
    "\n",
    "    if labels:\n",
    "        ax.set_xlabel(\"Time (s)\")\n",
    "        ax.set_ylabel(\"MIDI Note\")\n",
    "    ax.set_yticks([])\n",
    "    ax.set_title(f\"{Path(midi_file).stem}\")\n",
    "\n",
    "    plt.box(False)\n",
    "    plt.ylim(20, 108)  # MIDI note range for a piano\n",
    "    plt.xlim(0, np.ceil(midi.instruments[0].notes[-1].end))\n",
    "    plt.show()"
   ]
  },
  {
   "cell_type": "code",
   "execution_count": 28,
   "metadata": {},
   "outputs": [
    {
     "data": {
      "image/png": "[encoded data removed]",
      "text/plain": [
       "<Figure size 1200x400 with 1 Axes>"
      ]
     },
     "metadata": {},
     "output_type": "display_data"
    }
   ],
   "source": [
    "draw_midi(outfile)"
   ]
  },
  {
   "cell_type": "code",
   "execution_count": 29,
   "metadata": {},
   "outputs": [],
   "source": [
    "def play_midi_file(midi_file_path, output_port_name):\n",
    "    \"\"\"\n",
    "    Play a MIDI file through the specified MIDI output port.\n",
    "\n",
    "    Parameters:\n",
    "    - midi_file_path: The path to the MIDI file to be played.\n",
    "    - output_port_name: The name of the MIDI output port.\n",
    "    \"\"\"\n",
    "    # Load the MIDI file\n",
    "    mid = MidiFile(midi_file_path)\n",
    "    \n",
    "    # Open the MIDI output port\n",
    "    with mido.open_output(output_port_name) as outport:\n",
    "        print(f\"Playing {midi_file_path} on {output_port_name}...\")\n",
    "        for msg in mid.play():\n",
    "            if not msg.is_meta:\n",
    "                outport.send(msg)\n",
    "\n",
    "    print(\"Playback finished.\")"
   ]
  },
  {
   "cell_type": "code",
   "execution_count": 30,
   "metadata": {},
   "outputs": [
    {
     "name": "stdout",
     "output_type": "stream",
     "text": [
      "Playing ../recordings/live_piano_recording.mid on Disklavier...\n",
      "Playback finished.\n"
     ]
    }
   ],
   "source": [
    "play_midi_file('../recordings/live_piano_recording.mid', 'Disklavier')"
   ]
  }
 ],
 "metadata": {
  "kernelspec": {
   "display_name": "full",
   "language": "python",
   "name": "python3"
  },
  "language_info": {
   "codemirror_mode": {
    "name": "ipython",
    "version": 3
   },
   "file_extension": ".py",
   "mimetype": "text/x-python",
   "name": "python",
   "nbconvert_exporter": "python",
   "pygments_lexer": "ipython3",
   "version": "3.11.5"
  }
 },
 "nbformat": 4,
 "nbformat_minor": 2
}
