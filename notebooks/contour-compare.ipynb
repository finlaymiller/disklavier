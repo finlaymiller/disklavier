{
 "cells": [
  {
   "cell_type": "code",
   "execution_count": null,
   "metadata": {},
   "outputs": [],
   "source": [
    "import mido\n",
    "from copy import deepcopy"
   ]
  },
  {
   "cell_type": "code",
   "execution_count": null,
   "metadata": {},
   "outputs": [],
   "source": [
    "def shift_notes_and_save(midi_path: str, n: int, b: float):\n",
    "    \"\"\"\n",
    "    Creates all permutations of a MIDI file by cyclically shifting the notes.\n",
    "\n",
    "    Args:\n",
    "        midi_path (str): Path to the MIDI file.\n",
    "        n (int): Total number of beats in the MIDI file.\n",
    "        b (float): Number of beats to shift by in each permutation.\n",
    "\n",
    "    Returns:\n",
    "        List[mido.MidiFile]: A list of MIDI files with shifted notes.\n",
    "    \"\"\"\n",
    "    # Load the MIDI file\n",
    "    original_midi = mido.MidiFile(midi_path)\n",
    "    ticks_per_beat = original_midi.ticks_per_beat\n",
    "    shift_ticks = int(ticks_per_beat * b)  # Convert beats to ticks for the shift\n",
    "\n",
    "    # Calculate the number of permutations\n",
    "    num_permutations = int(n / b)\n",
    "\n",
    "    permutations = []\n",
    "    for shift_index in range(num_permutations):\n",
    "        # Deep copy the original MIDI to avoid altering it\n",
    "        new_midi = deepcopy(original_midi)\n",
    "        for track in new_midi.tracks:\n",
    "            for msg in track:\n",
    "                if not msg.is_meta and hasattr(msg, \"time\"):\n",
    "                    # Adjust the time by the shift amount\n",
    "                    msg.time = (msg.time + shift_ticks) % (ticks_per_beat * n)\n",
    "\n",
    "        # Append the new MIDI file to the list\n",
    "        permutations.append(new_midi)\n",
    "\n",
    "    return permutations"
   ]
  },
  {
   "cell_type": "code",
   "execution_count": null,
   "metadata": {},
   "outputs": [],
   "source": [
    "# Example usage\n",
    "midi_permutations = shift_notes_and_save('path_to_midi_file.mid', 16, 1)\n",
    "for i, midi_file in enumerate(midi_permutations):\n",
    "    midi_file.save(f'output_shifted_{i}.mid')"
   ]
  }
 ],
 "metadata": {
  "kernelspec": {
   "display_name": ".venv",
   "language": "python",
   "name": "python3"
  },
  "language_info": {
   "name": "python",
   "version": "3.12.2"
  }
 },
 "nbformat": 4,
 "nbformat_minor": 2
}
