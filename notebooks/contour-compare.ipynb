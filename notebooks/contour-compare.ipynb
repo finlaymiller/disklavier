{
 "cells": [
  {
   "cell_type": "code",
   "execution_count": 2,
   "metadata": {},
   "outputs": [],
   "source": [
    "import os\n",
    "import mido\n",
    "from copy import deepcopy"
   ]
  },
  {
   "cell_type": "code",
   "execution_count": null,
   "metadata": {},
   "outputs": [],
   "source": [
    "def shift_notes_and_save(midi_path: str, n: int, b: float):\n",
    "    \"\"\"\n",
    "    Creates all permutations of a MIDI file by cyclically shifting the notes.\n",
    "\n",
    "    Args:\n",
    "        midi_path (str): Path to the MIDI file.\n",
    "        n (int): Total number of beats in the MIDI file.\n",
    "        b (float): Number of beats to shift by in each permutation.\n",
    "\n",
    "    Returns:\n",
    "        List[mido.MidiFile]: A list of MIDI files with shifted notes.\n",
    "    \"\"\"\n",
    "    # Load the MIDI file\n",
    "    original_midi = mido.MidiFile(midi_path)\n",
    "    ticks_per_beat = original_midi.ticks_per_beat\n",
    "    shift_ticks = int(ticks_per_beat * b)  # Convert beats to ticks for the shift\n",
    "\n",
    "    # Calculate the number of permutations\n",
    "    num_permutations = int(n / b)\n",
    "\n",
    "    permutations = []\n",
    "    for shift_index in range(num_permutations):\n",
    "        # Deep copy the original MIDI to avoid altering it\n",
    "        new_midi = deepcopy(original_midi)\n",
    "        for track in new_midi.tracks:\n",
    "            for msg in track:\n",
    "                if not msg.is_meta and hasattr(msg, \"time\"):\n",
    "                    # Adjust the time by the shift amount\n",
    "                    msg.time = (msg.time + shift_ticks) % (ticks_per_beat * n)\n",
    "\n",
    "        # Append the new MIDI file to the list\n",
    "        permutations.append(new_midi)\n",
    "\n",
    "    return permutations"
   ]
  },
  {
   "cell_type": "code",
   "execution_count": null,
   "metadata": {},
   "outputs": [],
   "source": [
    "# Example usage\n",
    "midi_permutations = shift_notes_and_save('path_to_midi_file.mid', 16, 1)\n",
    "for i, midi_file in enumerate(midi_permutations):\n",
    "    midi_file.save(f'output_shifted_{i}.mid')"
   ]
  },
  {
   "cell_type": "code",
   "execution_count": 5,
   "metadata": {},
   "outputs": [
    {
     "name": "stdout",
     "output_type": "stream",
     "text": [
      "playing recording-040-240501_143824.mid\n",
      "=== Track 0\n",
      "MetaMessage('set_tempo', tempo=1500000, time=0)\n",
      "Message('note_on', channel=0, note=48, velocity=66, time=0)\n",
      "Message('note_off', channel=0, note=48, velocity=53, time=72)\n",
      "Message('note_on', channel=0, note=49, velocity=66, time=293)\n",
      "Message('note_off', channel=0, note=49, velocity=52, time=79)\n",
      "Message('note_on', channel=0, note=50, velocity=61, time=257)\n",
      "Message('note_off', channel=0, note=50, velocity=54, time=101)\n",
      "Message('note_on', channel=0, note=51, velocity=70, time=259)\n",
      "Message('note_off', channel=0, note=51, velocity=51, time=65)\n",
      "Message('note_on', channel=0, note=52, velocity=70, time=299)\n",
      "Message('note_off', channel=0, note=52, velocity=56, time=103)\n",
      "Message('note_on', channel=0, note=53, velocity=64, time=259)\n",
      "Message('note_off', channel=0, note=53, velocity=53, time=79)\n",
      "Message('note_on', channel=0, note=54, velocity=62, time=265)\n",
      "Message('note_off', channel=0, note=54, velocity=58, time=67)\n",
      "Message('note_on', channel=0, note=55, velocity=64, time=277)\n",
      "Message('note_off', channel=0, note=55, velocity=56, time=109)\n",
      "Message('note_on', channel=0, note=48, velocity=68, time=253)\n",
      "Message('note_off', channel=0, note=48, velocity=39, time=152)\n",
      "Message('note_on', channel=0, note=49, velocity=64, time=220)\n",
      "Message('note_off', channel=0, note=49, velocity=35, time=86)\n",
      "Message('note_on', channel=0, note=50, velocity=58, time=257)\n",
      "Message('note_off', channel=0, note=50, velocity=33, time=123)\n",
      "Message('note_on', channel=0, note=51, velocity=62, time=231)\n",
      "Message('note_off', channel=0, note=51, velocity=35, time=165)\n",
      "Message('note_on', channel=0, note=48, velocity=65, time=216)\n",
      "Message('note_off', channel=0, note=48, velocity=55, time=123)\n",
      "Message('note_on', channel=0, note=49, velocity=64, time=258)\n",
      "Message('note_off', channel=0, note=49, velocity=49, time=125)\n",
      "Message('note_on', channel=0, note=50, velocity=62, time=243)\n",
      "Message('note_off', channel=0, note=50, velocity=54, time=123)\n",
      "Message('note_on', channel=0, note=51, velocity=72, time=252)\n",
      "Message('note_off', channel=0, note=51, velocity=60, time=134)\n",
      "MetaMessage('end_of_track', time=0)\n",
      "playing recording-080-240501_143918.mid\n",
      "=== Track 0\n",
      "MetaMessage('set_tempo', tempo=750000, time=0)\n",
      "Message('note_on', channel=0, note=48, velocity=73, time=0)\n",
      "Message('note_off', channel=0, note=48, velocity=59, time=79)\n",
      "Message('note_on', channel=0, note=49, velocity=65, time=247)\n",
      "Message('note_off', channel=0, note=49, velocity=54, time=71)\n",
      "Message('note_on', channel=0, note=50, velocity=64, time=266)\n",
      "Message('note_off', channel=0, note=50, velocity=55, time=95)\n",
      "Message('note_on', channel=0, note=51, velocity=62, time=277)\n",
      "Message('note_off', channel=0, note=51, velocity=46, time=94)\n",
      "Message('note_on', channel=0, note=52, velocity=68, time=274)\n",
      "Message('note_off', channel=0, note=52, velocity=51, time=95)\n",
      "Message('note_on', channel=0, note=53, velocity=62, time=289)\n",
      "Message('note_off', channel=0, note=53, velocity=35, time=145)\n",
      "Message('note_on', channel=0, note=54, velocity=72, time=281)\n",
      "Message('note_off', channel=0, note=54, velocity=54, time=68)\n",
      "Message('note_on', channel=0, note=55, velocity=64, time=294)\n",
      "Message('note_off', channel=0, note=55, velocity=51, time=120)\n",
      "Message('note_on', channel=0, note=48, velocity=65, time=133)\n",
      "Message('note_off', channel=0, note=48, velocity=53, time=136)\n",
      "Message('note_on', channel=0, note=49, velocity=64, time=201)\n",
      "Message('note_off', channel=0, note=49, velocity=31, time=133)\n",
      "Message('note_on', channel=0, note=50, velocity=59, time=210)\n",
      "Message('note_off', channel=0, note=50, velocity=54, time=76)\n",
      "Message('note_on', channel=0, note=51, velocity=67, time=255)\n",
      "Message('note_off', channel=0, note=51, velocity=43, time=126)\n",
      "Message('note_on', channel=0, note=52, velocity=63, time=227)\n",
      "Message('note_off', channel=0, note=52, velocity=52, time=127)\n",
      "Message('note_on', channel=0, note=51, velocity=70, time=246)\n",
      "Message('note_off', channel=0, note=51, velocity=35, time=130)\n",
      "Message('note_on', channel=0, note=50, velocity=68, time=248)\n",
      "Message('note_off', channel=0, note=50, velocity=50, time=133)\n",
      "Message('note_on', channel=0, note=49, velocity=65, time=223)\n",
      "Message('note_off', channel=0, note=49, velocity=55, time=143)\n",
      "MetaMessage('end_of_track', time=0)\n"
     ]
    }
   ],
   "source": [
    "rec_path = os.path.join(\"tmp\", \"recordings\")\n",
    "\n",
    "for recording in os.listdir(rec_path):\n",
    "    print(f\"playing {recording}\")\n",
    "    midi = mido.MidiFile(os.path.join(rec_path, recording))\n",
    "    midi.print_tracks()\n",
    "\n",
    "    with mido.open_output(\"Disklavier\") as outport:\n",
    "        for msg in midi.play():\n",
    "            outport.send(msg)"
   ]
  },
  {
   "cell_type": "code",
   "execution_count": 7,
   "metadata": {},
   "outputs": [
    {
     "name": "stdout",
     "output_type": "stream",
     "text": [
      "1500000\n"
     ]
    }
   ],
   "source": [
    "mbt = mido.bpm2tempo(1500000)\n",
    "mspb = lambda tempo: int((60 / tempo) * 1_000_000)\n",
    "print(mspb(40))"
   ]
  }
 ],
 "metadata": {
  "kernelspec": {
   "display_name": ".venv",
   "language": "python",
   "name": "python3"
  },
  "language_info": {
   "codemirror_mode": {
    "name": "ipython",
    "version": 3
   },
   "file_extension": ".py",
   "mimetype": "text/x-python",
   "name": "python",
   "nbconvert_exporter": "python",
   "pygments_lexer": "ipython3",
   "version": "3.12.2"
  }
 },
 "nbformat": 4,
 "nbformat_minor": 2
}
