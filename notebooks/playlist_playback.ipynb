{
 "cells": [
  {
   "cell_type": "code",
   "execution_count": 1,
   "metadata": {},
   "outputs": [],
   "source": [
    "import os\n",
    "import mido"
   ]
  },
  {
   "cell_type": "code",
   "execution_count": 8,
   "metadata": {},
   "outputs": [
    {
     "name": "stdout",
     "output_type": "stream",
     "text": [
      "playing ../data/playlist/240327-1335-pitch_histogram/recording-080-240327_133603.mid\n",
      "playing ../data/playlist/240327-1335-pitch_histogram/20240123-070-07_0877-0891_u04.mid\n",
      "playing ../data/playlist/240327-1335-pitch_histogram/20240227-076-05_0530-0543_d02.mid\n",
      "playing ../data/playlist/240327-1335-pitch_histogram/20240213-100-01_0297-0307_d02.mid\n",
      "playing ../data/playlist/240327-1335-pitch_histogram/20240213-100-01_0307-0316_d02.mid\n",
      "playing ../data/playlist/240327-1335-pitch_histogram/20240213-100-06_0259-0268_d02.mid\n",
      "playing ../data/playlist/240327-1335-pitch_histogram/20240213-100-01_0316-0326_d02.mid\n",
      "playing ../data/playlist/240327-1335-pitch_histogram/20240213-100-06_0441-0451_d02.mid\n",
      "playing ../data/playlist/240327-1335-pitch_histogram/20240213-100-06_0259-0268_d02.mid\n"
     ]
    },
    {
     "ename": "KeyboardInterrupt",
     "evalue": "",
     "output_type": "error",
     "traceback": [
      "\u001b[0;31m---------------------------------------------------------------------------\u001b[0m",
      "\u001b[0;31mKeyboardInterrupt\u001b[0m                         Traceback (most recent call last)",
      "Cell \u001b[0;32mIn[8], line 12\u001b[0m\n\u001b[1;32m     10\u001b[0m midi \u001b[38;5;241m=\u001b[39m mido\u001b[38;5;241m.\u001b[39mMidiFile(file)\n\u001b[1;32m     11\u001b[0m \u001b[38;5;28;01mwith\u001b[39;00m mido\u001b[38;5;241m.\u001b[39mopen_output(\u001b[38;5;124m\"\u001b[39m\u001b[38;5;124mDisklavier\u001b[39m\u001b[38;5;124m\"\u001b[39m) \u001b[38;5;28;01mas\u001b[39;00m output:\n\u001b[0;32m---> 12\u001b[0m \u001b[43m    \u001b[49m\u001b[38;5;28;43;01mfor\u001b[39;49;00m\u001b[43m \u001b[49m\u001b[43mmsg\u001b[49m\u001b[43m \u001b[49m\u001b[38;5;129;43;01min\u001b[39;49;00m\u001b[43m \u001b[49m\u001b[43mmidi\u001b[49m\u001b[38;5;241;43m.\u001b[39;49m\u001b[43mplay\u001b[49m\u001b[43m(\u001b[49m\u001b[43m)\u001b[49m\u001b[43m:\u001b[49m\n\u001b[1;32m     13\u001b[0m \u001b[43m        \u001b[49m\u001b[43moutput\u001b[49m\u001b[38;5;241;43m.\u001b[39;49m\u001b[43msend\u001b[49m\u001b[43m(\u001b[49m\u001b[43mmsg\u001b[49m\u001b[43m)\u001b[49m\n",
      "File \u001b[0;32m~/Documents/Programming/disklavier/.venv/lib/python3.12/site-packages/mido/midifiles/midifiles.py:433\u001b[0m, in \u001b[0;36mMidiFile.play\u001b[0;34m(self, meta_messages, now)\u001b[0m\n\u001b[1;32m    430\u001b[0m duration_to_next_event \u001b[38;5;241m=\u001b[39m input_time \u001b[38;5;241m-\u001b[39m playback_time\n\u001b[1;32m    432\u001b[0m \u001b[38;5;28;01mif\u001b[39;00m duration_to_next_event \u001b[38;5;241m>\u001b[39m \u001b[38;5;241m0.0\u001b[39m:\n\u001b[0;32m--> 433\u001b[0m     \u001b[43mtime\u001b[49m\u001b[38;5;241;43m.\u001b[39;49m\u001b[43msleep\u001b[49m\u001b[43m(\u001b[49m\u001b[43mduration_to_next_event\u001b[49m\u001b[43m)\u001b[49m\n\u001b[1;32m    435\u001b[0m \u001b[38;5;28;01mif\u001b[39;00m \u001b[38;5;28misinstance\u001b[39m(msg, MetaMessage) \u001b[38;5;129;01mand\u001b[39;00m \u001b[38;5;129;01mnot\u001b[39;00m meta_messages:\n\u001b[1;32m    436\u001b[0m     \u001b[38;5;28;01mcontinue\u001b[39;00m\n",
      "\u001b[0;31mKeyboardInterrupt\u001b[0m: "
     ]
    }
   ],
   "source": [
    "playlist_path = \"/Users/finlay/Documents/Programming/disklavier/data/playlist/240327-1335-pitch_histogram\"\n",
    "playlist = os.path.join(playlist_path, \"playlist.txt\")\n",
    "\n",
    "with open(playlist, \"r\") as file:\n",
    "    lines = [line.rstrip() for line in file]\n",
    "\n",
    "for filepath in lines:\n",
    "    file = os.path.join(\"..\", filepath)\n",
    "    print(f\"playing {file}\")\n",
    "    midi = mido.MidiFile(file)\n",
    "    with mido.open_output(\"Disklavier\") as output:\n",
    "        for msg in midi.play():\n",
    "            output.send(msg)"
   ]
  }
 ],
 "metadata": {
  "kernelspec": {
   "display_name": ".venv",
   "language": "python",
   "name": "python3"
  },
  "language_info": {
   "codemirror_mode": {
    "name": "ipython",
    "version": 3
   },
   "file_extension": ".py",
   "mimetype": "text/x-python",
   "name": "python",
   "nbconvert_exporter": "python",
   "pygments_lexer": "ipython3",
   "version": "3.12.2"
  }
 },
 "nbformat": 4,
 "nbformat_minor": 2
}
