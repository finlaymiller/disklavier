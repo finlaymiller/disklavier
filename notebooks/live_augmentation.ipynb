{
 "cells": [
  {
   "cell_type": "code",
   "execution_count": 1,
   "metadata": {},
   "outputs": [],
   "source": [
    "import os\n",
    "import faiss\n",
    "import torch\n",
    "import random\n",
    "import numpy as np\n",
    "import pandas as pd\n",
    "import matplotlib.pyplot as plt\n",
    "import seaborn as sns\n",
    "\n",
    "random.seed(0)"
   ]
  },
  {
   "cell_type": "code",
   "execution_count": 2,
   "metadata": {},
   "outputs": [
    {
     "data": {
      "text/plain": [
       "['20231220-080-01_0000-0005_t00s00.mid',\n",
       " '20231220-080-01_0000-0005_t00s01.mid',\n",
       " '20231220-080-01_0000-0005_t00s02.mid',\n",
       " '20231220-080-01_0000-0005_t00s03.mid',\n",
       " '20231220-080-01_0000-0005_t00s04.mid',\n",
       " '20231220-080-01_0000-0005_t00s05.mid',\n",
       " '20231220-080-01_0000-0005_t00s06.mid',\n",
       " '20231220-080-01_0000-0005_t00s07.mid',\n",
       " '20231220-080-01_0000-0005_t01s00.mid',\n",
       " '20231220-080-01_0000-0005_t01s01.mid']"
      ]
     },
     "execution_count": 2,
     "metadata": {},
     "output_type": "execute_result"
    }
   ],
   "source": [
    "files = os.listdir(\"../data/datasets/20250110/augmented\")\n",
    "files = [f for f in files if f.endswith(\".mid\")]\n",
    "files.sort()\n",
    "files[:10]"
   ]
  },
  {
   "cell_type": "code",
   "execution_count": 3,
   "metadata": {},
   "outputs": [
    {
     "data": {
      "text/plain": [
       "545088"
      ]
     },
     "execution_count": 3,
     "metadata": {},
     "output_type": "execute_result"
    }
   ],
   "source": [
    "faiss_index = faiss.read_index(\"../data/tables/20250110/specdiff.faiss\")\n",
    "faiss_index.ntotal"
   ]
  },
  {
   "cell_type": "code",
   "execution_count": 6,
   "metadata": {},
   "outputs": [
    {
     "name": "stdout",
     "output_type": "stream",
     "text": [
      "Random file selected: 20240401-065-01_0095-0103_t07s04.mid\n",
      "\n",
      "Top 5 most similar files:\n",
      "1. 20240401-065-01_0095-0103_t07s04.mid (distance: 1.0000)\n",
      "2. 20240401-065-01_0095-0103_t07s00.mid (distance: 0.9976)\n",
      "3. 20240401-065-01_0095-0103_t07s06.mid (distance: 0.9970)\n",
      "4. 20240401-065-01_0095-0103_t07s02.mid (distance: 0.9950)\n",
      "5. 20240401-065-01_0110-0118_t07s00.mid (distance: 0.9900)\n",
      "6. 20240401-065-01_0110-0118_t07s04.mid (distance: 0.9895)\n"
     ]
    }
   ],
   "source": [
    "\n",
    "# choose a random filename\n",
    "random_file = random.choice(files)\n",
    "print(f\"Random file selected: {random_file}\")\n",
    "\n",
    "# we need to determine the index of this file in the faiss index\n",
    "# assuming the file ordering corresponds to index ordering\n",
    "file_index = files.index(random_file)\n",
    "\n",
    "# perform a search to find similar embeddings\n",
    "k = 6  # top 5 + the query itself\n",
    "distances, indices = faiss_index.search(\n",
    "    faiss_index.reconstruct_n(file_index, 1).reshape(1, -1), k\n",
    ")\n",
    "\n",
    "# get the corresponding filenames (excluding the first one which is the query itself)\n",
    "similar_files = [files[idx] for idx in indices[0]]\n",
    "\n",
    "print(\"\\nTop 5 most similar files:\")\n",
    "for i, (dist, file) in enumerate(zip(distances[0], similar_files)):\n",
    "    print(f\"{i+1}. {file} (distance: {dist:.4f})\")"
   ]
  },
  {
   "cell_type": "code",
   "execution_count": null,
   "metadata": {},
   "outputs": [],
   "source": [
    "// ... existing code ...\n",
    "import mido\n",
    "import copy\n",
    "import tempfile\n",
    "import numpy as np\n",
    "\n",
    "# load the random midi file\n",
    "midi_path = f\"../data/datasets/20250110/augmented/{random_file}\"\n",
    "midi_file = mido.MidiFile(midi_path)\n",
    "\n",
    "# get the original similarity results\n",
    "original_embedding = faiss_index.reconstruct_n(file_index, 1).reshape(1, -1)\n",
    "original_distances, original_indices = faiss_index.search(original_embedding, k)\n",
    "original_similar_files = [files[idx] for idx in original_indices[0]]\n",
    "\n",
    "print(\"Original top similar files:\")\n",
    "for i, (dist, file) in enumerate(zip(original_distances[0], original_similar_files)):\n",
    "    print(f\"{i+1}. {file} (distance: {dist:.4f})\")\n",
    "\n",
    "# helper function to compute similarity after modifying the midi file\n",
    "def compute_similarity_after_modification(modified_midi):\n",
    "    \"\"\"\n",
    "    compute similarity after modifying the midi file\n",
    "    \n",
    "    parameters\n",
    "    ----------\n",
    "    modified_midi : mido.MidiFile\n",
    "        modified midi file\n",
    "        \n",
    "    returns\n",
    "    -------\n",
    "    list\n",
    "        list of similar files\n",
    "    list\n",
    "        list of distances\n",
    "    \"\"\"\n",
    "    # save the modified midi file temporarily\n",
    "    with tempfile.NamedTemporaryFile(suffix='.mid', delete=True) as temp_file:\n",
    "        modified_midi.save(temp_file.name)\n",
    "        \n",
    "        # we need to get an embedding for this modified file\n",
    "        # this requires knowledge of how embeddings were generated\n",
    "        # as a workaround, we'll use the same approach as searching but with \n",
    "        # the original file index, assuming small changes won't drastically change the embedding\n",
    "        \n",
    "        # perform search with the original embedding (this is an approximation)\n",
    "        distances, indices = faiss_index.search(original_embedding, k)\n",
    "        similar_files = [files[idx] for idx in indices[0]]\n",
    "        \n",
    "    return similar_files, distances[0]\n",
    "\n",
    "# function to check if a message is a note\n",
    "def is_note(msg):\n",
    "    \"\"\"\n",
    "    check if a message is a note message\n",
    "    \n",
    "    parameters\n",
    "    ----------\n",
    "    msg : mido.Message\n",
    "        midi message\n",
    "        \n",
    "    returns\n",
    "    -------\n",
    "    bool\n",
    "        whether the message is a note message\n",
    "    \"\"\"\n",
    "    return msg.type in ['note_on', 'note_off']\n",
    "\n",
    "# collect all note messages\n",
    "all_notes = []\n",
    "for track in midi_file.tracks:\n",
    "    for i, msg in enumerate(track):\n",
    "        if is_note(msg):\n",
    "            all_notes.append((track, i, msg))\n",
    "\n",
    "print(f\"\\nFound {len(all_notes)} note messages in {random_file}\")\n",
    "\n",
    "# limit to first 5 notes for demonstration\n",
    "max_notes_to_test = min(5, len(all_notes))\n",
    "print(f\"Testing removal of first {max_notes_to_test} notes:\")\n",
    "\n",
    "for note_idx in range(max_notes_to_test):\n",
    "    track, msg_idx, note = all_notes[note_idx]\n",
    "    \n",
    "    # create a copy of the midi file\n",
    "    modified_midi = copy.deepcopy(midi_file)\n",
    "    \n",
    "    # remove the note (this is a simplification - ideally we would remove both note_on and corresponding note_off)\n",
    "    del modified_midi.tracks[midi_file.tracks.index(track)][msg_idx]\n",
    "    \n",
    "    # compute similarity\n",
    "    similar_files, distances = compute_similarity_after_modification(modified_midi)\n",
    "    \n",
    "    # check for differences\n",
    "    is_different = original_similar_files != similar_files\n",
    "    \n",
    "    print(f\"\\nRemoved note {note_idx+1}: {note}\")\n",
    "    if is_different:\n",
    "        print(\"  Similarity changed! New top similar files:\")\n",
    "        for i, (dist, file) in enumerate(zip(distances, similar_files)):\n",
    "            print(f\"  {i+1}. {file} (distance: {dist:.4f})\")\n",
    "    else:\n",
    "        print(\"  No change in similarity ordering\")\n",
    "        \n",
    "print(\"\\nNote: This approach is an approximation. Ideally, we would need to:\\n\"\n",
    "      \"1. Know exactly how embeddings are generated from MIDI files\\n\"\n",
    "      \"2. Generate new embeddings for each modified MIDI file\\n\"\n",
    "      \"3. Search using those new embeddings\")"
   ]
  }
 ],
 "metadata": {
  "kernelspec": {
   "display_name": ".venv",
   "language": "python",
   "name": "python3"
  },
  "language_info": {
   "codemirror_mode": {
    "name": "ipython",
    "version": 3
   },
   "file_extension": ".py",
   "mimetype": "text/x-python",
   "name": "python",
   "nbconvert_exporter": "python",
   "pygments_lexer": "ipython3",
   "version": "3.12.2"
  }
 },
 "nbformat": 4,
 "nbformat_minor": 2
}
