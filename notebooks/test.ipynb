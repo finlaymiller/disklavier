{
 "cells": [
  {
   "cell_type": "code",
   "execution_count": 5,
   "metadata": {},
   "outputs": [],
   "source": [
    "import mido\n",
    "import pretty_midi"
   ]
  },
  {
   "cell_type": "code",
   "execution_count": 6,
   "metadata": {},
   "outputs": [
    {
     "name": "stdout",
     "output_type": "stream",
     "text": [
      "=== Track 0\n",
      "MetaMessage('track_name', name='schedule', time=0)\n",
      "MetaMessage('time_signature', numerator=4, denominator=4, clocks_per_click=36, notated_32nd_notes_per_beat=8, time=0)\n",
      "MetaMessage('text', text='transition 1 (8.00s)', time=0)\n",
      "MetaMessage('text', text='tick 0-1 (8.00s)', time=220)\n",
      "MetaMessage('text', text='tick 0-2 (9.00s)', time=220)\n",
      "MetaMessage('text', text='tick 0-3 (10.00s)', time=220)\n",
      "MetaMessage('text', text='tick 0-4 (11.00s)', time=220)\n",
      "MetaMessage('text', text='tick 0-5 (12.00s)', time=220)\n",
      "MetaMessage('text', text='tick 0-6 (13.00s)', time=220)\n",
      "MetaMessage('text', text='tick 0-7 (14.00s)', time=220)\n",
      "MetaMessage('text', text='tick 0-8 (15.00s)', time=220)\n",
      "MetaMessage('text', text='transition 2 (16.00s)', time=0)\n",
      "MetaMessage('text', text='tick 1-1 (16.00s)', time=220)\n",
      "MetaMessage('text', text='tick 1-2 (17.00s)', time=220)\n",
      "MetaMessage('text', text='tick 1-3 (18.00s)', time=220)\n",
      "MetaMessage('text', text='tick 1-4 (19.00s)', time=220)\n",
      "MetaMessage('text', text='tick 1-5 (20.00s)', time=220)\n",
      "MetaMessage('text', text='tick 1-6 (21.00s)', time=220)\n",
      "MetaMessage('text', text='tick 1-7 (22.00s)', time=220)\n",
      "MetaMessage('text', text='tick 1-8 (23.00s)', time=220)\n",
      "MetaMessage('end_of_track', time=1)\n",
      "=== Track 1\n",
      "MetaMessage('track_name', name='player', time=0)\n",
      "Message('note_on', channel=0, note=91, velocity=50, time=1894)\n",
      "Message('note_on', channel=0, note=88, velocity=46, time=2)\n",
      "Message('note_on', channel=0, note=84, velocity=43, time=3)\n",
      "Message('note_off', channel=0, note=91, velocity=49, time=146)\n",
      "Message('note_off', channel=0, note=88, velocity=38, time=4)\n",
      "Message('note_off', channel=0, note=84, velocity=35, time=2)\n",
      "Message('note_on', channel=0, note=91, velocity=54, time=45)\n",
      "Message('note_on', channel=0, note=88, velocity=48, time=2)\n",
      "Message('note_on', channel=0, note=84, velocity=47, time=0)\n",
      "Message('note_off', channel=0, note=88, velocity=54, time=118)\n",
      "Message('note_off', channel=0, note=84, velocity=55, time=4)\n",
      "Message('note_off', channel=0, note=91, velocity=58, time=2)\n",
      "Message('note_on', channel=0, note=86, velocity=56, time=97)\n",
      "Message('note_on', channel=0, note=89, velocity=50, time=2)\n",
      "Message('note_on', channel=0, note=93, velocity=39, time=2)\n",
      "Message('note_off', channel=0, note=93, velocity=57, time=162)\n",
      "Message('note_off', channel=0, note=89, velocity=59, time=0)\n",
      "Message('note_off', channel=0, note=86, velocity=44, time=2)\n",
      "Message('note_on', channel=0, note=89, velocity=48, time=48)\n",
      "Message('note_on', channel=0, note=86, velocity=43, time=1)\n",
      "Message('note_on', channel=0, note=93, velocity=51, time=3)\n",
      "Message('note_off', channel=0, note=89, velocity=48, time=117)\n",
      "Message('note_off', channel=0, note=86, velocity=56, time=1)\n",
      "Message('note_off', channel=0, note=93, velocity=58, time=4)\n",
      "Message('note_on', channel=0, note=91, velocity=55, time=95)\n",
      "Message('note_on', channel=0, note=88, velocity=52, time=3)\n",
      "Message('note_on', channel=0, note=95, velocity=43, time=5)\n",
      "Message('note_off', channel=0, note=91, velocity=57, time=157)\n",
      "Message('note_off', channel=0, note=95, velocity=51, time=0)\n",
      "Message('note_off', channel=0, note=88, velocity=52, time=1)\n",
      "Message('note_on', channel=0, note=91, velocity=56, time=47)\n",
      "Message('note_on', channel=0, note=88, velocity=50, time=0)\n",
      "Message('note_on', channel=0, note=95, velocity=56, time=3)\n",
      "Message('note_off', channel=0, note=95, velocity=53, time=157)\n",
      "Message('note_off', channel=0, note=91, velocity=58, time=4)\n",
      "Message('note_off', channel=0, note=88, velocity=57, time=2)\n",
      "Message('note_on', channel=0, note=89, velocity=54, time=60)\n",
      "Message('note_on', channel=0, note=86, velocity=57, time=1)\n",
      "Message('note_on', channel=0, note=93, velocity=58, time=0)\n",
      "Message('note_off', channel=0, note=93, velocity=56, time=166)\n",
      "Message('note_off', channel=0, note=89, velocity=55, time=1)\n",
      "Message('note_off', channel=0, note=86, velocity=49, time=0)\n",
      "Message('note_on', channel=0, note=89, velocity=53, time=31)\n",
      "Message('note_on', channel=0, note=86, velocity=51, time=4)\n",
      "Message('note_on', channel=0, note=93, velocity=50, time=1)\n",
      "Message('note_off', channel=0, note=93, velocity=60, time=137)\n",
      "Message('note_off', channel=0, note=89, velocity=57, time=4)\n",
      "Message('note_off', channel=0, note=86, velocity=54, time=7)\n",
      "Message('note_on', channel=0, note=88, velocity=49, time=75)\n",
      "Message('note_on', channel=0, note=84, velocity=51, time=3)\n",
      "MetaMessage('end_of_track', time=0)\n",
      "=== Track 2\n",
      "MetaMessage('track_name', name='system-recording', time=0)\n",
      "Message('note_on', channel=0, note=41, velocity=49, time=0)\n",
      "Message('note_on', channel=0, note=45, velocity=52, time=0)\n",
      "Message('note_on', channel=0, note=48, velocity=47, time=1)\n",
      "Message('note_off', channel=0, note=41, velocity=47, time=676)\n",
      "Message('note_off', channel=0, note=48, velocity=36, time=8)\n",
      "Message('note_off', channel=0, note=45, velocity=33, time=3)\n",
      "Message('note_on', channel=0, note=48, velocity=46, time=55)\n",
      "Message('note_on', channel=0, note=45, velocity=36, time=2)\n",
      "Message('note_on', channel=0, note=41, velocity=44, time=1)\n",
      "Message('note_off', channel=0, note=45, velocity=59, time=20)\n",
      "Message('note_off', channel=0, note=48, velocity=58, time=2)\n",
      "Message('note_off', channel=0, note=41, velocity=56, time=2)\n",
      "Message('note_on', channel=0, note=40, velocity=54, time=96)\n",
      "Message('note_on', channel=0, note=36, velocity=68, time=1)\n",
      "Message('note_on', channel=0, note=43, velocity=62, time=1)\n",
      "Message('note_off', channel=0, note=43, velocity=64, time=17)\n",
      "Message('note_off', channel=0, note=40, velocity=63, time=1)\n",
      "Message('note_off', channel=0, note=36, velocity=64, time=1)\n",
      "Message('note_on', channel=0, note=48, velocity=54, time=1865)\n",
      "Message('note_on', channel=0, note=48, velocity=0, time=16)\n",
      "Message('note_on', channel=0, note=48, velocity=55, time=96)\n",
      "Message('note_on', channel=0, note=41, velocity=59, time=1)\n",
      "Message('note_on', channel=0, note=48, velocity=0, time=7)\n",
      "Message('note_on', channel=0, note=41, velocity=0, time=1)\n",
      "Message('note_on', channel=0, note=48, velocity=49, time=103)\n",
      "Message('note_on', channel=0, note=41, velocity=55, time=1)\n",
      "Message('note_on', channel=0, note=41, velocity=0, time=162)\n",
      "Message('note_on', channel=0, note=48, velocity=0, time=16)\n",
      "Message('note_on', channel=0, note=48, velocity=38, time=39)\n",
      "Message('note_on', channel=0, note=41, velocity=48, time=2)\n",
      "Message('note_on', channel=0, note=48, velocity=0, time=8)\n",
      "Message('note_on', channel=0, note=41, velocity=0, time=1)\n",
      "Message('note_on', channel=0, note=41, velocity=56, time=102)\n",
      "Message('note_on', channel=0, note=48, velocity=58, time=3)\n",
      "Message('note_on', channel=0, note=48, velocity=0, time=8)\n",
      "Message('note_on', channel=0, note=41, velocity=0, time=1)\n",
      "Message('note_on', channel=0, note=41, velocity=69, time=102)\n",
      "Message('note_on', channel=0, note=48, velocity=63, time=2)\n",
      "Message('note_on', channel=0, note=41, velocity=0, time=161)\n",
      "Message('note_on', channel=0, note=48, velocity=0, time=4)\n",
      "MetaMessage('end_of_track', time=0)\n"
     ]
    }
   ],
   "source": [
    "midi_path = \"/Users/finlay/Documents/Programming/disklavier/data/outputs/logs/250309-165153_specdiff_7685_recording/master-recording.mid\"\n",
    "mido.MidiFile(midi_path).print_tracks()"
   ]
  },
  {
   "cell_type": "code",
   "execution_count": 7,
   "metadata": {},
   "outputs": [
    {
     "data": {
      "text/plain": [
       "[Instrument(program=0, is_drum=False, name=\"player\"),\n",
       " Instrument(program=0, is_drum=False, name=\"system-recording\")]"
      ]
     },
     "execution_count": 7,
     "metadata": {},
     "output_type": "execute_result"
    }
   ],
   "source": [
    "pretty_midi.PrettyMIDI(midi_path).instruments"
   ]
  }
 ],
 "metadata": {
  "kernelspec": {
   "display_name": ".venv",
   "language": "python",
   "name": "python3"
  },
  "language_info": {
   "codemirror_mode": {
    "name": "ipython",
    "version": 3
   },
   "file_extension": ".py",
   "mimetype": "text/x-python",
   "name": "python",
   "nbconvert_exporter": "python",
   "pygments_lexer": "ipython3",
   "version": "3.12.2"
  }
 },
 "nbformat": 4,
 "nbformat_minor": 2
}
