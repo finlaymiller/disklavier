{
 "cells": [
  {
   "cell_type": "code",
   "execution_count": 20,
   "metadata": {},
   "outputs": [
    {
     "name": "stdout",
     "output_type": "stream",
     "text": [
      "recording-100-240410_161223.mid\n",
      "=== Track 0\n",
      "MetaMessage('set_tempo', tempo=600000, time=0)\n",
      "Message('note_on', channel=0, note=53, velocity=51, time=0)\n",
      "Message('note_off', channel=0, note=53, velocity=61, time=138)\n",
      "Message('note_on', channel=0, note=50, velocity=52, time=6)\n",
      "Message('note_off', channel=0, note=50, velocity=62, time=28)\n",
      "Message('note_on', channel=0, note=50, velocity=43, time=314)\n",
      "Message('note_off', channel=0, note=50, velocity=59, time=17)\n",
      "Message('note_on', channel=0, note=48, velocity=58, time=145)\n",
      "Message('note_off', channel=0, note=48, velocity=60, time=141)\n",
      "Message('note_on', channel=0, note=47, velocity=64, time=12)\n",
      "Message('note_off', channel=0, note=47, velocity=60, time=24)\n",
      "Message('note_on', channel=0, note=47, velocity=64, time=297)\n",
      "Message('note_off', channel=0, note=47, velocity=62, time=39)\n",
      "Message('note_on', channel=0, note=74, velocity=57, time=128)\n",
      "Message('note_on', channel=0, note=72, velocity=52, time=12)\n",
      "Message('note_off', channel=0, note=72, velocity=20, time=86)\n",
      "Message('note_off', channel=0, note=74, velocity=60, time=178)\n",
      "Message('note_on', channel=0, note=74, velocity=73, time=58)\n",
      "Message('note_off', channel=0, note=74, velocity=59, time=239)\n",
      "Message('note_on', channel=0, note=74, velocity=73, time=105)\n",
      "Message('note_on', channel=0, note=72, velocity=55, time=166)\n",
      "Message('note_off', channel=0, note=74, velocity=29, time=112)\n",
      "Message('note_on', channel=0, note=47, velocity=54, time=32)\n",
      "Message('note_off', channel=0, note=72, velocity=58, time=12)\n",
      "Message('note_off', channel=0, note=47, velocity=54, time=141)\n",
      "Message('note_on', channel=0, note=48, velocity=58, time=9)\n",
      "Message('note_off', channel=0, note=48, velocity=59, time=40)\n",
      "MetaMessage('end_of_track', time=0)\n"
     ]
    }
   ],
   "source": [
    "import mido\n",
    "import os\n",
    "\n",
    "recs = os.path.join(\"..\", \"data\", \"outputs\", \"records\")\n",
    "\n",
    "for file in os.listdir(recs):\n",
    "    if file.endswith(\".mid\"):\n",
    "        print(file)\n",
    "        midi = mido.MidiFile(os.path.join(recs, file))\n",
    "        midi.print_tracks()\n",
    "\n",
    "        with mido.open_output(\"Disklavier\") as output:\n",
    "            for message in midi.play():\n",
    "                output.send(message)"
   ]
  },
  {
   "cell_type": "code",
   "execution_count": 1,
   "metadata": {},
   "outputs": [
    {
     "name": "stdout",
     "output_type": "stream",
     "text": [
      "0\n",
      "1\n",
      "2\n",
      "3\n"
     ]
    }
   ],
   "source": [
    "x = range(5)\n",
    "\n",
    "for y in x:\n",
    "    print(y)\n",
    "    if y > 2:\n",
    "        break"
   ]
  },
  {
   "cell_type": "code",
   "execution_count": 28,
   "metadata": {},
   "outputs": [
    {
     "data": {
      "text/plain": [
       "0.05346666666666666"
      ]
     },
     "execution_count": 28,
     "metadata": {},
     "output_type": "execute_result"
    }
   ],
   "source": [
    "1 - 0.9465333333333333"
   ]
  },
  {
   "cell_type": "code",
   "execution_count": 29,
   "metadata": {},
   "outputs": [
    {
     "data": {
      "text/plain": [
       "0.9999333333333333"
      ]
     },
     "execution_count": 29,
     "metadata": {},
     "output_type": "execute_result"
    }
   ],
   "source": [
    "sum(\n",
    "    [\n",
    "        1 / 5,  # same\n",
    "        1 / 6,  # next 1\n",
    "        1 / 6,  # prev 1\n",
    "        1 / 10,  # next 2\n",
    "        1 / 10,  # prev 2\n",
    "        0.0533,  # diff 1\n",
    "        0.0533,  # diff 2\n",
    "        0.0533,  # diff 3\n",
    "        0.0533,  # diff 4\n",
    "        0.0534,  # diff 5\n",
    "    ]\n",
    ")"
   ]
  },
  {
   "cell_type": "code",
   "execution_count": 3,
   "metadata": {},
   "outputs": [
    {
     "data": {
      "text/plain": [
       "['20240213-100-05', '0259-0268', 'd02.mid']"
      ]
     },
     "execution_count": 3,
     "metadata": {},
     "output_type": "execute_result"
    }
   ],
   "source": [
    "name = \"20240213-100-05_0259-0268_d02.mid\"\n",
    "name.rsplit(\"_\")"
   ]
  },
  {
   "cell_type": "code",
   "execution_count": 15,
   "metadata": {},
   "outputs": [
    {
     "name": "stdout",
     "output_type": "stream",
     "text": [
      "Start recording MIDI. Press the left pedal to start and stop recording.\n",
      "Recording: note_on channel=0 note=41 velocity=65 time=285\n",
      "Recording: note_on channel=0 note=65 velocity=68 time=231\n",
      "Recording: note_off channel=0 note=41 velocity=56 time=206\n",
      "Recording: note_on channel=0 note=43 velocity=64 time=6\n",
      "Recording: note_off channel=0 note=65 velocity=30 time=152\n",
      "Recording: note_on channel=0 note=67 velocity=74 time=61\n",
      "Recording: note_on channel=0 note=44 velocity=72 time=208\n",
      "Recording: note_off channel=0 note=43 velocity=59 time=6\n",
      "Recording: note_off channel=0 note=67 velocity=62 time=200\n",
      "Recording: note_on channel=0 note=68 velocity=70 time=6\n",
      "Recording: note_on channel=0 note=46 velocity=68 time=212\n",
      "Recording: note_off channel=0 note=44 velocity=61 time=15\n",
      "Recording: note_off channel=0 note=68 velocity=54 time=183\n",
      "Recording: note_on channel=0 note=70 velocity=69 time=10\n",
      "Recording: note_on channel=0 note=48 velocity=70 time=203\n",
      "Recording: note_off channel=0 note=46 velocity=62 time=14\n",
      "Recording: note_on channel=0 note=72 velocity=58 time=195\n",
      "Recording: note_off channel=0 note=70 velocity=60 time=3\n",
      "Recording: note_on channel=0 note=44 velocity=62 time=198\n",
      "Recording: note_off channel=0 note=48 velocity=56 time=13\n",
      "Recording: note_on channel=0 note=68 velocity=69 time=184\n",
      "Recording: note_off channel=0 note=72 velocity=57 time=5\n",
      "Recording: note_on channel=0 note=48 velocity=69 time=188\n",
      "Recording: note_off channel=0 note=44 velocity=60 time=2\n",
      "Recording: note_on channel=0 note=72 velocity=68 time=213\n",
      "Recording: note_off channel=0 note=68 velocity=58 time=0\n",
      "Recording: note_off channel=0 note=72 velocity=63 time=1\n",
      "Recording: note_off channel=0 note=48 velocity=61 time=2\n",
      "Pedal released. Stopping recording.\n",
      "MIDI recording saved to midi_recording_20240502_175410.mid\n",
      "=== Track 0\n",
      "MetaMessage('set_tempo', tempo=1500000, time=0)\n",
      "Message('note_on', channel=0, note=41, velocity=65, time=285)\n",
      "Message('note_on', channel=0, note=65, velocity=68, time=231)\n",
      "Message('note_off', channel=0, note=41, velocity=56, time=206)\n",
      "Message('note_on', channel=0, note=43, velocity=64, time=6)\n",
      "Message('note_off', channel=0, note=65, velocity=30, time=152)\n",
      "Message('note_on', channel=0, note=67, velocity=74, time=61)\n",
      "Message('note_on', channel=0, note=44, velocity=72, time=208)\n",
      "Message('note_off', channel=0, note=43, velocity=59, time=6)\n",
      "Message('note_off', channel=0, note=67, velocity=62, time=200)\n",
      "Message('note_on', channel=0, note=68, velocity=70, time=6)\n",
      "Message('note_on', channel=0, note=46, velocity=68, time=212)\n",
      "Message('note_off', channel=0, note=44, velocity=61, time=15)\n",
      "Message('note_off', channel=0, note=68, velocity=54, time=183)\n",
      "Message('note_on', channel=0, note=70, velocity=69, time=10)\n",
      "Message('note_on', channel=0, note=48, velocity=70, time=203)\n",
      "Message('note_off', channel=0, note=46, velocity=62, time=14)\n",
      "Message('note_on', channel=0, note=72, velocity=58, time=195)\n",
      "Message('note_off', channel=0, note=70, velocity=60, time=3)\n",
      "Message('note_on', channel=0, note=44, velocity=62, time=198)\n",
      "Message('note_off', channel=0, note=48, velocity=56, time=13)\n",
      "Message('note_on', channel=0, note=68, velocity=69, time=184)\n",
      "Message('note_off', channel=0, note=72, velocity=57, time=5)\n",
      "Message('note_on', channel=0, note=48, velocity=69, time=188)\n",
      "Message('note_off', channel=0, note=44, velocity=60, time=2)\n",
      "Message('note_on', channel=0, note=72, velocity=68, time=213)\n",
      "Message('note_off', channel=0, note=68, velocity=58, time=0)\n",
      "Message('note_off', channel=0, note=72, velocity=63, time=1)\n",
      "Message('note_off', channel=0, note=48, velocity=61, time=2)\n",
      "MetaMessage('end_of_track', time=0)\n"
     ]
    }
   ],
   "source": [
    "import mido\n",
    "from mido import MidiFile, MidiTrack, Message\n",
    "from datetime import datetime\n",
    "\n",
    "\n",
    "def record_midi(tempo):\n",
    "    \"\"\"Records MIDI inputs from a piano while the left pedal (control 67) is held down.\n",
    "\n",
    "    Args:\n",
    "        tempo (int): The tempo of the recording in BPM (beats per minute).\n",
    "\n",
    "    Returns:\n",
    "        None: This function saves the recorded MIDI to a file instead of returning data.\n",
    "    \"\"\"\n",
    "    # Create a new MIDI file and track\n",
    "    mid = MidiFile()\n",
    "    track = MidiTrack()\n",
    "    mid.tracks.append(track)\n",
    "\n",
    "    # Set tempo in microseconds per beat\n",
    "    microseconds_per_beat = int((60 / tempo) * 1_000_000)\n",
    "    track.append(mido.MetaMessage(\"set_tempo\", tempo=microseconds_per_beat))\n",
    "\n",
    "    # Open input from the first available MIDI port\n",
    "    with mido.open_input() as inport:\n",
    "        pedal_down = False\n",
    "        last_time = datetime.now()\n",
    "        print(\"Start recording MIDI. Press the left pedal to start and stop recording.\")\n",
    "\n",
    "        for msg in inport:\n",
    "            if msg.type == \"control_change\" and msg.control == 67:\n",
    "                pedal_down = msg.value > 0  # Update pedal status based on message value\n",
    "\n",
    "            # Calculate time delta\n",
    "            current_time = datetime.now()\n",
    "            delta = int(\n",
    "                (current_time - last_time).total_seconds()\n",
    "                * mid.ticks_per_beat\n",
    "                * tempo\n",
    "                / 60\n",
    "            )\n",
    "            last_time = current_time\n",
    "\n",
    "            # Record messages only if the pedal is down and it's not a pedal message\n",
    "            if pedal_down and msg.type != \"control_change\":\n",
    "                msg.time = delta  # Set message time delta\n",
    "                track.append(msg)\n",
    "                print(f\"Recording: {msg}\")\n",
    "\n",
    "            # Stop recording if the pedal is released\n",
    "            elif (\n",
    "                not pedal_down\n",
    "                and msg.type == \"control_change\"\n",
    "                and msg.control == 67\n",
    "                and msg.value == 0\n",
    "            ):\n",
    "                print(\"Pedal released. Stopping recording.\")\n",
    "                break\n",
    "\n",
    "    # Save the recorded MIDI to a file with a timestamp\n",
    "    filename = f\"midi_recording_{datetime.now().strftime('%Y%m%d_%H%M%S')}.mid\"\n",
    "    mid.save(filename)\n",
    "    print(f\"MIDI recording saved to {filename}\")\n",
    "    return filename\n",
    "\n",
    "\n",
    "fn = record_midi(40)\n",
    "\n",
    "midi = MidiFile(fn)\n",
    "midi.print_tracks()\n",
    "with mido.open_output() as outport:\n",
    "    for msg in midi.play():\n",
    "        outport.send(msg)"
   ]
  },
  {
   "cell_type": "code",
   "execution_count": 1,
   "metadata": {},
   "outputs": [],
   "source": [
    "import numpy as np\n",
    "\n",
    "rng = np.random.default_rng(108)"
   ]
  },
  {
   "cell_type": "code",
   "execution_count": 5,
   "metadata": {},
   "outputs": [
    {
     "data": {
      "text/plain": [
       "{'a': 996, 'b': 9004}"
      ]
     },
     "execution_count": 5,
     "metadata": {},
     "output_type": "execute_result"
    }
   ],
   "source": [
    "counts = {\"a\": 0, \"b\": 0}\n",
    "for roll in range(10000):\n",
    "    c = rng.choice([\"a\", \"b\"], p=[0.1, 0.9])\n",
    "    counts[c] += 1\n",
    "counts"
   ]
  }
 ],
 "metadata": {
  "kernelspec": {
   "display_name": "full",
   "language": "python",
   "name": "python3"
  },
  "language_info": {
   "codemirror_mode": {
    "name": "ipython",
    "version": 3
   },
   "file_extension": ".py",
   "mimetype": "text/x-python",
   "name": "python",
   "nbconvert_exporter": "python",
   "pygments_lexer": "ipython3",
   "version": "3.12.2"
  }
 },
 "nbformat": 4,
 "nbformat_minor": 2
}
