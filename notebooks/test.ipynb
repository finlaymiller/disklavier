{
 "cells": [
  {
   "cell_type": "code",
   "execution_count": 20,
   "metadata": {},
   "outputs": [
    {
     "name": "stdout",
     "output_type": "stream",
     "text": [
      "recording-100-240410_161223.mid\n",
      "=== Track 0\n",
      "MetaMessage('set_tempo', tempo=600000, time=0)\n",
      "Message('note_on', channel=0, note=53, velocity=51, time=0)\n",
      "Message('note_off', channel=0, note=53, velocity=61, time=138)\n",
      "Message('note_on', channel=0, note=50, velocity=52, time=6)\n",
      "Message('note_off', channel=0, note=50, velocity=62, time=28)\n",
      "Message('note_on', channel=0, note=50, velocity=43, time=314)\n",
      "Message('note_off', channel=0, note=50, velocity=59, time=17)\n",
      "Message('note_on', channel=0, note=48, velocity=58, time=145)\n",
      "Message('note_off', channel=0, note=48, velocity=60, time=141)\n",
      "Message('note_on', channel=0, note=47, velocity=64, time=12)\n",
      "Message('note_off', channel=0, note=47, velocity=60, time=24)\n",
      "Message('note_on', channel=0, note=47, velocity=64, time=297)\n",
      "Message('note_off', channel=0, note=47, velocity=62, time=39)\n",
      "Message('note_on', channel=0, note=74, velocity=57, time=128)\n",
      "Message('note_on', channel=0, note=72, velocity=52, time=12)\n",
      "Message('note_off', channel=0, note=72, velocity=20, time=86)\n",
      "Message('note_off', channel=0, note=74, velocity=60, time=178)\n",
      "Message('note_on', channel=0, note=74, velocity=73, time=58)\n",
      "Message('note_off', channel=0, note=74, velocity=59, time=239)\n",
      "Message('note_on', channel=0, note=74, velocity=73, time=105)\n",
      "Message('note_on', channel=0, note=72, velocity=55, time=166)\n",
      "Message('note_off', channel=0, note=74, velocity=29, time=112)\n",
      "Message('note_on', channel=0, note=47, velocity=54, time=32)\n",
      "Message('note_off', channel=0, note=72, velocity=58, time=12)\n",
      "Message('note_off', channel=0, note=47, velocity=54, time=141)\n",
      "Message('note_on', channel=0, note=48, velocity=58, time=9)\n",
      "Message('note_off', channel=0, note=48, velocity=59, time=40)\n",
      "MetaMessage('end_of_track', time=0)\n"
     ]
    }
   ],
   "source": [
    "import mido\n",
    "import os\n",
    "\n",
    "recs = os.path.join(\"..\", \"data\", \"outputs\", \"records\")\n",
    "\n",
    "for file in os.listdir(recs):\n",
    "    if file.endswith(\".mid\"):\n",
    "        print(file)\n",
    "        midi = mido.MidiFile(os.path.join(recs, file))\n",
    "        midi.print_tracks()\n",
    "\n",
    "        with mido.open_output(\"Disklavier\") as output:\n",
    "            for message in midi.play():\n",
    "                output.send(message)"
   ]
  },
  {
   "cell_type": "code",
   "execution_count": 1,
   "metadata": {},
   "outputs": [
    {
     "name": "stdout",
     "output_type": "stream",
     "text": [
      "0\n",
      "1\n",
      "2\n",
      "3\n"
     ]
    }
   ],
   "source": [
    "x = range(5)\n",
    "\n",
    "for y in x:\n",
    "    print(y)\n",
    "    if y > 2:\n",
    "        break"
   ]
  },
  {
   "cell_type": "code",
   "execution_count": 28,
   "metadata": {},
   "outputs": [
    {
     "data": {
      "text/plain": [
       "0.05346666666666666"
      ]
     },
     "execution_count": 28,
     "metadata": {},
     "output_type": "execute_result"
    }
   ],
   "source": [
    "1 - 0.9465333333333333"
   ]
  },
  {
   "cell_type": "code",
   "execution_count": 29,
   "metadata": {},
   "outputs": [
    {
     "data": {
      "text/plain": [
       "0.9999333333333333"
      ]
     },
     "execution_count": 29,
     "metadata": {},
     "output_type": "execute_result"
    }
   ],
   "source": [
    "sum(\n",
    "    [\n",
    "        1 / 5,  # same\n",
    "        1 / 6,  # next 1\n",
    "        1 / 6,  # prev 1\n",
    "        1 / 10,  # next 2\n",
    "        1 / 10,  # prev 2\n",
    "        0.0533,  # diff 1\n",
    "        0.0533,  # diff 2\n",
    "        0.0533,  # diff 3\n",
    "        0.0533,  # diff 4\n",
    "        0.0534,  # diff 5\n",
    "    ]\n",
    ")"
   ]
  },
  {
   "cell_type": "code",
   "execution_count": 3,
   "metadata": {},
   "outputs": [
    {
     "data": {
      "text/plain": [
       "['20240213-100-05', '0259-0268', 'd02.mid']"
      ]
     },
     "execution_count": 3,
     "metadata": {},
     "output_type": "execute_result"
    }
   ],
   "source": [
    "name = \"20240213-100-05_0259-0268_d02.mid\"\n",
    "name.rsplit(\"_\")"
   ]
  }
 ],
 "metadata": {
  "kernelspec": {
   "display_name": "full",
   "language": "python",
   "name": "python3"
  },
  "language_info": {
   "codemirror_mode": {
    "name": "ipython",
    "version": 3
   },
   "file_extension": ".py",
   "mimetype": "text/x-python",
   "name": "python",
   "nbconvert_exporter": "python",
   "pygments_lexer": "ipython3",
   "version": "3.12.2"
  }
 },
 "nbformat": 4,
 "nbformat_minor": 2
}
