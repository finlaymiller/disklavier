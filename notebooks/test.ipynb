{
 "cells": [
  {
   "cell_type": "code",
   "execution_count": 1,
   "metadata": {},
   "outputs": [],
   "source": [
    "import mido\n",
    "import Path"
   ]
  },
  {
   "cell_type": "code",
   "execution_count": 1,
   "metadata": {},
   "outputs": [
    {
     "name": "stdout",
     "output_type": "stream",
     "text": [
      "b\n"
     ]
    }
   ],
   "source": [
    "from pathlib import Path\n",
    "\n",
    "print(Path(\"a/b.mid\").stem)"
   ]
  },
  {
   "cell_type": "code",
   "execution_count": 4,
   "metadata": {},
   "outputs": [
    {
     "name": "stdout",
     "output_type": "stream",
     "text": [
      "=== Track 0\n",
      "MetaMessage('track_name', name='cgcg-70-02', time=0)\n",
      "MetaMessage('time_signature', numerator=4, denominator=4, clocks_per_click=36, notated_32nd_notes_per_beat=8, time=0)\n",
      "MetaMessage('time_signature', numerator=4, denominator=4, clocks_per_click=36, notated_32nd_notes_per_beat=8, time=0)\n",
      "Message('note_on', channel=0, note=48, velocity=103, time=0)\n",
      "Message('note_on', channel=0, note=60, velocity=103, time=0)\n",
      "Message('note_on', channel=0, note=64, velocity=103, time=0)\n",
      "Message('note_on', channel=0, note=67, velocity=103, time=0)\n",
      "Message('note_on', channel=0, note=43, velocity=103, time=96)\n",
      "Message('note_on', channel=0, note=47, velocity=103, time=0)\n",
      "Message('note_off', channel=0, note=48, velocity=64, time=0)\n",
      "Message('note_on', channel=0, note=50, velocity=101, time=0)\n",
      "Message('note_on', channel=0, note=55, velocity=101, time=0)\n",
      "Message('note_off', channel=0, note=60, velocity=64, time=0)\n",
      "Message('note_off', channel=0, note=64, velocity=64, time=0)\n",
      "Message('note_off', channel=0, note=67, velocity=64, time=0)\n",
      "Message('note_off', channel=0, note=43, velocity=64, time=96)\n",
      "Message('note_off', channel=0, note=47, velocity=64, time=0)\n",
      "Message('note_on', channel=0, note=48, velocity=103, time=0)\n",
      "Message('note_off', channel=0, note=50, velocity=64, time=0)\n",
      "Message('note_off', channel=0, note=55, velocity=64, time=0)\n",
      "Message('note_on', channel=0, note=60, velocity=103, time=0)\n",
      "Message('note_on', channel=0, note=64, velocity=103, time=0)\n",
      "Message('note_on', channel=0, note=67, velocity=103, time=0)\n",
      "Message('note_on', channel=0, note=43, velocity=103, time=96)\n",
      "Message('note_on', channel=0, note=47, velocity=103, time=0)\n",
      "Message('note_off', channel=0, note=48, velocity=64, time=0)\n",
      "Message('note_on', channel=0, note=50, velocity=101, time=0)\n",
      "Message('note_on', channel=0, note=55, velocity=101, time=0)\n",
      "Message('note_off', channel=0, note=60, velocity=64, time=0)\n",
      "Message('note_off', channel=0, note=64, velocity=64, time=0)\n",
      "Message('note_off', channel=0, note=67, velocity=64, time=0)\n",
      "Message('note_off', channel=0, note=43, velocity=64, time=96)\n",
      "Message('note_off', channel=0, note=47, velocity=64, time=0)\n",
      "Message('note_on', channel=0, note=48, velocity=103, time=0)\n",
      "Message('note_off', channel=0, note=50, velocity=64, time=0)\n",
      "Message('note_off', channel=0, note=55, velocity=64, time=0)\n",
      "Message('note_on', channel=0, note=60, velocity=103, time=0)\n",
      "Message('note_on', channel=0, note=64, velocity=103, time=0)\n",
      "Message('note_on', channel=0, note=67, velocity=103, time=0)\n",
      "Message('note_on', channel=0, note=43, velocity=103, time=96)\n",
      "Message('note_on', channel=0, note=47, velocity=103, time=0)\n",
      "Message('note_off', channel=0, note=48, velocity=64, time=0)\n",
      "Message('note_on', channel=0, note=50, velocity=101, time=0)\n",
      "Message('note_on', channel=0, note=55, velocity=101, time=0)\n",
      "Message('note_off', channel=0, note=60, velocity=64, time=0)\n",
      "Message('note_off', channel=0, note=64, velocity=64, time=0)\n",
      "Message('note_off', channel=0, note=67, velocity=64, time=0)\n",
      "Message('note_off', channel=0, note=43, velocity=64, time=96)\n",
      "Message('note_off', channel=0, note=47, velocity=64, time=0)\n",
      "Message('note_on', channel=0, note=48, velocity=103, time=0)\n",
      "Message('note_off', channel=0, note=50, velocity=64, time=0)\n",
      "Message('note_off', channel=0, note=55, velocity=64, time=0)\n",
      "Message('note_on', channel=0, note=60, velocity=103, time=0)\n",
      "Message('note_on', channel=0, note=64, velocity=103, time=0)\n",
      "Message('note_on', channel=0, note=67, velocity=103, time=0)\n",
      "Message('note_on', channel=0, note=43, velocity=103, time=96)\n",
      "Message('note_on', channel=0, note=47, velocity=103, time=0)\n",
      "Message('note_off', channel=0, note=48, velocity=64, time=0)\n",
      "Message('note_on', channel=0, note=50, velocity=101, time=0)\n",
      "Message('note_on', channel=0, note=55, velocity=101, time=0)\n",
      "Message('note_off', channel=0, note=60, velocity=64, time=0)\n",
      "Message('note_off', channel=0, note=64, velocity=64, time=0)\n",
      "Message('note_off', channel=0, note=67, velocity=64, time=0)\n",
      "Message('note_off', channel=0, note=43, velocity=64, time=96)\n",
      "Message('note_off', channel=0, note=47, velocity=64, time=0)\n",
      "Message('note_on', channel=0, note=48, velocity=103, time=0)\n",
      "Message('note_off', channel=0, note=50, velocity=64, time=0)\n",
      "Message('note_off', channel=0, note=55, velocity=64, time=0)\n",
      "Message('note_on', channel=0, note=60, velocity=103, time=0)\n",
      "Message('note_on', channel=0, note=64, velocity=103, time=0)\n",
      "Message('note_on', channel=0, note=67, velocity=103, time=0)\n",
      "Message('note_on', channel=0, note=43, velocity=103, time=96)\n",
      "Message('note_on', channel=0, note=47, velocity=103, time=0)\n",
      "Message('note_off', channel=0, note=48, velocity=64, time=0)\n",
      "Message('note_on', channel=0, note=50, velocity=101, time=0)\n",
      "Message('note_on', channel=0, note=55, velocity=101, time=0)\n",
      "Message('note_off', channel=0, note=60, velocity=64, time=0)\n",
      "Message('note_off', channel=0, note=64, velocity=64, time=0)\n",
      "Message('note_off', channel=0, note=67, velocity=64, time=0)\n",
      "Message('note_off', channel=0, note=43, velocity=64, time=96)\n",
      "Message('note_off', channel=0, note=47, velocity=64, time=0)\n",
      "Message('note_on', channel=0, note=48, velocity=103, time=0)\n",
      "Message('note_off', channel=0, note=50, velocity=64, time=0)\n",
      "Message('note_off', channel=0, note=55, velocity=64, time=0)\n",
      "Message('note_on', channel=0, note=60, velocity=103, time=0)\n",
      "Message('note_on', channel=0, note=64, velocity=103, time=0)\n",
      "Message('note_on', channel=0, note=67, velocity=103, time=0)\n",
      "Message('note_on', channel=0, note=43, velocity=103, time=96)\n",
      "Message('note_on', channel=0, note=47, velocity=103, time=0)\n",
      "Message('note_off', channel=0, note=48, velocity=64, time=0)\n",
      "Message('note_on', channel=0, note=50, velocity=101, time=0)\n",
      "Message('note_on', channel=0, note=55, velocity=101, time=0)\n",
      "Message('note_off', channel=0, note=60, velocity=64, time=0)\n",
      "Message('note_off', channel=0, note=64, velocity=64, time=0)\n",
      "Message('note_off', channel=0, note=67, velocity=64, time=0)\n",
      "Message('note_off', channel=0, note=43, velocity=64, time=96)\n",
      "Message('note_off', channel=0, note=47, velocity=64, time=0)\n",
      "Message('note_on', channel=0, note=48, velocity=103, time=0)\n",
      "Message('note_off', channel=0, note=50, velocity=64, time=0)\n",
      "Message('note_off', channel=0, note=55, velocity=64, time=0)\n",
      "Message('note_on', channel=0, note=60, velocity=103, time=0)\n",
      "Message('note_on', channel=0, note=64, velocity=103, time=0)\n",
      "Message('note_on', channel=0, note=67, velocity=103, time=0)\n",
      "Message('note_on', channel=0, note=43, velocity=103, time=96)\n",
      "Message('note_on', channel=0, note=47, velocity=103, time=0)\n",
      "Message('note_off', channel=0, note=48, velocity=64, time=0)\n",
      "Message('note_on', channel=0, note=50, velocity=101, time=0)\n",
      "Message('note_on', channel=0, note=55, velocity=101, time=0)\n",
      "Message('note_off', channel=0, note=60, velocity=64, time=0)\n",
      "Message('note_off', channel=0, note=64, velocity=64, time=0)\n",
      "Message('note_off', channel=0, note=67, velocity=64, time=0)\n",
      "Message('note_off', channel=0, note=43, velocity=64, time=96)\n",
      "Message('note_off', channel=0, note=47, velocity=64, time=0)\n",
      "Message('note_on', channel=0, note=48, velocity=103, time=0)\n",
      "Message('note_off', channel=0, note=50, velocity=64, time=0)\n",
      "Message('note_off', channel=0, note=55, velocity=64, time=0)\n",
      "Message('note_on', channel=0, note=60, velocity=103, time=0)\n",
      "Message('note_on', channel=0, note=64, velocity=103, time=0)\n",
      "Message('note_on', channel=0, note=67, velocity=103, time=0)\n",
      "Message('note_on', channel=0, note=43, velocity=103, time=96)\n",
      "Message('note_on', channel=0, note=47, velocity=103, time=0)\n",
      "Message('note_off', channel=0, note=48, velocity=64, time=0)\n",
      "Message('note_on', channel=0, note=50, velocity=101, time=0)\n",
      "Message('note_on', channel=0, note=55, velocity=101, time=0)\n",
      "Message('note_off', channel=0, note=60, velocity=64, time=0)\n",
      "Message('note_off', channel=0, note=64, velocity=64, time=0)\n",
      "Message('note_off', channel=0, note=67, velocity=64, time=0)\n",
      "Message('note_off', channel=0, note=43, velocity=64, time=96)\n",
      "Message('note_off', channel=0, note=47, velocity=64, time=0)\n",
      "Message('note_off', channel=0, note=50, velocity=64, time=0)\n",
      "Message('note_off', channel=0, note=55, velocity=64, time=0)\n",
      "MetaMessage('end_of_track', time=0)\n"
     ]
    },
    {
     "data": {
      "text/plain": [
       "8.0"
      ]
     },
     "execution_count": 4,
     "metadata": {},
     "output_type": "execute_result"
    }
   ],
   "source": [
    "midi = mido.MidiFile(\"/Users/finlay/Documents/Ableton Live/test datasets Project/midi/cgcg-70-02.mid\")\n",
    "midi.print_tracks()\n",
    "midi.length"
   ]
  }
 ],
 "metadata": {
  "kernelspec": {
   "display_name": "full",
   "language": "python",
   "name": "python3"
  },
  "language_info": {
   "codemirror_mode": {
    "name": "ipython",
    "version": 3
   },
   "file_extension": ".py",
   "mimetype": "text/x-python",
   "name": "python",
   "nbconvert_exporter": "python",
   "pygments_lexer": "ipython3",
   "version": "3.12.2"
  }
 },
 "nbformat": 4,
 "nbformat_minor": 2
}
