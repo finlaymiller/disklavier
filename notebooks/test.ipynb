{
 "cells": [
  {
   "cell_type": "code",
   "execution_count": 1,
   "metadata": {},
   "outputs": [],
   "source": [
    "import mido\n",
    "import pretty_midi"
   ]
  },
  {
   "cell_type": "code",
   "execution_count": 3,
   "metadata": {},
   "outputs": [
    {
     "name": "stdout",
     "output_type": "stream",
     "text": [
      "=== Track 0\n",
      "MetaMessage('track_name', name='player', time=0)\n",
      "MetaMessage('set_tempo', tempo=1000000, time=0)\n",
      "Message('note_on', channel=0, note=36, velocity=54, time=0)\n",
      "Message('note_on', channel=0, note=43, velocity=56, time=1)\n",
      "Message('note_on', channel=0, note=40, velocity=49, time=0)\n",
      "Message('note_off', channel=0, note=36, velocity=37, time=612)\n",
      "Message('note_off', channel=0, note=40, velocity=35, time=8)\n",
      "Message('note_off', channel=0, note=43, velocity=36, time=0)\n",
      "Message('note_on', channel=0, note=43, velocity=52, time=61)\n",
      "Message('note_on', channel=0, note=40, velocity=48, time=0)\n",
      "Message('note_on', channel=0, note=36, velocity=44, time=2)\n",
      "Message('note_off', channel=0, note=43, velocity=56, time=31)\n",
      "Message('note_off', channel=0, note=36, velocity=54, time=2)\n",
      "Message('note_off', channel=0, note=40, velocity=42, time=0)\n",
      "Message('note_on', channel=0, note=35, velocity=59, time=68)\n",
      "Message('note_on', channel=0, note=41, velocity=49, time=2)\n",
      "Message('note_on', channel=0, note=38, velocity=48, time=0)\n",
      "Message('note_off', channel=0, note=38, velocity=54, time=28)\n",
      "Message('note_off', channel=0, note=35, velocity=59, time=3)\n",
      "Message('note_off', channel=0, note=41, velocity=60, time=0)\n",
      "Message('note_on', channel=0, note=33, velocity=56, time=167)\n",
      "Message('note_on', channel=0, note=41, velocity=37, time=2)\n",
      "Message('note_on', channel=0, note=36, velocity=59, time=0)\n",
      "Message('note_off', channel=0, note=36, velocity=60, time=21)\n",
      "Message('note_off', channel=0, note=33, velocity=63, time=1)\n",
      "Message('note_off', channel=0, note=41, velocity=59, time=0)\n",
      "MetaMessage('end_of_track', time=0)\n"
     ]
    }
   ],
   "source": [
    "midi_path = \"/Users/finlay/Documents/Programming/disklavier/data/outputs/logs/250310-111012_specdiff_7685_recording/player-recording.mid\"\n",
    "mido.MidiFile(midi_path).print_tracks()"
   ]
  },
  {
   "cell_type": "code",
   "execution_count": 7,
   "metadata": {},
   "outputs": [
    {
     "data": {
      "text/plain": [
       "[Instrument(program=0, is_drum=False, name=\"player\"),\n",
       " Instrument(program=0, is_drum=False, name=\"system-recording\")]"
      ]
     },
     "execution_count": 7,
     "metadata": {},
     "output_type": "execute_result"
    }
   ],
   "source": [
    "pretty_midi.PrettyMIDI(midi_path).instruments"
   ]
  }
 ],
 "metadata": {
  "kernelspec": {
   "display_name": ".venv",
   "language": "python",
   "name": "python3"
  },
  "language_info": {
   "codemirror_mode": {
    "name": "ipython",
    "version": 3
   },
   "file_extension": ".py",
   "mimetype": "text/x-python",
   "name": "python",
   "nbconvert_exporter": "python",
   "pygments_lexer": "ipython3",
   "version": "3.12.2"
  }
 },
 "nbformat": 4,
 "nbformat_minor": 2
}
