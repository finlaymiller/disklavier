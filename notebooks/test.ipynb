{
 "cells": [
  {
   "cell_type": "code",
   "execution_count": 1,
   "metadata": {},
   "outputs": [],
   "source": [
    "import os\n",
    "import shutil\n",
    "from rich.progress import track"
   ]
  },
  {
   "cell_type": "code",
   "execution_count": 2,
   "metadata": {},
   "outputs": [],
   "source": [
    "def reorganize_files(folder_path: str):\n",
    "    \"\"\"\n",
    "    Reorganize files in a folder into subfolders based on the prefix of their filenames.\n",
    "\n",
    "    Args:\n",
    "        folder_path (str): Path to the folder containing the files.\n",
    "    \"\"\"\n",
    "    # ensure the folder exists\n",
    "    if not os.path.isdir(folder_path):\n",
    "        print(f\"Error: Folder '{folder_path}' does not exist.\")\n",
    "        return\n",
    "\n",
    "    # iterate through files in the folder\n",
    "    for filename in track(os.listdir(folder_path), \"moving...\"):\n",
    "        file_path = os.path.join(folder_path, filename)\n",
    "\n",
    "        # skip if not a file\n",
    "        if not os.path.isfile(file_path):\n",
    "            continue\n",
    "\n",
    "        # split the filename by underscore\n",
    "        prefix = filename.split(\"_\")[0]\n",
    "        if not prefix:\n",
    "            continue\n",
    "\n",
    "        # create the subfolder based on the prefix\n",
    "        subfolder_path = os.path.join(folder_path, prefix)\n",
    "        os.makedirs(subfolder_path, exist_ok=True)\n",
    "\n",
    "        # move the file to the subfolder\n",
    "        new_file_path = os.path.join(subfolder_path, filename)\n",
    "        shutil.move(file_path, new_file_path)"
   ]
  },
  {
   "cell_type": "code",
   "execution_count": 3,
   "metadata": {},
   "outputs": [
    {
     "data": {
      "application/vnd.jupyter.widget-view+json": {
       "model_id": "a784b4ca80e248eaa87c97afc1628f55",
       "version_major": 2,
       "version_minor": 0
      },
      "text/plain": [
       "Output()"
      ]
     },
     "metadata": {},
     "output_type": "display_data"
    },
    {
     "data": {
      "text/html": [
       "<pre style=\"white-space:pre;overflow-x:auto;line-height:normal;font-family:Menlo,'DejaVu Sans Mono',consolas,'Courier New',monospace\"></pre>\n"
      ],
      "text/plain": []
     },
     "metadata": {},
     "output_type": "display_data"
    },
    {
     "data": {
      "text/html": [
       "<pre style=\"white-space:pre;overflow-x:auto;line-height:normal;font-family:Menlo,'DejaVu Sans Mono',consolas,'Courier New',monospace\">\n",
       "</pre>\n"
      ],
      "text/plain": [
       "\n"
      ]
     },
     "metadata": {},
     "output_type": "display_data"
    }
   ],
   "source": [
    "folder = \"/media/nova/Datasets/sageev-midi/20240621/augmented\"\n",
    "reorganize_files(folder)"
   ]
  }
 ],
 "metadata": {
  "kernelspec": {
   "display_name": ".venv",
   "language": "python",
   "name": "python3"
  },
  "language_info": {
   "codemirror_mode": {
    "name": "ipython",
    "version": 3
   },
   "file_extension": ".py",
   "mimetype": "text/x-python",
   "name": "python",
   "nbconvert_exporter": "python",
   "pygments_lexer": "ipython3",
   "version": "3.12.2"
  }
 },
 "nbformat": 4,
 "nbformat_minor": 2
}
