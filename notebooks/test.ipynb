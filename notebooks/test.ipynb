{
 "cells": [
  {
   "cell_type": "code",
   "execution_count": 2,
   "metadata": {},
   "outputs": [
    {
     "data": {
      "text/plain": [
       "371328"
      ]
     },
     "execution_count": 2,
     "metadata": {},
     "output_type": "execute_result"
    }
   ],
   "source": [
    "import os\n",
    "\n",
    "len(os.listdir(\"../data/outputs\"))"
   ]
  },
  {
   "cell_type": "code",
   "execution_count": 20,
   "metadata": {},
   "outputs": [
    {
     "name": "stdout",
     "output_type": "stream",
     "text": [
      "recording-100-240410_161223.mid\n",
      "=== Track 0\n",
      "MetaMessage('set_tempo', tempo=600000, time=0)\n",
      "Message('note_on', channel=0, note=53, velocity=51, time=0)\n",
      "Message('note_off', channel=0, note=53, velocity=61, time=138)\n",
      "Message('note_on', channel=0, note=50, velocity=52, time=6)\n",
      "Message('note_off', channel=0, note=50, velocity=62, time=28)\n",
      "Message('note_on', channel=0, note=50, velocity=43, time=314)\n",
      "Message('note_off', channel=0, note=50, velocity=59, time=17)\n",
      "Message('note_on', channel=0, note=48, velocity=58, time=145)\n",
      "Message('note_off', channel=0, note=48, velocity=60, time=141)\n",
      "Message('note_on', channel=0, note=47, velocity=64, time=12)\n",
      "Message('note_off', channel=0, note=47, velocity=60, time=24)\n",
      "Message('note_on', channel=0, note=47, velocity=64, time=297)\n",
      "Message('note_off', channel=0, note=47, velocity=62, time=39)\n",
      "Message('note_on', channel=0, note=74, velocity=57, time=128)\n",
      "Message('note_on', channel=0, note=72, velocity=52, time=12)\n",
      "Message('note_off', channel=0, note=72, velocity=20, time=86)\n",
      "Message('note_off', channel=0, note=74, velocity=60, time=178)\n",
      "Message('note_on', channel=0, note=74, velocity=73, time=58)\n",
      "Message('note_off', channel=0, note=74, velocity=59, time=239)\n",
      "Message('note_on', channel=0, note=74, velocity=73, time=105)\n",
      "Message('note_on', channel=0, note=72, velocity=55, time=166)\n",
      "Message('note_off', channel=0, note=74, velocity=29, time=112)\n",
      "Message('note_on', channel=0, note=47, velocity=54, time=32)\n",
      "Message('note_off', channel=0, note=72, velocity=58, time=12)\n",
      "Message('note_off', channel=0, note=47, velocity=54, time=141)\n",
      "Message('note_on', channel=0, note=48, velocity=58, time=9)\n",
      "Message('note_off', channel=0, note=48, velocity=59, time=40)\n",
      "MetaMessage('end_of_track', time=0)\n"
     ]
    }
   ],
   "source": [
    "import mido\n",
    "import os\n",
    "\n",
    "recs = os.path.join(\"..\", \"data\", \"outputs\", \"records\")\n",
    "\n",
    "for file in os.listdir(recs):\n",
    "    if file.endswith(\".mid\"):\n",
    "        print(file)\n",
    "        midi = mido.MidiFile(os.path.join(recs, file))\n",
    "        midi.print_tracks()\n",
    "\n",
    "        with mido.open_output(\"Disklavier\") as output:\n",
    "            for message in midi.play():\n",
    "                output.send(message)"
   ]
  },
  {
   "cell_type": "code",
   "execution_count": 1,
   "metadata": {},
   "outputs": [],
   "source": [
    "import time\n",
    "import simpleaudio as sa\n",
    "from threading import Event, Thread\n",
    "from rich import print"
   ]
  },
  {
   "cell_type": "code",
   "execution_count": 2,
   "metadata": {},
   "outputs": [],
   "source": [
    "class Metronome:\n",
    "    p = \"[cyan]metro[/cyan] :\"\n",
    "    tick_file = \"data/m_kick.wav\"\n",
    "\n",
    "    def __init__(self, tempo: int, file: str):\n",
    "        self.tick_rate = 60.0 / tempo\n",
    "        self.tick_file = file\n",
    "        self.beats_per_seg = 9\n",
    "\n",
    "    def tick(self) -> None:\n",
    "        print(f\"{self.p} ticking every {self.tick_rate:.01f} seconds\")\n",
    "\n",
    "        beats = self.beats_per_seg - 1\n",
    "        start_time = time.time()\n",
    "        last_beat = start_time\n",
    "\n",
    "        while True:\n",
    "            beat = time.time()\n",
    "            if beat - last_beat >= self.tick_rate:\n",
    "                beats += 1\n",
    "                if beats // self.beats_per_seg:\n",
    "                    beats = 0\n",
    "                    print(\n",
    "                        f\"{self.p} beat {beats} [grey50]({beat - last_beat:.05f}s)[/grey50]\\t[green]go!\"\n",
    "                    )\n",
    "                elif beats // (self.beats_per_seg - 1):\n",
    "                    print(\n",
    "                        f\"{self.p} beat {beats} [grey50]({beat - last_beat:.05f}s)[/grey50]\\t[orange]ready?\"\n",
    "                    )\n",
    "                else:\n",
    "                    print(f\"{self.p} beat {beats} [grey50]({beat - last_beat:.05f}s)\")\n",
    "\n",
    "                sa.WaveObject.from_wave_file(self.tick_file).play()\n",
    "\n",
    "                last_beat = beat"
   ]
  },
  {
   "cell_type": "code",
   "execution_count": 3,
   "metadata": {},
   "outputs": [
    {
     "name": "stdout",
     "output_type": "stream",
     "text": [
      "\u001b[36mmetro\u001b[0m : ticking every \u001b[1;36m0.6\u001b[0m seconds\n",
      "\u001b[36mmetro\u001b[0m : beat \u001b[1;36m0\u001b[0m \u001b[1;37m(\u001b[0m\u001b[1;37m0.\u001b[0m\u001b[37m60000s\u001b[0m\u001b[1;37m)\u001b[0m       \u001b[32mgo!\u001b[0m\n",
      "\u001b[36mmetro\u001b[0m : beat \u001b[1;36m1\u001b[0m \u001b[1;37m(\u001b[0m\u001b[1;37m0.\u001b[0m\u001b[37m60000s\u001b[0m\u001b[1;37m)\u001b[0m\n",
      "\u001b[36mmetro\u001b[0m : beat \u001b[1;36m2\u001b[0m \u001b[1;37m(\u001b[0m\u001b[1;37m0.\u001b[0m\u001b[37m60000s\u001b[0m\u001b[1;37m)\u001b[0m\n",
      "\u001b[36mmetro\u001b[0m : beat \u001b[1;36m3\u001b[0m \u001b[1;37m(\u001b[0m\u001b[1;37m0.\u001b[0m\u001b[37m60000s\u001b[0m\u001b[1;37m)\u001b[0m\n",
      "\u001b[36mmetro\u001b[0m : beat \u001b[1;36m4\u001b[0m \u001b[1;37m(\u001b[0m\u001b[1;37m0.\u001b[0m\u001b[37m60000s\u001b[0m\u001b[1;37m)\u001b[0m\n",
      "\u001b[36mmetro\u001b[0m : beat \u001b[1;36m5\u001b[0m \u001b[1;37m(\u001b[0m\u001b[1;37m0.\u001b[0m\u001b[37m60000s\u001b[0m\u001b[1;37m)\u001b[0m\n",
      "\u001b[36mmetro\u001b[0m : beat \u001b[1;36m6\u001b[0m \u001b[1;37m(\u001b[0m\u001b[1;37m0.\u001b[0m\u001b[37m60000s\u001b[0m\u001b[1;37m)\u001b[0m\n",
      "\u001b[36mmetro\u001b[0m : beat \u001b[1;36m7\u001b[0m \u001b[1;37m(\u001b[0m\u001b[1;37m0.\u001b[0m\u001b[37m60000s\u001b[0m\u001b[1;37m)\u001b[0m\n",
      "\u001b[36mmetro\u001b[0m : beat \u001b[1;36m8\u001b[0m \u001b[1;37m(\u001b[0m\u001b[1;37m0.\u001b[0m\u001b[37m60000s\u001b[0m\u001b[1;37m)\u001b[0m       ready?\n",
      "\u001b[36mmetro\u001b[0m : beat \u001b[1;36m0\u001b[0m \u001b[1;37m(\u001b[0m\u001b[1;37m0.\u001b[0m\u001b[37m60000s\u001b[0m\u001b[1;37m)\u001b[0m       \u001b[32mgo!\u001b[0m\n",
      "\u001b[36mmetro\u001b[0m : beat \u001b[1;36m1\u001b[0m \u001b[1;37m(\u001b[0m\u001b[1;37m0.\u001b[0m\u001b[37m60000s\u001b[0m\u001b[1;37m)\u001b[0m\n",
      "\u001b[36mmetro\u001b[0m : beat \u001b[1;36m2\u001b[0m \u001b[1;37m(\u001b[0m\u001b[1;37m0.\u001b[0m\u001b[37m60000s\u001b[0m\u001b[1;37m)\u001b[0m\n",
      "\u001b[36mmetro\u001b[0m : beat \u001b[1;36m3\u001b[0m \u001b[1;37m(\u001b[0m\u001b[1;37m0.\u001b[0m\u001b[37m60000s\u001b[0m\u001b[1;37m)\u001b[0m\n",
      "\u001b[36mmetro\u001b[0m : beat \u001b[1;36m4\u001b[0m \u001b[1;37m(\u001b[0m\u001b[1;37m0.\u001b[0m\u001b[37m60000s\u001b[0m\u001b[1;37m)\u001b[0m\n",
      "\u001b[36mmetro\u001b[0m : beat \u001b[1;36m5\u001b[0m \u001b[1;37m(\u001b[0m\u001b[1;37m0.\u001b[0m\u001b[37m60000s\u001b[0m\u001b[1;37m)\u001b[0m\n",
      "\u001b[36mmetro\u001b[0m : beat \u001b[1;36m6\u001b[0m \u001b[1;37m(\u001b[0m\u001b[1;37m0.\u001b[0m\u001b[37m60000s\u001b[0m\u001b[1;37m)\u001b[0m\n",
      "\u001b[36mmetro\u001b[0m : beat \u001b[1;36m7\u001b[0m \u001b[1;37m(\u001b[0m\u001b[1;37m0.\u001b[0m\u001b[37m60000s\u001b[0m\u001b[1;37m)\u001b[0m\n",
      "\u001b[36mmetro\u001b[0m : beat \u001b[1;36m8\u001b[0m \u001b[1;37m(\u001b[0m\u001b[1;37m0.\u001b[0m\u001b[37m60000s\u001b[0m\u001b[1;37m)\u001b[0m       ready?\n",
      "\u001b[36mmetro\u001b[0m : beat \u001b[1;36m0\u001b[0m \u001b[1;37m(\u001b[0m\u001b[1;37m0.\u001b[0m\u001b[37m60000s\u001b[0m\u001b[1;37m)\u001b[0m       \u001b[32mgo!\u001b[0m\n",
      "\u001b[36mmetro\u001b[0m : beat \u001b[1;36m1\u001b[0m \u001b[1;37m(\u001b[0m\u001b[1;37m0.\u001b[0m\u001b[37m60000s\u001b[0m\u001b[1;37m)\u001b[0m\n",
      "\u001b[36mmetro\u001b[0m : beat \u001b[1;36m2\u001b[0m \u001b[1;37m(\u001b[0m\u001b[1;37m0.\u001b[0m\u001b[37m60000s\u001b[0m\u001b[1;37m)\u001b[0m\n",
      "\u001b[36mmetro\u001b[0m : beat \u001b[1;36m3\u001b[0m \u001b[1;37m(\u001b[0m\u001b[1;37m0.\u001b[0m\u001b[37m60000s\u001b[0m\u001b[1;37m)\u001b[0m\n",
      "\u001b[36mmetro\u001b[0m : beat \u001b[1;36m4\u001b[0m \u001b[1;37m(\u001b[0m\u001b[1;37m0.\u001b[0m\u001b[37m60000s\u001b[0m\u001b[1;37m)\u001b[0m\n",
      "\u001b[36mmetro\u001b[0m : beat \u001b[1;36m5\u001b[0m \u001b[1;37m(\u001b[0m\u001b[1;37m0.\u001b[0m\u001b[37m60000s\u001b[0m\u001b[1;37m)\u001b[0m\n",
      "\u001b[36mmetro\u001b[0m : beat \u001b[1;36m6\u001b[0m \u001b[1;37m(\u001b[0m\u001b[1;37m0.\u001b[0m\u001b[37m60000s\u001b[0m\u001b[1;37m)\u001b[0m\n",
      "\u001b[36mmetro\u001b[0m : beat \u001b[1;36m7\u001b[0m \u001b[1;37m(\u001b[0m\u001b[1;37m0.\u001b[0m\u001b[37m60000s\u001b[0m\u001b[1;37m)\u001b[0m\n",
      "\u001b[36mmetro\u001b[0m : beat \u001b[1;36m8\u001b[0m \u001b[1;37m(\u001b[0m\u001b[1;37m0.\u001b[0m\u001b[37m60000s\u001b[0m\u001b[1;37m)\u001b[0m       ready?\n",
      "\u001b[36mmetro\u001b[0m : beat \u001b[1;36m0\u001b[0m \u001b[1;37m(\u001b[0m\u001b[1;37m0.\u001b[0m\u001b[37m60000s\u001b[0m\u001b[1;37m)\u001b[0m       \u001b[32mgo!\u001b[0m\n",
      "\u001b[36mmetro\u001b[0m : beat \u001b[1;36m1\u001b[0m \u001b[1;37m(\u001b[0m\u001b[1;37m0.\u001b[0m\u001b[37m60000s\u001b[0m\u001b[1;37m)\u001b[0m\n",
      "\u001b[36mmetro\u001b[0m : beat \u001b[1;36m2\u001b[0m \u001b[1;37m(\u001b[0m\u001b[1;37m0.\u001b[0m\u001b[37m60000s\u001b[0m\u001b[1;37m)\u001b[0m\n",
      "\u001b[36mmetro\u001b[0m : beat \u001b[1;36m3\u001b[0m \u001b[1;37m(\u001b[0m\u001b[1;37m0.\u001b[0m\u001b[37m60000s\u001b[0m\u001b[1;37m)\u001b[0m\n",
      "\u001b[36mmetro\u001b[0m : beat \u001b[1;36m4\u001b[0m \u001b[1;37m(\u001b[0m\u001b[1;37m0.\u001b[0m\u001b[37m60000s\u001b[0m\u001b[1;37m)\u001b[0m\n",
      "\u001b[36mmetro\u001b[0m : beat \u001b[1;36m5\u001b[0m \u001b[1;37m(\u001b[0m\u001b[1;37m0.\u001b[0m\u001b[37m60000s\u001b[0m\u001b[1;37m)\u001b[0m\n",
      "\u001b[36mmetro\u001b[0m : beat \u001b[1;36m6\u001b[0m \u001b[1;37m(\u001b[0m\u001b[1;37m0.\u001b[0m\u001b[37m60000s\u001b[0m\u001b[1;37m)\u001b[0m\n",
      "\u001b[36mmetro\u001b[0m : beat \u001b[1;36m7\u001b[0m \u001b[1;37m(\u001b[0m\u001b[1;37m0.\u001b[0m\u001b[37m60000s\u001b[0m\u001b[1;37m)\u001b[0m\n",
      "\u001b[36mmetro\u001b[0m : beat \u001b[1;36m8\u001b[0m \u001b[1;37m(\u001b[0m\u001b[1;37m0.\u001b[0m\u001b[37m60000s\u001b[0m\u001b[1;37m)\u001b[0m       ready?\n",
      "\u001b[36mmetro\u001b[0m : beat \u001b[1;36m0\u001b[0m \u001b[1;37m(\u001b[0m\u001b[1;37m0.\u001b[0m\u001b[37m60000s\u001b[0m\u001b[1;37m)\u001b[0m       \u001b[32mgo!\u001b[0m\n",
      "\u001b[36mmetro\u001b[0m : beat \u001b[1;36m1\u001b[0m \u001b[1;37m(\u001b[0m\u001b[1;37m0.\u001b[0m\u001b[37m60000s\u001b[0m\u001b[1;37m)\u001b[0m\n",
      "\u001b[36mmetro\u001b[0m : beat \u001b[1;36m2\u001b[0m \u001b[1;37m(\u001b[0m\u001b[1;37m0.\u001b[0m\u001b[37m60000s\u001b[0m\u001b[1;37m)\u001b[0m\n",
      "\u001b[36mmetro\u001b[0m : beat \u001b[1;36m3\u001b[0m \u001b[1;37m(\u001b[0m\u001b[1;37m0.\u001b[0m\u001b[37m60000s\u001b[0m\u001b[1;37m)\u001b[0m\n",
      "\u001b[36mmetro\u001b[0m : beat \u001b[1;36m4\u001b[0m \u001b[1;37m(\u001b[0m\u001b[1;37m0.\u001b[0m\u001b[37m60000s\u001b[0m\u001b[1;37m)\u001b[0m\n",
      "\u001b[36mmetro\u001b[0m : beat \u001b[1;36m5\u001b[0m \u001b[1;37m(\u001b[0m\u001b[1;37m0.\u001b[0m\u001b[37m60000s\u001b[0m\u001b[1;37m)\u001b[0m\n",
      "\u001b[36mmetro\u001b[0m : beat \u001b[1;36m6\u001b[0m \u001b[1;37m(\u001b[0m\u001b[1;37m0.\u001b[0m\u001b[37m60000s\u001b[0m\u001b[1;37m)\u001b[0m\n",
      "\u001b[36mmetro\u001b[0m : beat \u001b[1;36m7\u001b[0m \u001b[1;37m(\u001b[0m\u001b[1;37m0.\u001b[0m\u001b[37m60000s\u001b[0m\u001b[1;37m)\u001b[0m\n",
      "\u001b[36mmetro\u001b[0m : beat \u001b[1;36m8\u001b[0m \u001b[1;37m(\u001b[0m\u001b[1;37m0.\u001b[0m\u001b[37m60000s\u001b[0m\u001b[1;37m)\u001b[0m       ready?\n",
      "\u001b[36mmetro\u001b[0m : beat \u001b[1;36m0\u001b[0m \u001b[1;37m(\u001b[0m\u001b[1;37m0.\u001b[0m\u001b[37m60000s\u001b[0m\u001b[1;37m)\u001b[0m       \u001b[32mgo!\u001b[0m\n",
      "\u001b[36mmetro\u001b[0m : beat \u001b[1;36m1\u001b[0m \u001b[1;37m(\u001b[0m\u001b[1;37m0.\u001b[0m\u001b[37m60000s\u001b[0m\u001b[1;37m)\u001b[0m\n",
      "\u001b[36mmetro\u001b[0m : beat \u001b[1;36m2\u001b[0m \u001b[1;37m(\u001b[0m\u001b[1;37m0.\u001b[0m\u001b[37m60000s\u001b[0m\u001b[1;37m)\u001b[0m\n",
      "\u001b[36mmetro\u001b[0m : beat \u001b[1;36m3\u001b[0m \u001b[1;37m(\u001b[0m\u001b[1;37m0.\u001b[0m\u001b[37m60000s\u001b[0m\u001b[1;37m)\u001b[0m\n",
      "\u001b[36mmetro\u001b[0m : beat \u001b[1;36m4\u001b[0m \u001b[1;37m(\u001b[0m\u001b[1;37m0.\u001b[0m\u001b[37m60000s\u001b[0m\u001b[1;37m)\u001b[0m\n",
      "\u001b[36mmetro\u001b[0m : beat \u001b[1;36m5\u001b[0m \u001b[1;37m(\u001b[0m\u001b[1;37m0.\u001b[0m\u001b[37m60000s\u001b[0m\u001b[1;37m)\u001b[0m\n",
      "\u001b[36mmetro\u001b[0m : beat \u001b[1;36m6\u001b[0m \u001b[1;37m(\u001b[0m\u001b[1;37m0.\u001b[0m\u001b[37m60000s\u001b[0m\u001b[1;37m)\u001b[0m\n",
      "\u001b[36mmetro\u001b[0m : beat \u001b[1;36m7\u001b[0m \u001b[1;37m(\u001b[0m\u001b[1;37m0.\u001b[0m\u001b[37m60000s\u001b[0m\u001b[1;37m)\u001b[0m\n",
      "\u001b[36mmetro\u001b[0m : beat \u001b[1;36m8\u001b[0m \u001b[1;37m(\u001b[0m\u001b[1;37m0.\u001b[0m\u001b[37m60000s\u001b[0m\u001b[1;37m)\u001b[0m       ready?\n",
      "\u001b[36mmetro\u001b[0m : beat \u001b[1;36m0\u001b[0m \u001b[1;37m(\u001b[0m\u001b[1;37m0.\u001b[0m\u001b[37m60000s\u001b[0m\u001b[1;37m)\u001b[0m       \u001b[32mgo!\u001b[0m\n",
      "\u001b[36mmetro\u001b[0m : beat \u001b[1;36m1\u001b[0m \u001b[1;37m(\u001b[0m\u001b[1;37m0.\u001b[0m\u001b[37m60000s\u001b[0m\u001b[1;37m)\u001b[0m\n",
      "\u001b[36mmetro\u001b[0m : beat \u001b[1;36m2\u001b[0m \u001b[1;37m(\u001b[0m\u001b[1;37m0.\u001b[0m\u001b[37m60000s\u001b[0m\u001b[1;37m)\u001b[0m\n",
      "\u001b[36mmetro\u001b[0m : beat \u001b[1;36m3\u001b[0m \u001b[1;37m(\u001b[0m\u001b[1;37m0.\u001b[0m\u001b[37m60000s\u001b[0m\u001b[1;37m)\u001b[0m\n",
      "\u001b[36mmetro\u001b[0m : beat \u001b[1;36m4\u001b[0m \u001b[1;37m(\u001b[0m\u001b[1;37m0.\u001b[0m\u001b[37m60000s\u001b[0m\u001b[1;37m)\u001b[0m\n",
      "\u001b[36mmetro\u001b[0m : beat \u001b[1;36m5\u001b[0m \u001b[1;37m(\u001b[0m\u001b[1;37m0.\u001b[0m\u001b[37m60000s\u001b[0m\u001b[1;37m)\u001b[0m\n",
      "\u001b[36mmetro\u001b[0m : beat \u001b[1;36m6\u001b[0m \u001b[1;37m(\u001b[0m\u001b[1;37m0.\u001b[0m\u001b[37m60000s\u001b[0m\u001b[1;37m)\u001b[0m\n",
      "\u001b[36mmetro\u001b[0m : beat \u001b[1;36m7\u001b[0m \u001b[1;37m(\u001b[0m\u001b[1;37m0.\u001b[0m\u001b[37m60000s\u001b[0m\u001b[1;37m)\u001b[0m\n",
      "\u001b[36mmetro\u001b[0m : beat \u001b[1;36m8\u001b[0m \u001b[1;37m(\u001b[0m\u001b[1;37m0.\u001b[0m\u001b[37m60000s\u001b[0m\u001b[1;37m)\u001b[0m       ready?\n",
      "\u001b[36mmetro\u001b[0m : beat \u001b[1;36m0\u001b[0m \u001b[1;37m(\u001b[0m\u001b[1;37m0.\u001b[0m\u001b[37m60000s\u001b[0m\u001b[1;37m)\u001b[0m       \u001b[32mgo!\u001b[0m\n",
      "\u001b[36mmetro\u001b[0m : beat \u001b[1;36m1\u001b[0m \u001b[1;37m(\u001b[0m\u001b[1;37m0.\u001b[0m\u001b[37m60000s\u001b[0m\u001b[1;37m)\u001b[0m\n",
      "\u001b[36mmetro\u001b[0m : beat \u001b[1;36m2\u001b[0m \u001b[1;37m(\u001b[0m\u001b[1;37m0.\u001b[0m\u001b[37m60000s\u001b[0m\u001b[1;37m)\u001b[0m\n",
      "\u001b[36mmetro\u001b[0m : beat \u001b[1;36m3\u001b[0m \u001b[1;37m(\u001b[0m\u001b[1;37m0.\u001b[0m\u001b[37m60000s\u001b[0m\u001b[1;37m)\u001b[0m\n",
      "\u001b[36mmetro\u001b[0m : beat \u001b[1;36m4\u001b[0m \u001b[1;37m(\u001b[0m\u001b[1;37m0.\u001b[0m\u001b[37m60000s\u001b[0m\u001b[1;37m)\u001b[0m\n",
      "\u001b[36mmetro\u001b[0m : beat \u001b[1;36m5\u001b[0m \u001b[1;37m(\u001b[0m\u001b[1;37m0.\u001b[0m\u001b[37m60000s\u001b[0m\u001b[1;37m)\u001b[0m\n",
      "\u001b[36mmetro\u001b[0m : beat \u001b[1;36m6\u001b[0m \u001b[1;37m(\u001b[0m\u001b[1;37m0.\u001b[0m\u001b[37m60000s\u001b[0m\u001b[1;37m)\u001b[0m\n",
      "\u001b[36mmetro\u001b[0m : beat \u001b[1;36m7\u001b[0m \u001b[1;37m(\u001b[0m\u001b[1;37m0.\u001b[0m\u001b[37m60000s\u001b[0m\u001b[1;37m)\u001b[0m\n",
      "\u001b[36mmetro\u001b[0m : beat \u001b[1;36m8\u001b[0m \u001b[1;37m(\u001b[0m\u001b[1;37m0.\u001b[0m\u001b[37m60000s\u001b[0m\u001b[1;37m)\u001b[0m       ready?\n",
      "\u001b[36mmetro\u001b[0m : beat \u001b[1;36m0\u001b[0m \u001b[1;37m(\u001b[0m\u001b[1;37m0.\u001b[0m\u001b[37m60000s\u001b[0m\u001b[1;37m)\u001b[0m       \u001b[32mgo!\u001b[0m\n",
      "\u001b[36mmetro\u001b[0m : beat \u001b[1;36m1\u001b[0m \u001b[1;37m(\u001b[0m\u001b[1;37m0.\u001b[0m\u001b[37m60000s\u001b[0m\u001b[1;37m)\u001b[0m\n",
      "\u001b[36mmetro\u001b[0m : beat \u001b[1;36m2\u001b[0m \u001b[1;37m(\u001b[0m\u001b[1;37m0.\u001b[0m\u001b[37m60000s\u001b[0m\u001b[1;37m)\u001b[0m\n",
      "\u001b[36mmetro\u001b[0m : beat \u001b[1;36m3\u001b[0m \u001b[1;37m(\u001b[0m\u001b[1;37m0.\u001b[0m\u001b[37m60000s\u001b[0m\u001b[1;37m)\u001b[0m\n",
      "\u001b[36mmetro\u001b[0m : beat \u001b[1;36m4\u001b[0m \u001b[1;37m(\u001b[0m\u001b[1;37m0.\u001b[0m\u001b[37m60000s\u001b[0m\u001b[1;37m)\u001b[0m\n",
      "\u001b[36mmetro\u001b[0m : beat \u001b[1;36m5\u001b[0m \u001b[1;37m(\u001b[0m\u001b[1;37m0.\u001b[0m\u001b[37m60000s\u001b[0m\u001b[1;37m)\u001b[0m\n",
      "\u001b[36mmetro\u001b[0m : beat \u001b[1;36m6\u001b[0m \u001b[1;37m(\u001b[0m\u001b[1;37m0.\u001b[0m\u001b[37m60000s\u001b[0m\u001b[1;37m)\u001b[0m\n",
      "\u001b[36mmetro\u001b[0m : beat \u001b[1;36m7\u001b[0m \u001b[1;37m(\u001b[0m\u001b[1;37m0.\u001b[0m\u001b[37m60000s\u001b[0m\u001b[1;37m)\u001b[0m\n",
      "\u001b[36mmetro\u001b[0m : beat \u001b[1;36m8\u001b[0m \u001b[1;37m(\u001b[0m\u001b[1;37m0.\u001b[0m\u001b[37m60000s\u001b[0m\u001b[1;37m)\u001b[0m       ready?\n"
     ]
    }
   ],
   "source": [
    "metronome = Metronome(100, \"../data/m_hat.wav\")\n",
    "\n",
    "metro_t = Thread(target=metronome.tick, name=\"metro\")\n",
    "metro_t.start()"
   ]
  }
 ],
 "metadata": {
  "kernelspec": {
   "display_name": "full",
   "language": "python",
   "name": "python3"
  },
  "language_info": {
   "codemirror_mode": {
    "name": "ipython",
    "version": 3
   },
   "file_extension": ".py",
   "mimetype": "text/x-python",
   "name": "python",
   "nbconvert_exporter": "python",
   "pygments_lexer": "ipython3",
   "version": "3.10.11"
  }
 },
 "nbformat": 4,
 "nbformat_minor": 2
}
