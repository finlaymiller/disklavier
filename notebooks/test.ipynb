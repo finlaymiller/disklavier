{
 "cells": [
  {
   "cell_type": "code",
   "execution_count": 4,
   "metadata": {},
   "outputs": [],
   "source": [
    "import os\n",
    "import mido\n",
    "import pretty_midi"
   ]
  },
  {
   "cell_type": "code",
   "execution_count": 3,
   "metadata": {},
   "outputs": [
    {
     "data": {
      "text/plain": [
       "[Instrument(program=0, is_drum=False, name=\"20240124-064-02_0067-0074\"),\n",
       " Instrument(program=0, is_drum=True, name=\"metronome\")]"
      ]
     },
     "execution_count": 3,
     "metadata": {},
     "output_type": "execute_result"
    }
   ],
   "source": [
    "pretty_midi.PrettyMIDI(\n",
    "    \"/Users/finlay/Documents/Ableton Live/20250315 test Project/out/segmented/20240124-064-02_0067-0074.mid\"\n",
    ").instruments"
   ]
  },
  {
   "cell_type": "code",
   "execution_count": 9,
   "metadata": {},
   "outputs": [
    {
     "name": "stdout",
     "output_type": "stream",
     "text": [
      "playing /Users/finlay/Downloads/liszt/liz_et6.mid\n",
      "playing /Users/finlay/Downloads/liszt/liz_rhap02.mid\n",
      "playing /Users/finlay/Downloads/liszt/liz_et5.mid\n",
      "playing /Users/finlay/Downloads/liszt/liz_et4.mid\n",
      "playing /Users/finlay/Downloads/liszt/liz_rhap15.mid\n",
      "playing /Users/finlay/Downloads/liszt/liz_et1.mid\n"
     ]
    },
    {
     "ename": "KeyboardInterrupt",
     "evalue": "",
     "output_type": "error",
     "traceback": [
      "\u001b[0;31m---------------------------------------------------------------------------\u001b[0m",
      "\u001b[0;31mKeyboardInterrupt\u001b[0m                         Traceback (most recent call last)",
      "Cell \u001b[0;32mIn[9], line 6\u001b[0m\n\u001b[1;32m      4\u001b[0m \u001b[38;5;28;01mwith\u001b[39;00m mido\u001b[38;5;241m.\u001b[39mopen_output(\u001b[38;5;124m\"\u001b[39m\u001b[38;5;124mDisklavier\u001b[39m\u001b[38;5;124m\"\u001b[39m) \u001b[38;5;28;01mas\u001b[39;00m outport:\n\u001b[1;32m      5\u001b[0m     \u001b[38;5;28;01mwith\u001b[39;00m mido\u001b[38;5;241m.\u001b[39mopen_output(\u001b[38;5;124m\"\u001b[39m\u001b[38;5;124mto Max 1\u001b[39m\u001b[38;5;124m\"\u001b[39m) \u001b[38;5;28;01mas\u001b[39;00m outport2:\n\u001b[0;32m----> 6\u001b[0m \u001b[43m        \u001b[49m\u001b[38;5;28;43;01mfor\u001b[39;49;00m\u001b[43m \u001b[49m\u001b[43mmsg\u001b[49m\u001b[43m \u001b[49m\u001b[38;5;129;43;01min\u001b[39;49;00m\u001b[43m \u001b[49m\u001b[43mmido\u001b[49m\u001b[38;5;241;43m.\u001b[39;49m\u001b[43mMidiFile\u001b[49m\u001b[43m(\u001b[49m\u001b[43mmidi_path\u001b[49m\u001b[43m)\u001b[49m\u001b[38;5;241;43m.\u001b[39;49m\u001b[43mplay\u001b[49m\u001b[43m(\u001b[49m\u001b[43m)\u001b[49m\u001b[43m:\u001b[49m\n\u001b[1;32m      7\u001b[0m \u001b[43m            \u001b[49m\u001b[43moutport\u001b[49m\u001b[38;5;241;43m.\u001b[39;49m\u001b[43msend\u001b[49m\u001b[43m(\u001b[49m\u001b[43mmsg\u001b[49m\u001b[43m)\u001b[49m\n\u001b[1;32m      8\u001b[0m \u001b[43m            \u001b[49m\u001b[43moutport2\u001b[49m\u001b[38;5;241;43m.\u001b[39;49m\u001b[43msend\u001b[49m\u001b[43m(\u001b[49m\u001b[43mmsg\u001b[49m\u001b[43m)\u001b[49m\n",
      "File \u001b[0;32m~/Documents/Programming/disklavier/.venv/lib/python3.12/site-packages/mido/midifiles/midifiles.py:433\u001b[0m, in \u001b[0;36mMidiFile.play\u001b[0;34m(self, meta_messages, now)\u001b[0m\n\u001b[1;32m    430\u001b[0m duration_to_next_event \u001b[38;5;241m=\u001b[39m input_time \u001b[38;5;241m-\u001b[39m playback_time\n\u001b[1;32m    432\u001b[0m \u001b[38;5;28;01mif\u001b[39;00m duration_to_next_event \u001b[38;5;241m>\u001b[39m \u001b[38;5;241m0.0\u001b[39m:\n\u001b[0;32m--> 433\u001b[0m     \u001b[43mtime\u001b[49m\u001b[38;5;241;43m.\u001b[39;49m\u001b[43msleep\u001b[49m\u001b[43m(\u001b[49m\u001b[43mduration_to_next_event\u001b[49m\u001b[43m)\u001b[49m\n\u001b[1;32m    435\u001b[0m \u001b[38;5;28;01mif\u001b[39;00m \u001b[38;5;28misinstance\u001b[39m(msg, MetaMessage) \u001b[38;5;129;01mand\u001b[39;00m \u001b[38;5;129;01mnot\u001b[39;00m meta_messages:\n\u001b[1;32m    436\u001b[0m     \u001b[38;5;28;01mcontinue\u001b[39;00m\n",
      "\u001b[0;31mKeyboardInterrupt\u001b[0m: "
     ]
    }
   ],
   "source": [
    "for file in os.listdir(\"/Users/finlay/Downloads/liszt\")[::-1]:\n",
    "    midi_path = os.path.join(\"/Users/finlay/Downloads/liszt\", file)\n",
    "    print(f\"playing {midi_path}\")\n",
    "    with mido.open_output(\"Disklavier\") as outport:\n",
    "        with mido.open_output(\"to Max 1\") as outport2:\n",
    "            for msg in mido.MidiFile(midi_path).play():\n",
    "                outport.send(msg)\n",
    "                outport2.send(msg)"
   ]
  },
  {
   "cell_type": "code",
   "execution_count": 17,
   "metadata": {},
   "outputs": [
    {
     "name": "stdout",
     "output_type": "stream",
     "text": [
      "=== Track 0\n",
      "MetaMessage('set_tempo', tempo=937500, time=0)\n",
      "MetaMessage('time_signature', numerator=4, denominator=4, clocks_per_click=24, notated_32nd_notes_per_beat=8, time=0)\n",
      "MetaMessage('end_of_track', time=1760)\n",
      "=== Track 1\n",
      "MetaMessage('track_name', name='20240124-064-02_0000-0007', time=0)\n",
      "Message('program_change', channel=0, program=0, time=0)\n",
      "Message('note_on', channel=0, note=40, velocity=37, time=218)\n",
      "Message('note_on', channel=0, note=47, velocity=16, time=119)\n",
      "Message('note_on', channel=0, note=40, velocity=0, time=2)\n",
      "Message('note_on', channel=0, note=47, velocity=0, time=181)\n",
      "Message('note_on', channel=0, note=47, velocity=44, time=37)\n",
      "Message('note_on', channel=0, note=47, velocity=0, time=108)\n",
      "Message('note_on', channel=0, note=35, velocity=32, time=2)\n",
      "Message('note_on', channel=0, note=35, velocity=0, time=108)\n",
      "Message('note_on', channel=0, note=47, velocity=24, time=6)\n",
      "Message('note_on', channel=0, note=47, velocity=0, time=182)\n",
      "Message('note_on', channel=0, note=47, velocity=38, time=34)\n",
      "Message('note_on', channel=0, note=35, velocity=43, time=114)\n",
      "Message('note_on', channel=0, note=47, velocity=0, time=0)\n",
      "Message('note_on', channel=0, note=35, velocity=0, time=104)\n",
      "Message('note_on', channel=0, note=47, velocity=38, time=11)\n",
      "Message('note_on', channel=0, note=47, velocity=0, time=188)\n",
      "Message('note_on', channel=0, note=47, velocity=31, time=25)\n",
      "Message('note_on', channel=0, note=47, velocity=0, time=108)\n",
      "Message('note_on', channel=0, note=40, velocity=32, time=7)\n",
      "Message('note_on', channel=0, note=40, velocity=0, time=98)\n",
      "Message('note_on', channel=0, note=47, velocity=27, time=14)\n",
      "Message('note_on', channel=0, note=47, velocity=0, time=174)\n",
      "MetaMessage('end_of_track', time=0)\n",
      "=== Track 2\n",
      "MetaMessage('track_name', name='clave_track', time=0)\n",
      "Message('note_on', channel=9, note=76, velocity=100, time=0)\n",
      "Message('note_off', channel=9, note=76, velocity=0, time=27)\n",
      "Message('note_on', channel=9, note=76, velocity=100, time=193)\n",
      "Message('note_off', channel=9, note=76, velocity=0, time=27)\n",
      "Message('note_on', channel=9, note=76, velocity=100, time=193)\n",
      "Message('note_off', channel=9, note=76, velocity=0, time=27)\n",
      "Message('note_on', channel=9, note=76, velocity=100, time=193)\n",
      "Message('note_off', channel=9, note=76, velocity=0, time=27)\n",
      "Message('note_on', channel=9, note=76, velocity=100, time=193)\n",
      "Message('note_off', channel=9, note=76, velocity=0, time=27)\n",
      "Message('note_on', channel=9, note=76, velocity=100, time=193)\n",
      "Message('note_off', channel=9, note=76, velocity=0, time=27)\n",
      "Message('note_on', channel=9, note=76, velocity=100, time=193)\n",
      "Message('note_off', channel=9, note=76, velocity=0, time=27)\n",
      "Message('note_on', channel=9, note=76, velocity=100, time=193)\n",
      "Message('note_off', channel=9, note=76, velocity=0, time=27)\n",
      "MetaMessage('end_of_track', time=220)\n"
     ]
    }
   ],
   "source": [
    "mido.MidiFile(\n",
    "    \"/Users/finlay/Documents/Ableton Live/20250315 test Project/out/segmented/20240124-064-02_0000-0007.mid\"\n",
    ").print_tracks()"
   ]
  }
 ],
 "metadata": {
  "kernelspec": {
   "display_name": ".venv",
   "language": "python",
   "name": "python3"
  },
  "language_info": {
   "codemirror_mode": {
    "name": "ipython",
    "version": 3
   },
   "file_extension": ".py",
   "mimetype": "text/x-python",
   "name": "python",
   "nbconvert_exporter": "python",
   "pygments_lexer": "ipython3",
   "version": "3.12.2"
  }
 },
 "nbformat": 4,
 "nbformat_minor": 2
}
