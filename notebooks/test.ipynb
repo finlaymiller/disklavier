{
 "cells": [
  {
   "cell_type": "code",
   "execution_count": 6,
   "metadata": {},
   "outputs": [
    {
     "name": "stdout",
     "output_type": "stream",
     "text": [
      "['20231220-080-02_0101-0107.mid', '20231220-080-02_0107-0113.mid', '20231227-080-02_0209-0215.mid', '20231228-072-01_0279-0286.mid', '20240117-064-01_0179-0187.mid', '20240117-064-03_0029-0037.mid', '20240117-064-04_0097-0104.mid', '20240121-070-02_0802-0809.mid', '20240121-070-02_0911-0918.mid', '20240121-070-08_0047-0054.mid', '20240122-055-05_0392-0401.mid', '20240123-070-01_0006-0013.mid', '20240123-070-03_0130-0137.mid', '20240123-070-03_1055-1062.mid', '20240123-070-03_1748-1755.mid', '20240123-070-04_0329-0335.mid', '20240123-070-07_0171-0178.mid', '20240123-070-07_0754-0761.mid', '20240123-070-07_0850-0857.mid', '20240123-070-07_0946-0953.mid', '20240124-064-02_0217-0224.mid', '20240124-064-02_0629-0637.mid', '20240124-064-03_0239-0247.mid', '20240124-064-03_0247-0254.mid', '20240124-064-04_0397-0404.mid', '20240213-100-02_0062-0067.mid', '20240213-100-02_0220-0225.mid', '20240213-100-02_0835-0839.mid', '20240213-100-02_1055-1060.mid', '20240213-100-02_1123-1127.mid', '20240213-100-02_1223-1228.mid', '20240213-100-03_0047-0052.mid', '20240213-100-05_0043-0047.mid', '20240227-076-01_0334-0340.mid', '20240227-076-02_0018-0025.mid', '20240227-076-05_0524-0530.mid', '20240305-050-07_0067-0076.mid', '20240305-050-07_0556-0566.mid', '20240312-080-05_0077-0083.mid', '20240312-080-08_0000-0005.mid', '20240312-080-11_0209-0215.mid', '20240401-065-03_0044-0051.mid', '20240402-065-01_0140-0147.mid', '20240402-065-03_0088-0095.mid', '20240402-065-04_0295-0302.mid', '20240426-068-01_0141-0148.mid', '20240429-068-03_0239-0246.mid', '20240502-064-04_0217-0224.mid', '20240511-088-01_0065-0070.mid', '20240511-088-03_0201-0207.mid']\n"
     ]
    }
   ],
   "source": [
    "import os\n",
    "import numpy as np\n",
    "from shutil import copy2\n",
    "\n",
    "dataset_path = os.path.join(\"..\", \"data\", \"datasets\", \"20240606\", \"play\")\n",
    "test_path = os.path.join(\"..\", \"data\", \"datasets\", \"test suite\")\n",
    "rng = np.random.default_rng(108)\n",
    "\n",
    "random_files = rng.choice(os.listdir(dataset_path), 50)\n",
    "print(sorted(random_files))\n",
    "for filename in random_files:\n",
    "    copy2(os.path.join(dataset_path, filename), os.path.join(test_path, filename))"
   ]
  },
  {
   "cell_type": "code",
   "execution_count": 7,
   "metadata": {},
   "outputs": [
    {
     "name": "stdout",
     "output_type": "stream",
     "text": [
      "=== Track 0\n",
      "MetaMessage('set_tempo', tempo=750000, time=0)\n",
      "MetaMessage('set_tempo', tempo=750000, time=0)\n",
      "MetaMessage('time_signature', numerator=4, denominator=4, clocks_per_click=24, notated_32nd_notes_per_beat=8, time=0)\n",
      "MetaMessage('end_of_track', time=1760)\n",
      "=== Track 1\n",
      "MetaMessage('track_name', name='20231220-080-01_0023-0029', time=0)\n",
      "Message('program_change', channel=0, program=0, time=0)\n",
      "Message('note_on', channel=0, note=38, velocity=46, time=339)\n",
      "Message('note_on', channel=0, note=38, velocity=0, time=30)\n",
      "Message('note_on', channel=0, note=31, velocity=41, time=85)\n",
      "Message('note_on', channel=0, note=31, velocity=0, time=55)\n",
      "Message('note_on', channel=0, note=43, velocity=37, time=110)\n",
      "Message('note_on', channel=0, note=43, velocity=0, time=71)\n",
      "Message('note_on', channel=0, note=38, velocity=53, time=85)\n",
      "Message('note_on', channel=0, note=38, velocity=0, time=34)\n",
      "Message('note_on', channel=0, note=31, velocity=47, time=73)\n",
      "Message('note_on', channel=0, note=31, velocity=0, time=58)\n",
      "Message('note_on', channel=0, note=43, velocity=38, time=116)\n",
      "Message('note_on', channel=0, note=43, velocity=0, time=74)\n",
      "Message('note_on', channel=0, note=38, velocity=56, time=87)\n",
      "Message('note_on', channel=0, note=38, velocity=0, time=34)\n",
      "Message('note_on', channel=0, note=31, velocity=44, time=69)\n",
      "Message('note_on', channel=0, note=31, velocity=0, time=78)\n",
      "Message('note_on', channel=0, note=43, velocity=47, time=87)\n",
      "Message('note_on', channel=0, note=43, velocity=0, time=55)\n",
      "Message('note_on', channel=0, note=43, velocity=42, time=62)\n",
      "Message('note_on', channel=0, note=43, velocity=0, time=34)\n",
      "Message('note_on', channel=0, note=38, velocity=42, time=19)\n",
      "Message('note_on', channel=0, note=38, velocity=0, time=27)\n",
      "Message('note_on', channel=0, note=31, velocity=44, time=89)\n",
      "Message('note_on', channel=0, note=31, velocity=0, time=62)\n",
      "Message('note_on', channel=0, note=43, velocity=48, time=108)\n",
      "Message('note_on', channel=0, note=43, velocity=0, time=50)\n",
      "MetaMessage('end_of_track', time=0)\n"
     ]
    }
   ],
   "source": [
    "import mido\n",
    "\n",
    "good_midi = mido.MidiFile(\n",
    "    \"../data/datasets/20240606/train/20231220-080-01_0023-0029_t0s00.mid\"\n",
    ")\n",
    "bad_midi = mido.MidiFile(\n",
    "    \"../data/datasets/20240606/train/20231220-080-01_0023-0029_t0s01.mid\"\n",
    ")\n",
    "\n",
    "good_midi.print_tracks()"
   ]
  },
  {
   "cell_type": "code",
   "execution_count": 8,
   "metadata": {},
   "outputs": [
    {
     "name": "stdout",
     "output_type": "stream",
     "text": [
      "=== Track 0\n",
      "MetaMessage('set_tempo', tempo=750000, time=0)\n",
      "MetaMessage('time_signature', numerator=4, denominator=4, clocks_per_click=24, notated_32nd_notes_per_beat=8, time=0)\n",
      "MetaMessage('end_of_track', time=1)\n",
      "=== Track 1\n",
      "Message('program_change', channel=0, program=0, time=0)\n",
      "Message('note_on', channel=0, note=43, velocity=42, time=93)\n",
      "Message('note_on', channel=0, note=43, velocity=0, time=51)\n",
      "Message('note_on', channel=0, note=38, velocity=42, time=28)\n",
      "Message('note_on', channel=0, note=38, velocity=0, time=41)\n",
      "Message('note_on', channel=0, note=31, velocity=44, time=133)\n",
      "Message('note_on', channel=0, note=31, velocity=0, time=93)\n",
      "Message('note_on', channel=0, note=43, velocity=48, time=162)\n",
      "Message('note_on', channel=0, note=43, velocity=0, time=75)\n",
      "Message('note_on', channel=0, note=38, velocity=46, time=162)\n",
      "Message('note_on', channel=0, note=38, velocity=0, time=46)\n",
      "Message('note_on', channel=0, note=31, velocity=41, time=127)\n",
      "Message('note_on', channel=0, note=31, velocity=0, time=83)\n",
      "Message('note_on', channel=0, note=43, velocity=37, time=164)\n",
      "Message('note_on', channel=0, note=43, velocity=0, time=107)\n",
      "Message('note_on', channel=0, note=38, velocity=53, time=127)\n",
      "Message('note_on', channel=0, note=38, velocity=0, time=52)\n",
      "Message('note_on', channel=0, note=31, velocity=47, time=109)\n",
      "Message('note_on', channel=0, note=31, velocity=0, time=87)\n",
      "Message('note_on', channel=0, note=43, velocity=38, time=174)\n",
      "Message('note_on', channel=0, note=43, velocity=0, time=111)\n",
      "Message('note_on', channel=0, note=38, velocity=56, time=131)\n",
      "Message('note_on', channel=0, note=38, velocity=0, time=50)\n",
      "Message('note_on', channel=0, note=31, velocity=44, time=104)\n",
      "Message('note_on', channel=0, note=31, velocity=0, time=117)\n",
      "Message('note_on', channel=0, note=43, velocity=47, time=131)\n",
      "Message('note_on', channel=0, note=43, velocity=0, time=82)\n",
      "MetaMessage('end_of_track', time=1)\n"
     ]
    }
   ],
   "source": [
    "bad_midi.print_tracks()"
   ]
  }
 ],
 "metadata": {
  "kernelspec": {
   "display_name": "full",
   "language": "python",
   "name": "python3"
  },
  "language_info": {
   "codemirror_mode": {
    "name": "ipython",
    "version": 3
   },
   "file_extension": ".py",
   "mimetype": "text/x-python",
   "name": "python",
   "nbconvert_exporter": "python",
   "pygments_lexer": "ipython3",
   "version": "3.12.2"
  }
 },
 "nbformat": 4,
 "nbformat_minor": 2
}
