{
 "cells": [
  {
   "cell_type": "code",
   "execution_count": 1,
   "metadata": {},
   "outputs": [],
   "source": [
    "import time\n",
    "import simpleaudio as sa\n",
    "from threading import Event, Thread\n",
    "from rich import print"
   ]
  },
  {
   "cell_type": "code",
   "execution_count": 4,
   "metadata": {},
   "outputs": [
    {
     "name": "stdout",
     "output_type": "stream",
     "text": [
      "Min pixel value: 0.0\n",
      "Max pixel value: 1.0\n",
      "Average pixel value: 0.0022142597008496523\n"
     ]
    }
   ],
   "source": [
    "from torch.utils.data import DataLoader\n",
    "from torchvision.datasets import ImageFolder\n",
    "import torchvision.transforms as transforms\n",
    "\n",
    "img_transforms = transforms.Compose(\n",
    "    [\n",
    "        transforms.Grayscale(num_output_channels=1),\n",
    "        transforms.ToTensor(),\n",
    "        transforms.Normalize(mean=[0], std=[1]),\n",
    "    ]\n",
    ")\n",
    "full_dataset = ImageFolder(\n",
    "    \"../../datasets/sageev/20240621-square\", transform=img_transforms\n",
    ")\n",
    "loader = DataLoader(full_dataset)\n",
    "img_tensor = next(iter(loader))[0]\n",
    "min_value = img_tensor.min().item()\n",
    "max_value = img_tensor.max().item()\n",
    "avg_value = img_tensor.mean().item()\n",
    "\n",
    "print(f\"Min pixel value: {min_value}\")\n",
    "print(f\"Max pixel value: {max_value}\")\n",
    "print(f\"Average pixel value: {avg_value}\")"
   ]
  },
  {
   "cell_type": "code",
   "execution_count": 3,
   "metadata": {},
   "outputs": [
    {
     "name": "stdout",
     "output_type": "stream",
     "text": [
      "X: 1\n",
      "T: from ../data/outputs/20240126-050-04_0335-0345.mid\n",
      "M: 4/4\n",
      "L: 1/8\n",
      "Q:1/4=50\n",
      "% Last note suggests unknown mode tune\n",
      "K:Ab % 4 flats\n",
      "V:1\n",
      "%%MIDI program 0\n",
      "z2 z/2z/2[E,C,,C,,,]/2F,/2 C,/2z/2[C,,C,,,]/2z/2 [C_G,]/2[C=G,]/2z/2[C,,C,,,]/2| \\\n",
      "z/2[EB,D,A,,]/2[CG,C,G,,]/2[EB,D,A,,]/2 [CG,C,G,,]/2[B,F,D,A,,]/2[G,E,C,G,,]/2F,/2 [G,E,C,,C,,,]/2z/2[C,G,,]/2z/2 [EB,]/2[FC]/2[D,,D,,,-]| \\\n",
      "D,,,/2[_GDA,C,,C,,,]/2C/2[GDA,D,-A,,-]/2 \n"
     ]
    },
    {
     "data": {
      "text/plain": [
       "CompletedProcess(args=['../src/ml/clamp/midi2abc', '../data/outputs/20240126-050-04_0335-0345.mid'], returncode=0)"
      ]
     },
     "execution_count": 3,
     "metadata": {},
     "output_type": "execute_result"
    }
   ],
   "source": [
    "from midi_player import MIDIPlayer\n",
    "from midi_player.stylers import dark\n",
    "MIDIPlayer('../data/outputs/20240126-050-04_0335-0345.mid', 400, styler=dark)"
   ]
  },
  {
   "cell_type": "code",
   "execution_count": 2,
   "metadata": {},
   "outputs": [],
   "source": [
    "class Metronome:\n",
    "    p = \"[cyan]metro[/cyan] :\"\n",
    "    tick_file = \"data/m_kick.wav\"\n",
    "\n",
    "    def __init__(self, tempo: int, file: str):\n",
    "        self.tick_rate = 60.0 / tempo\n",
    "        self.tick_file = file\n",
    "        self.beats_per_seg = 9\n",
    "\n",
    "    def tick(self) -> None:\n",
    "        print(f\"{self.p} ticking every {self.tick_rate:.01f} seconds\")\n",
    "\n",
    "        beats = self.beats_per_seg - 1\n",
    "        start_time = time.time()\n",
    "        last_beat = start_time\n",
    "\n",
    "        while True:\n",
    "            beat = time.time()\n",
    "            if beat - last_beat >= self.tick_rate:\n",
    "                beats += 1\n",
    "                if beats // self.beats_per_seg:\n",
    "                    beats = 0\n",
    "                    print(\n",
    "                        f\"{self.p} beat {beats} [grey50]({beat - last_beat:.05f}s)[/grey50]\\t[green]go!\"\n",
    "                    )\n",
    "                elif beats // (self.beats_per_seg - 1):\n",
    "                    print(\n",
    "                        f\"{self.p} beat {beats} [grey50]({beat - last_beat:.05f}s)[/grey50]\\t[orange]ready?\"\n",
    "                    )\n",
    "                else:\n",
    "                    print(f\"{self.p} beat {beats} [grey50]({beat - last_beat:.05f}s)\")\n",
    "\n",
    "                sa.WaveObject.from_wave_file(self.tick_file).play()\n",
    "\n",
    "                last_beat = beat"
   ]
  },
  {
   "cell_type": "code",
   "execution_count": 3,
   "metadata": {},
   "outputs": [
    {
     "name": "stdout",
     "output_type": "stream",
     "text": [
      "\u001b[36mmetro\u001b[0m : ticking every \u001b[1;36m0.6\u001b[0m seconds\n",
      "\u001b[36mmetro\u001b[0m : beat \u001b[1;36m0\u001b[0m \u001b[1;37m(\u001b[0m\u001b[1;37m0.\u001b[0m\u001b[37m60000s\u001b[0m\u001b[1;37m)\u001b[0m       \u001b[32mgo!\u001b[0m\n",
      "\u001b[36mmetro\u001b[0m : beat \u001b[1;36m1\u001b[0m \u001b[1;37m(\u001b[0m\u001b[1;37m0.\u001b[0m\u001b[37m60000s\u001b[0m\u001b[1;37m)\u001b[0m\n",
      "\u001b[36mmetro\u001b[0m : beat \u001b[1;36m2\u001b[0m \u001b[1;37m(\u001b[0m\u001b[1;37m0.\u001b[0m\u001b[37m60000s\u001b[0m\u001b[1;37m)\u001b[0m\n",
      "\u001b[36mmetro\u001b[0m : beat \u001b[1;36m3\u001b[0m \u001b[1;37m(\u001b[0m\u001b[1;37m0.\u001b[0m\u001b[37m60000s\u001b[0m\u001b[1;37m)\u001b[0m\n",
      "\u001b[36mmetro\u001b[0m : beat \u001b[1;36m4\u001b[0m \u001b[1;37m(\u001b[0m\u001b[1;37m0.\u001b[0m\u001b[37m60000s\u001b[0m\u001b[1;37m)\u001b[0m\n",
      "\u001b[36mmetro\u001b[0m : beat \u001b[1;36m5\u001b[0m \u001b[1;37m(\u001b[0m\u001b[1;37m0.\u001b[0m\u001b[37m60000s\u001b[0m\u001b[1;37m)\u001b[0m\n",
      "\u001b[36mmetro\u001b[0m : beat \u001b[1;36m6\u001b[0m \u001b[1;37m(\u001b[0m\u001b[1;37m0.\u001b[0m\u001b[37m60000s\u001b[0m\u001b[1;37m)\u001b[0m\n",
      "\u001b[36mmetro\u001b[0m : beat \u001b[1;36m7\u001b[0m \u001b[1;37m(\u001b[0m\u001b[1;37m0.\u001b[0m\u001b[37m60000s\u001b[0m\u001b[1;37m)\u001b[0m\n",
      "\u001b[36mmetro\u001b[0m : beat \u001b[1;36m8\u001b[0m \u001b[1;37m(\u001b[0m\u001b[1;37m0.\u001b[0m\u001b[37m60000s\u001b[0m\u001b[1;37m)\u001b[0m       ready?\n",
      "\u001b[36mmetro\u001b[0m : beat \u001b[1;36m0\u001b[0m \u001b[1;37m(\u001b[0m\u001b[1;37m0.\u001b[0m\u001b[37m60000s\u001b[0m\u001b[1;37m)\u001b[0m       \u001b[32mgo!\u001b[0m\n",
      "\u001b[36mmetro\u001b[0m : beat \u001b[1;36m1\u001b[0m \u001b[1;37m(\u001b[0m\u001b[1;37m0.\u001b[0m\u001b[37m60000s\u001b[0m\u001b[1;37m)\u001b[0m\n",
      "\u001b[36mmetro\u001b[0m : beat \u001b[1;36m2\u001b[0m \u001b[1;37m(\u001b[0m\u001b[1;37m0.\u001b[0m\u001b[37m60000s\u001b[0m\u001b[1;37m)\u001b[0m\n",
      "\u001b[36mmetro\u001b[0m : beat \u001b[1;36m3\u001b[0m \u001b[1;37m(\u001b[0m\u001b[1;37m0.\u001b[0m\u001b[37m60000s\u001b[0m\u001b[1;37m)\u001b[0m\n",
      "\u001b[36mmetro\u001b[0m : beat \u001b[1;36m4\u001b[0m \u001b[1;37m(\u001b[0m\u001b[1;37m0.\u001b[0m\u001b[37m60000s\u001b[0m\u001b[1;37m)\u001b[0m\n",
      "\u001b[36mmetro\u001b[0m : beat \u001b[1;36m5\u001b[0m \u001b[1;37m(\u001b[0m\u001b[1;37m0.\u001b[0m\u001b[37m60000s\u001b[0m\u001b[1;37m)\u001b[0m\n",
      "\u001b[36mmetro\u001b[0m : beat \u001b[1;36m6\u001b[0m \u001b[1;37m(\u001b[0m\u001b[1;37m0.\u001b[0m\u001b[37m60000s\u001b[0m\u001b[1;37m)\u001b[0m\n",
      "\u001b[36mmetro\u001b[0m : beat \u001b[1;36m7\u001b[0m \u001b[1;37m(\u001b[0m\u001b[1;37m0.\u001b[0m\u001b[37m60000s\u001b[0m\u001b[1;37m)\u001b[0m\n",
      "\u001b[36mmetro\u001b[0m : beat \u001b[1;36m8\u001b[0m \u001b[1;37m(\u001b[0m\u001b[1;37m0.\u001b[0m\u001b[37m60000s\u001b[0m\u001b[1;37m)\u001b[0m       ready?\n",
      "\u001b[36mmetro\u001b[0m : beat \u001b[1;36m0\u001b[0m \u001b[1;37m(\u001b[0m\u001b[1;37m0.\u001b[0m\u001b[37m60000s\u001b[0m\u001b[1;37m)\u001b[0m       \u001b[32mgo!\u001b[0m\n",
      "\u001b[36mmetro\u001b[0m : beat \u001b[1;36m1\u001b[0m \u001b[1;37m(\u001b[0m\u001b[1;37m0.\u001b[0m\u001b[37m60000s\u001b[0m\u001b[1;37m)\u001b[0m\n",
      "\u001b[36mmetro\u001b[0m : beat \u001b[1;36m2\u001b[0m \u001b[1;37m(\u001b[0m\u001b[1;37m0.\u001b[0m\u001b[37m60000s\u001b[0m\u001b[1;37m)\u001b[0m\n",
      "\u001b[36mmetro\u001b[0m : beat \u001b[1;36m3\u001b[0m \u001b[1;37m(\u001b[0m\u001b[1;37m0.\u001b[0m\u001b[37m60000s\u001b[0m\u001b[1;37m)\u001b[0m\n",
      "\u001b[36mmetro\u001b[0m : beat \u001b[1;36m4\u001b[0m \u001b[1;37m(\u001b[0m\u001b[1;37m0.\u001b[0m\u001b[37m60000s\u001b[0m\u001b[1;37m)\u001b[0m\n",
      "\u001b[36mmetro\u001b[0m : beat \u001b[1;36m5\u001b[0m \u001b[1;37m(\u001b[0m\u001b[1;37m0.\u001b[0m\u001b[37m60000s\u001b[0m\u001b[1;37m)\u001b[0m\n",
      "\u001b[36mmetro\u001b[0m : beat \u001b[1;36m6\u001b[0m \u001b[1;37m(\u001b[0m\u001b[1;37m0.\u001b[0m\u001b[37m60000s\u001b[0m\u001b[1;37m)\u001b[0m\n",
      "\u001b[36mmetro\u001b[0m : beat \u001b[1;36m7\u001b[0m \u001b[1;37m(\u001b[0m\u001b[1;37m0.\u001b[0m\u001b[37m60000s\u001b[0m\u001b[1;37m)\u001b[0m\n",
      "\u001b[36mmetro\u001b[0m : beat \u001b[1;36m8\u001b[0m \u001b[1;37m(\u001b[0m\u001b[1;37m0.\u001b[0m\u001b[37m60000s\u001b[0m\u001b[1;37m)\u001b[0m       ready?\n",
      "\u001b[36mmetro\u001b[0m : beat \u001b[1;36m0\u001b[0m \u001b[1;37m(\u001b[0m\u001b[1;37m0.\u001b[0m\u001b[37m60000s\u001b[0m\u001b[1;37m)\u001b[0m       \u001b[32mgo!\u001b[0m\n",
      "\u001b[36mmetro\u001b[0m : beat \u001b[1;36m1\u001b[0m \u001b[1;37m(\u001b[0m\u001b[1;37m0.\u001b[0m\u001b[37m60000s\u001b[0m\u001b[1;37m)\u001b[0m\n",
      "\u001b[36mmetro\u001b[0m : beat \u001b[1;36m2\u001b[0m \u001b[1;37m(\u001b[0m\u001b[1;37m0.\u001b[0m\u001b[37m60000s\u001b[0m\u001b[1;37m)\u001b[0m\n",
      "\u001b[36mmetro\u001b[0m : beat \u001b[1;36m3\u001b[0m \u001b[1;37m(\u001b[0m\u001b[1;37m0.\u001b[0m\u001b[37m60000s\u001b[0m\u001b[1;37m)\u001b[0m\n",
      "\u001b[36mmetro\u001b[0m : beat \u001b[1;36m4\u001b[0m \u001b[1;37m(\u001b[0m\u001b[1;37m0.\u001b[0m\u001b[37m60000s\u001b[0m\u001b[1;37m)\u001b[0m\n",
      "\u001b[36mmetro\u001b[0m : beat \u001b[1;36m5\u001b[0m \u001b[1;37m(\u001b[0m\u001b[1;37m0.\u001b[0m\u001b[37m60000s\u001b[0m\u001b[1;37m)\u001b[0m\n",
      "\u001b[36mmetro\u001b[0m : beat \u001b[1;36m6\u001b[0m \u001b[1;37m(\u001b[0m\u001b[1;37m0.\u001b[0m\u001b[37m60000s\u001b[0m\u001b[1;37m)\u001b[0m\n",
      "\u001b[36mmetro\u001b[0m : beat \u001b[1;36m7\u001b[0m \u001b[1;37m(\u001b[0m\u001b[1;37m0.\u001b[0m\u001b[37m60000s\u001b[0m\u001b[1;37m)\u001b[0m\n",
      "\u001b[36mmetro\u001b[0m : beat \u001b[1;36m8\u001b[0m \u001b[1;37m(\u001b[0m\u001b[1;37m0.\u001b[0m\u001b[37m60000s\u001b[0m\u001b[1;37m)\u001b[0m       ready?\n",
      "\u001b[36mmetro\u001b[0m : beat \u001b[1;36m0\u001b[0m \u001b[1;37m(\u001b[0m\u001b[1;37m0.\u001b[0m\u001b[37m60000s\u001b[0m\u001b[1;37m)\u001b[0m       \u001b[32mgo!\u001b[0m\n",
      "\u001b[36mmetro\u001b[0m : beat \u001b[1;36m1\u001b[0m \u001b[1;37m(\u001b[0m\u001b[1;37m0.\u001b[0m\u001b[37m60000s\u001b[0m\u001b[1;37m)\u001b[0m\n",
      "\u001b[36mmetro\u001b[0m : beat \u001b[1;36m2\u001b[0m \u001b[1;37m(\u001b[0m\u001b[1;37m0.\u001b[0m\u001b[37m60000s\u001b[0m\u001b[1;37m)\u001b[0m\n",
      "\u001b[36mmetro\u001b[0m : beat \u001b[1;36m3\u001b[0m \u001b[1;37m(\u001b[0m\u001b[1;37m0.\u001b[0m\u001b[37m60000s\u001b[0m\u001b[1;37m)\u001b[0m\n",
      "\u001b[36mmetro\u001b[0m : beat \u001b[1;36m4\u001b[0m \u001b[1;37m(\u001b[0m\u001b[1;37m0.\u001b[0m\u001b[37m60000s\u001b[0m\u001b[1;37m)\u001b[0m\n",
      "\u001b[36mmetro\u001b[0m : beat \u001b[1;36m5\u001b[0m \u001b[1;37m(\u001b[0m\u001b[1;37m0.\u001b[0m\u001b[37m60000s\u001b[0m\u001b[1;37m)\u001b[0m\n",
      "\u001b[36mmetro\u001b[0m : beat \u001b[1;36m6\u001b[0m \u001b[1;37m(\u001b[0m\u001b[1;37m0.\u001b[0m\u001b[37m60000s\u001b[0m\u001b[1;37m)\u001b[0m\n",
      "\u001b[36mmetro\u001b[0m : beat \u001b[1;36m7\u001b[0m \u001b[1;37m(\u001b[0m\u001b[1;37m0.\u001b[0m\u001b[37m60000s\u001b[0m\u001b[1;37m)\u001b[0m\n",
      "\u001b[36mmetro\u001b[0m : beat \u001b[1;36m8\u001b[0m \u001b[1;37m(\u001b[0m\u001b[1;37m0.\u001b[0m\u001b[37m60000s\u001b[0m\u001b[1;37m)\u001b[0m       ready?\n",
      "\u001b[36mmetro\u001b[0m : beat \u001b[1;36m0\u001b[0m \u001b[1;37m(\u001b[0m\u001b[1;37m0.\u001b[0m\u001b[37m60000s\u001b[0m\u001b[1;37m)\u001b[0m       \u001b[32mgo!\u001b[0m\n",
      "\u001b[36mmetro\u001b[0m : beat \u001b[1;36m1\u001b[0m \u001b[1;37m(\u001b[0m\u001b[1;37m0.\u001b[0m\u001b[37m60000s\u001b[0m\u001b[1;37m)\u001b[0m\n",
      "\u001b[36mmetro\u001b[0m : beat \u001b[1;36m2\u001b[0m \u001b[1;37m(\u001b[0m\u001b[1;37m0.\u001b[0m\u001b[37m60000s\u001b[0m\u001b[1;37m)\u001b[0m\n",
      "\u001b[36mmetro\u001b[0m : beat \u001b[1;36m3\u001b[0m \u001b[1;37m(\u001b[0m\u001b[1;37m0.\u001b[0m\u001b[37m60000s\u001b[0m\u001b[1;37m)\u001b[0m\n",
      "\u001b[36mmetro\u001b[0m : beat \u001b[1;36m4\u001b[0m \u001b[1;37m(\u001b[0m\u001b[1;37m0.\u001b[0m\u001b[37m60000s\u001b[0m\u001b[1;37m)\u001b[0m\n",
      "\u001b[36mmetro\u001b[0m : beat \u001b[1;36m5\u001b[0m \u001b[1;37m(\u001b[0m\u001b[1;37m0.\u001b[0m\u001b[37m60000s\u001b[0m\u001b[1;37m)\u001b[0m\n",
      "\u001b[36mmetro\u001b[0m : beat \u001b[1;36m6\u001b[0m \u001b[1;37m(\u001b[0m\u001b[1;37m0.\u001b[0m\u001b[37m60000s\u001b[0m\u001b[1;37m)\u001b[0m\n",
      "\u001b[36mmetro\u001b[0m : beat \u001b[1;36m7\u001b[0m \u001b[1;37m(\u001b[0m\u001b[1;37m0.\u001b[0m\u001b[37m60000s\u001b[0m\u001b[1;37m)\u001b[0m\n",
      "\u001b[36mmetro\u001b[0m : beat \u001b[1;36m8\u001b[0m \u001b[1;37m(\u001b[0m\u001b[1;37m0.\u001b[0m\u001b[37m60000s\u001b[0m\u001b[1;37m)\u001b[0m       ready?\n",
      "\u001b[36mmetro\u001b[0m : beat \u001b[1;36m0\u001b[0m \u001b[1;37m(\u001b[0m\u001b[1;37m0.\u001b[0m\u001b[37m60000s\u001b[0m\u001b[1;37m)\u001b[0m       \u001b[32mgo!\u001b[0m\n",
      "\u001b[36mmetro\u001b[0m : beat \u001b[1;36m1\u001b[0m \u001b[1;37m(\u001b[0m\u001b[1;37m0.\u001b[0m\u001b[37m60000s\u001b[0m\u001b[1;37m)\u001b[0m\n",
      "\u001b[36mmetro\u001b[0m : beat \u001b[1;36m2\u001b[0m \u001b[1;37m(\u001b[0m\u001b[1;37m0.\u001b[0m\u001b[37m60000s\u001b[0m\u001b[1;37m)\u001b[0m\n",
      "\u001b[36mmetro\u001b[0m : beat \u001b[1;36m3\u001b[0m \u001b[1;37m(\u001b[0m\u001b[1;37m0.\u001b[0m\u001b[37m60000s\u001b[0m\u001b[1;37m)\u001b[0m\n",
      "\u001b[36mmetro\u001b[0m : beat \u001b[1;36m4\u001b[0m \u001b[1;37m(\u001b[0m\u001b[1;37m0.\u001b[0m\u001b[37m60000s\u001b[0m\u001b[1;37m)\u001b[0m\n",
      "\u001b[36mmetro\u001b[0m : beat \u001b[1;36m5\u001b[0m \u001b[1;37m(\u001b[0m\u001b[1;37m0.\u001b[0m\u001b[37m60000s\u001b[0m\u001b[1;37m)\u001b[0m\n",
      "\u001b[36mmetro\u001b[0m : beat \u001b[1;36m6\u001b[0m \u001b[1;37m(\u001b[0m\u001b[1;37m0.\u001b[0m\u001b[37m60000s\u001b[0m\u001b[1;37m)\u001b[0m\n",
      "\u001b[36mmetro\u001b[0m : beat \u001b[1;36m7\u001b[0m \u001b[1;37m(\u001b[0m\u001b[1;37m0.\u001b[0m\u001b[37m60000s\u001b[0m\u001b[1;37m)\u001b[0m\n",
      "\u001b[36mmetro\u001b[0m : beat \u001b[1;36m8\u001b[0m \u001b[1;37m(\u001b[0m\u001b[1;37m0.\u001b[0m\u001b[37m60000s\u001b[0m\u001b[1;37m)\u001b[0m       ready?\n",
      "\u001b[36mmetro\u001b[0m : beat \u001b[1;36m0\u001b[0m \u001b[1;37m(\u001b[0m\u001b[1;37m0.\u001b[0m\u001b[37m60000s\u001b[0m\u001b[1;37m)\u001b[0m       \u001b[32mgo!\u001b[0m\n",
      "\u001b[36mmetro\u001b[0m : beat \u001b[1;36m1\u001b[0m \u001b[1;37m(\u001b[0m\u001b[1;37m0.\u001b[0m\u001b[37m60000s\u001b[0m\u001b[1;37m)\u001b[0m\n",
      "\u001b[36mmetro\u001b[0m : beat \u001b[1;36m2\u001b[0m \u001b[1;37m(\u001b[0m\u001b[1;37m0.\u001b[0m\u001b[37m60000s\u001b[0m\u001b[1;37m)\u001b[0m\n",
      "\u001b[36mmetro\u001b[0m : beat \u001b[1;36m3\u001b[0m \u001b[1;37m(\u001b[0m\u001b[1;37m0.\u001b[0m\u001b[37m60000s\u001b[0m\u001b[1;37m)\u001b[0m\n",
      "\u001b[36mmetro\u001b[0m : beat \u001b[1;36m4\u001b[0m \u001b[1;37m(\u001b[0m\u001b[1;37m0.\u001b[0m\u001b[37m60000s\u001b[0m\u001b[1;37m)\u001b[0m\n",
      "\u001b[36mmetro\u001b[0m : beat \u001b[1;36m5\u001b[0m \u001b[1;37m(\u001b[0m\u001b[1;37m0.\u001b[0m\u001b[37m60000s\u001b[0m\u001b[1;37m)\u001b[0m\n",
      "\u001b[36mmetro\u001b[0m : beat \u001b[1;36m6\u001b[0m \u001b[1;37m(\u001b[0m\u001b[1;37m0.\u001b[0m\u001b[37m60000s\u001b[0m\u001b[1;37m)\u001b[0m\n",
      "\u001b[36mmetro\u001b[0m : beat \u001b[1;36m7\u001b[0m \u001b[1;37m(\u001b[0m\u001b[1;37m0.\u001b[0m\u001b[37m60000s\u001b[0m\u001b[1;37m)\u001b[0m\n",
      "\u001b[36mmetro\u001b[0m : beat \u001b[1;36m8\u001b[0m \u001b[1;37m(\u001b[0m\u001b[1;37m0.\u001b[0m\u001b[37m60000s\u001b[0m\u001b[1;37m)\u001b[0m       ready?\n",
      "\u001b[36mmetro\u001b[0m : beat \u001b[1;36m0\u001b[0m \u001b[1;37m(\u001b[0m\u001b[1;37m0.\u001b[0m\u001b[37m60000s\u001b[0m\u001b[1;37m)\u001b[0m       \u001b[32mgo!\u001b[0m\n",
      "\u001b[36mmetro\u001b[0m : beat \u001b[1;36m1\u001b[0m \u001b[1;37m(\u001b[0m\u001b[1;37m0.\u001b[0m\u001b[37m60000s\u001b[0m\u001b[1;37m)\u001b[0m\n",
      "\u001b[36mmetro\u001b[0m : beat \u001b[1;36m2\u001b[0m \u001b[1;37m(\u001b[0m\u001b[1;37m0.\u001b[0m\u001b[37m60000s\u001b[0m\u001b[1;37m)\u001b[0m\n",
      "\u001b[36mmetro\u001b[0m : beat \u001b[1;36m3\u001b[0m \u001b[1;37m(\u001b[0m\u001b[1;37m0.\u001b[0m\u001b[37m60000s\u001b[0m\u001b[1;37m)\u001b[0m\n",
      "\u001b[36mmetro\u001b[0m : beat \u001b[1;36m4\u001b[0m \u001b[1;37m(\u001b[0m\u001b[1;37m0.\u001b[0m\u001b[37m60000s\u001b[0m\u001b[1;37m)\u001b[0m\n",
      "\u001b[36mmetro\u001b[0m : beat \u001b[1;36m5\u001b[0m \u001b[1;37m(\u001b[0m\u001b[1;37m0.\u001b[0m\u001b[37m60000s\u001b[0m\u001b[1;37m)\u001b[0m\n",
      "\u001b[36mmetro\u001b[0m : beat \u001b[1;36m6\u001b[0m \u001b[1;37m(\u001b[0m\u001b[1;37m0.\u001b[0m\u001b[37m60000s\u001b[0m\u001b[1;37m)\u001b[0m\n",
      "\u001b[36mmetro\u001b[0m : beat \u001b[1;36m7\u001b[0m \u001b[1;37m(\u001b[0m\u001b[1;37m0.\u001b[0m\u001b[37m60000s\u001b[0m\u001b[1;37m)\u001b[0m\n",
      "\u001b[36mmetro\u001b[0m : beat \u001b[1;36m8\u001b[0m \u001b[1;37m(\u001b[0m\u001b[1;37m0.\u001b[0m\u001b[37m60000s\u001b[0m\u001b[1;37m)\u001b[0m       ready?\n"
     ]
    }
   ],
   "source": [
    "metronome = Metronome(100, \"../data/m_hat.wav\")\n",
    "\n",
    "metro_t = Thread(target=metronome.tick, name=\"metro\")\n",
    "metro_t.start()"
   ]
  }
 ],
 "metadata": {
  "kernelspec": {
   "display_name": ".venv",
   "language": "python",
   "name": "python3"
  },
  "language_info": {
   "codemirror_mode": {
    "name": "ipython",
    "version": 3
   },
   "file_extension": ".py",
   "mimetype": "text/x-python",
   "name": "python",
   "nbconvert_exporter": "python",
   "pygments_lexer": "ipython3",
   "version": "3.12.2"
  }
 },
 "nbformat": 4,
 "nbformat_minor": 2
}
