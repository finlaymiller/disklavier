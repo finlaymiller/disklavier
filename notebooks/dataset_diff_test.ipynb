{
 "cells": [
  {
   "cell_type": "code",
   "execution_count": 21,
   "metadata": {},
   "outputs": [],
   "source": [
    "import os"
   ]
  },
  {
   "cell_type": "code",
   "execution_count": 22,
   "metadata": {},
   "outputs": [],
   "source": [
    "p_a = \"/Users/finlay/Documents/Ableton Live/clean sessions/clean audio\"\n",
    "p_m = \"/Users/finlay/Documents/Ableton Live/clean sessions/clean midi\"\n",
    "p_t = \"/Users/finlay/Documents/Ableton Live/trimming Projects/trimmed\""
   ]
  },
  {
   "cell_type": "code",
   "execution_count": 23,
   "metadata": {},
   "outputs": [],
   "source": [
    "def compare_directory_contents(directories):\n",
    "    \"\"\"\n",
    "    Compare file lists across multiple directories and show differences.\n",
    "\n",
    "    Parameters\n",
    "    ----------\n",
    "    directories : list\n",
    "        List of paths to directories to compare.\n",
    "\n",
    "    Returns\n",
    "    -------\n",
    "    None\n",
    "        Prints the comparison results to stdout.\n",
    "    \"\"\"\n",
    "    # get files from each directory and store in a dict\n",
    "    dir_files = {}\n",
    "    all_files = set()\n",
    "\n",
    "    for directory in directories:\n",
    "        if not os.path.exists(directory):\n",
    "            print(f\"warning: directory {directory} does not exist\")\n",
    "            continue\n",
    "\n",
    "        # get all files and remove extensions\n",
    "        files = []\n",
    "        for f in os.listdir(directory):\n",
    "            name = os.path.splitext(f)[0]\n",
    "            files.append(name)\n",
    "            all_files.add(name)\n",
    "        dir_files[directory] = set(files)\n",
    "\n",
    "    # for each file that exists anywhere, check where it's missing\n",
    "    print(\"\\nFile presence across directories:\")\n",
    "    for file in sorted(all_files):\n",
    "        # find which directories have and don't have this file\n",
    "        present_in = []\n",
    "        missing_from = []\n",
    "        for directory in dir_files:\n",
    "            if file in dir_files[directory]:\n",
    "                present_in.append(os.path.basename(directory))\n",
    "            else:\n",
    "                missing_from.append(os.path.basename(directory))\n",
    "\n",
    "        # only show files that are missing from at least one directory\n",
    "        if missing_from:\n",
    "            print(f\"\\n{file}:\")\n",
    "            print(f\"  present in: {', '.join(present_in)}\")\n",
    "            print(f\"  missing from: {', '.join(missing_from)}\")"
   ]
  },
  {
   "cell_type": "code",
   "execution_count": 24,
   "metadata": {},
   "outputs": [
    {
     "name": "stdout",
     "output_type": "stream",
     "text": [
      "\n",
      "File presence across directories:\n",
      "\n",
      "20240117-064-02:\n",
      "  present in: clean audio\n",
      "  missing from: clean midi, trimmed\n",
      "\n",
      "20240117-064-2a:\n",
      "  present in: clean midi, trimmed\n",
      "  missing from: clean audio\n",
      "\n",
      "20240117-064-2b:\n",
      "  present in: clean midi, trimmed\n",
      "  missing from: clean audio\n",
      "\n",
      "20240227-076-04:\n",
      "  present in: clean audio, clean midi\n",
      "  missing from: trimmed\n",
      "\n",
      "20240511-050-01:\n",
      "  present in: clean audio, clean midi\n",
      "  missing from: trimmed\n",
      "\n",
      "20240926-065-01:\n",
      "  present in: clean midi, trimmed\n",
      "  missing from: clean audio\n",
      "\n",
      "20250120-090-05:\n",
      "  present in: clean audio, clean midi\n",
      "  missing from: trimmed\n",
      "\n",
      "20250203-060-01:\n",
      "  present in: clean midi, trimmed\n",
      "  missing from: clean audio\n",
      "\n",
      "20250210-104-01:\n",
      "  present in: clean midi, trimmed\n",
      "  missing from: clean audio\n",
      "\n",
      "to_mp3:\n",
      "  present in: clean audio\n",
      "  missing from: clean midi, trimmed\n",
      "\n",
      "to_wav:\n",
      "  present in: clean audio\n",
      "  missing from: clean midi, trimmed\n",
      "\n",
      "zero_pad_filenames:\n",
      "  present in: clean audio, clean midi\n",
      "  missing from: trimmed\n"
     ]
    }
   ],
   "source": [
    "compare_directory_contents([p_a, p_m, p_t])"
   ]
  }
 ],
 "metadata": {
  "kernelspec": {
   "display_name": ".venv",
   "language": "python",
   "name": "python3"
  },
  "language_info": {
   "codemirror_mode": {
    "name": "ipython",
    "version": 3
   },
   "file_extension": ".py",
   "mimetype": "text/x-python",
   "name": "python",
   "nbconvert_exporter": "python",
   "pygments_lexer": "ipython3",
   "version": "3.12.2"
  }
 },
 "nbformat": 4,
 "nbformat_minor": 2
}
