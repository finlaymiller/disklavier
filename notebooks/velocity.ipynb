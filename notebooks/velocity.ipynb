{
 "cells": [
  {
   "cell_type": "code",
   "execution_count": 1,
   "metadata": {},
   "outputs": [],
   "source": [
    "import os\n",
    "import mido\n",
    "import pretty_midi\n",
    "import random\n",
    "import numpy as np\n",
    "import time"
   ]
  },
  {
   "cell_type": "code",
   "execution_count": 2,
   "metadata": {},
   "outputs": [],
   "source": [
    "raw_dir = os.path.join(\"..\", \"inputs\", \"all-fourbar-tmp\")\n",
    "files = os.listdir(raw_dir)\n",
    "random.shuffle(files)"
   ]
  },
  {
   "cell_type": "code",
   "execution_count": 5,
   "metadata": {},
   "outputs": [],
   "source": [
    "def scale_vels(midi_data: pretty_midi.PrettyMIDI, scale_factor: float = 1.0):\n",
    "    \"\"\"\n",
    "    Scales the velocities of all notes in a MIDI file by a set amount, with the results capped at 127.\n",
    "\n",
    "    Args:\n",
    "        midi_data (pretty_midi.PrettyMIDI): The MIDI file data to be modified.\n",
    "        scale_factor (float): The factor by which to scale the velocities. A value of 1.0 leaves velocities unchanged,\n",
    "                            0.5 halves them, etc.\n",
    "    \"\"\"\n",
    "    for instrument in midi_data.instruments:\n",
    "        for note in instrument.notes:\n",
    "            new_velocity = int(note.velocity * scale_factor)\n",
    "            note.velocity = min(new_velocity, 127)\n",
    "\n",
    "    return midi_data\n",
    "\n",
    "\n",
    "with mido.open_output(\"to Max 1\") as output:\n",
    "    for message in mido.MidiFile(os.path.join(raw_dir, files[0])).play():\n",
    "        output.send(message)\n",
    "\n",
    "    time.sleep(1)\n",
    "    scaled_midi = "
   ]
  },
  {
   "cell_type": "code",
   "execution_count": 7,
   "metadata": {},
   "outputs": [],
   "source": [
    "def get_velocities(midi_data):\n",
    "    \"\"\"\n",
    "    Analyzes MIDI file velocities.\n",
    "\n",
    "    Args:\n",
    "        midi_data (pretty_midi.PrettyMIDI): The MIDI file data.\n",
    "\n",
    "    Returns:\n",
    "        (list, list): A 2-element list containing the lowest and highest note velocities,\n",
    "                    and a list of counts of note velocities broken into 10 bins.\n",
    "    \"\"\"\n",
    "    velocities = []\n",
    "\n",
    "    for instrument in midi_data.instruments:\n",
    "        for note in instrument.notes:\n",
    "            velocities.append(note.velocity)\n",
    "\n",
    "    if velocities:\n",
    "        lowest_velocity = min(velocities)\n",
    "        highest_velocity = max(velocities)\n",
    "    else:\n",
    "        lowest_velocity, highest_velocity = 0, 0\n",
    "\n",
    "    bin_counts, _ = np.histogram(velocities, bins=10, range=(1, 127))\n",
    "\n",
    "    return [[lowest_velocity, highest_velocity], bin_counts.tolist()]"
   ]
  },
  {
   "cell_type": "code",
   "execution_count": 8,
   "metadata": {},
   "outputs": [],
   "source": [
    "def scale_midi(midi_data, scale_factor):\n",
    "    \"\"\"\n",
    "    Scales the velocities of all notes in a MIDI file by a set amount, with the results capped at 127.\n",
    "\n",
    "    Args:\n",
    "        midi_data (pretty_midi.PrettyMIDI): The MIDI file data to be modified.\n",
    "        scale_factor (float): The factor by which to scale the velocities. A value of 1.0 leaves velocities unchanged,\n",
    "                            0.5 halves them, etc.\n",
    "    \"\"\"\n",
    "    for instrument in midi_data.instruments:\n",
    "        for note in instrument.notes:\n",
    "            new_velocity = int(note.velocity * scale_factor)\n",
    "            note.velocity = min(new_velocity, 127)\n",
    "\n",
    "    return midi_data"
   ]
  },
  {
   "cell_type": "code",
   "execution_count": 9,
   "metadata": {},
   "outputs": [
    {
     "name": "stdout",
     "output_type": "stream",
     "text": [
      "scaling by 0.6571653525723734\n",
      "playing '20231227-080-02_0084-0096_n00.mid' (40, 71)\n",
      "[0, 0, 0, 29, 13, 7, 0, 0, 0, 0]\n",
      "playing '20231227-080-02_0084-0096_n00.mid' (26, 46)\n",
      "[0, 2, 40, 7, 0, 0, 0, 0, 0, 0]\n",
      "scaling by 1.991957028007091\n",
      "playing '20240117-064-05_0060-0075_d03.mid' (29, 80)\n",
      "[0, 0, 3, 12, 29, 4, 1, 0, 0, 0]\n",
      "playing '20240117-064-05_0060-0075_d03.mid' (57, 127)\n",
      "[0, 0, 0, 0, 2, 1, 2, 10, 20, 14]\n",
      "scaling by 1.339078714126342\n",
      "playing '20240122-055-01_0174-0192_u04.mid' (21, 83)\n",
      "[0, 1, 0, 7, 14, 26, 9, 0, 0, 0]\n",
      "playing '20240122-055-01_0174-0192_u04.mid' (28, 111)\n",
      "[0, 0, 1, 0, 2, 8, 20, 17, 9, 0]\n",
      "scaling by 1.2094521369003906\n",
      "playing '20240213-100-03_0220-0230_u02.mid' (13, 83)\n",
      "[1, 1, 5, 16, 15, 6, 1, 0, 0, 0]\n",
      "playing '20240213-100-03_0220-0230_u02.mid' (15, 100)\n",
      "[0, 2, 1, 8, 13, 14, 4, 3, 0, 0]\n",
      "scaling by 1.1860603808164492\n",
      "playing '20240227-076-02_0101-0113_d04.mid' (61, 93)\n",
      "[0, 0, 0, 0, 1, 17, 81, 2, 0, 0]\n",
      "playing '20240227-076-02_0101-0113_d04.mid' (72, 110)\n",
      "[0, 0, 0, 0, 0, 2, 14, 73, 12, 0]\n",
      "scaling by 1.4980753222301686\n",
      "playing '20240122-055-03_0000-0017_d03.mid' (28, 84)\n",
      "[0, 0, 1, 9, 38, 21, 5, 0, 0, 0]\n",
      "playing '20240122-055-03_0000-0017_d03.mid' (41, 125)\n",
      "[0, 0, 0, 1, 1, 8, 28, 24, 7, 5]\n",
      "scaling by 1.8534723125339343\n",
      "playing '20240227-076-01_0404-0416_d06.mid' (5, 91)\n",
      "[1, 0, 2, 9, 37, 30, 2, 1, 0, 0]\n",
      "playing '20240227-076-01_0404-0416_d06.mid' (9, 127)\n",
      "[1, 0, 0, 0, 1, 2, 5, 13, 22, 38]\n"
     ]
    },
    {
     "ename": "KeyboardInterrupt",
     "evalue": "",
     "output_type": "error",
     "traceback": [
      "\u001b[0;31m---------------------------------------------------------------------------\u001b[0m",
      "\u001b[0;31mKeyboardInterrupt\u001b[0m                         Traceback (most recent call last)",
      "Cell \u001b[0;32mIn[9], line 26\u001b[0m\n\u001b[1;32m     23\u001b[0m \u001b[38;5;28mprint\u001b[39m(\u001b[38;5;124mf\u001b[39m\u001b[38;5;124m\"\u001b[39m\u001b[38;5;124mplaying \u001b[39m\u001b[38;5;124m'\u001b[39m\u001b[38;5;132;01m{\u001b[39;00mfile\u001b[38;5;132;01m}\u001b[39;00m\u001b[38;5;124m'\u001b[39m\u001b[38;5;124m (\u001b[39m\u001b[38;5;132;01m{\u001b[39;00mv_min\u001b[38;5;132;01m}\u001b[39;00m\u001b[38;5;124m, \u001b[39m\u001b[38;5;132;01m{\u001b[39;00mv_max\u001b[38;5;132;01m}\u001b[39;00m\u001b[38;5;124m)\u001b[39m\u001b[38;5;124m\"\u001b[39m)\n\u001b[1;32m     24\u001b[0m \u001b[38;5;28mprint\u001b[39m(v_hist)\n\u001b[0;32m---> 26\u001b[0m \u001b[43m\u001b[49m\u001b[38;5;28;43;01mfor\u001b[39;49;00m\u001b[43m \u001b[49m\u001b[43mmsg\u001b[49m\u001b[43m \u001b[49m\u001b[38;5;129;43;01min\u001b[39;49;00m\u001b[43m \u001b[49m\u001b[43mmido\u001b[49m\u001b[38;5;241;43m.\u001b[39;49m\u001b[43mMidiFile\u001b[49m\u001b[43m(\u001b[49m\u001b[43mnew_path\u001b[49m\u001b[43m)\u001b[49m\u001b[38;5;241;43m.\u001b[39;49m\u001b[43mplay\u001b[49m\u001b[43m(\u001b[49m\u001b[43m)\u001b[49m\u001b[43m:\u001b[49m\n\u001b[1;32m     27\u001b[0m \u001b[43m    \u001b[49m\u001b[43moutput\u001b[49m\u001b[38;5;241;43m.\u001b[39;49m\u001b[43msend\u001b[49m\u001b[43m(\u001b[49m\u001b[43mmsg\u001b[49m\u001b[43m)\u001b[49m\n",
      "File \u001b[0;32m~/Documents/Programming/disklavier/.venv/lib/python3.12/site-packages/mido/midifiles/midifiles.py:433\u001b[0m, in \u001b[0;36mMidiFile.play\u001b[0;34m(self, meta_messages, now)\u001b[0m\n\u001b[1;32m    430\u001b[0m duration_to_next_event \u001b[38;5;241m=\u001b[39m input_time \u001b[38;5;241m-\u001b[39m playback_time\n\u001b[1;32m    432\u001b[0m \u001b[38;5;28;01mif\u001b[39;00m duration_to_next_event \u001b[38;5;241m>\u001b[39m \u001b[38;5;241m0.0\u001b[39m:\n\u001b[0;32m--> 433\u001b[0m     \u001b[43mtime\u001b[49m\u001b[38;5;241;43m.\u001b[39;49m\u001b[43msleep\u001b[49m\u001b[43m(\u001b[49m\u001b[43mduration_to_next_event\u001b[49m\u001b[43m)\u001b[49m\n\u001b[1;32m    435\u001b[0m \u001b[38;5;28;01mif\u001b[39;00m \u001b[38;5;28misinstance\u001b[39m(msg, MetaMessage) \u001b[38;5;129;01mand\u001b[39;00m \u001b[38;5;129;01mnot\u001b[39;00m meta_messages:\n\u001b[1;32m    436\u001b[0m     \u001b[38;5;28;01mcontinue\u001b[39;00m\n",
      "\u001b[0;31mKeyboardInterrupt\u001b[0m: "
     ]
    }
   ],
   "source": [
    "factor = 0.25\n",
    "\n",
    "with mido.open_output(\"Disklavier\") as output:\n",
    "    for file in files:\n",
    "        factor = np.random.uniform(0.1, 2.0)\n",
    "        print(f\"scaling by {factor}\")\n",
    "        midi = pretty_midi.PrettyMIDI(os.path.join(raw_dir, file))\n",
    "        [[v_min, v_max], v_hist] = get_velocities(midi)\n",
    "        print(f\"playing '{file}' ({v_min}, {v_max})\")\n",
    "        print(v_hist)\n",
    "\n",
    "        for msg in mido.MidiFile(os.path.join(raw_dir, file)).play():\n",
    "            output.send(msg)\n",
    "\n",
    "        new_path = os.path.join(\"..\", \"outputs\", \"graveyard\", file)\n",
    "        midi_scaled = scale_midi(midi, factor)\n",
    "        midi_scaled.write(new_path)\n",
    "\n",
    "        [[v_min, v_max], v_hist] = get_velocities(midi_scaled)\n",
    "        print(f\"playing '{file}' ({v_min}, {v_max})\")\n",
    "        print(v_hist)\n",
    "\n",
    "        for msg in mido.MidiFile(new_path).play():\n",
    "            output.send(msg)"
   ]
  }
 ],
 "metadata": {
  "kernelspec": {
   "display_name": ".venv",
   "language": "python",
   "name": "python3"
  },
  "language_info": {
   "codemirror_mode": {
    "name": "ipython",
    "version": 3
   },
   "file_extension": ".py",
   "mimetype": "text/x-python",
   "name": "python",
   "nbconvert_exporter": "python",
   "pygments_lexer": "ipython3",
   "version": "3.12.2"
  }
 },
 "nbformat": 4,
 "nbformat_minor": 2
}
