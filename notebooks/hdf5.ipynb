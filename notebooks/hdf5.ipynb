{
 "cells": [
  {
   "cell_type": "code",
   "execution_count": 1,
   "metadata": {},
   "outputs": [],
   "source": [
    "import os\n",
    "import h5py\n",
    "import numpy as np\n",
    "import pandas as pd\n",
    "from rich.progress import track\n",
    "from scipy.spatial.distance import cosine\n",
    "from itertools import product\n",
    "from rich.progress import track\n",
    "\n",
    "rng = np.random.default_rng(0)"
   ]
  },
  {
   "cell_type": "code",
   "execution_count": 4,
   "metadata": {},
   "outputs": [
    {
     "name": "stdout",
     "output_type": "stream",
     "text": [
      "<KeysViewHDF5 ['embeddings', 'filenames']>\n"
     ]
    },
    {
     "ename": "KeyError",
     "evalue": "'Unable to synchronously open object (invalid dataset size, likely file corruption)'",
     "output_type": "error",
     "traceback": [
      "\u001b[0;31m---------------------------------------------------------------------------\u001b[0m",
      "\u001b[0;31mKeyError\u001b[0m                                  Traceback (most recent call last)",
      "Cell \u001b[0;32mIn[4], line 3\u001b[0m\n\u001b[1;32m      1\u001b[0m \u001b[38;5;28;01mwith\u001b[39;00m h5py\u001b[38;5;241m.\u001b[39mFile(\u001b[38;5;124m\"\u001b[39m\u001b[38;5;124m/media/scratch/sageev-midi/20250320/specdiff.h5\u001b[39m\u001b[38;5;124m\"\u001b[39m, \u001b[38;5;124m\"\u001b[39m\u001b[38;5;124mr\u001b[39m\u001b[38;5;124m\"\u001b[39m) \u001b[38;5;28;01mas\u001b[39;00m hdf:\n\u001b[1;32m      2\u001b[0m     \u001b[38;5;28mprint\u001b[39m(hdf\u001b[38;5;241m.\u001b[39mkeys())\n\u001b[0;32m----> 3\u001b[0m     \u001b[38;5;28mprint\u001b[39m(\u001b[43mhdf\u001b[49m\u001b[43m[\u001b[49m\u001b[38;5;124;43m\"\u001b[39;49m\u001b[38;5;124;43membeddings\u001b[39;49m\u001b[38;5;124;43m\"\u001b[39;49m\u001b[43m]\u001b[49m)\n\u001b[1;32m      4\u001b[0m     \u001b[38;5;28mprint\u001b[39m(\u001b[38;5;28mstr\u001b[39m(hdf[\u001b[38;5;124m\"\u001b[39m\u001b[38;5;124mfilenames\u001b[39m\u001b[38;5;124m\"\u001b[39m][\u001b[38;5;241m0\u001b[39m], \u001b[38;5;124m\"\u001b[39m\u001b[38;5;124mutf-8\u001b[39m\u001b[38;5;124m\"\u001b[39m))\n\u001b[1;32m      5\u001b[0m     \u001b[38;5;28mprint\u001b[39m(hdf[\u001b[38;5;124m\"\u001b[39m\u001b[38;5;124membeddings\u001b[39m\u001b[38;5;124m\"\u001b[39m][:\u001b[38;5;241m5\u001b[39m])\n",
      "File \u001b[0;32mh5py/_objects.pyx:54\u001b[0m, in \u001b[0;36mh5py._objects.with_phil.wrapper\u001b[0;34m()\u001b[0m\n",
      "File \u001b[0;32mh5py/_objects.pyx:55\u001b[0m, in \u001b[0;36mh5py._objects.with_phil.wrapper\u001b[0;34m()\u001b[0m\n",
      "File \u001b[0;32m~/miniconda/envs/midi-ml/lib/python3.12/site-packages/h5py/_hl/group.py:357\u001b[0m, in \u001b[0;36mGroup.__getitem__\u001b[0;34m(self, name)\u001b[0m\n\u001b[1;32m    355\u001b[0m         \u001b[38;5;28;01mraise\u001b[39;00m \u001b[38;5;167;01mValueError\u001b[39;00m(\u001b[38;5;124m\"\u001b[39m\u001b[38;5;124mInvalid HDF5 object reference\u001b[39m\u001b[38;5;124m\"\u001b[39m)\n\u001b[1;32m    356\u001b[0m \u001b[38;5;28;01melif\u001b[39;00m \u001b[38;5;28misinstance\u001b[39m(name, (\u001b[38;5;28mbytes\u001b[39m, \u001b[38;5;28mstr\u001b[39m)):\n\u001b[0;32m--> 357\u001b[0m     oid \u001b[38;5;241m=\u001b[39m \u001b[43mh5o\u001b[49m\u001b[38;5;241;43m.\u001b[39;49m\u001b[43mopen\u001b[49m\u001b[43m(\u001b[49m\u001b[38;5;28;43mself\u001b[39;49m\u001b[38;5;241;43m.\u001b[39;49m\u001b[43mid\u001b[49m\u001b[43m,\u001b[49m\u001b[43m \u001b[49m\u001b[38;5;28;43mself\u001b[39;49m\u001b[38;5;241;43m.\u001b[39;49m\u001b[43m_e\u001b[49m\u001b[43m(\u001b[49m\u001b[43mname\u001b[49m\u001b[43m)\u001b[49m\u001b[43m,\u001b[49m\u001b[43m \u001b[49m\u001b[43mlapl\u001b[49m\u001b[38;5;241;43m=\u001b[39;49m\u001b[38;5;28;43mself\u001b[39;49m\u001b[38;5;241;43m.\u001b[39;49m\u001b[43m_lapl\u001b[49m\u001b[43m)\u001b[49m\n\u001b[1;32m    358\u001b[0m \u001b[38;5;28;01melse\u001b[39;00m:\n\u001b[1;32m    359\u001b[0m     \u001b[38;5;28;01mraise\u001b[39;00m \u001b[38;5;167;01mTypeError\u001b[39;00m(\u001b[38;5;124m\"\u001b[39m\u001b[38;5;124mAccessing a group is done with bytes or str, \u001b[39m\u001b[38;5;124m\"\u001b[39m\n\u001b[1;32m    360\u001b[0m                     \u001b[38;5;124m\"\u001b[39m\u001b[38;5;124mnot \u001b[39m\u001b[38;5;132;01m{}\u001b[39;00m\u001b[38;5;124m\"\u001b[39m\u001b[38;5;241m.\u001b[39mformat(\u001b[38;5;28mtype\u001b[39m(name)))\n",
      "File \u001b[0;32mh5py/_objects.pyx:54\u001b[0m, in \u001b[0;36mh5py._objects.with_phil.wrapper\u001b[0;34m()\u001b[0m\n",
      "File \u001b[0;32mh5py/_objects.pyx:55\u001b[0m, in \u001b[0;36mh5py._objects.with_phil.wrapper\u001b[0;34m()\u001b[0m\n",
      "File \u001b[0;32mh5py/h5o.pyx:257\u001b[0m, in \u001b[0;36mh5py.h5o.open\u001b[0;34m()\u001b[0m\n",
      "\u001b[0;31mKeyError\u001b[0m: 'Unable to synchronously open object (invalid dataset size, likely file corruption)'"
     ]
    }
   ],
   "source": [
    "with h5py.File(\"/media/scratch/sageev-midi/20250320/specdiff.h5\", \"r\") as hdf:\n",
    "    print(hdf.keys())\n",
    "    print(hdf[\"embeddings\"])\n",
    "    print(str(hdf[\"filenames\"][0], \"utf-8\"))\n",
    "    print(hdf[\"embeddings\"][:5])"
   ]
  },
  {
   "cell_type": "code",
   "execution_count": 6,
   "metadata": {},
   "outputs": [
    {
     "data": {
      "application/vnd.jupyter.widget-view+json": {
       "model_id": "86e69aec00ff4e4d9ac22de827c5439d",
       "version_major": 2,
       "version_minor": 0
      },
      "text/plain": [
       "Output()"
      ]
     },
     "metadata": {},
     "output_type": "display_data"
    },
    {
     "data": {
      "text/html": [
       "<pre style=\"white-space:pre;overflow-x:auto;line-height:normal;font-family:Menlo,'DejaVu Sans Mono',consolas,'Courier New',monospace\"></pre>\n"
      ],
      "text/plain": []
     },
     "metadata": {},
     "output_type": "display_data"
    }
   ],
   "source": [
    "# p_h5 = \"../data/tables/20250110/specdiff.h5\"\n",
    "# with h5py.File(p_h5, \"r\") as hdf_in:\n",
    "#     with h5py.File(\"../data/tables/20250110/specdiff_new.h5\", \"w\") as hdf_out:\n",
    "#         new_names = hdf_out.create_dataset(\n",
    "#             \"filenames\",\n",
    "#             (len(hdf_in[\"filenames\"]), 1),\n",
    "#             dtype=h5py.string_dtype(encoding=\"utf-8\"),\n",
    "#             fillvalue=\"\",\n",
    "#         )\n",
    "#         embeddings = hdf_out.create_dataset(\n",
    "#             \"embeddings\", (len(hdf_in[\"embeddings\"]), 768)\n",
    "#         )\n",
    "\n",
    "#         for i, name in track(enumerate(hdf_in[\"filenames\"])):\n",
    "#             new_names[i] = str(name[0][:-7], \"utf-8\")\n",
    "#             embeddings[i] = hdf_in[\"embeddings\"][i]"
   ]
  },
  {
   "cell_type": "code",
   "execution_count": 2,
   "metadata": {},
   "outputs": [
    {
     "name": "stdout",
     "output_type": "stream",
     "text": [
      "[[b'20231220-080-01_0000-0005_t00s00']\n",
      " [b'20231220-080-01_0000-0005_t00s01']\n",
      " [b'20231220-080-01_0000-0005_t00s02']\n",
      " [b'20231220-080-01_0000-0005_t00s03']\n",
      " [b'20231220-080-01_0000-0005_t00s04']]\n",
      "[[-0.0511964  -0.14626487  0.06894483 ...  0.08640549 -0.02314547\n",
      "  -0.11110201]\n",
      " [-0.04755304 -0.10617626  0.10255402 ...  0.0741595  -0.02618582\n",
      "  -0.10119651]\n",
      " [-0.05469938 -0.12968346  0.0791863  ...  0.0878297  -0.02015256\n",
      "  -0.10488336]\n",
      " [-0.04319933 -0.11640533  0.08603172 ...  0.08256292 -0.01906523\n",
      "  -0.09960214]\n",
      " [-0.05720589 -0.14236337  0.06919699 ...  0.09306504 -0.02204188\n",
      "  -0.10629459]]\n"
     ]
    },
    {
     "ename": "FileNotFoundError",
     "evalue": "[Errno 2] Unable to open file (unable to open file: name = '../data/tables/20250110/pitch_histogram.h5', errno = 2, error message = 'No such file or directory', flags = 0, o_flags = 0)",
     "output_type": "error",
     "traceback": [
      "\u001b[0;31m---------------------------------------------------------------------------\u001b[0m",
      "\u001b[0;31mFileNotFoundError\u001b[0m                         Traceback (most recent call last)",
      "Cell \u001b[0;32mIn[2], line 4\u001b[0m\n\u001b[1;32m      2\u001b[0m     \u001b[38;5;28mprint\u001b[39m(hdf[\u001b[38;5;124m\"\u001b[39m\u001b[38;5;124mfilenames\u001b[39m\u001b[38;5;124m\"\u001b[39m][:\u001b[38;5;241m5\u001b[39m])\n\u001b[1;32m      3\u001b[0m     \u001b[38;5;28mprint\u001b[39m(hdf[\u001b[38;5;124m\"\u001b[39m\u001b[38;5;124membeddings\u001b[39m\u001b[38;5;124m\"\u001b[39m][:\u001b[38;5;241m5\u001b[39m])\n\u001b[0;32m----> 4\u001b[0m \u001b[38;5;28;01mwith\u001b[39;00m \u001b[43mh5py\u001b[49m\u001b[38;5;241;43m.\u001b[39;49m\u001b[43mFile\u001b[49m\u001b[43m(\u001b[49m\u001b[38;5;124;43m\"\u001b[39;49m\u001b[38;5;124;43m../data/tables/20250110/pitch_histogram.h5\u001b[39;49m\u001b[38;5;124;43m\"\u001b[39;49m\u001b[43m,\u001b[49m\u001b[43m \u001b[49m\u001b[38;5;124;43m\"\u001b[39;49m\u001b[38;5;124;43mr\u001b[39;49m\u001b[38;5;124;43m\"\u001b[39;49m\u001b[43m)\u001b[49m \u001b[38;5;28;01mas\u001b[39;00m hdf:\n\u001b[1;32m      5\u001b[0m     \u001b[38;5;28mprint\u001b[39m(hdf[\u001b[38;5;124m\"\u001b[39m\u001b[38;5;124mfilenames\u001b[39m\u001b[38;5;124m\"\u001b[39m][:\u001b[38;5;241m5\u001b[39m])\n\u001b[1;32m      6\u001b[0m     \u001b[38;5;28mprint\u001b[39m(hdf[\u001b[38;5;124m\"\u001b[39m\u001b[38;5;124mhistograms\u001b[39m\u001b[38;5;124m\"\u001b[39m][:\u001b[38;5;241m5\u001b[39m])\n",
      "File \u001b[0;32m~/Documents/Programming/disklavier/.venv/lib/python3.12/site-packages/h5py/_hl/files.py:561\u001b[0m, in \u001b[0;36mFile.__init__\u001b[0;34m(self, name, mode, driver, libver, userblock_size, swmr, rdcc_nslots, rdcc_nbytes, rdcc_w0, track_order, fs_strategy, fs_persist, fs_threshold, fs_page_size, page_buf_size, min_meta_keep, min_raw_keep, locking, alignment_threshold, alignment_interval, meta_block_size, **kwds)\u001b[0m\n\u001b[1;32m    552\u001b[0m     fapl \u001b[38;5;241m=\u001b[39m make_fapl(driver, libver, rdcc_nslots, rdcc_nbytes, rdcc_w0,\n\u001b[1;32m    553\u001b[0m                      locking, page_buf_size, min_meta_keep, min_raw_keep,\n\u001b[1;32m    554\u001b[0m                      alignment_threshold\u001b[38;5;241m=\u001b[39malignment_threshold,\n\u001b[1;32m    555\u001b[0m                      alignment_interval\u001b[38;5;241m=\u001b[39malignment_interval,\n\u001b[1;32m    556\u001b[0m                      meta_block_size\u001b[38;5;241m=\u001b[39mmeta_block_size,\n\u001b[1;32m    557\u001b[0m                      \u001b[38;5;241m*\u001b[39m\u001b[38;5;241m*\u001b[39mkwds)\n\u001b[1;32m    558\u001b[0m     fcpl \u001b[38;5;241m=\u001b[39m make_fcpl(track_order\u001b[38;5;241m=\u001b[39mtrack_order, fs_strategy\u001b[38;5;241m=\u001b[39mfs_strategy,\n\u001b[1;32m    559\u001b[0m                      fs_persist\u001b[38;5;241m=\u001b[39mfs_persist, fs_threshold\u001b[38;5;241m=\u001b[39mfs_threshold,\n\u001b[1;32m    560\u001b[0m                      fs_page_size\u001b[38;5;241m=\u001b[39mfs_page_size)\n\u001b[0;32m--> 561\u001b[0m     fid \u001b[38;5;241m=\u001b[39m \u001b[43mmake_fid\u001b[49m\u001b[43m(\u001b[49m\u001b[43mname\u001b[49m\u001b[43m,\u001b[49m\u001b[43m \u001b[49m\u001b[43mmode\u001b[49m\u001b[43m,\u001b[49m\u001b[43m \u001b[49m\u001b[43muserblock_size\u001b[49m\u001b[43m,\u001b[49m\u001b[43m \u001b[49m\u001b[43mfapl\u001b[49m\u001b[43m,\u001b[49m\u001b[43m \u001b[49m\u001b[43mfcpl\u001b[49m\u001b[43m,\u001b[49m\u001b[43m \u001b[49m\u001b[43mswmr\u001b[49m\u001b[38;5;241;43m=\u001b[39;49m\u001b[43mswmr\u001b[49m\u001b[43m)\u001b[49m\n\u001b[1;32m    563\u001b[0m \u001b[38;5;28;01mif\u001b[39;00m \u001b[38;5;28misinstance\u001b[39m(libver, \u001b[38;5;28mtuple\u001b[39m):\n\u001b[1;32m    564\u001b[0m     \u001b[38;5;28mself\u001b[39m\u001b[38;5;241m.\u001b[39m_libver \u001b[38;5;241m=\u001b[39m libver\n",
      "File \u001b[0;32m~/Documents/Programming/disklavier/.venv/lib/python3.12/site-packages/h5py/_hl/files.py:235\u001b[0m, in \u001b[0;36mmake_fid\u001b[0;34m(name, mode, userblock_size, fapl, fcpl, swmr)\u001b[0m\n\u001b[1;32m    233\u001b[0m     \u001b[38;5;28;01mif\u001b[39;00m swmr \u001b[38;5;129;01mand\u001b[39;00m swmr_support:\n\u001b[1;32m    234\u001b[0m         flags \u001b[38;5;241m|\u001b[39m\u001b[38;5;241m=\u001b[39m h5f\u001b[38;5;241m.\u001b[39mACC_SWMR_READ\n\u001b[0;32m--> 235\u001b[0m     fid \u001b[38;5;241m=\u001b[39m \u001b[43mh5f\u001b[49m\u001b[38;5;241;43m.\u001b[39;49m\u001b[43mopen\u001b[49m\u001b[43m(\u001b[49m\u001b[43mname\u001b[49m\u001b[43m,\u001b[49m\u001b[43m \u001b[49m\u001b[43mflags\u001b[49m\u001b[43m,\u001b[49m\u001b[43m \u001b[49m\u001b[43mfapl\u001b[49m\u001b[38;5;241;43m=\u001b[39;49m\u001b[43mfapl\u001b[49m\u001b[43m)\u001b[49m\n\u001b[1;32m    236\u001b[0m \u001b[38;5;28;01melif\u001b[39;00m mode \u001b[38;5;241m==\u001b[39m \u001b[38;5;124m'\u001b[39m\u001b[38;5;124mr+\u001b[39m\u001b[38;5;124m'\u001b[39m:\n\u001b[1;32m    237\u001b[0m     fid \u001b[38;5;241m=\u001b[39m h5f\u001b[38;5;241m.\u001b[39mopen(name, h5f\u001b[38;5;241m.\u001b[39mACC_RDWR, fapl\u001b[38;5;241m=\u001b[39mfapl)\n",
      "File \u001b[0;32mh5py/_objects.pyx:54\u001b[0m, in \u001b[0;36mh5py._objects.with_phil.wrapper\u001b[0;34m()\u001b[0m\n",
      "File \u001b[0;32mh5py/_objects.pyx:55\u001b[0m, in \u001b[0;36mh5py._objects.with_phil.wrapper\u001b[0;34m()\u001b[0m\n",
      "File \u001b[0;32mh5py/h5f.pyx:102\u001b[0m, in \u001b[0;36mh5py.h5f.open\u001b[0;34m()\u001b[0m\n",
      "\u001b[0;31mFileNotFoundError\u001b[0m: [Errno 2] Unable to open file (unable to open file: name = '../data/tables/20250110/pitch_histogram.h5', errno = 2, error message = 'No such file or directory', flags = 0, o_flags = 0)"
     ]
    }
   ],
   "source": [
    "with h5py.File(\"../data/tables/20250110/specdiff.h5\", \"r\") as hdf:\n",
    "    print(hdf[\"filenames\"][:5])\n",
    "    print(hdf[\"embeddings\"][:5])\n",
    "with h5py.File(\"../data/tables/20250110/pitch_histogram.h5\", \"r\") as hdf:\n",
    "    print(hdf[\"filenames\"][:5])\n",
    "    print(hdf[\"histograms\"][:5])"
   ]
  },
  {
   "cell_type": "code",
   "execution_count": 5,
   "metadata": {},
   "outputs": [
    {
     "name": "stdout",
     "output_type": "stream",
     "text": [
      "1 datasets in file\n"
     ]
    },
    {
     "data": {
      "text/html": [
       "<div>\n",
       "<style scoped>\n",
       "    .dataframe tbody tr th:only-of-type {\n",
       "        vertical-align: middle;\n",
       "    }\n",
       "\n",
       "    .dataframe tbody tr th {\n",
       "        vertical-align: top;\n",
       "    }\n",
       "\n",
       "    .dataframe thead th {\n",
       "        text-align: right;\n",
       "    }\n",
       "</style>\n",
       "<table border=\"1\" class=\"dataframe\">\n",
       "  <thead>\n",
       "    <tr style=\"text-align: right;\">\n",
       "      <th></th>\n",
       "      <th>prev_2</th>\n",
       "      <th>prev</th>\n",
       "      <th>current</th>\n",
       "      <th>next</th>\n",
       "      <th>next_2</th>\n",
       "    </tr>\n",
       "  </thead>\n",
       "  <tbody>\n",
       "    <tr>\n",
       "      <th>20250219-066-03_0508-0516</th>\n",
       "      <td>20250219-066-03_0494-0501</td>\n",
       "      <td>20250219-066-03_0501-0508</td>\n",
       "      <td>20250219-066-03_0508-0516</td>\n",
       "      <td>20250219-066-03_0516-0523</td>\n",
       "      <td>20250219-066-03_0523-0530</td>\n",
       "    </tr>\n",
       "    <tr>\n",
       "      <th>20250219-066-03_0516-0523</th>\n",
       "      <td>20250219-066-03_0501-0508</td>\n",
       "      <td>20250219-066-03_0508-0516</td>\n",
       "      <td>20250219-066-03_0516-0523</td>\n",
       "      <td>20250219-066-03_0523-0530</td>\n",
       "      <td>20250219-066-03_0530-0538</td>\n",
       "    </tr>\n",
       "    <tr>\n",
       "      <th>20250219-066-03_0523-0530</th>\n",
       "      <td>20250219-066-03_0508-0516</td>\n",
       "      <td>20250219-066-03_0516-0523</td>\n",
       "      <td>20250219-066-03_0523-0530</td>\n",
       "      <td>20250219-066-03_0530-0538</td>\n",
       "      <td>20250219-066-03_0538-0545</td>\n",
       "    </tr>\n",
       "    <tr>\n",
       "      <th>20250219-066-03_0530-0538</th>\n",
       "      <td>20250219-066-03_0516-0523</td>\n",
       "      <td>20250219-066-03_0523-0530</td>\n",
       "      <td>20250219-066-03_0530-0538</td>\n",
       "      <td>20250219-066-03_0538-0545</td>\n",
       "      <td>None</td>\n",
       "    </tr>\n",
       "    <tr>\n",
       "      <th>20250219-066-03_0538-0545</th>\n",
       "      <td>20250219-066-03_0523-0530</td>\n",
       "      <td>20250219-066-03_0530-0538</td>\n",
       "      <td>20250219-066-03_0538-0545</td>\n",
       "      <td>None</td>\n",
       "      <td>None</td>\n",
       "    </tr>\n",
       "  </tbody>\n",
       "</table>\n",
       "</div>"
      ],
      "text/plain": [
       "                                              prev_2  \\\n",
       "20250219-066-03_0508-0516  20250219-066-03_0494-0501   \n",
       "20250219-066-03_0516-0523  20250219-066-03_0501-0508   \n",
       "20250219-066-03_0523-0530  20250219-066-03_0508-0516   \n",
       "20250219-066-03_0530-0538  20250219-066-03_0516-0523   \n",
       "20250219-066-03_0538-0545  20250219-066-03_0523-0530   \n",
       "\n",
       "                                                prev  \\\n",
       "20250219-066-03_0508-0516  20250219-066-03_0501-0508   \n",
       "20250219-066-03_0516-0523  20250219-066-03_0508-0516   \n",
       "20250219-066-03_0523-0530  20250219-066-03_0516-0523   \n",
       "20250219-066-03_0530-0538  20250219-066-03_0523-0530   \n",
       "20250219-066-03_0538-0545  20250219-066-03_0530-0538   \n",
       "\n",
       "                                             current  \\\n",
       "20250219-066-03_0508-0516  20250219-066-03_0508-0516   \n",
       "20250219-066-03_0516-0523  20250219-066-03_0516-0523   \n",
       "20250219-066-03_0523-0530  20250219-066-03_0523-0530   \n",
       "20250219-066-03_0530-0538  20250219-066-03_0530-0538   \n",
       "20250219-066-03_0538-0545  20250219-066-03_0538-0545   \n",
       "\n",
       "                                                next  \\\n",
       "20250219-066-03_0508-0516  20250219-066-03_0516-0523   \n",
       "20250219-066-03_0516-0523  20250219-066-03_0523-0530   \n",
       "20250219-066-03_0523-0530  20250219-066-03_0530-0538   \n",
       "20250219-066-03_0530-0538  20250219-066-03_0538-0545   \n",
       "20250219-066-03_0538-0545                       None   \n",
       "\n",
       "                                              next_2  \n",
       "20250219-066-03_0508-0516  20250219-066-03_0523-0530  \n",
       "20250219-066-03_0516-0523  20250219-066-03_0530-0538  \n",
       "20250219-066-03_0523-0530  20250219-066-03_0538-0545  \n",
       "20250219-066-03_0530-0538                       None  \n",
       "20250219-066-03_0538-0545                       None  "
      ]
     },
     "execution_count": 5,
     "metadata": {},
     "output_type": "execute_result"
    }
   ],
   "source": [
    "# verify hdf5 file\n",
    "p_h5 = \"../data/tables/20250320/neighbors.h5\"\n",
    "with h5py.File(p_h5, \"r\") as hdf:\n",
    "    print(f\"{len(hdf.keys())} datasets in file\")\n",
    "    df = pd.read_hdf(p_h5, key=\"neighbors\")\n",
    "df.tail()"
   ]
  },
  {
   "cell_type": "code",
   "execution_count": null,
   "metadata": {},
   "outputs": [],
   "source": [
    "# load prompt dataset\n",
    "p_test = \"../data/datasets/test/dataset samples\"\n",
    "transformations = [f\"t{t:02d}s{s:02d}\" for t, s in product(range(12), range(8))]\n",
    "q_files = [f\"{f[:-4]}_{rng.choice(transformations)}\" for f in os.listdir(p_test)]\n",
    "q_files[:3]"
   ]
  },
  {
   "cell_type": "code",
   "execution_count": null,
   "metadata": {},
   "outputs": [],
   "source": [
    "# load prompt embeddings\n",
    "q_embeddings = [embedding_dataset[key] for key in q_files]\n",
    "q_embeddings[0]"
   ]
  },
  {
   "cell_type": "code",
   "execution_count": null,
   "metadata": {},
   "outputs": [],
   "source": [
    "embedding_dataset.values()"
   ]
  },
  {
   "cell_type": "code",
   "execution_count": null,
   "metadata": {},
   "outputs": [],
   "source": [
    "# find best and worst n matches for prompts\n",
    "n_matches = 3\n",
    "indices = []  # To store the indices of the best and worst matches\n",
    "for q_emb in q_embeddings:\n",
    "    similarities = []\n",
    "    for idx, dataset in enumerate(embedding_dataset.values()):\n",
    "        sim = 1 - cosine(q_emb, dataset)\n",
    "        similarities.append((sim, idx))\n",
    "\n",
    "    similarities.sort(key=lambda x: x[0], reverse=True)  # Highest first\n",
    "    best_indices = [idx for _, idx in similarities[:n_matches]]  # Top 3\n",
    "    worst_indices = [idx for _, idx in similarities[-n_matches:]]  # Bottom 3\n",
    "\n",
    "    indices.append((best_indices, worst_indices))"
   ]
  },
  {
   "cell_type": "code",
   "execution_count": null,
   "metadata": {},
   "outputs": [],
   "source": [
    "embedding_dataset.close()"
   ]
  }
 ],
 "metadata": {
  "kernelspec": {
   "display_name": ".venv",
   "language": "python",
   "name": "python3"
  },
  "language_info": {
   "codemirror_mode": {
    "name": "ipython",
    "version": 3
   },
   "file_extension": ".py",
   "mimetype": "text/x-python",
   "name": "python",
   "nbconvert_exporter": "python",
   "pygments_lexer": "ipython3",
   "version": "3.12.2"
  }
 },
 "nbformat": 4,
 "nbformat_minor": 2
}
