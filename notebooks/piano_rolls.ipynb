{
 "cells": [
  {
   "cell_type": "code",
   "execution_count": 1,
   "metadata": {},
   "outputs": [],
   "source": [
    "import os\n",
    "import numpy as np\n",
    "from PIL import Image\n",
    "from collections import Counter\n",
    "import pretty_midi\n",
    "import mido"
   ]
  },
  {
   "cell_type": "code",
   "execution_count": 2,
   "metadata": {},
   "outputs": [],
   "source": [
    "def get_bpm(file_path: str) -> int:\n",
    "    \"\"\"\n",
    "    Extracts the bpm from a MIDI file.\n",
    "\n",
    "    Args:\n",
    "        file_path (str): Path to the MIDI file.\n",
    "\n",
    "    Returns:\n",
    "        int: The BPM. Default is 120 BPM if not explicitly set.\n",
    "    \"\"\"\n",
    "    try:\n",
    "        tempo = int(os.path.basename(file_path).split(\"-\")[1])\n",
    "    except ValueError:\n",
    "        tempo = 120\n",
    "        midi_file = mido.MidiFile(file_path)\n",
    "        for track in midi_file.tracks:\n",
    "            for message in track:\n",
    "                if message.type == \"set_tempo\":\n",
    "                    tempo = mido.tempo2bpm(message.tempo)\n",
    "\n",
    "    return tempo\n",
    "\n",
    "\n",
    "def calculate_piano_roll_columns(tempo: int, fs: int = 100, beats: int = 9) -> int:\n",
    "    \"\"\"\n",
    "    Calculate the number of columns in a piano roll for a given tempo and duration.\n",
    "\n",
    "    Args:\n",
    "        tempo (int): Tempo in beats per minute (BPM).\n",
    "        fs (int): Sampling frequency in Hz (frames per second). Default is 100.\n",
    "        beats (int): Number of beats for the duration. Default is 9.\n",
    "\n",
    "    Returns:\n",
    "        int: Number of columns in the piano roll.\n",
    "    \"\"\"\n",
    "    # Calculate duration of one beat in seconds\n",
    "    seconds_per_beat = 60 / tempo\n",
    "\n",
    "    # Calculate total duration for the given number of beats\n",
    "    total_duration = beats * seconds_per_beat\n",
    "\n",
    "    # Calculate the number of columns for the given sampling frequency\n",
    "    num_columns = int(total_duration * fs)\n",
    "\n",
    "    return num_columns"
   ]
  },
  {
   "cell_type": "code",
   "execution_count": 3,
   "metadata": {},
   "outputs": [],
   "source": [
    "PR_FS = 50\n",
    "N_BEATS = 9\n",
    "p_in = \"data/pr_test\"\n",
    "p_out = \"data/pr_out\""
   ]
  },
  {
   "cell_type": "code",
   "execution_count": 4,
   "metadata": {},
   "outputs": [
    {
     "name": "stdout",
     "output_type": "stream",
     "text": [
      "converting files:\n",
      "['data/pr_test/100/20240213-100-05_0158-0163.mid', 'data/pr_test/80/20231220-080-01_0000-0005.mid', 'data/pr_test/50/20240305-050-06_0067-0076.mid']\n"
     ]
    }
   ],
   "source": [
    "tracks = []\n",
    "for path, _, files in os.walk(p_in):\n",
    "    for filename in files:\n",
    "        if filename.endswith(\".mid\") or filename.endswith(\".midi\"):\n",
    "            tracks.append(os.path.join(path, filename))\n",
    "\n",
    "print(f\"converting files:\\n{tracks}\")"
   ]
  },
  {
   "cell_type": "code",
   "execution_count": null,
   "metadata": {},
   "outputs": [],
   "source": [
    "for pf_file in tracks:\n",
    "    # Create output path by replicating the directory structure\n",
    "    rel_path = os.path.relpath(pf_file, start=os.path.dirname(pf_file))\n",
    "    output_path = os.path.join(p_out, rel_path)\n",
    "    output_dir = os.path.dirname(output_path)\n",
    "    os.makedirs(output_dir, exist_ok=True)\n",
    "\n",
    "    # Load MIDI file and generate piano roll\n",
    "    midi = pretty_midi.PrettyMIDI(pf_file)\n",
    "    piano_roll = midi.get_piano_roll(fs=PR_FS)\n",
    "\n",
    "    # Trim the piano roll to the number of columns defined by tempo and beats\n",
    "    tempo = get_bpm(pf_file)\n",
    "    num_columns = calculate_piano_roll_columns(tempo, fs=PR_FS, beats=N_BEATS)\n",
    "    trimmed_piano_roll = piano_roll[:, :num_columns]\n",
    "\n",
    "    # Trim the piano roll to start from the first note\n",
    "    non_empty_columns = np.any(piano_roll > 0, axis=0)\n",
    "    first_note_idx = np.argmax(non_empty_columns)\n",
    "    trimmed_piano_roll = piano_roll[:, first_note_idx:]\n",
    "\n",
    "    # Normalize and invert the piano roll\n",
    "    normalized_roll = (127 - trimmed_piano_roll).astype(np.uint8)\n",
    "\n",
    "    # Resize the trimmed piano roll to (128, 128)\n",
    "    resized_roll = np.array(\n",
    "        Image.fromarray(normalized_roll.T, mode=\"L\").resize((128, 128), Image.Resampling.LANCZOS)\n",
    "    )\n",
    "\n",
    "    \n",
    "\n",
    "    # Save the resized piano roll as an image\n",
    "    img = Image.fromarray(resized_roll, mode=\"L\")\n",
    "    img.save(os.path.splitext(output_path)[0] + \".png\")"
   ]
  },
  {
   "cell_type": "code",
   "execution_count": 11,
   "metadata": {},
   "outputs": [],
   "source": [
    "def analyze_piano_roll_sizes(output_dir):\n",
    "    \"\"\"\n",
    "    Analyze the unique sizes of piano rolls and count their occurrences.\n",
    "\n",
    "    Args:\n",
    "        output_dir (str): Directory containing the generated piano roll images.\n",
    "\n",
    "    Returns:\n",
    "        None: Prints unique sizes and their counts.\n",
    "    \"\"\"\n",
    "    sizes = []\n",
    "\n",
    "    for path, _, files in os.walk(output_dir):\n",
    "        for file in files:\n",
    "            if file.endswith(\".png\"):\n",
    "                image_path = os.path.join(path, file)\n",
    "                try:\n",
    "                    with Image.open(image_path) as img:\n",
    "                        sizes.append(img.size)  # Collect image sizes (width, height)\n",
    "                except Exception as e:\n",
    "                    print(f\"Error reading image {image_path}: {e}\")\n",
    "\n",
    "    # Use a Counter to count occurrences of each size\n",
    "    size_counts = Counter(sizes)\n",
    "\n",
    "    # Print unique sizes and their counts\n",
    "    print(\"Unique sizes and their occurrences:\")\n",
    "    for size, count in size_counts.items():\n",
    "        print(f\"Size {size}: {count} occurrence(s)\")"
   ]
  },
  {
   "cell_type": "code",
   "execution_count": null,
   "metadata": {},
   "outputs": [
    {
     "name": "stdout",
     "output_type": "stream",
     "text": [
      "Unique sizes and their occurrences:\n",
      "Size (128, 802): 1 occurrence(s)\n",
      "Size (128, 605): 1 occurrence(s)\n",
      "Size (128, 619): 1 occurrence(s)\n",
      "Size (128, 684): 1 occurrence(s)\n",
      "Size (128, 620): 1 occurrence(s)\n",
      "Size (128, 863): 1 occurrence(s)\n",
      "Size (128, 571): 1 occurrence(s)\n",
      "Size (128, 610): 1 occurrence(s)\n",
      "Size (128, 657): 1 occurrence(s)\n",
      "Size (128, 701): 1 occurrence(s)\n",
      "Size (128, 788): 1 occurrence(s)\n",
      "Size (128, 572): 1 occurrence(s)\n",
      "Size (128, 486): 1 occurrence(s)\n",
      "Size (128, 740): 1 occurrence(s)\n"
     ]
    }
   ],
   "source": [
    "analyze_piano_roll_sizes(p_out)"
   ]
  }
 ],
 "metadata": {
  "kernelspec": {
   "display_name": ".venv",
   "language": "python",
   "name": "python3"
  },
  "language_info": {
   "codemirror_mode": {
    "name": "ipython",
    "version": 3
   },
   "file_extension": ".py",
   "mimetype": "text/x-python",
   "name": "python",
   "nbconvert_exporter": "python",
   "pygments_lexer": "ipython3",
   "version": "3.12.2"
  }
 },
 "nbformat": 4,
 "nbformat_minor": 2
}
