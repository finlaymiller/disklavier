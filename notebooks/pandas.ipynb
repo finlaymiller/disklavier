{
 "cells": [
  {
   "cell_type": "code",
   "execution_count": 1,
   "metadata": {},
   "outputs": [
    {
     "data": {
      "text/html": [
       "<div>\n",
       "<style scoped>\n",
       "    .dataframe tbody tr th:only-of-type {\n",
       "        vertical-align: middle;\n",
       "    }\n",
       "\n",
       "    .dataframe tbody tr th {\n",
       "        vertical-align: top;\n",
       "    }\n",
       "\n",
       "    .dataframe thead th {\n",
       "        text-align: right;\n",
       "    }\n",
       "</style>\n",
       "<table border=\"1\" class=\"dataframe\">\n",
       "  <thead>\n",
       "    <tr style=\"text-align: right;\">\n",
       "      <th></th>\n",
       "      <th>population</th>\n",
       "      <th>GDP</th>\n",
       "      <th>alpha-2</th>\n",
       "    </tr>\n",
       "  </thead>\n",
       "  <tbody>\n",
       "    <tr>\n",
       "      <th>Italy</th>\n",
       "      <td>59000000</td>\n",
       "      <td>1937894</td>\n",
       "      <td>IT</td>\n",
       "    </tr>\n",
       "    <tr>\n",
       "      <th>France</th>\n",
       "      <td>65000000</td>\n",
       "      <td>2583560</td>\n",
       "      <td>FR</td>\n",
       "    </tr>\n",
       "    <tr>\n",
       "      <th>Malta</th>\n",
       "      <td>434000</td>\n",
       "      <td>12011</td>\n",
       "      <td>MT</td>\n",
       "    </tr>\n",
       "    <tr>\n",
       "      <th>Maldives</th>\n",
       "      <td>434000</td>\n",
       "      <td>4520</td>\n",
       "      <td>MV</td>\n",
       "    </tr>\n",
       "    <tr>\n",
       "      <th>Brunei</th>\n",
       "      <td>434000</td>\n",
       "      <td>12128</td>\n",
       "      <td>BN</td>\n",
       "    </tr>\n",
       "    <tr>\n",
       "      <th>Iceland</th>\n",
       "      <td>337000</td>\n",
       "      <td>17036</td>\n",
       "      <td>IS</td>\n",
       "    </tr>\n",
       "    <tr>\n",
       "      <th>Nauru</th>\n",
       "      <td>11300</td>\n",
       "      <td>182</td>\n",
       "      <td>NR</td>\n",
       "    </tr>\n",
       "    <tr>\n",
       "      <th>Tuvalu</th>\n",
       "      <td>11300</td>\n",
       "      <td>38</td>\n",
       "      <td>TV</td>\n",
       "    </tr>\n",
       "    <tr>\n",
       "      <th>Anguilla</th>\n",
       "      <td>11300</td>\n",
       "      <td>311</td>\n",
       "      <td>AI</td>\n",
       "    </tr>\n",
       "  </tbody>\n",
       "</table>\n",
       "</div>"
      ],
      "text/plain": [
       "          population      GDP alpha-2\n",
       "Italy       59000000  1937894      IT\n",
       "France      65000000  2583560      FR\n",
       "Malta         434000    12011      MT\n",
       "Maldives      434000     4520      MV\n",
       "Brunei        434000    12128      BN\n",
       "Iceland       337000    17036      IS\n",
       "Nauru          11300      182      NR\n",
       "Tuvalu         11300       38      TV\n",
       "Anguilla       11300      311      AI"
      ]
     },
     "execution_count": 1,
     "metadata": {},
     "output_type": "execute_result"
    }
   ],
   "source": [
    "import pandas as pd\n",
    "\n",
    "df = pd.DataFrame(\n",
    "    {\n",
    "        \"population\": [\n",
    "            59000000,\n",
    "            65000000,\n",
    "            434000,\n",
    "            434000,\n",
    "            434000,\n",
    "            337000,\n",
    "            11300,\n",
    "            11300,\n",
    "            11300,\n",
    "        ],\n",
    "        \"GDP\": [1937894, 2583560, 12011, 4520, 12128, 17036, 182, 38, 311],\n",
    "        \"alpha-2\": [\"IT\", \"FR\", \"MT\", \"MV\", \"BN\", \"IS\", \"NR\", \"TV\", \"AI\"],\n",
    "    },\n",
    "    index=[\n",
    "        \"Italy\",\n",
    "        \"France\",\n",
    "        \"Malta\",\n",
    "        \"Maldives\",\n",
    "        \"Brunei\",\n",
    "        \"Iceland\",\n",
    "        \"Nauru\",\n",
    "        \"Tuvalu\",\n",
    "        \"Anguilla\",\n",
    "    ],\n",
    ")\n",
    "df"
   ]
  },
  {
   "cell_type": "code",
   "execution_count": 2,
   "metadata": {},
   "outputs": [
    {
     "data": {
      "text/plain": [
       "'Iceland'"
      ]
     },
     "execution_count": 2,
     "metadata": {},
     "output_type": "execute_result"
    }
   ],
   "source": [
    "nl = df[\"GDP\"].nlargest(3)\n",
    "nl.index[-1]"
   ]
  }
 ],
 "metadata": {
  "kernelspec": {
   "display_name": ".venv",
   "language": "python",
   "name": "python3"
  },
  "language_info": {
   "codemirror_mode": {
    "name": "ipython",
    "version": 3
   },
   "file_extension": ".py",
   "mimetype": "text/x-python",
   "name": "python",
   "nbconvert_exporter": "python",
   "pygments_lexer": "ipython3",
   "version": "3.12.2"
  }
 },
 "nbformat": 4,
 "nbformat_minor": 2
}
