{
 "cells": [
  {
   "cell_type": "code",
   "execution_count": null,
   "metadata": {},
   "outputs": [],
   "source": [
    "import mido\n",
    "from mido import Message, MidiFile, MidiTrack\n",
    "import pretty_midi\n",
    "import numpy as np\n",
    "from pathlib import Path\n",
    "import matplotlib.pyplot as plt\n",
    "import matplotlib.patches as patches\n",
    "import time"
   ]
  },
  {
   "cell_type": "markdown",
   "metadata": {},
   "source": [
    "## helper functions"
   ]
  },
  {
   "cell_type": "code",
   "execution_count": null,
   "metadata": {},
   "outputs": [],
   "source": [
    "def calculate_delta_time(start_time, current_time, ticks_per_beat):\n",
    "    # Calculate delta time in seconds\n",
    "    delta_seconds = current_time - start_time\n",
    "    # Convert delta time to ticks\n",
    "    return int(delta_seconds * ticks_per_beat)"
   ]
  },
  {
   "cell_type": "markdown",
   "metadata": {},
   "source": [
    "## setup"
   ]
  },
  {
   "cell_type": "code",
   "execution_count": null,
   "metadata": {},
   "outputs": [],
   "source": [
    "print(f\"found input ports: {mido.get_input_names()}\")\n",
    "print(f\"found output ports: {mido.get_output_names()}\")\n",
    "\n",
    "infile = 'files/transpose-060-01_0000-0005.mid'\n",
    "outfile = 'files/live_piano_recording.mid'\n",
    "\n",
    "inport = mido.get_input_names()[0]\n",
    "outport = mido.get_output_names()[0]"
   ]
  },
  {
   "cell_type": "code",
   "execution_count": null,
   "metadata": {},
   "outputs": [],
   "source": [
    "# Create a new MIDI file and track\n",
    "mid = MidiFile()\n",
    "track = MidiTrack()\n",
    "mid.tracks.append(track)\n",
    "track.append()\n",
    "\n",
    "ticks_per_beat = mid.ticks_per_beat  # Default ticks per beat for MIDI file\n",
    "start_time = -1\n",
    "end_time = -1\n",
    "last_note_time = start_time\n",
    "\n",
    "# Open the input port for the MIDI keyboard\n",
    "with mido.open_input(inport) as inport:\n",
    "    print(f\"recording at {ticks_per_beat}tpb... Press Ctrl+C to stop.\")\n",
    "\n",
    "    try:\n",
    "        for msg in inport:\n",
    "            current_time = time.time()\n",
    "            delta_time = calculate_delta_time(last_note_time, current_time, ticks_per_beat)\n",
    "            msg.time = delta_time\n",
    "            print(msg)\n",
    "            last_note_time = current_time \n",
    "            if msg.type in ['note_on', 'note_off']:\n",
    "                print(\"adding note to track: {msg}\")\n",
    "                track.append(msg)\n",
    "    except KeyboardInterrupt:\n",
    "        # Stop recording on Ctrl+C\n",
    "        end_time = time.time()\n",
    "        print(f\"stopping recording at {end_time}...\")\n",
    "\n",
    "# Save the recorded MIDI messages to a file\n",
    "mid.save(outfile)\n",
    "print(\"Recording saved to 'live_piano_recording.mid'.\")\n"
   ]
  },
  {
   "cell_type": "code",
   "execution_count": null,
   "metadata": {},
   "outputs": [],
   "source": [
    "def print_midi(filename):\n",
    "    midi_file = MidiFile(filename)\n",
    "    for i, track in enumerate(midi_file.tracks):\n",
    "            print(f'=== Track {i}')\n",
    "            for message in track:\n",
    "                print(f'\\t{message!r}')\n",
    "print_midi(outfile)"
   ]
  },
  {
   "cell_type": "code",
   "execution_count": null,
   "metadata": {},
   "outputs": [],
   "source": [
    "def draw_midi(midi_file: str, labels: bool = False):\n",
    "    plt.style.use(\"dark_background\")\n",
    "\n",
    "    midi = pretty_midi.PrettyMIDI(midi_file)\n",
    "\n",
    "    _, ax = plt.subplots(figsize=(12, 4))\n",
    "\n",
    "    for note in midi.instruments[0].notes:\n",
    "        rect = patches.Rectangle(\n",
    "            (note.start, note.pitch), note.end - note.start, 1, color=\"green\"\n",
    "        )\n",
    "        ax.add_patch(rect)\n",
    "\n",
    "    if labels:\n",
    "        ax.set_xlabel(\"Time (s)\")\n",
    "        ax.set_ylabel(\"MIDI Note\")\n",
    "    ax.set_yticks([])\n",
    "    ax.set_title(f\"{Path(midi_file).stem}\")\n",
    "\n",
    "    plt.box(False)\n",
    "    plt.ylim(20, 108)  # MIDI note range for a piano\n",
    "    plt.xlim(0, np.ceil(midi.instruments[0].notes[-1].end))\n",
    "    plt.show()"
   ]
  },
  {
   "cell_type": "code",
   "execution_count": null,
   "metadata": {},
   "outputs": [],
   "source": [
    "draw_midi(outfile)"
   ]
  },
  {
   "cell_type": "code",
   "execution_count": null,
   "metadata": {},
   "outputs": [],
   "source": [
    "def play_midi_file(midi_file_path, output_port_name):\n",
    "    \"\"\"\n",
    "    Play a MIDI file through the specified MIDI output port.\n",
    "\n",
    "    Parameters:\n",
    "    - midi_file_path: The path to the MIDI file to be played.\n",
    "    - output_port_name: The name of the MIDI output port.\n",
    "    \"\"\"\n",
    "    # Load the MIDI file\n",
    "    mid = MidiFile(midi_file_path)\n",
    "    \n",
    "    # Open the MIDI output port\n",
    "    with mido.open_output(output_port_name) as outport:\n",
    "        print(f\"Playing {midi_file_path} on {output_port_name}...\")\n",
    "        for msg in mid.play():\n",
    "            if not msg.is_meta:\n",
    "                outport.send(msg)\n",
    "\n",
    "    print(\"Playback finished.\")"
   ]
  },
  {
   "cell_type": "code",
   "execution_count": null,
   "metadata": {},
   "outputs": [],
   "source": [
    "play_midi_file('../recordings/live_piano_recording.mid', 'Disklavier')"
   ]
  }
 ],
 "metadata": {
  "kernelspec": {
   "display_name": "full",
   "language": "python",
   "name": "python3"
  },
  "language_info": {
   "codemirror_mode": {
    "name": "ipython",
    "version": 3
   },
   "file_extension": ".py",
   "mimetype": "text/x-python",
   "name": "python",
   "nbconvert_exporter": "python",
   "pygments_lexer": "ipython3",
   "version": "3.12.2"
  }
 },
 "nbformat": 4,
 "nbformat_minor": 2
}
