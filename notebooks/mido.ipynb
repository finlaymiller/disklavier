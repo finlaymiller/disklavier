{
 "cells": [
  {
   "cell_type": "code",
   "execution_count": 5,
   "metadata": {},
   "outputs": [],
   "source": [
    "import os\n",
    "import mido"
   ]
  },
  {
   "cell_type": "code",
   "execution_count": 9,
   "metadata": {},
   "outputs": [
    {
     "name": "stdout",
     "output_type": "stream",
     "text": [
      "Ticks per beat counts:\n",
      "220: 5678 file(s)\n"
     ]
    }
   ],
   "source": [
    "ticks_per_beat_counts = {}\n",
    "for midi_file in os.listdir(\"../data/datasets/20240621/play\"):\n",
    "    file_path = f\"../data/datasets/20240621/play/{midi_file}\"\n",
    "    midi_in = mido.MidiFile(file_path)\n",
    "\n",
    "    tpb = midi_in.ticks_per_beat\n",
    "\n",
    "    if tpb in ticks_per_beat_counts:\n",
    "        ticks_per_beat_counts[tpb] += 1\n",
    "    else:\n",
    "        ticks_per_beat_counts[tpb] = 1\n",
    "\n",
    "print(\"Ticks per beat counts:\")\n",
    "for tpb, count in ticks_per_beat_counts.items():\n",
    "    print(f\"{tpb}: {count} file(s)\")"
   ]
  },
  {
   "cell_type": "code",
   "execution_count": 3,
   "metadata": {},
   "outputs": [
    {
     "name": "stdout",
     "output_type": "stream",
     "text": [
      "96\n",
      "20231220-080-01_0000-0005\n",
      "MetaMessage('track_name', name='20231220-080-01_0000-0005', time=0)\n",
      "MetaMessage('time_signature', numerator=4, denominator=4, clocks_per_click=36, notated_32nd_notes_per_beat=8, time=0)\n",
      "MetaMessage('time_signature', numerator=4, denominator=4, clocks_per_click=36, notated_32nd_notes_per_beat=8, time=0)\n",
      "program_change channel=0 program=0 time=0\n",
      "note_on channel=0 note=31 velocity=41 time=96\n",
      "note_off channel=0 note=31 velocity=64 time=21\n",
      "note_on channel=0 note=43 velocity=23 time=57\n",
      "note_off channel=0 note=43 velocity=64 time=25\n",
      "note_on channel=0 note=38 velocity=39 time=44\n",
      "note_off channel=0 note=38 velocity=64 time=13\n",
      "note_on channel=0 note=31 velocity=35 time=35\n",
      "note_off channel=0 note=31 velocity=64 time=27\n",
      "note_on channel=0 note=43 velocity=35 time=46\n",
      "note_off channel=0 note=43 velocity=64 time=30\n",
      "note_on channel=0 note=38 velocity=40 time=41\n",
      "note_off channel=0 note=38 velocity=64 time=13\n",
      "note_on channel=0 note=31 velocity=24 time=35\n",
      "note_off channel=0 note=31 velocity=64 time=34\n",
      "note_on channel=0 note=43 velocity=41 time=42\n",
      "note_off channel=0 note=43 velocity=64 time=30\n",
      "note_on channel=0 note=38 velocity=43 time=37\n",
      "note_off channel=0 note=38 velocity=64 time=15\n",
      "note_on channel=0 note=31 velocity=36 time=34\n",
      "note_off channel=0 note=31 velocity=64 time=27\n",
      "note_on channel=0 note=43 velocity=41 time=48\n",
      "note_off channel=0 note=43 velocity=64 time=28\n",
      "MetaMessage('end_of_track', time=0)\n"
     ]
    }
   ],
   "source": [
    "file_path = \"../data/datasets/test/play/20231220-080-01_0000-0005.mid\"\n",
    "midi_in = mido.MidiFile(file_path)\n",
    "\n",
    "print(midi_in.ticks_per_beat)\n",
    "\n",
    "for track in midi_in.tracks:\n",
    "    print(track.name)\n",
    "    for msg in track:\n",
    "        print(msg)"
   ]
  }
 ],
 "metadata": {
  "kernelspec": {
   "display_name": ".venv",
   "language": "python",
   "name": "python3"
  },
  "language_info": {
   "codemirror_mode": {
    "name": "ipython",
    "version": 3
   },
   "file_extension": ".py",
   "mimetype": "text/x-python",
   "name": "python",
   "nbconvert_exporter": "python",
   "pygments_lexer": "ipython3",
   "version": "3.12.4"
  }
 },
 "nbformat": 4,
 "nbformat_minor": 2
}
