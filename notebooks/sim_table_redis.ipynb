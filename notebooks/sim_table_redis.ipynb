{
 "cells": [
  {
   "cell_type": "markdown",
   "metadata": {},
   "source": [
    "## imports\n"
   ]
  },
  {
   "cell_type": "code",
   "execution_count": 19,
   "metadata": {},
   "outputs": [],
   "source": [
    "import sys\n",
    "import os\n",
    "\n",
    "# add the parent directory to the system path\n",
    "sys.path.append(os.path.abspath(os.path.join(os.getcwd(), \"..\")))"
   ]
  },
  {
   "cell_type": "code",
   "execution_count": 20,
   "metadata": {},
   "outputs": [],
   "source": [
    "from pathlib import Path\n",
    "import json\n",
    "import numpy as np\n",
    "from rich.progress import (\n",
    "    Progress,\n",
    "    SpinnerColumn,\n",
    "    TimeElapsedColumn,\n",
    "    MofNCompleteColumn,\n",
    ")\n",
    "import numpy as np\n",
    "import pretty_midi\n",
    "import redis\n",
    "from concurrent.futures import ProcessPoolExecutor, as_completed\n",
    "from itertools import product"
   ]
  },
  {
   "cell_type": "markdown",
   "metadata": {},
   "source": [
    "## functions"
   ]
  },
  {
   "cell_type": "code",
   "execution_count": 21,
   "metadata": {},
   "outputs": [],
   "source": [
    "def update_best_match(\n",
    "    redis_client: redis.Redis, key: str, track_name_row: str, file_bm: str, sim_bm: float, metric: str\n",
    ") -> None:\n",
    "    \"\"\"\n",
    "    Update the metric in the Redis database based on the given criteria.\n",
    "\n",
    "    Args:\n",
    "        redis_client: Redis client object.\n",
    "        key (str): The key to access the pitch histogram in Redis.\n",
    "        track_name_row (str): The string to be compared with the substring before the underscore.\n",
    "        file_bm (str): The filename to be inserted.\n",
    "        sim_bm (float): The similarity value associated with the filename.\n",
    "        metric (str): The metric to update.\n",
    "    \"\"\"\n",
    "\n",
    "    # get the current list from Redis\n",
    "    best_matches = redis_client.json().get(key, f\"$.{metric}\")\n",
    "    if best_matches is None or len(best_matches) < 1:\n",
    "        best_matches = []\n",
    "        track_names = set()\n",
    "    else:\n",
    "        best_matches = best_matches[0]\n",
    "        track_names = set(\n",
    "            entry.split(\"@\")[0].split(\"_\")[0] for entry in best_matches\n",
    "        )\n",
    "\n",
    "    # check if the new track_name is already in the set or matches track_name_row\n",
    "    new_track_name = file_bm.split(\"_\")[0]\n",
    "    if new_track_name in track_names or new_track_name == track_name_row:\n",
    "        return  # dont update list\n",
    "\n",
    "    # add the new entry\n",
    "    best_matches.append(f\"{file_bm}@{sim_bm}\")\n",
    "\n",
    "    # sort by similarity in descending order\n",
    "    best_matches.sort(key=lambda x: float(x.split(\"@\")[1]), reverse=True)\n",
    "\n",
    "    # redis_client.json().set(key, f\"$.{metric}\", best_matches[:3])\n",
    "\n",
    "    return best_matches[:10]\n"
   ]
  },
  {
   "cell_type": "code",
   "execution_count": 22,
   "metadata": {},
   "outputs": [],
   "source": [
    "def calc_sims(\n",
    "    rows,\n",
    "    all_rows,\n",
    "    metric,\n",
    "    mod_table,\n",
    "    index,\n",
    "):\n",
    "    print(f\"[SUBR{index:02d}] starting subprocess {index:02d}\")\n",
    "    r = redis.Redis(host=\"localhost\", port=6379, db=0)\n",
    "    best_matches = []\n",
    "\n",
    "    progress = Progress(\n",
    "        SpinnerColumn(),\n",
    "        *Progress.get_default_columns(),\n",
    "        TimeElapsedColumn(),\n",
    "        MofNCompleteColumn(),\n",
    "        refresh_per_second=1,\n",
    "    )\n",
    "    sim_task = progress.add_task(\n",
    "        f\"[SUBR{index:02d}] calculating sims\", total=len(rows) * len(all_rows)\n",
    "    )\n",
    "    with progress:\n",
    "        for i, row_file in enumerate(rows):\n",
    "            print(\n",
    "                f\"[SUBR{index:02d}] {i:04d}/{len(rows):04d} calculating sims for file {row_file}\"\n",
    "            )\n",
    "            track_name_row, segment_name_row, _ = row_file.split(\"_\")\n",
    "            for col_file in all_rows:\n",
    "                if col_file == row_file:\n",
    "                    value = {\n",
    "                        \"sim\": 1.0,\n",
    "                        \"mutations\": {\"transpose\": 0, \"shift\": 0},\n",
    "                        \"row_file\": row_file,\n",
    "                        \"col_file\": col_file,\n",
    "                        \"metric\": metric,\n",
    "                    }\n",
    "                else:\n",
    "                    track_name_col, segment_name_col, _ = col_file.split(\"_\")\n",
    "                    sim_best_mutation = -1\n",
    "                    best_shift = -1\n",
    "                    best_trans = -1\n",
    "                    main_metric = list(\n",
    "                        map(float, r.get(f\"{metric}:{track_name_row}_{segment_name_row}:t00s00\").decode().split(\",\"))  # type: ignore\n",
    "                    )\n",
    "                    for t in range(N_TRANSPOSITIONS):\n",
    "                        # for t, s in mod_table:\n",
    "                        s = 0  # TODO: REMOVE BEFORE SHIFTING\n",
    "                        comp_metric = list(\n",
    "                            map(float, r.get(f\"{metric}:{track_name_col}_{segment_name_col}:t{t:02d}s{s:02d}\").decode().split(\",\"))  # type: ignore\n",
    "                        )\n",
    "                        similarity = np.dot(main_metric, comp_metric) / (\n",
    "                            np.linalg.norm(main_metric) * np.linalg.norm(comp_metric)\n",
    "                        )\n",
    "\n",
    "                        if similarity > sim_best_mutation:\n",
    "                            sim_best_mutation = similarity\n",
    "                            best_trans = t\n",
    "                            best_shift = s\n",
    "\n",
    "                    value = {\n",
    "                        \"sim\": sim_best_mutation,\n",
    "                        \"mutations\": {\"transpose\": best_trans, \"shift\": best_shift},\n",
    "                        \"row_file\": row_file,\n",
    "                        \"col_file\": col_file,\n",
    "                        \"metric\": metric,\n",
    "                    }\n",
    "\n",
    "                # update comparison object\n",
    "                # r.json().set(f\"cmp:{row_file}:{col_file}:{metric}\", \"$\", value)\n",
    "\n",
    "                # update row file object\n",
    "                best_matches = update_best_match(\n",
    "                    r,\n",
    "                    f\"file:{row_file}\",\n",
    "                    track_name_row,\n",
    "                    col_file,\n",
    "                    value[\"sim\"],\n",
    "                    metric,\n",
    "                )\n",
    "                progress.advance(sim_task)\n",
    "\n",
    "    print(f\"[SUBR{index:02d}] subprocess complete\")\n",
    "\n",
    "    return best_matches"
   ]
  },
  {
   "cell_type": "code",
   "execution_count": 23,
   "metadata": {},
   "outputs": [],
   "source": [
    "def calc_sims_vectorized(\n",
    "    rows,\n",
    "    all_rows,\n",
    "    metric,\n",
    "    index,\n",
    "):\n",
    "    print(f\"[SUBR{index:02d}] starting subprocess {index:02d}\")\n",
    "    r = redis.Redis(host=\"localhost\", port=6379, db=0, decode_responses=True)\n",
    "    best_matches = []\n",
    "    progress = Progress(\n",
    "        SpinnerColumn(),\n",
    "        *Progress.get_default_columns(),\n",
    "        TimeElapsedColumn(),\n",
    "        MofNCompleteColumn(),\n",
    "        refresh_per_second=1,\n",
    "    )\n",
    "    sim_task = progress.add_task(\n",
    "        f\"[SUBR{index:02d}] calculating sims\", total=len(rows) * len(all_rows)\n",
    "    )\n",
    "\n",
    "    with progress:\n",
    "        for i, row_file in enumerate(rows):\n",
    "            print(\n",
    "                f\"[SUBR{index:02d}] {i:04d}/{len(rows):04d} calculating sims for file {row_file}\"\n",
    "            )\n",
    "            track_name_row, segment_name_row, _ = row_file.split(\"_\")\n",
    "            \n",
    "            # Get the main metric for the current row\n",
    "            main_metric = np.array(list(map(float, r.get(f\"{metric}:{track_name_row}_{segment_name_row}:t00s00\").decode().split(\",\"))))\n",
    "            \n",
    "            # Prepare arrays for all comparisons\n",
    "            all_metrics = np.zeros((len(all_rows), N_TRANSPOSITIONS, len(main_metric)))\n",
    "            for j, col_file in enumerate(all_rows):\n",
    "                track_name_col, segment_name_col, _ = col_file.split(\"_\")\n",
    "                for t in range(N_TRANSPOSITIONS):\n",
    "                    all_metrics[j, t] = np.array(list(map(float, r.get(f\"{metric}:{track_name_col}_{segment_name_col}:t{t:02d}s00\").decode().split(\",\"))))\n",
    "            \n",
    "            # Calculate similarities for all transpositions at once\n",
    "            similarities = np.einsum('i,jki->jk', main_metric, all_metrics) / (\n",
    "                np.linalg.norm(main_metric) * np.linalg.norm(all_metrics, axis=2)\n",
    "            )\n",
    "            \n",
    "            # Find best similarities and corresponding transpositions\n",
    "            best_similarities = np.max(similarities, axis=1)\n",
    "            best_transpositions = np.argmax(similarities, axis=1)\n",
    "            \n",
    "            for j, (col_file, sim, trans) in enumerate(zip(all_rows, best_similarities, best_transpositions)):\n",
    "                if col_file == row_file:\n",
    "                    value = {\n",
    "                        \"sim\": 1.0,\n",
    "                        \"mutations\": {\"transpose\": 0, \"shift\": 0},\n",
    "                        \"row_file\": row_file,\n",
    "                        \"col_file\": col_file,\n",
    "                        \"metric\": metric,\n",
    "                    }\n",
    "                else:\n",
    "                    value = {\n",
    "                        \"sim\": sim,\n",
    "                        \"mutations\": {\"transpose\": int(trans), \"shift\": 0},\n",
    "                        \"row_file\": row_file,\n",
    "                        \"col_file\": col_file,\n",
    "                        \"metric\": metric,\n",
    "                    }\n",
    "\n",
    "                # Update row file object\n",
    "                best_matches = update_best_match(\n",
    "                    r,\n",
    "                    f\"file:{row_file}\",\n",
    "                    track_name_row,\n",
    "                    col_file,\n",
    "                    value[\"sim\"],\n",
    "                    metric,\n",
    "                )\n",
    "                progress.advance(sim_task)\n",
    "\n",
    "    print(f\"[SUBR{index:02d}] subprocess complete\")\n",
    "    return best_matches"
   ]
  },
  {
   "cell_type": "markdown",
   "metadata": {},
   "source": [
    "## init"
   ]
  },
  {
   "cell_type": "code",
   "execution_count": 24,
   "metadata": {},
   "outputs": [],
   "source": [
    "P_DATASET = \"../data/datasets/test/train\"\n",
    "METRIC = \"pitch_histogram\"\n",
    "N_BEATS = 8\n",
    "N_TRANSPOSITIONS = 12\n",
    "\n",
    "names = [name[:-4] for name in os.listdir(P_DATASET) if name.endswith(\".mid\")]\n",
    "names.sort()\n",
    "\n",
    "num_processes = os.cpu_count()\n",
    "split_keys = np.array_split(names, num_processes)  # type: ignore\n",
    "mod_table = list(product(range(N_TRANSPOSITIONS), range(N_BEATS)))\n",
    "r = redis.Redis(host=\"localhost\", port=6379, db=0)"
   ]
  },
  {
   "cell_type": "markdown",
   "metadata": {},
   "source": [
    "## run"
   ]
  },
  {
   "cell_type": "code",
   "execution_count": 25,
   "metadata": {},
   "outputs": [
    {
     "data": {
      "application/vnd.jupyter.widget-view+json": {
       "model_id": "73d68d722a8d46e3836792432ff18b62",
       "version_major": 2,
       "version_minor": 0
      },
      "text/plain": [
       "Output()"
      ]
     },
     "metadata": {},
     "output_type": "display_data"
    },
    {
     "data": {
      "text/html": [
       "<pre style=\"white-space:pre;overflow-x:auto;line-height:normal;font-family:Menlo,'DejaVu Sans Mono',consolas,'Courier New',monospace\">[SUBR00] 0000/1040 calculating sims for file 20231220-080-01_0155-0161_t00s00\n",
       "</pre>\n"
      ],
      "text/plain": [
       "[SUBR00] 0000/1040 calculating sims for file 20231220-080-01_0155-0161_t00s00\n"
      ]
     },
     "metadata": {},
     "output_type": "display_data"
    },
    {
     "name": "stdout",
     "output_type": "stream",
     "text": [
      "[SUBR00] starting subprocess 00\n"
     ]
    },
    {
     "data": {
      "text/html": [
       "<pre style=\"white-space:pre;overflow-x:auto;line-height:normal;font-family:Menlo,'DejaVu Sans Mono',consolas,'Courier New',monospace\">[SUBR00] 0001/1040 calculating sims for file 20231220-080-01_0155-0161_t00s01\n",
       "</pre>\n"
      ],
      "text/plain": [
       "[SUBR00] 0001/1040 calculating sims for file 20231220-080-01_0155-0161_t00s01\n"
      ]
     },
     "metadata": {},
     "output_type": "display_data"
    },
    {
     "data": {
      "text/html": [
       "<pre style=\"white-space:pre;overflow-x:auto;line-height:normal;font-family:Menlo,'DejaVu Sans Mono',consolas,'Courier New',monospace\">[SUBR00] 0002/1040 calculating sims for file 20231220-080-01_0155-0161_t00s02\n",
       "</pre>\n"
      ],
      "text/plain": [
       "[SUBR00] 0002/1040 calculating sims for file 20231220-080-01_0155-0161_t00s02\n"
      ]
     },
     "metadata": {},
     "output_type": "display_data"
    },
    {
     "data": {
      "text/html": [
       "<pre style=\"white-space:pre;overflow-x:auto;line-height:normal;font-family:Menlo,'DejaVu Sans Mono',consolas,'Courier New',monospace\">[SUBR00] 0003/1040 calculating sims for file 20231220-080-01_0155-0161_t00s03\n",
       "</pre>\n"
      ],
      "text/plain": [
       "[SUBR00] 0003/1040 calculating sims for file 20231220-080-01_0155-0161_t00s03\n"
      ]
     },
     "metadata": {},
     "output_type": "display_data"
    },
    {
     "data": {
      "text/html": [
       "<pre style=\"white-space:pre;overflow-x:auto;line-height:normal;font-family:Menlo,'DejaVu Sans Mono',consolas,'Courier New',monospace\">[SUBR00] 0004/1040 calculating sims for file 20231220-080-01_0155-0161_t00s04\n",
       "</pre>\n"
      ],
      "text/plain": [
       "[SUBR00] 0004/1040 calculating sims for file 20231220-080-01_0155-0161_t00s04\n"
      ]
     },
     "metadata": {},
     "output_type": "display_data"
    },
    {
     "data": {
      "text/html": [
       "<pre style=\"white-space:pre;overflow-x:auto;line-height:normal;font-family:Menlo,'DejaVu Sans Mono',consolas,'Courier New',monospace\">[SUBR00] 0005/1040 calculating sims for file 20231220-080-01_0155-0161_t00s05\n",
       "</pre>\n"
      ],
      "text/plain": [
       "[SUBR00] 0005/1040 calculating sims for file 20231220-080-01_0155-0161_t00s05\n"
      ]
     },
     "metadata": {},
     "output_type": "display_data"
    },
    {
     "data": {
      "text/html": [
       "<pre style=\"white-space:pre;overflow-x:auto;line-height:normal;font-family:Menlo,'DejaVu Sans Mono',consolas,'Courier New',monospace\">[SUBR00] 0006/1040 calculating sims for file 20231220-080-01_0155-0161_t00s06\n",
       "</pre>\n"
      ],
      "text/plain": [
       "[SUBR00] 0006/1040 calculating sims for file 20231220-080-01_0155-0161_t00s06\n"
      ]
     },
     "metadata": {},
     "output_type": "display_data"
    },
    {
     "data": {
      "text/html": [
       "<pre style=\"white-space:pre;overflow-x:auto;line-height:normal;font-family:Menlo,'DejaVu Sans Mono',consolas,'Courier New',monospace\">[SUBR00] 0007/1040 calculating sims for file 20231220-080-01_0155-0161_t00s07\n",
       "</pre>\n"
      ],
      "text/plain": [
       "[SUBR00] 0007/1040 calculating sims for file 20231220-080-01_0155-0161_t00s07\n"
      ]
     },
     "metadata": {},
     "output_type": "display_data"
    },
    {
     "data": {
      "text/html": [
       "<pre style=\"white-space:pre;overflow-x:auto;line-height:normal;font-family:Menlo,'DejaVu Sans Mono',consolas,'Courier New',monospace\">[SUBR00] 0008/1040 calculating sims for file 20231220-080-01_0155-0161_t01s00\n",
       "</pre>\n"
      ],
      "text/plain": [
       "[SUBR00] 0008/1040 calculating sims for file 20231220-080-01_0155-0161_t01s00\n"
      ]
     },
     "metadata": {},
     "output_type": "display_data"
    },
    {
     "data": {
      "text/html": [
       "<pre style=\"white-space:pre;overflow-x:auto;line-height:normal;font-family:Menlo,'DejaVu Sans Mono',consolas,'Courier New',monospace\">[SUBR00] 0009/1040 calculating sims for file 20231220-080-01_0155-0161_t01s01\n",
       "</pre>\n"
      ],
      "text/plain": [
       "[SUBR00] 0009/1040 calculating sims for file 20231220-080-01_0155-0161_t01s01\n"
      ]
     },
     "metadata": {},
     "output_type": "display_data"
    },
    {
     "data": {
      "text/html": [
       "<pre style=\"white-space:pre;overflow-x:auto;line-height:normal;font-family:Menlo,'DejaVu Sans Mono',consolas,'Courier New',monospace\">[SUBR00] 0010/1040 calculating sims for file 20231220-080-01_0155-0161_t01s02\n",
       "</pre>\n"
      ],
      "text/plain": [
       "[SUBR00] 0010/1040 calculating sims for file 20231220-080-01_0155-0161_t01s02\n"
      ]
     },
     "metadata": {},
     "output_type": "display_data"
    },
    {
     "data": {
      "text/html": [
       "<pre style=\"white-space:pre;overflow-x:auto;line-height:normal;font-family:Menlo,'DejaVu Sans Mono',consolas,'Courier New',monospace\">[SUBR00] 0011/1040 calculating sims for file 20231220-080-01_0155-0161_t01s03\n",
       "</pre>\n"
      ],
      "text/plain": [
       "[SUBR00] 0011/1040 calculating sims for file 20231220-080-01_0155-0161_t01s03\n"
      ]
     },
     "metadata": {},
     "output_type": "display_data"
    },
    {
     "data": {
      "text/html": [
       "<pre style=\"white-space:pre;overflow-x:auto;line-height:normal;font-family:Menlo,'DejaVu Sans Mono',consolas,'Courier New',monospace\">[SUBR00] 0012/1040 calculating sims for file 20231220-080-01_0155-0161_t01s04\n",
       "</pre>\n"
      ],
      "text/plain": [
       "[SUBR00] 0012/1040 calculating sims for file 20231220-080-01_0155-0161_t01s04\n"
      ]
     },
     "metadata": {},
     "output_type": "display_data"
    },
    {
     "data": {
      "text/html": [
       "<pre style=\"white-space:pre;overflow-x:auto;line-height:normal;font-family:Menlo,'DejaVu Sans Mono',consolas,'Courier New',monospace\">[SUBR00] 0013/1040 calculating sims for file 20231220-080-01_0155-0161_t01s05\n",
       "</pre>\n"
      ],
      "text/plain": [
       "[SUBR00] 0013/1040 calculating sims for file 20231220-080-01_0155-0161_t01s05\n"
      ]
     },
     "metadata": {},
     "output_type": "display_data"
    },
    {
     "data": {
      "text/html": [
       "<pre style=\"white-space:pre;overflow-x:auto;line-height:normal;font-family:Menlo,'DejaVu Sans Mono',consolas,'Courier New',monospace\">[SUBR00] 0014/1040 calculating sims for file 20231220-080-01_0155-0161_t01s06\n",
       "</pre>\n"
      ],
      "text/plain": [
       "[SUBR00] 0014/1040 calculating sims for file 20231220-080-01_0155-0161_t01s06\n"
      ]
     },
     "metadata": {},
     "output_type": "display_data"
    },
    {
     "data": {
      "text/html": [
       "<pre style=\"white-space:pre;overflow-x:auto;line-height:normal;font-family:Menlo,'DejaVu Sans Mono',consolas,'Courier New',monospace\">[SUBR00] 0015/1040 calculating sims for file 20231220-080-01_0155-0161_t01s07\n",
       "</pre>\n"
      ],
      "text/plain": [
       "[SUBR00] 0015/1040 calculating sims for file 20231220-080-01_0155-0161_t01s07\n"
      ]
     },
     "metadata": {},
     "output_type": "display_data"
    },
    {
     "data": {
      "text/html": [
       "<pre style=\"white-space:pre;overflow-x:auto;line-height:normal;font-family:Menlo,'DejaVu Sans Mono',consolas,'Courier New',monospace\">[SUBR00] 0016/1040 calculating sims for file 20231220-080-01_0155-0161_t02s00\n",
       "</pre>\n"
      ],
      "text/plain": [
       "[SUBR00] 0016/1040 calculating sims for file 20231220-080-01_0155-0161_t02s00\n"
      ]
     },
     "metadata": {},
     "output_type": "display_data"
    },
    {
     "data": {
      "text/html": [
       "<pre style=\"white-space:pre;overflow-x:auto;line-height:normal;font-family:Menlo,'DejaVu Sans Mono',consolas,'Courier New',monospace\">[SUBR00] 0017/1040 calculating sims for file 20231220-080-01_0155-0161_t02s01\n",
       "</pre>\n"
      ],
      "text/plain": [
       "[SUBR00] 0017/1040 calculating sims for file 20231220-080-01_0155-0161_t02s01\n"
      ]
     },
     "metadata": {},
     "output_type": "display_data"
    },
    {
     "data": {
      "text/html": [
       "<pre style=\"white-space:pre;overflow-x:auto;line-height:normal;font-family:Menlo,'DejaVu Sans Mono',consolas,'Courier New',monospace\">[SUBR00] 0018/1040 calculating sims for file 20231220-080-01_0155-0161_t02s02\n",
       "</pre>\n"
      ],
      "text/plain": [
       "[SUBR00] 0018/1040 calculating sims for file 20231220-080-01_0155-0161_t02s02\n"
      ]
     },
     "metadata": {},
     "output_type": "display_data"
    },
    {
     "data": {
      "text/html": [
       "<pre style=\"white-space:pre;overflow-x:auto;line-height:normal;font-family:Menlo,'DejaVu Sans Mono',consolas,'Courier New',monospace\">[SUBR00] 0019/1040 calculating sims for file 20231220-080-01_0155-0161_t02s03\n",
       "</pre>\n"
      ],
      "text/plain": [
       "[SUBR00] 0019/1040 calculating sims for file 20231220-080-01_0155-0161_t02s03\n"
      ]
     },
     "metadata": {},
     "output_type": "display_data"
    },
    {
     "data": {
      "text/html": [
       "<pre style=\"white-space:pre;overflow-x:auto;line-height:normal;font-family:Menlo,'DejaVu Sans Mono',consolas,'Courier New',monospace\">[SUBR00] 0020/1040 calculating sims for file 20231220-080-01_0155-0161_t02s04\n",
       "</pre>\n"
      ],
      "text/plain": [
       "[SUBR00] 0020/1040 calculating sims for file 20231220-080-01_0155-0161_t02s04\n"
      ]
     },
     "metadata": {},
     "output_type": "display_data"
    },
    {
     "data": {
      "text/html": [
       "<pre style=\"white-space:pre;overflow-x:auto;line-height:normal;font-family:Menlo,'DejaVu Sans Mono',consolas,'Courier New',monospace\">[SUBR00] 0021/1040 calculating sims for file 20231220-080-01_0155-0161_t02s05\n",
       "</pre>\n"
      ],
      "text/plain": [
       "[SUBR00] 0021/1040 calculating sims for file 20231220-080-01_0155-0161_t02s05\n"
      ]
     },
     "metadata": {},
     "output_type": "display_data"
    },
    {
     "data": {
      "text/html": [
       "<pre style=\"white-space:pre;overflow-x:auto;line-height:normal;font-family:Menlo,'DejaVu Sans Mono',consolas,'Courier New',monospace\">[SUBR00] 0022/1040 calculating sims for file 20231220-080-01_0155-0161_t02s06\n",
       "</pre>\n"
      ],
      "text/plain": [
       "[SUBR00] 0022/1040 calculating sims for file 20231220-080-01_0155-0161_t02s06\n"
      ]
     },
     "metadata": {},
     "output_type": "display_data"
    },
    {
     "data": {
      "text/html": [
       "<pre style=\"white-space:pre;overflow-x:auto;line-height:normal;font-family:Menlo,'DejaVu Sans Mono',consolas,'Courier New',monospace\">[SUBR00] 0023/1040 calculating sims for file 20231220-080-01_0155-0161_t02s07\n",
       "</pre>\n"
      ],
      "text/plain": [
       "[SUBR00] 0023/1040 calculating sims for file 20231220-080-01_0155-0161_t02s07\n"
      ]
     },
     "metadata": {},
     "output_type": "display_data"
    },
    {
     "data": {
      "text/html": [
       "<pre style=\"white-space:pre;overflow-x:auto;line-height:normal;font-family:Menlo,'DejaVu Sans Mono',consolas,'Courier New',monospace\">[SUBR00] 0024/1040 calculating sims for file 20231220-080-01_0155-0161_t03s00\n",
       "</pre>\n"
      ],
      "text/plain": [
       "[SUBR00] 0024/1040 calculating sims for file 20231220-080-01_0155-0161_t03s00\n"
      ]
     },
     "metadata": {},
     "output_type": "display_data"
    },
    {
     "data": {
      "text/html": [
       "<pre style=\"white-space:pre;overflow-x:auto;line-height:normal;font-family:Menlo,'DejaVu Sans Mono',consolas,'Courier New',monospace\">[SUBR00] 0025/1040 calculating sims for file 20231220-080-01_0155-0161_t03s01\n",
       "</pre>\n"
      ],
      "text/plain": [
       "[SUBR00] 0025/1040 calculating sims for file 20231220-080-01_0155-0161_t03s01\n"
      ]
     },
     "metadata": {},
     "output_type": "display_data"
    },
    {
     "data": {
      "text/html": [
       "<pre style=\"white-space:pre;overflow-x:auto;line-height:normal;font-family:Menlo,'DejaVu Sans Mono',consolas,'Courier New',monospace\">[SUBR00] 0026/1040 calculating sims for file 20231220-080-01_0155-0161_t03s02\n",
       "</pre>\n"
      ],
      "text/plain": [
       "[SUBR00] 0026/1040 calculating sims for file 20231220-080-01_0155-0161_t03s02\n"
      ]
     },
     "metadata": {},
     "output_type": "display_data"
    },
    {
     "data": {
      "text/html": [
       "<pre style=\"white-space:pre;overflow-x:auto;line-height:normal;font-family:Menlo,'DejaVu Sans Mono',consolas,'Courier New',monospace\">[SUBR00] 0027/1040 calculating sims for file 20231220-080-01_0155-0161_t03s03\n",
       "</pre>\n"
      ],
      "text/plain": [
       "[SUBR00] 0027/1040 calculating sims for file 20231220-080-01_0155-0161_t03s03\n"
      ]
     },
     "metadata": {},
     "output_type": "display_data"
    },
    {
     "data": {
      "text/html": [
       "<pre style=\"white-space:pre;overflow-x:auto;line-height:normal;font-family:Menlo,'DejaVu Sans Mono',consolas,'Courier New',monospace\">[SUBR00] 0028/1040 calculating sims for file 20231220-080-01_0155-0161_t03s04\n",
       "</pre>\n"
      ],
      "text/plain": [
       "[SUBR00] 0028/1040 calculating sims for file 20231220-080-01_0155-0161_t03s04\n"
      ]
     },
     "metadata": {},
     "output_type": "display_data"
    },
    {
     "data": {
      "text/html": [
       "<pre style=\"white-space:pre;overflow-x:auto;line-height:normal;font-family:Menlo,'DejaVu Sans Mono',consolas,'Courier New',monospace\">[SUBR00] 0029/1040 calculating sims for file 20231220-080-01_0155-0161_t03s05\n",
       "</pre>\n"
      ],
      "text/plain": [
       "[SUBR00] 0029/1040 calculating sims for file 20231220-080-01_0155-0161_t03s05\n"
      ]
     },
     "metadata": {},
     "output_type": "display_data"
    },
    {
     "data": {
      "text/html": [
       "<pre style=\"white-space:pre;overflow-x:auto;line-height:normal;font-family:Menlo,'DejaVu Sans Mono',consolas,'Courier New',monospace\">[SUBR00] 0030/1040 calculating sims for file 20231220-080-01_0155-0161_t03s06\n",
       "</pre>\n"
      ],
      "text/plain": [
       "[SUBR00] 0030/1040 calculating sims for file 20231220-080-01_0155-0161_t03s06\n"
      ]
     },
     "metadata": {},
     "output_type": "display_data"
    },
    {
     "data": {
      "text/html": [
       "<pre style=\"white-space:pre;overflow-x:auto;line-height:normal;font-family:Menlo,'DejaVu Sans Mono',consolas,'Courier New',monospace\">[SUBR00] 0031/1040 calculating sims for file 20231220-080-01_0155-0161_t03s07\n",
       "</pre>\n"
      ],
      "text/plain": [
       "[SUBR00] 0031/1040 calculating sims for file 20231220-080-01_0155-0161_t03s07\n"
      ]
     },
     "metadata": {},
     "output_type": "display_data"
    },
    {
     "data": {
      "text/html": [
       "<pre style=\"white-space:pre;overflow-x:auto;line-height:normal;font-family:Menlo,'DejaVu Sans Mono',consolas,'Courier New',monospace\">[SUBR00] 0032/1040 calculating sims for file 20231220-080-01_0155-0161_t04s00\n",
       "</pre>\n"
      ],
      "text/plain": [
       "[SUBR00] 0032/1040 calculating sims for file 20231220-080-01_0155-0161_t04s00\n"
      ]
     },
     "metadata": {},
     "output_type": "display_data"
    },
    {
     "data": {
      "text/html": [
       "<pre style=\"white-space:pre;overflow-x:auto;line-height:normal;font-family:Menlo,'DejaVu Sans Mono',consolas,'Courier New',monospace\">[SUBR00] 0033/1040 calculating sims for file 20231220-080-01_0155-0161_t04s01\n",
       "</pre>\n"
      ],
      "text/plain": [
       "[SUBR00] 0033/1040 calculating sims for file 20231220-080-01_0155-0161_t04s01\n"
      ]
     },
     "metadata": {},
     "output_type": "display_data"
    },
    {
     "data": {
      "text/html": [
       "<pre style=\"white-space:pre;overflow-x:auto;line-height:normal;font-family:Menlo,'DejaVu Sans Mono',consolas,'Courier New',monospace\">[SUBR00] 0034/1040 calculating sims for file 20231220-080-01_0155-0161_t04s02\n",
       "</pre>\n"
      ],
      "text/plain": [
       "[SUBR00] 0034/1040 calculating sims for file 20231220-080-01_0155-0161_t04s02\n"
      ]
     },
     "metadata": {},
     "output_type": "display_data"
    },
    {
     "data": {
      "text/html": [
       "<pre style=\"white-space:pre;overflow-x:auto;line-height:normal;font-family:Menlo,'DejaVu Sans Mono',consolas,'Courier New',monospace\">[SUBR00] 0035/1040 calculating sims for file 20231220-080-01_0155-0161_t04s03\n",
       "</pre>\n"
      ],
      "text/plain": [
       "[SUBR00] 0035/1040 calculating sims for file 20231220-080-01_0155-0161_t04s03\n"
      ]
     },
     "metadata": {},
     "output_type": "display_data"
    },
    {
     "data": {
      "text/html": [
       "<pre style=\"white-space:pre;overflow-x:auto;line-height:normal;font-family:Menlo,'DejaVu Sans Mono',consolas,'Courier New',monospace\">[SUBR00] 0036/1040 calculating sims for file 20231220-080-01_0155-0161_t04s04\n",
       "</pre>\n"
      ],
      "text/plain": [
       "[SUBR00] 0036/1040 calculating sims for file 20231220-080-01_0155-0161_t04s04\n"
      ]
     },
     "metadata": {},
     "output_type": "display_data"
    },
    {
     "data": {
      "text/html": [
       "<pre style=\"white-space:pre;overflow-x:auto;line-height:normal;font-family:Menlo,'DejaVu Sans Mono',consolas,'Courier New',monospace\">[SUBR00] 0037/1040 calculating sims for file 20231220-080-01_0155-0161_t04s05\n",
       "</pre>\n"
      ],
      "text/plain": [
       "[SUBR00] 0037/1040 calculating sims for file 20231220-080-01_0155-0161_t04s05\n"
      ]
     },
     "metadata": {},
     "output_type": "display_data"
    },
    {
     "data": {
      "text/html": [
       "<pre style=\"white-space:pre;overflow-x:auto;line-height:normal;font-family:Menlo,'DejaVu Sans Mono',consolas,'Courier New',monospace\">[SUBR00] 0038/1040 calculating sims for file 20231220-080-01_0155-0161_t04s06\n",
       "</pre>\n"
      ],
      "text/plain": [
       "[SUBR00] 0038/1040 calculating sims for file 20231220-080-01_0155-0161_t04s06\n"
      ]
     },
     "metadata": {},
     "output_type": "display_data"
    },
    {
     "data": {
      "text/html": [
       "<pre style=\"white-space:pre;overflow-x:auto;line-height:normal;font-family:Menlo,'DejaVu Sans Mono',consolas,'Courier New',monospace\">[SUBR00] 0039/1040 calculating sims for file 20231220-080-01_0155-0161_t04s07\n",
       "</pre>\n"
      ],
      "text/plain": [
       "[SUBR00] 0039/1040 calculating sims for file 20231220-080-01_0155-0161_t04s07\n"
      ]
     },
     "metadata": {},
     "output_type": "display_data"
    },
    {
     "data": {
      "text/html": [
       "<pre style=\"white-space:pre;overflow-x:auto;line-height:normal;font-family:Menlo,'DejaVu Sans Mono',consolas,'Courier New',monospace\">[SUBR00] 0040/1040 calculating sims for file 20231220-080-01_0155-0161_t05s00\n",
       "</pre>\n"
      ],
      "text/plain": [
       "[SUBR00] 0040/1040 calculating sims for file 20231220-080-01_0155-0161_t05s00\n"
      ]
     },
     "metadata": {},
     "output_type": "display_data"
    },
    {
     "data": {
      "text/html": [
       "<pre style=\"white-space:pre;overflow-x:auto;line-height:normal;font-family:Menlo,'DejaVu Sans Mono',consolas,'Courier New',monospace\">[SUBR00] 0041/1040 calculating sims for file 20231220-080-01_0155-0161_t05s01\n",
       "</pre>\n"
      ],
      "text/plain": [
       "[SUBR00] 0041/1040 calculating sims for file 20231220-080-01_0155-0161_t05s01\n"
      ]
     },
     "metadata": {},
     "output_type": "display_data"
    },
    {
     "data": {
      "text/html": [
       "<pre style=\"white-space:pre;overflow-x:auto;line-height:normal;font-family:Menlo,'DejaVu Sans Mono',consolas,'Courier New',monospace\">[SUBR00] 0042/1040 calculating sims for file 20231220-080-01_0155-0161_t05s02\n",
       "</pre>\n"
      ],
      "text/plain": [
       "[SUBR00] 0042/1040 calculating sims for file 20231220-080-01_0155-0161_t05s02\n"
      ]
     },
     "metadata": {},
     "output_type": "display_data"
    },
    {
     "data": {
      "text/html": [
       "<pre style=\"white-space:pre;overflow-x:auto;line-height:normal;font-family:Menlo,'DejaVu Sans Mono',consolas,'Courier New',monospace\">[SUBR00] 0043/1040 calculating sims for file 20231220-080-01_0155-0161_t05s03\n",
       "</pre>\n"
      ],
      "text/plain": [
       "[SUBR00] 0043/1040 calculating sims for file 20231220-080-01_0155-0161_t05s03\n"
      ]
     },
     "metadata": {},
     "output_type": "display_data"
    },
    {
     "data": {
      "text/html": [
       "<pre style=\"white-space:pre;overflow-x:auto;line-height:normal;font-family:Menlo,'DejaVu Sans Mono',consolas,'Courier New',monospace\">[SUBR00] 0044/1040 calculating sims for file 20231220-080-01_0155-0161_t05s04\n",
       "</pre>\n"
      ],
      "text/plain": [
       "[SUBR00] 0044/1040 calculating sims for file 20231220-080-01_0155-0161_t05s04\n"
      ]
     },
     "metadata": {},
     "output_type": "display_data"
    },
    {
     "data": {
      "text/html": [
       "<pre style=\"white-space:pre;overflow-x:auto;line-height:normal;font-family:Menlo,'DejaVu Sans Mono',consolas,'Courier New',monospace\">[SUBR00] 0045/1040 calculating sims for file 20231220-080-01_0155-0161_t05s05\n",
       "</pre>\n"
      ],
      "text/plain": [
       "[SUBR00] 0045/1040 calculating sims for file 20231220-080-01_0155-0161_t05s05\n"
      ]
     },
     "metadata": {},
     "output_type": "display_data"
    },
    {
     "data": {
      "text/html": [
       "<pre style=\"white-space:pre;overflow-x:auto;line-height:normal;font-family:Menlo,'DejaVu Sans Mono',consolas,'Courier New',monospace\">[SUBR00] 0046/1040 calculating sims for file 20231220-080-01_0155-0161_t05s06\n",
       "</pre>\n"
      ],
      "text/plain": [
       "[SUBR00] 0046/1040 calculating sims for file 20231220-080-01_0155-0161_t05s06\n"
      ]
     },
     "metadata": {},
     "output_type": "display_data"
    },
    {
     "data": {
      "text/html": [
       "<pre style=\"white-space:pre;overflow-x:auto;line-height:normal;font-family:Menlo,'DejaVu Sans Mono',consolas,'Courier New',monospace\">[SUBR00] 0047/1040 calculating sims for file 20231220-080-01_0155-0161_t05s07\n",
       "</pre>\n"
      ],
      "text/plain": [
       "[SUBR00] 0047/1040 calculating sims for file 20231220-080-01_0155-0161_t05s07\n"
      ]
     },
     "metadata": {},
     "output_type": "display_data"
    },
    {
     "data": {
      "text/html": [
       "<pre style=\"white-space:pre;overflow-x:auto;line-height:normal;font-family:Menlo,'DejaVu Sans Mono',consolas,'Courier New',monospace\">[SUBR00] 0048/1040 calculating sims for file 20231220-080-01_0155-0161_t06s00\n",
       "</pre>\n"
      ],
      "text/plain": [
       "[SUBR00] 0048/1040 calculating sims for file 20231220-080-01_0155-0161_t06s00\n"
      ]
     },
     "metadata": {},
     "output_type": "display_data"
    },
    {
     "data": {
      "text/html": [
       "<pre style=\"white-space:pre;overflow-x:auto;line-height:normal;font-family:Menlo,'DejaVu Sans Mono',consolas,'Courier New',monospace\">[SUBR00] 0049/1040 calculating sims for file 20231220-080-01_0155-0161_t06s01\n",
       "</pre>\n"
      ],
      "text/plain": [
       "[SUBR00] 0049/1040 calculating sims for file 20231220-080-01_0155-0161_t06s01\n"
      ]
     },
     "metadata": {},
     "output_type": "display_data"
    },
    {
     "data": {
      "text/html": [
       "<pre style=\"white-space:pre;overflow-x:auto;line-height:normal;font-family:Menlo,'DejaVu Sans Mono',consolas,'Courier New',monospace\">[SUBR00] 0050/1040 calculating sims for file 20231220-080-01_0155-0161_t06s02\n",
       "</pre>\n"
      ],
      "text/plain": [
       "[SUBR00] 0050/1040 calculating sims for file 20231220-080-01_0155-0161_t06s02\n"
      ]
     },
     "metadata": {},
     "output_type": "display_data"
    },
    {
     "data": {
      "text/html": [
       "<pre style=\"white-space:pre;overflow-x:auto;line-height:normal;font-family:Menlo,'DejaVu Sans Mono',consolas,'Courier New',monospace\">[SUBR00] 0051/1040 calculating sims for file 20231220-080-01_0155-0161_t06s03\n",
       "</pre>\n"
      ],
      "text/plain": [
       "[SUBR00] 0051/1040 calculating sims for file 20231220-080-01_0155-0161_t06s03\n"
      ]
     },
     "metadata": {},
     "output_type": "display_data"
    },
    {
     "data": {
      "text/html": [
       "<pre style=\"white-space:pre;overflow-x:auto;line-height:normal;font-family:Menlo,'DejaVu Sans Mono',consolas,'Courier New',monospace\">[SUBR00] 0052/1040 calculating sims for file 20231220-080-01_0155-0161_t06s04\n",
       "</pre>\n"
      ],
      "text/plain": [
       "[SUBR00] 0052/1040 calculating sims for file 20231220-080-01_0155-0161_t06s04\n"
      ]
     },
     "metadata": {},
     "output_type": "display_data"
    },
    {
     "data": {
      "text/html": [
       "<pre style=\"white-space:pre;overflow-x:auto;line-height:normal;font-family:Menlo,'DejaVu Sans Mono',consolas,'Courier New',monospace\">[SUBR00] 0053/1040 calculating sims for file 20231220-080-01_0155-0161_t06s05\n",
       "</pre>\n"
      ],
      "text/plain": [
       "[SUBR00] 0053/1040 calculating sims for file 20231220-080-01_0155-0161_t06s05\n"
      ]
     },
     "metadata": {},
     "output_type": "display_data"
    },
    {
     "data": {
      "text/html": [
       "<pre style=\"white-space:pre;overflow-x:auto;line-height:normal;font-family:Menlo,'DejaVu Sans Mono',consolas,'Courier New',monospace\">[SUBR00] 0054/1040 calculating sims for file 20231220-080-01_0155-0161_t06s06\n",
       "</pre>\n"
      ],
      "text/plain": [
       "[SUBR00] 0054/1040 calculating sims for file 20231220-080-01_0155-0161_t06s06\n"
      ]
     },
     "metadata": {},
     "output_type": "display_data"
    },
    {
     "data": {
      "text/html": [
       "<pre style=\"white-space:pre;overflow-x:auto;line-height:normal;font-family:Menlo,'DejaVu Sans Mono',consolas,'Courier New',monospace\">[SUBR00] 0055/1040 calculating sims for file 20231220-080-01_0155-0161_t06s07\n",
       "</pre>\n"
      ],
      "text/plain": [
       "[SUBR00] 0055/1040 calculating sims for file 20231220-080-01_0155-0161_t06s07\n"
      ]
     },
     "metadata": {},
     "output_type": "display_data"
    }
   ],
   "source": [
    "import time\n",
    "\n",
    "start_time = time.time()\n",
    "calc_sims_vectorized(split_keys[0], names, METRIC, 0)\n",
    "end_time = time.time()\n",
    "\n",
    "execution_time = end_time - start_time\n",
    "print(f\"Execution time: {execution_time:.2f} seconds\")"
   ]
  }
 ],
 "metadata": {
  "kernelspec": {
   "display_name": ".venv",
   "language": "python",
   "name": "python3"
  },
  "language_info": {
   "codemirror_mode": {
    "name": "ipython",
    "version": 3
   },
   "file_extension": ".py",
   "mimetype": "text/x-python",
   "name": "python",
   "nbconvert_exporter": "python",
   "pygments_lexer": "ipython3",
   "version": "3.12.2"
  }
 },
 "nbformat": 4,
 "nbformat_minor": 2
}
