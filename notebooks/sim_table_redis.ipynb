{
 "cells": [
  {
   "cell_type": "markdown",
   "metadata": {},
   "source": [
    "## imports\n"
   ]
  },
  {
   "cell_type": "code",
   "execution_count": 1,
   "metadata": {},
   "outputs": [],
   "source": [
    "import sys\n",
    "import os\n",
    "\n",
    "# add the parent directory to the system path\n",
    "sys.path.append(os.path.abspath(os.path.join(os.getcwd(), \"..\")))"
   ]
  },
  {
   "cell_type": "code",
   "execution_count": 2,
   "metadata": {},
   "outputs": [],
   "source": [
    "from pathlib import Path\n",
    "import json\n",
    "import numpy as np\n",
    "from rich.progress import (\n",
    "    Progress,\n",
    "    SpinnerColumn,\n",
    "    TimeElapsedColumn,\n",
    "    MofNCompleteColumn,\n",
    ")\n",
    "import pretty_midi\n",
    "import redis\n",
    "from concurrent.futures import ProcessPoolExecutor, as_completed\n",
    "\n",
    "from utils.metrics import blur_pr, energy, contour"
   ]
  },
  {
   "cell_type": "markdown",
   "metadata": {},
   "source": [
    "## functions"
   ]
  },
  {
   "cell_type": "code",
   "execution_count": 3,
   "metadata": {},
   "outputs": [],
   "source": [
    "def update_best_matches(\n",
    "    redis_client: redis.Redis, key, track_name_row, file_bm, sim_bm, metric\n",
    "):\n",
    "    \"\"\"\n",
    "    Update the pitch histogram in the Redis database based on the given criteria.\n",
    "    TODO: better variable names\n",
    "\n",
    "    Args:\n",
    "        redis_client: Redis client object.\n",
    "        key (str): The key to access the pitch histogram in Redis.\n",
    "        track_name_row (str): The string to be compared with the substring before the underscore.\n",
    "        file_bm (str): The filename to be inserted.\n",
    "        sim_bm (float): The similarity value associated with the filename.\n",
    "        metric (str): The metric to update.\n",
    "    \"\"\"\n",
    "\n",
    "    def extract_track_name(filename: str):\n",
    "        return filename.split(\"_\")[0]\n",
    "\n",
    "    def format_entry(filename, sim):\n",
    "        return f\"{filename}@{sim}\"\n",
    "\n",
    "    # get the current list from Redis\n",
    "    # TODO: handle this nested list better\n",
    "    [best_matches] = redis_client.json().get(key, f\"$.{metric}\")\n",
    "    if len(best_matches) < 1:\n",
    "        track_names = set()\n",
    "    else:\n",
    "        track_names = set(\n",
    "            extract_track_name(entry.split(\"@\")[0]) for entry in best_matches\n",
    "        )\n",
    "\n",
    "    # check if the new track_name is already in the set or matches track_name_row\n",
    "    new_track_name = extract_track_name(file_bm)\n",
    "    if new_track_name in track_names or new_track_name == track_name_row:\n",
    "        return  # dont update list\n",
    "\n",
    "    # add the new entry\n",
    "    best_matches.append(format_entry(file_bm, sim_bm))\n",
    "\n",
    "    # sort by similarity in descending order\n",
    "    best_matches.sort(key=lambda x: float(x.split(\"@\")[1]), reverse=True)\n",
    "\n",
    "    redis_client.json().set(key, f\"$.{metric}\", best_matches[:3])"
   ]
  },
  {
   "cell_type": "code",
   "execution_count": 9,
   "metadata": {},
   "outputs": [],
   "source": [
    "def calc_sims(\n",
    "    rows,\n",
    "    all_rows,\n",
    "    metric,\n",
    "    mod_table,\n",
    "    index,\n",
    "):\n",
    "    print(f\"[SUBR{index:02d}] starting subprocess {index:02d}\")\n",
    "    r = redis.Redis(host=\"localhost\", port=6379, db=0)\n",
    "\n",
    "    progress = Progress(\n",
    "        SpinnerColumn(),\n",
    "        *Progress.get_default_columns(),\n",
    "        TimeElapsedColumn(),\n",
    "        MofNCompleteColumn(),\n",
    "        refresh_per_second=1,\n",
    "    )\n",
    "    sim_task = progress.add_task(\n",
    "        f\"[SUBR{index:02d}] calculating sims\", total=len(rows) * len(all_rows)\n",
    "    )\n",
    "    # with progress:\n",
    "    for i, row_file in enumerate(rows):\n",
    "        print(\n",
    "            f\"[SUBR{index:02d}] {i:04d}/{len(rows):04d} calculating sims for file {row_file}\"\n",
    "        )\n",
    "        track_name_row, _ = row_file.split(\"_\")\n",
    "        for col_file in all_rows:\n",
    "            if col_file == row_file:\n",
    "                value = {\n",
    "                    \"sim\": 1.0,\n",
    "                    \"mutations\": {\"shift\": 0, \"transpose\": 0},\n",
    "                    \"row_file\": row_file,\n",
    "                    \"col_file\": col_file,\n",
    "                    \"metric\": metric,\n",
    "                }\n",
    "            else:\n",
    "                sim_best_mutation = -1\n",
    "                best_shift = -1\n",
    "                best_trans = -1\n",
    "\n",
    "                main_metric = list(\n",
    "                    map(float, r.get(f\"{metric}:{row_file}:0-0\").decode().split(\",\"))  # type: ignore\n",
    "                )\n",
    "                for t in mod_table:\n",
    "                    s = 0  # TODO: REMOVE BEFORE SHIFTING\n",
    "                    comp_metric = list(\n",
    "                        map(float, r.get(f\"{metric}:{col_file}:{s}-{t}\").decode().split(\",\"))  # type: ignore\n",
    "                    )\n",
    "                    similarity = np.dot(main_metric, comp_metric) / (\n",
    "                        np.linalg.norm(main_metric) * np.linalg.norm(comp_metric)\n",
    "                    )\n",
    "\n",
    "                    if similarity > sim_best_mutation:\n",
    "                        sim_best_mutation = similarity\n",
    "                        best_shift = s\n",
    "                        best_trans = t\n",
    "\n",
    "                value = {\n",
    "                    \"sim\": sim_best_mutation,\n",
    "                    \"mutations\": {\"shift\": best_shift, \"trans\": best_trans},\n",
    "                    \"row_file\": row_file,\n",
    "                    \"col_file\": col_file,\n",
    "                    \"metric\": metric,\n",
    "                }\n",
    "\n",
    "            # update comparison object\n",
    "            r.json().set(f\"cmp:{row_file}:{col_file}:{metric}\", \"$\", value)\n",
    "\n",
    "            # update row file object\n",
    "            update_best_matches(\n",
    "                r,\n",
    "                f\"file:{row_file}\",\n",
    "                track_name_row,\n",
    "                col_file,\n",
    "                value[\"sim\"],\n",
    "                metric,\n",
    "            )\n",
    "            # progress.advance(sim_task)\n",
    "\n",
    "    print(f\"[SUBR{index:02d}] subprocess complete\")\n",
    "\n",
    "    return index"
   ]
  },
  {
   "cell_type": "code",
   "execution_count": 5,
   "metadata": {},
   "outputs": [],
   "source": [
    "def transpose_and_shift_midi(\n",
    "    midi_path: str, semitones: int, beats: int, total_beats=8\n",
    ") -> pretty_midi.PrettyMIDI:\n",
    "    \"\"\"\n",
    "    Transpose and shift a MIDI file by a specified number of semitones and beats.\n",
    "\n",
    "    Args:\n",
    "        midi_path (str): The path to the MIDI file.\n",
    "        semitones (int): Number of semitones to transpose the MIDI file.\n",
    "        beats (int): Number of beats to shift the MIDI events.\n",
    "        total_beats (int): number of beats in the file (default 8)\n",
    "\n",
    "    Returns:\n",
    "        pretty_midi.PrettyMIDI: The modified MIDI file.\n",
    "    \"\"\"\n",
    "    midi_data = pretty_midi.PrettyMIDI(midi_path)\n",
    "    tempo = int(Path(midi_path).stem.split(\"-\")[1])\n",
    "    beats_per_second = tempo / 60.0\n",
    "    shift_seconds = 1 / beats_per_second\n",
    "    s_t_midi = pretty_midi.PrettyMIDI()\n",
    "\n",
    "    # shift\n",
    "    for instrument in midi_data.instruments:\n",
    "        new_inst = pretty_midi.Instrument(\n",
    "            program=instrument.program, is_drum=instrument.is_drum\n",
    "        )\n",
    "        for note in instrument.notes:\n",
    "            # shift the start and end times of each note\n",
    "            shifted_start = (note.start + shift_seconds * beats) % (\n",
    "                total_beats / beats_per_second\n",
    "            )\n",
    "            shifted_end = (note.end + shift_seconds * beats) % (\n",
    "                total_beats / beats_per_second\n",
    "            )\n",
    "            if shifted_end < shifted_start:  # handle wrapping around the cycle\n",
    "                shifted_end += beats / beats_per_second\n",
    "            s_t_note = pretty_midi.Note(\n",
    "                velocity=note.velocity,\n",
    "                pitch=note.pitch + semitones,  # transpose\n",
    "                start=shifted_start,\n",
    "                end=shifted_end,\n",
    "            )\n",
    "            new_inst.notes.append(s_t_note)\n",
    "        s_t_midi.instruments.append(new_inst)\n",
    "\n",
    "    return s_t_midi"
   ]
  },
  {
   "cell_type": "markdown",
   "metadata": {},
   "source": [
    "## init"
   ]
  },
  {
   "cell_type": "code",
   "execution_count": 6,
   "metadata": {},
   "outputs": [],
   "source": [
    "dataset_path = \"../data/datasets/careful\"\n",
    "properties_path = \"../data/outputs/careful.json\"\n",
    "metric = \"pitch_histogram\"\n",
    "\n",
    "num_beats = 8\n",
    "num_transpositions = 12\n",
    "properties = {}\n",
    "with open(properties_path, \"r\") as f:\n",
    "    properties = json.load(f)\n",
    "\n",
    "names = list(properties.keys())[:10]\n",
    "names.sort()\n",
    "\n",
    "num_processes = os.cpu_count()\n",
    "split_keys = np.array_split(names, num_processes)  # type: ignore\n",
    "\n",
    "mod_table = list(range(12))  # []\n",
    "# for s in range(8):\n",
    "#     for t in range(12):\n",
    "#         mod_table.append([s, t])\n",
    "\n",
    "r = redis.Redis(host=\"localhost\", port=6379, db=0)"
   ]
  },
  {
   "cell_type": "markdown",
   "metadata": {},
   "source": [
    "## run"
   ]
  },
  {
   "cell_type": "code",
   "execution_count": 7,
   "metadata": {},
   "outputs": [
    {
     "data": {
      "application/vnd.jupyter.widget-view+json": {
       "model_id": "02fb7bc66a76455c8ec7a8e615b256eb",
       "version_major": 2,
       "version_minor": 0
      },
      "text/plain": [
       "Output()"
      ]
     },
     "metadata": {},
     "output_type": "display_data"
    },
    {
     "data": {
      "text/html": [
       "<pre style=\"white-space:pre;overflow-x:auto;line-height:normal;font-family:Menlo,'DejaVu Sans Mono',consolas,'Courier New',monospace\"></pre>\n"
      ],
      "text/plain": []
     },
     "metadata": {},
     "output_type": "display_data"
    },
    {
     "data": {
      "text/html": [
       "<pre style=\"white-space:pre;overflow-x:auto;line-height:normal;font-family:Menlo,'DejaVu Sans Mono',consolas,'Courier New',monospace\">\n",
       "</pre>\n"
      ],
      "text/plain": [
       "\n"
      ]
     },
     "metadata": {},
     "output_type": "display_data"
    }
   ],
   "source": [
    "# calculate metrics for each file\n",
    "progress = Progress(\n",
    "    SpinnerColumn(),\n",
    "    *Progress.get_default_columns(),\n",
    "    TimeElapsedColumn(),\n",
    "    MofNCompleteColumn(),\n",
    "    refresh_per_second=1,\n",
    ")\n",
    "pitch_histogram_task = progress.add_task(\n",
    "    \"uploading pitch histograms\", total=(len(names) * 12)\n",
    ")\n",
    "with progress:\n",
    "    for file in names:\n",
    "        r.json().set(f\"file:{file}\", \"$\", {f\"{metric}\": []}, nx=True)\n",
    "        for t in mod_table:\n",
    "            s = 0  # NOTE: fix before switching to other metrics\n",
    "            pch = transpose_and_shift_midi(\n",
    "                os.path.join(dataset_path, file), t, s\n",
    "            ).get_pitch_class_histogram()\n",
    "\n",
    "            r.set(\n",
    "                f\"{metric}:{file}:{s}-{t}\",\n",
    "                \",\".join(map(str, pch)),\n",
    "                nx=True,\n",
    "            )\n",
    "            progress.advance(pitch_histogram_task)"
   ]
  },
  {
   "cell_type": "code",
   "execution_count": 10,
   "metadata": {},
   "outputs": [
    {
     "name": "stdout",
     "output_type": "stream",
     "text": [
      "[SUBR01] starting subprocess 01[SUBR02] starting subprocess 02[SUBR05] starting subprocess 05[SUBR09] starting subprocess 09[SUBR04] starting subprocess 04\n",
      "[SUBR00] starting subprocess 00[SUBR03] starting subprocess 03[SUBR10] starting subprocess 10[SUBR06] starting subprocess 06[SUBR07] starting subprocess 07\n",
      "[SUBR11] starting subprocess 11[SUBR08] starting subprocess 08\n",
      "\n",
      "\n",
      "\n",
      "\n",
      "\n",
      "\n",
      "[SUBR01] 0000/0001 calculating sims for file 20240121-70-04_0152-0160.mid\n",
      "\n",
      "\n",
      "[SUBR02] 0000/0001 calculating sims for file 20240121-70-09_0080-0088.mid[SUBR04] 0000/0001 calculating sims for file 20240124-64-02_0424-0432.mid[SUBR03] 0000/0001 calculating sims for file 20240123-70-07_0520-0528.mid[SUBR09] 0000/0001 calculating sims for file 20240227-76-03_0208-0216.mid[SUBR10] subprocess complete\n",
      "[SUBR08] 0000/0001 calculating sims for file 20240213-100-06_0776-0784.mid[SUBR07] 0000/0001 calculating sims for file 20240213-100-05_0216-0224.mid[SUBR00] 0000/0001 calculating sims for file 20231220-80-01_0272-0280.mid[SUBR05] 0000/0001 calculating sims for file 20240126-50-04_0048-0056.mid[SUBR06] 0000/0001 calculating sims for file 20240213-100-02_1568-1576.mid\n",
      "\n",
      "\n",
      "\n",
      "\n",
      "[SUBR11] subprocess complete\n",
      "\n",
      "\n",
      "\n",
      "\n",
      "\n",
      "[SUBR01] subprocess complete[SUBR02] subprocess complete[SUBR03] subprocess complete[SUBR09] subprocess complete[SUBR08] subprocess complete\n",
      "\n",
      "\n",
      "\n",
      "\n",
      "[SUBR05] subprocess complete[SUBR00] subprocess complete[SUBR06] subprocess complete[SUBR07] subprocess complete[SUBR04] subprocess complete\n",
      "\n",
      "\n",
      "\n",
      "\n",
      "[MAIN]   subprocess 11 returned\n",
      "[MAIN]   subprocess 10 returned\n",
      "[MAIN]   subprocess 1 returned\n",
      "[MAIN]   subprocess 2 returned\n",
      "[MAIN]   subprocess 3 returned\n",
      "[MAIN]   subprocess 9 returned\n",
      "[MAIN]   subprocess 8 returned\n",
      "[MAIN]   subprocess 5 returned\n",
      "[MAIN]   subprocess 0 returned\n",
      "[MAIN]   subprocess 6 returned\n",
      "[MAIN]   subprocess 7 returned\n",
      "[MAIN]   subprocess 4 returned\n"
     ]
    }
   ],
   "source": [
    "# calculate similarities\n",
    "with ProcessPoolExecutor() as executor:\n",
    "    futures = {\n",
    "        executor.submit(calc_sims, chunk, names, metric, mod_table, i): chunk\n",
    "        for i, chunk in enumerate(split_keys)\n",
    "    }\n",
    "\n",
    "    for future in as_completed(futures):\n",
    "        index = future.result()\n",
    "        print(f\"[MAIN]   subprocess {index} returned\")"
   ]
  }
 ],
 "metadata": {
  "kernelspec": {
   "display_name": ".venv",
   "language": "python",
   "name": "python3"
  },
  "language_info": {
   "codemirror_mode": {
    "name": "ipython",
    "version": 3
   },
   "file_extension": ".py",
   "mimetype": "text/x-python",
   "name": "python",
   "nbconvert_exporter": "python",
   "pygments_lexer": "ipython3",
   "version": "3.12.2"
  }
 },
 "nbformat": 4,
 "nbformat_minor": 2
}
