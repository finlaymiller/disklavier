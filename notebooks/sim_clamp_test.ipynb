{
 "cells": [
  {
   "cell_type": "code",
   "execution_count": null,
   "metadata": {},
   "outputs": [],
   "source": [
    "import os\n",
    "import sys\n",
    "sys.path.append(os.path.abspath(os.path.join(os.getcwd(), \"..\")))\n",
    "\n",
    "from src.ml import clamp"
   ]
  },
  {
   "cell_type": "code",
   "execution_count": null,
   "metadata": {},
   "outputs": [],
   "source": [
    "try:\n",
    "    model = clamp.CLaMP.from_pretrained(clamp.CLAMP_MODEL_NAME)\n",
    "    print(\"Model loaded successfully.\")\n",
    "except Exception as e:\n",
    "    print(f\"Error loading model: {e}\")"
   ]
  },
  {
   "cell_type": "code",
   "execution_count": 6,
   "metadata": {},
   "outputs": [
    {
     "data": {
      "application/vnd.jupyter.widget-view+json": {
       "model_id": "9f8bd2d27f674234bd28ca3c72da0cec",
       "version_major": 2,
       "version_minor": 0
      },
      "text/plain": [
       "Output()"
      ]
     },
     "metadata": {},
     "output_type": "display_data"
    },
    {
     "data": {
      "text/html": [
       "<pre style=\"white-space:pre;overflow-x:auto;line-height:normal;font-family:Menlo,'DejaVu Sans Mono',consolas,'Courier New',monospace\"></pre>\n"
      ],
      "text/plain": []
     },
     "metadata": {},
     "output_type": "display_data"
    }
   ],
   "source": [
    "import pretty_midi\n",
    "import pandas as pd\n",
    "from rich.progress import track\n",
    "\n",
    "# New code to iterate over .mid files and calculate pitch histograms\n",
    "data_dir = \"../data/datasets/20240621/train\"\n",
    "output_file = \"../data/tables/20240621/pitch_histogram.h5\"\n",
    "pitch_histograms = {}\n",
    "\n",
    "for filename in track(os.listdir(data_dir)):\n",
    "    if filename.endswith(\".mid\"):\n",
    "        midi_path = os.path.join(data_dir, filename)\n",
    "        midi_data = pretty_midi.PrettyMIDI(midi_path)\n",
    "        pitch_histogram = midi_data.get_pitch_class_histogram()\n",
    "        pitch_histograms[filename[:-4]] = pitch_histogram\n",
    "\n",
    "# Create DataFrame and save as h5 file\n",
    "histogram_df = pd.DataFrame.from_dict(pitch_histograms, orient=\"index\")\n",
    "histogram_df.to_hdf(output_file, key=\"pitch_histogram\", mode=\"w\")"
   ]
  }
 ],
 "metadata": {
  "kernelspec": {
   "display_name": ".venv",
   "language": "python",
   "name": "python3"
  },
  "language_info": {
   "codemirror_mode": {
    "name": "ipython",
    "version": 3
   },
   "file_extension": ".py",
   "mimetype": "text/x-python",
   "name": "python",
   "nbconvert_exporter": "python",
   "pygments_lexer": "ipython3",
   "version": "3.12.2"
  }
 },
 "nbformat": 4,
 "nbformat_minor": 2
}
