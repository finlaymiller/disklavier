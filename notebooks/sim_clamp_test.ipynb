{
 "cells": [
  {
   "cell_type": "code",
   "execution_count": 4,
   "metadata": {},
   "outputs": [],
   "source": [
    "import os\n",
    "import sys\n",
    "import h5py\n",
    "import pandas as pd\n",
    "\n",
    "# add the parent directory to the system path\n",
    "sys.path.append(os.path.abspath(os.path.join(os.getcwd(), \"..\")))\n",
    "\n",
    "from src.ml.clamp.model import Clamp"
   ]
  },
  {
   "cell_type": "code",
   "execution_count": 5,
   "metadata": {},
   "outputs": [],
   "source": [
    "p_h5 = 'data/output.h5'\n",
    "p_test = '../data/datasets/test/dataset samples'"
   ]
  },
  {
   "cell_type": "code",
   "execution_count": 6,
   "metadata": {},
   "outputs": [
    {
     "name": "stdout",
     "output_type": "stream",
     "text": [
      "545952 rows in file\n",
      "Key: '20231220-080-01_0000-0005_t00s00', Value: <HDF5 dataset \"20231220-080-01_0000-0005_t00s00\": shape (768,), type \"<f8\">\n"
     ]
    }
   ],
   "source": [
    "with h5py.File(p_h5, 'r') as hdf:\n",
    "    print(f\"{len(hdf.keys())} rows in file\")\n",
    "    # Iterate over all items in the HDF5 file\n",
    "    nk = 0\n",
    "    for key in hdf.keys():\n",
    "        # Get the dataset associated with the key\n",
    "        dataset = hdf[key]\n",
    "        # Print the key and its corresponding value\n",
    "        print(f\"Key: '{key}', Value: {dataset}\")\n",
    "        break\n",
    "df = pd."
   ]
  },
  {
   "cell_type": "code",
   "execution_count": null,
   "metadata": {},
   "outputs": [],
   "source": [
    "embeddings = []\n"
   ]
  }
 ],
 "metadata": {
  "kernelspec": {
   "display_name": ".venv",
   "language": "python",
   "name": "python3"
  },
  "language_info": {
   "codemirror_mode": {
    "name": "ipython",
    "version": 3
   },
   "file_extension": ".py",
   "mimetype": "text/x-python",
   "name": "python",
   "nbconvert_exporter": "python",
   "pygments_lexer": "ipython3",
   "version": "3.12.2"
  }
 },
 "nbformat": 4,
 "nbformat_minor": 2
}
