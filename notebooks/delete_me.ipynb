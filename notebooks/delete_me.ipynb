{
 "cells": [
  {
   "cell_type": "code",
   "execution_count": 1,
   "metadata": {},
   "outputs": [
    {
     "name": "stdout",
     "output_type": "stream",
     "text": [
      "=== Track 0\n",
      "MetaMessage('track_name', name='master-recording_250307-101520.mid', time=0)\n",
      "MetaMessage('time_signature', numerator=4, denominator=4, clocks_per_click=36, notated_32nd_notes_per_beat=8, time=0)\n",
      "MetaMessage('set_tempo', tempo=1000000, time=0)\n",
      "MetaMessage('text', text='transition 0 (16.00s)', time=1536)\n",
      "MetaMessage('text', text='tick 0-1 (16.00s)', time=96)\n",
      "MetaMessage('text', text='tick 0-2 (17.00s)', time=96)\n",
      "MetaMessage('text', text='tick 0-3 (18.00s)', time=96)\n",
      "MetaMessage('text', text='tick 0-4 (19.00s)', time=96)\n",
      "MetaMessage('text', text='tick 0-5 (20.00s)', time=96)\n",
      "MetaMessage('text', text='tick 0-6 (21.00s)', time=96)\n",
      "MetaMessage('text', text='tick 0-7 (22.00s)', time=96)\n",
      "MetaMessage('text', text='tick 0-8 (23.00s)', time=96)\n",
      "MetaMessage('text', text='transition 1 (24.00s)', time=2304)\n",
      "MetaMessage('text', text='tick 1-1 (24.00s)', time=96)\n",
      "MetaMessage('text', text='tick 1-2 (25.00s)', time=96)\n",
      "MetaMessage('text', text='tick 1-3 (26.00s)', time=96)\n",
      "MetaMessage('text', text='tick 1-4 (27.00s)', time=96)\n",
      "MetaMessage('text', text='tick 1-5 (28.00s)', time=96)\n",
      "MetaMessage('text', text='tick 1-6 (29.00s)', time=96)\n",
      "MetaMessage('text', text='tick 1-7 (30.00s)', time=96)\n",
      "MetaMessage('text', text='tick 1-8 (31.00s)', time=96)\n",
      "MetaMessage('text', text='transition 2 (32.00s)', time=3072)\n",
      "MetaMessage('text', text='tick 2-1 (32.00s)', time=96)\n",
      "MetaMessage('text', text='tick 2-2 (33.00s)', time=96)\n",
      "MetaMessage('text', text='tick 2-3 (34.00s)', time=96)\n",
      "MetaMessage('text', text='tick 2-4 (35.00s)', time=96)\n",
      "MetaMessage('text', text='tick 2-5 (36.00s)', time=96)\n",
      "MetaMessage('text', text='tick 2-6 (37.00s)', time=96)\n",
      "MetaMessage('text', text='tick 2-7 (38.00s)', time=96)\n",
      "MetaMessage('text', text='tick 2-8 (39.00s)', time=96)\n",
      "MetaMessage('text', text='transition 3 (40.00s)', time=3840)\n",
      "MetaMessage('text', text='tick 3-1 (40.00s)', time=96)\n",
      "MetaMessage('text', text='tick 3-2 (41.00s)', time=96)\n",
      "MetaMessage('text', text='tick 3-3 (42.00s)', time=96)\n",
      "MetaMessage('text', text='tick 3-4 (43.00s)', time=96)\n",
      "MetaMessage('text', text='tick 3-5 (44.00s)', time=96)\n",
      "MetaMessage('text', text='tick 3-6 (45.00s)', time=96)\n",
      "MetaMessage('text', text='tick 3-7 (46.00s)', time=96)\n",
      "MetaMessage('text', text='tick 3-8 (47.00s)', time=96)\n",
      "MetaMessage('end_of_track', time=1)\n",
      "=== Track 1\n",
      "MetaMessage('track_name', name='playback', time=0)\n",
      "Message('note_on', channel=0, note=59, velocity=104, time=192)\n",
      "Message('note_off', channel=0, note=59, velocity=64, time=168)\n",
      "Message('note_on', channel=0, note=57, velocity=104, time=24)\n",
      "Message('note_off', channel=0, note=57, velocity=64, time=168)\n",
      "Message('note_on', channel=0, note=59, velocity=104, time=24)\n",
      "Message('note_off', channel=0, note=59, velocity=64, time=168)\n",
      "Message('note_on', channel=0, note=57, velocity=104, time=24)\n",
      "Message('note_off', channel=0, note=57, velocity=64, time=168)\n",
      "Message('note_on', channel=0, note=59, velocity=104, time=82)\n",
      "Message('note_off', channel=0, note=59, velocity=64, time=168)\n",
      "Message('note_on', channel=0, note=57, velocity=104, time=52)\n",
      "Message('note_off', channel=0, note=57, velocity=64, time=168)\n",
      "Message('note_on', channel=0, note=59, velocity=104, time=18)\n",
      "Message('note_off', channel=0, note=59, velocity=64, time=168)\n",
      "Message('note_on', channel=0, note=57, velocity=104, time=16)\n",
      "Message('note_off', channel=0, note=57, velocity=64, time=168)\n",
      "Message('note_on', channel=0, note=59, velocity=104, time=106)\n",
      "Message('note_off', channel=0, note=59, velocity=64, time=168)\n",
      "Message('note_on', channel=0, note=57, velocity=104, time=25)\n",
      "Message('note_off', channel=0, note=57, velocity=64, time=168)\n",
      "Message('note_on', channel=0, note=59, velocity=104, time=24)\n",
      "Message('note_off', channel=0, note=59, velocity=64, time=168)\n",
      "Message('note_on', channel=0, note=57, velocity=104, time=24)\n",
      "Message('note_off', channel=0, note=57, velocity=64, time=168)\n",
      "Message('note_on', channel=0, note=59, velocity=104, time=96)\n",
      "Message('note_off', channel=0, note=59, velocity=64, time=168)\n",
      "Message('note_on', channel=0, note=57, velocity=104, time=24)\n",
      "Message('note_off', channel=0, note=57, velocity=64, time=168)\n",
      "Message('note_on', channel=0, note=59, velocity=104, time=24)\n",
      "Message('note_off', channel=0, note=59, velocity=64, time=168)\n",
      "Message('note_on', channel=0, note=57, velocity=104, time=24)\n",
      "Message('note_off', channel=0, note=57, velocity=64, time=168)\n",
      "MetaMessage('end_of_track', time=0)\n"
     ]
    }
   ],
   "source": [
    "import mido\n",
    "\n",
    "mido.MidiFile(\n",
    "    \"../data/outputs/logs/250307-101520_specdiff_9786345_random/master-recording_250307-101520.mid\"\n",
    ").print_tracks()"
   ]
  },
  {
   "cell_type": "code",
   "execution_count": 2,
   "metadata": {},
   "outputs": [
    {
     "data": {
      "text/plain": [
       "60.0"
      ]
     },
     "execution_count": 2,
     "metadata": {},
     "output_type": "execute_result"
    }
   ],
   "source": [
    "mido.tempo2bpm(1000000)"
   ]
  },
  {
   "cell_type": "code",
   "execution_count": 1,
   "metadata": {},
   "outputs": [],
   "source": [
    "import os\n",
    "import h5py\n",
    "import faiss\n",
    "import numpy as np\n",
    "from scipy.spatial.distance import cosine"
   ]
  },
  {
   "cell_type": "code",
   "execution_count": 2,
   "metadata": {},
   "outputs": [],
   "source": [
    "path = \"../data/tables/20250110/pitch_histogram.h5\"\n",
    "file1 = \"20240227-076-01_0082-0088_t04s00\"\n",
    "file2 = \"20240227-076-01_0075-0082_t04s00\"\n",
    "file3 = \"20240305-050-03_0000-0009_t09s00\""
   ]
  },
  {
   "cell_type": "code",
   "execution_count": 3,
   "metadata": {},
   "outputs": [
    {
     "name": "stdout",
     "output_type": "stream",
     "text": [
      "[[b'20231220-080-01_0000-0005_t00s00']\n",
      " [b'20231220-080-01_0000-0005_t00s01']\n",
      " [b'20231220-080-01_0000-0005_t00s02']\n",
      " [b'20231220-080-01_0000-0005_t00s03']\n",
      " [b'20231220-080-01_0000-0005_t00s04']]\n",
      "[[0.         0.         0.18383147 0.         0.         0.\n",
      "  0.         0.81616855 0.         0.         0.         0.        ]\n",
      " [0.         0.         0.18383147 0.         0.         0.\n",
      "  0.         0.81616855 0.         0.         0.         0.        ]\n",
      " [0.         0.         0.18383147 0.         0.         0.\n",
      "  0.         0.81616855 0.         0.         0.         0.        ]\n",
      " [0.         0.         0.18383147 0.         0.         0.\n",
      "  0.         0.81616855 0.         0.         0.         0.        ]\n",
      " [0.         0.         0.18383147 0.         0.         0.\n",
      "  0.         0.81616855 0.         0.         0.         0.        ]]\n",
      "['20231220-080-01_0000-0005_t00s00', '20231220-080-01_0000-0005_t00s01', '20231220-080-01_0000-0005_t00s02', '20231220-080-01_0000-0005_t00s03', '20231220-080-01_0000-0005_t00s04']\n",
      "[[0.         0.         0.18383147 0.         0.         0.\n",
      "  0.         0.81616855 0.         0.         0.         0.        ]\n",
      " [0.         0.         0.18383147 0.         0.         0.\n",
      "  0.         0.81616855 0.         0.         0.         0.        ]\n",
      " [0.         0.         0.18383147 0.         0.         0.\n",
      "  0.         0.81616855 0.         0.         0.         0.        ]\n",
      " [0.         0.         0.18383147 0.         0.         0.\n",
      "  0.         0.81616855 0.         0.         0.         0.        ]\n",
      " [0.         0.         0.18383147 0.         0.         0.\n",
      "  0.         0.81616855 0.         0.         0.         0.        ]]\n",
      "[[0.         0.         0.21973239 0.         0.         0.\n",
      "  0.         0.9755602  0.         0.         0.         0.        ]\n",
      " [0.         0.         0.21973239 0.         0.         0.\n",
      "  0.         0.9755602  0.         0.         0.         0.        ]\n",
      " [0.         0.         0.21973239 0.         0.         0.\n",
      "  0.         0.9755602  0.         0.         0.         0.        ]\n",
      " [0.         0.         0.21973239 0.         0.         0.\n",
      "  0.         0.9755602  0.         0.         0.         0.        ]\n",
      " [0.         0.         0.21973239 0.         0.         0.\n",
      "  0.         0.9755602  0.         0.         0.         0.        ]]\n"
     ]
    }
   ],
   "source": [
    "with h5py.File(path, \"r\") as hdf:\n",
    "    print(hdf[\"filenames\"][:5])\n",
    "    print(hdf[\"histograms\"][:5])\n",
    "    histograms = np.array(hdf[\"histograms\"], dtype=np.float32)\n",
    "    filenames = [str(f[0], encoding=\"utf-8\") for f in hdf[\"filenames\"]]\n",
    "print(filenames[:5])\n",
    "print(histograms[:5])\n",
    "histograms /= np.linalg.norm(histograms, axis=1, keepdims=True)\n",
    "print(histograms[:5])"
   ]
  },
  {
   "cell_type": "code",
   "execution_count": 4,
   "metadata": {},
   "outputs": [],
   "source": [
    "faiss_index = faiss.IndexFlatIP(12)\n",
    "faiss_index.add(np.array(histograms, dtype=np.float32))  # type: ignore"
   ]
  },
  {
   "cell_type": "code",
   "execution_count": 5,
   "metadata": {},
   "outputs": [
    {
     "name": "stdout",
     "output_type": "stream",
     "text": [
      "[0.         0.         0.         0.         0.94475734 0.\n",
      " 0.         0.         0.         0.19357154 0.         0.2645064 ]\n",
      "[0.         0.         0.         0.         0.9376489  0.\n",
      " 0.         0.         0.         0.20182417 0.         0.28298685]\n",
      "[0. 0. 0. 0. 1. 0. 0. 0. 0. 0. 0. 0.]\n",
      "1.0 0.9997699 0.94475734\n"
     ]
    }
   ],
   "source": [
    "print(histograms[filenames.index(file1)])\n",
    "print(histograms[filenames.index(file2)])\n",
    "print(histograms[filenames.index(file3)])\n",
    "print(\n",
    "    1\n",
    "    - cosine(\n",
    "        histograms[filenames.index(file1)],\n",
    "        histograms[filenames.index(file1)],\n",
    "    ),\n",
    "    1\n",
    "    - cosine(\n",
    "        histograms[filenames.index(file1)],\n",
    "        histograms[filenames.index(file2)],\n",
    "    ),\n",
    "    1\n",
    "    - cosine(\n",
    "        histograms[filenames.index(file1)],\n",
    "        histograms[filenames.index(file3)],\n",
    "    ),\n",
    ")"
   ]
  },
  {
   "cell_type": "code",
   "execution_count": 6,
   "metadata": {},
   "outputs": [
    {
     "name": "stdout",
     "output_type": "stream",
     "text": [
      "[0.         0.         0.21973239 0.         0.         0.\n",
      " 0.         0.9755602  0.         0.         0.         0.        ]\n",
      "[0.         0.         0.21973239 0.         0.         0.\n",
      " 0.         0.9755602  0.         0.         0.         0.        ]\n",
      "[0.         0.         0.21973239 0.         0.         0.\n",
      " 0.         0.9755602  0.         0.         0.         0.        ]\n",
      "1.0 1.0 1.0\n"
     ]
    }
   ],
   "source": [
    "print(histograms[0])\n",
    "print(histograms[1])\n",
    "print(histograms[2])\n",
    "print(\n",
    "    1\n",
    "    - cosine(\n",
    "        histograms[0],\n",
    "        histograms[0],\n",
    "    ),\n",
    "    1\n",
    "    - cosine(\n",
    "        histograms[0],\n",
    "        histograms[1],\n",
    "    ),\n",
    "    1\n",
    "    - cosine(\n",
    "        histograms[0],\n",
    "        histograms[2],\n",
    "    ),\n",
    ")"
   ]
  },
  {
   "cell_type": "code",
   "execution_count": 9,
   "metadata": {},
   "outputs": [
    {
     "name": "stdout",
     "output_type": "stream",
     "text": [
      "[[0.         0.         0.21973239 0.         0.         0.\n",
      "  0.         0.9755602  0.         0.         0.         0.        ]]\n",
      "335360\n",
      "True\n",
      "545088\n",
      "[[  7   6   5   4   3   2   1   0 481 480]]\n",
      "[[1.         1.         1.         1.         1.         1.\n",
      "  1.         1.         0.99999815 0.99999815]]\n"
     ]
    }
   ],
   "source": [
    "q = np.array(\n",
    "    [histograms[0]],  # filenames.index(file1)]],\n",
    "    dtype=np.float32,\n",
    ")\n",
    "q /= np.linalg.norm(q, axis=1, keepdims=True)\n",
    "print(q)\n",
    "print(filenames.index(file1))\n",
    "print(faiss_index.is_trained)\n",
    "print(faiss_index.ntotal)\n",
    "D, I = faiss_index.search(\n",
    "    q,\n",
    "    10,\n",
    ")  # type: ignore\n",
    "print(I)\n",
    "print(D)"
   ]
  },
  {
   "cell_type": "code",
   "execution_count": 11,
   "metadata": {},
   "outputs": [
    {
     "data": {
      "text/plain": [
       "array([0.        , 0.        , 0.        , 0.21973239, 0.        ,\n",
       "       0.        , 0.        , 0.        , 0.9755602 , 0.        ,\n",
       "       0.        , 0.        ], dtype=float32)"
      ]
     },
     "execution_count": 11,
     "metadata": {},
     "output_type": "execute_result"
    }
   ],
   "source": [
    "histograms[8]"
   ]
  },
  {
   "cell_type": "code",
   "execution_count": 8,
   "metadata": {},
   "outputs": [
    {
     "name": "stdout",
     "output_type": "stream",
     "text": [
      "True\n",
      "100000\n",
      "[[  0 393 363  78]\n",
      " [  1 555 277 364]\n",
      " [  2 304 101  13]\n",
      " [  3 173  18 182]\n",
      " [  4 288 370 531]]\n",
      "[[0.        7.1751733 7.2076297 7.251163 ]\n",
      " [0.        6.3235645 6.684581  6.7999454]\n",
      " [0.        5.7964087 6.3917365 7.2815123]\n",
      " [0.        7.2779055 7.527987  7.6628466]\n",
      " [0.        6.7638035 7.2951207 7.368815 ]]\n"
     ]
    }
   ],
   "source": [
    "# Copyright (c) Meta Platforms, Inc. and affiliates.\n",
    "#\n",
    "# This source code is licensed under the MIT license found in the\n",
    "# LICENSE file in the root directory of this source tree.\n",
    "\n",
    "import numpy as np\n",
    "\n",
    "d = 64  # dimension\n",
    "nb = 100000  # database size\n",
    "nq = 10000  # nb of queries\n",
    "np.random.seed(1234)  # make reproducible\n",
    "xb = np.random.random((nb, d)).astype(\"float32\")\n",
    "xb[:, 0] += np.arange(nb) / 1000.0\n",
    "xq = np.random.random((nq, d)).astype(\"float32\")\n",
    "xq[:, 0] += np.arange(nq) / 1000.0\n",
    "\n",
    "import faiss  # make faiss available\n",
    "\n",
    "index = faiss.IndexFlatL2(d)  # build the index\n",
    "print(index.is_trained)\n",
    "index.add(xb)  # add vectors to the index\n",
    "print(index.ntotal)\n",
    "\n",
    "k = 4  # we want to see 4 nearest neighbors\n",
    "D, I = index.search(xb[:5], k)  # sanity check\n",
    "print(I)\n",
    "print(D)\n",
    "D, I = index.search(xq, k)  # actual search\n",
    "# print(I[:5])  # neighbors of the 5 first queries\n",
    "# print(I[-5:])  # neighbors of the 5 last queries"
   ]
  }
 ],
 "metadata": {
  "kernelspec": {
   "display_name": ".venv",
   "language": "python",
   "name": "python3"
  },
  "language_info": {
   "codemirror_mode": {
    "name": "ipython",
    "version": 3
   },
   "file_extension": ".py",
   "mimetype": "text/x-python",
   "name": "python",
   "nbconvert_exporter": "python",
   "pygments_lexer": "ipython3",
   "version": "3.12.2"
  }
 },
 "nbformat": 4,
 "nbformat_minor": 2
}
