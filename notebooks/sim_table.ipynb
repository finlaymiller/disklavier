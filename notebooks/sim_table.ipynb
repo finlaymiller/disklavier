{
 "cells": [
  {
   "cell_type": "code",
   "execution_count": 1,
   "metadata": {},
   "outputs": [],
   "source": [
    "import pandas as pd\n",
    "import os"
   ]
  },
  {
   "cell_type": "code",
   "execution_count": 24,
   "metadata": {},
   "outputs": [
    {
     "data": {
      "text/plain": [
       "545184"
      ]
     },
     "execution_count": 24,
     "metadata": {},
     "output_type": "execute_result"
    }
   ],
   "source": [
    "len(os.listdir(\"../data/datasets/20240621/train\"))"
   ]
  },
  {
   "cell_type": "code",
   "execution_count": 25,
   "metadata": {},
   "outputs": [
    {
     "name": "stdout",
     "output_type": "stream",
     "text": [
      "['20231220-080-01_0000-0005_t00s00.mid', '20231220-080-01_0000-0005_t00s01.mid', '20231220-080-01_0000-0005_t00s02.mid', '20231220-080-01_0000-0005_t00s03.mid', '20231220-080-01_0000-0005_t00s04.mid', '20231220-080-01_0000-0005_t00s05.mid', '20231220-080-01_0000-0005_t00s06.mid', '20231220-080-01_0000-0005_t00s07.mid', '20231220-080-01_0000-0005_t01s00.mid', '20231220-080-01_0000-0005_t01s01.mid']\n"
     ]
    }
   ],
   "source": [
    "# os.path.exists(\"../data/datasets/20240621/train/20231220-080-03_0335-0341_t01s01.mid\")\n",
    "file_list = os.listdir(\"../data/datasets/20240621/train\")\n",
    "file_list.sort()\n",
    "\n",
    "print(file_list[:10])\n",
    "\n",
    "for filename in file_list:\n",
    "    # check if filename starts with the given prefix\n",
    "    if filename.startswith(\"20240121-70-04_0152-0160\"):\n",
    "        print(filename)\n",
    "        break"
   ]
  },
  {
   "cell_type": "code",
   "execution_count": 2,
   "metadata": {},
   "outputs": [
    {
     "data": {
      "text/html": [
       "<div>\n",
       "<style scoped>\n",
       "    .dataframe tbody tr th:only-of-type {\n",
       "        vertical-align: middle;\n",
       "    }\n",
       "\n",
       "    .dataframe tbody tr th {\n",
       "        vertical-align: top;\n",
       "    }\n",
       "\n",
       "    .dataframe thead th {\n",
       "        text-align: right;\n",
       "    }\n",
       "</style>\n",
       "<table border=\"1\" class=\"dataframe\">\n",
       "  <thead>\n",
       "    <tr style=\"text-align: right;\">\n",
       "      <th></th>\n",
       "      <th>abc</th>\n",
       "      <th>id</th>\n",
       "      <th>embedding</th>\n",
       "    </tr>\n",
       "  </thead>\n",
       "  <tbody>\n",
       "    <tr>\n",
       "      <th>baba-060-02_0005-0011</th>\n",
       "      <td>M: 4/4\\nL: 1/8\\nQ:1/4=120\\nK:A\\nV:1\\nz2 B,3-B,...</td>\n",
       "      <td>[46, 27, 1, 21, 16, 21, 97, 0, 0, 0, 0, 0, 0, ...</td>\n",
       "      <td>[0.5433163, -0.46188298, -0.1765729, 0.0864300...</td>\n",
       "    </tr>\n",
       "    <tr>\n",
       "      <th>bbbb-060-01_0005-0011</th>\n",
       "      <td>M: 4/4\\nL: 1/8\\nQ:1/4=120\\nK:B\\nV:1\\nz2 B,3-B,...</td>\n",
       "      <td>[46, 27, 1, 21, 16, 21, 97, 0, 0, 0, 0, 0, 0, ...</td>\n",
       "      <td>[0.88814145, -0.43045604, -0.4846054, 0.208652...</td>\n",
       "    </tr>\n",
       "    <tr>\n",
       "      <th>c4v100-060-03_0000-0005</th>\n",
       "      <td>M: 4/4\\nL: 1/8\\nQ:1/4=120\\nK:C\\nV:1\\nz2 c6-|c6...</td>\n",
       "      <td>[46, 27, 1, 21, 16, 21, 97, 0, 0, 0, 0, 0, 0, ...</td>\n",
       "      <td>[0.5935626, -0.27001852, -0.4847664, 0.1845568...</td>\n",
       "    </tr>\n",
       "    <tr>\n",
       "      <th>c4v97-060-03_0005-0011</th>\n",
       "      <td>M: 4/4\\nL: 1/8\\nQ:1/4=120\\nK:C\\nV:1\\nz2 c6-|c6...</td>\n",
       "      <td>[46, 27, 1, 21, 16, 21, 97, 0, 0, 0, 0, 0, 0, ...</td>\n",
       "      <td>[0.5935626, -0.27001852, -0.4847664, 0.1845568...</td>\n",
       "    </tr>\n",
       "    <tr>\n",
       "      <th>cascas-060-02_0000-0005</th>\n",
       "      <td>M: 4/4\\nL: 1/8\\nQ:1/4=120\\nK:Bb\\nV:1\\nz2 C3-C/...</td>\n",
       "      <td>[46, 27, 1, 21, 16, 21, 97, 0, 0, 0, 0, 0, 0, ...</td>\n",
       "      <td>[0.7008802, -0.57024217, -0.47158375, -0.19007...</td>\n",
       "    </tr>\n",
       "    <tr>\n",
       "      <th>cascd-060-02_0000-0005</th>\n",
       "      <td>M: 4/4\\nL: 1/8\\nQ:1/4=120\\nK:F\\nV:1\\nz2 C3-C/2...</td>\n",
       "      <td>[46, 27, 1, 21, 16, 21, 97, 0, 0, 0, 0, 0, 0, ...</td>\n",
       "      <td>[0.72160333, -0.37010112, -0.28689235, -0.1840...</td>\n",
       "    </tr>\n",
       "    <tr>\n",
       "      <th>cascd-060-02_0005-0011</th>\n",
       "      <td>M: 4/4\\nL: 1/8\\nQ:1/4=120\\nK:F\\nV:1\\nz2 C3-C/2...</td>\n",
       "      <td>[46, 27, 1, 21, 16, 21, 97, 0, 0, 0, 0, 0, 0, ...</td>\n",
       "      <td>[0.72160333, -0.37010112, -0.28689235, -0.1840...</td>\n",
       "    </tr>\n",
       "    <tr>\n",
       "      <th>cccc-060-01_0000-0005</th>\n",
       "      <td>M: 4/4\\nL: 1/8\\nQ:1/4=120\\nK:C\\nV:1\\nz2 C3-C/2...</td>\n",
       "      <td>[46, 27, 1, 21, 16, 21, 97, 0, 0, 0, 0, 0, 0, ...</td>\n",
       "      <td>[0.25690234, -0.63969105, -0.5762541, -0.12649...</td>\n",
       "    </tr>\n",
       "    <tr>\n",
       "      <th>leadtest-060-03_0000-0005</th>\n",
       "      <td>M: 4/4\\nL: 1/8\\nQ:1/4=120\\nK:C\\nV:1\\nz3/2C/2 z...</td>\n",
       "      <td>[46, 27, 1, 21, 16, 21, 97, 0, 0, 0, 0, 0, 0, ...</td>\n",
       "      <td>[0.51716053, -0.13362023, -0.32246056, 0.25749...</td>\n",
       "    </tr>\n",
       "    <tr>\n",
       "      <th>trailtest-060-03_0005-0011</th>\n",
       "      <td>M: 4/4\\nL: 1/8\\nQ:1/4=120\\nK:Eb\\nV:1\\nz3/2C/2 ...</td>\n",
       "      <td>[46, 27, 1, 21, 16, 21, 97, 0, 0, 0, 0, 0, 0, ...</td>\n",
       "      <td>[0.76399434, 0.13449587, -0.036859572, 0.08304...</td>\n",
       "    </tr>\n",
       "  </tbody>\n",
       "</table>\n",
       "</div>"
      ],
      "text/plain": [
       "                                                                          abc  \\\n",
       "baba-060-02_0005-0011       M: 4/4\\nL: 1/8\\nQ:1/4=120\\nK:A\\nV:1\\nz2 B,3-B,...   \n",
       "bbbb-060-01_0005-0011       M: 4/4\\nL: 1/8\\nQ:1/4=120\\nK:B\\nV:1\\nz2 B,3-B,...   \n",
       "c4v100-060-03_0000-0005     M: 4/4\\nL: 1/8\\nQ:1/4=120\\nK:C\\nV:1\\nz2 c6-|c6...   \n",
       "c4v97-060-03_0005-0011      M: 4/4\\nL: 1/8\\nQ:1/4=120\\nK:C\\nV:1\\nz2 c6-|c6...   \n",
       "cascas-060-02_0000-0005     M: 4/4\\nL: 1/8\\nQ:1/4=120\\nK:Bb\\nV:1\\nz2 C3-C/...   \n",
       "cascd-060-02_0000-0005      M: 4/4\\nL: 1/8\\nQ:1/4=120\\nK:F\\nV:1\\nz2 C3-C/2...   \n",
       "cascd-060-02_0005-0011      M: 4/4\\nL: 1/8\\nQ:1/4=120\\nK:F\\nV:1\\nz2 C3-C/2...   \n",
       "cccc-060-01_0000-0005       M: 4/4\\nL: 1/8\\nQ:1/4=120\\nK:C\\nV:1\\nz2 C3-C/2...   \n",
       "leadtest-060-03_0000-0005   M: 4/4\\nL: 1/8\\nQ:1/4=120\\nK:C\\nV:1\\nz3/2C/2 z...   \n",
       "trailtest-060-03_0005-0011  M: 4/4\\nL: 1/8\\nQ:1/4=120\\nK:Eb\\nV:1\\nz3/2C/2 ...   \n",
       "\n",
       "                                                                           id  \\\n",
       "baba-060-02_0005-0011       [46, 27, 1, 21, 16, 21, 97, 0, 0, 0, 0, 0, 0, ...   \n",
       "bbbb-060-01_0005-0011       [46, 27, 1, 21, 16, 21, 97, 0, 0, 0, 0, 0, 0, ...   \n",
       "c4v100-060-03_0000-0005     [46, 27, 1, 21, 16, 21, 97, 0, 0, 0, 0, 0, 0, ...   \n",
       "c4v97-060-03_0005-0011      [46, 27, 1, 21, 16, 21, 97, 0, 0, 0, 0, 0, 0, ...   \n",
       "cascas-060-02_0000-0005     [46, 27, 1, 21, 16, 21, 97, 0, 0, 0, 0, 0, 0, ...   \n",
       "cascd-060-02_0000-0005      [46, 27, 1, 21, 16, 21, 97, 0, 0, 0, 0, 0, 0, ...   \n",
       "cascd-060-02_0005-0011      [46, 27, 1, 21, 16, 21, 97, 0, 0, 0, 0, 0, 0, ...   \n",
       "cccc-060-01_0000-0005       [46, 27, 1, 21, 16, 21, 97, 0, 0, 0, 0, 0, 0, ...   \n",
       "leadtest-060-03_0000-0005   [46, 27, 1, 21, 16, 21, 97, 0, 0, 0, 0, 0, 0, ...   \n",
       "trailtest-060-03_0005-0011  [46, 27, 1, 21, 16, 21, 97, 0, 0, 0, 0, 0, 0, ...   \n",
       "\n",
       "                                                                    embedding  \n",
       "baba-060-02_0005-0011       [0.5433163, -0.46188298, -0.1765729, 0.0864300...  \n",
       "bbbb-060-01_0005-0011       [0.88814145, -0.43045604, -0.4846054, 0.208652...  \n",
       "c4v100-060-03_0000-0005     [0.5935626, -0.27001852, -0.4847664, 0.1845568...  \n",
       "c4v97-060-03_0005-0011      [0.5935626, -0.27001852, -0.4847664, 0.1845568...  \n",
       "cascas-060-02_0000-0005     [0.7008802, -0.57024217, -0.47158375, -0.19007...  \n",
       "cascd-060-02_0000-0005      [0.72160333, -0.37010112, -0.28689235, -0.1840...  \n",
       "cascd-060-02_0005-0011      [0.72160333, -0.37010112, -0.28689235, -0.1840...  \n",
       "cccc-060-01_0000-0005       [0.25690234, -0.63969105, -0.5762541, -0.12649...  \n",
       "leadtest-060-03_0000-0005   [0.51716053, -0.13362023, -0.32246056, 0.25749...  \n",
       "trailtest-060-03_0005-0011  [0.76399434, 0.13449587, -0.036859572, 0.08304...  "
      ]
     },
     "execution_count": 2,
     "metadata": {},
     "output_type": "execute_result"
    }
   ],
   "source": [
    "# table_path = \"../data/outputs/all-fourbar.parquet\"\n",
    "table_path = \"../data/test-clamp.parquet\"\n",
    "simtable = pd.read_parquet(table_path)\n",
    "simtable[:10]"
   ]
  },
  {
   "cell_type": "code",
   "execution_count": 16,
   "metadata": {},
   "outputs": [
    {
     "name": "stdout",
     "output_type": "stream",
     "text": [
      "0\tk: loop  \t\tv: 20240121-70-04_0152-0160.mid\n",
      "1\tk: sim-1\t\tv: -1.0\n",
      "2\tk: prev 1\t\tv: 20240121-70-04_0144-0152.mid\n",
      "3\tk: sim-2\t\tv: -1.0\n",
      "4\tk: next 1\t\tv: 20240121-70-04_0160-0168.mid\n",
      "5\tk: sim-3\t\tv: -1.0\n",
      "6\tk: prev 2\t\tv: 20240121-70-04_0136-0144.mid\n",
      "7\tk: sim-4\t\tv: -1.0\n",
      "8\tk: next 2\t\tv: 20240121-70-04_0168-0176.mid\n",
      "9\tk: sim-5\t\tv: -1.0\n",
      "10\tk: diff 1\t\tv: 20240122-55-05_0168-0176.mid\n",
      "11\tk: sim-6\t\tv: 0.9705248415047157\n",
      "12\tk: diff 2\t\tv: 20240122-55-05_0080-0088.mid\n",
      "13\tk: sim-7\t\tv: 0.9702783221333477\n",
      "14\tk: diff 3\t\tv: 20240122-55-06_0144-0152.mid\n",
      "15\tk: sim-8\t\tv: 0.9787580462542823\n",
      "16\tk: diff 4\t\tv: 20240122-55-06_0232-0240.mid\n",
      "17\tk: sim-9\t\tv: 0.9683825677426191\n",
      "18\tk: diff 5\t\tv: 20240122-55-06_0240-0248.mid\n",
      "19\tk: sim-10\t\tv: 0.9738132206237704\n",
      "most similar i: 15\tr: sim-8\tv: 0.9787580462542823\n"
     ]
    }
   ],
   "source": [
    "row = simtable.iloc[0]\n",
    "most_similar_v = -1\n",
    "most_similar_i = -1\n",
    "for i, (k, v) in enumerate(row.items()):\n",
    "    print(f\"{i}\\tk: {k}\\t\\tv: {v}\")\n",
    "    if str(k).startswith(\"sim\") and float(v) > most_similar_v:\n",
    "        most_similar_v = v\n",
    "        most_similar_i = i\n",
    "\n",
    "print(\n",
    "    f\"most similar i: {most_similar_i}\\tr: {row.index[most_similar_i]}\\tv: {most_similar_v}\"\n",
    ")"
   ]
  }
 ],
 "metadata": {
  "kernelspec": {
   "display_name": ".venv",
   "language": "python",
   "name": "python3"
  },
  "language_info": {
   "codemirror_mode": {
    "name": "ipython",
    "version": 3
   },
   "file_extension": ".py",
   "mimetype": "text/x-python",
   "name": "python",
   "nbconvert_exporter": "python",
   "pygments_lexer": "ipython3",
   "version": "3.12.2"
  }
 },
 "nbformat": 4,
 "nbformat_minor": 2
}
