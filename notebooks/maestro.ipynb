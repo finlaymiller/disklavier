{
 "cells": [
  {
   "cell_type": "code",
   "execution_count": 1,
   "metadata": {},
   "outputs": [],
   "source": [
    "import mido\n",
    "from midi_player import MIDIPlayer\n",
    "from midi_player.stylers import dark"
   ]
  },
  {
   "cell_type": "code",
   "execution_count": 4,
   "metadata": {},
   "outputs": [
    {
     "name": "stdout",
     "output_type": "stream",
     "text": [
      "=== Track 0\n",
      "MetaMessage('set_tempo', tempo=1200000, time=0)\n",
      "MetaMessage('time_signature', numerator=4, denominator=4, clocks_per_click=24, notated_32nd_notes_per_beat=8, time=0)\n",
      "MetaMessage('end_of_track', time=1)\n",
      "=== Track 1\n",
      "MetaMessage('track_name', name='20240305-050-03_0000-0009_t09s00', time=0)\n",
      "Message('program_change', channel=0, program=0, time=0)\n",
      "Message('note_on', channel=0, note=40, velocity=49, time=163)\n",
      "Message('note_on', channel=0, note=52, velocity=48, time=62)\n",
      "Message('note_on', channel=0, note=52, velocity=0, time=137)\n",
      "Message('note_on', channel=0, note=40, velocity=0, time=23)\n",
      "Message('note_on', channel=0, note=52, velocity=54, time=0)\n",
      "Message('note_on', channel=0, note=40, velocity=42, time=55)\n",
      "Message('note_on', channel=0, note=52, velocity=0, time=2)\n",
      "Message('note_on', channel=0, note=40, velocity=0, time=145)\n",
      "Message('note_on', channel=0, note=40, velocity=48, time=23)\n",
      "Message('note_on', channel=0, note=52, velocity=51, time=59)\n",
      "Message('note_on', channel=0, note=40, velocity=0, time=122)\n",
      "Message('note_on', channel=0, note=40, velocity=32, time=34)\n",
      "Message('note_on', channel=0, note=52, velocity=0, time=7)\n",
      "Message('note_on', channel=0, note=52, velocity=40, time=53)\n",
      "Message('note_on', channel=0, note=40, velocity=0, time=123)\n",
      "Message('note_on', channel=0, note=52, velocity=0, time=35)\n",
      "Message('note_on', channel=0, note=40, velocity=55, time=7)\n",
      "Message('note_on', channel=0, note=52, velocity=74, time=57)\n",
      "Message('note_on', channel=0, note=52, velocity=0, time=140)\n",
      "Message('note_on', channel=0, note=52, velocity=48, time=20)\n",
      "Message('note_on', channel=0, note=40, velocity=0, time=39)\n",
      "Message('note_on', channel=0, note=40, velocity=58, time=23)\n",
      "Message('note_on', channel=0, note=40, velocity=0, time=133)\n",
      "Message('note_on', channel=0, note=40, velocity=52, time=25)\n",
      "Message('note_on', channel=0, note=52, velocity=0, time=3)\n",
      "Message('note_on', channel=0, note=52, velocity=49, time=55)\n",
      "Message('note_on', channel=0, note=40, velocity=0, time=128)\n",
      "Message('note_on', channel=0, note=40, velocity=53, time=32)\n",
      "Message('note_on', channel=0, note=52, velocity=0, time=0)\n",
      "Message('note_on', channel=0, note=40, velocity=0, time=176)\n",
      "MetaMessage('end_of_track', time=1)\n",
      "=== Track 2\n",
      "MetaMessage('track_name', name='tick', time=0)\n",
      "MetaMessage('text', text='beat 0', time=220)\n",
      "MetaMessage('text', text='beat 1', time=220)\n",
      "MetaMessage('text', text='beat 2', time=220)\n",
      "MetaMessage('text', text='beat 3', time=220)\n",
      "MetaMessage('text', text='beat 4', time=220)\n",
      "MetaMessage('text', text='beat 5', time=220)\n",
      "MetaMessage('text', text='beat 6', time=220)\n",
      "MetaMessage('text', text='beat 7', time=220)\n",
      "MetaMessage('end_of_track', time=0)\n"
     ]
    }
   ],
   "source": [
    "midi_path = \"../data/datasets/20250110/augmented/20240305-050-03_0000-0009_t09s00.mid\"\n",
    "mido.MidiFile(midi_path).print_tracks()"
   ]
  },
  {
   "cell_type": "code",
   "execution_count": 5,
   "metadata": {},
   "outputs": [
    {
     "data": {
      "text/html": [
       "<iframe srcdoc=\"&lt;script src=&quot;https://cdn.jsdelivr.net/combine/npm/tone@14.7.58,npm/@magenta/music@1.23.1/es6/core.js,npm/focus-visible@5,npm/html-midi-player@1.5.0&quot;&gt;&lt;/script&gt;\n",
       "\n",
       "&lt;style&gt;\n",
       "/* Custom player style */\n",
       "p { \n",
       "  margin:0; \n",
       "  color: #c4c4c4; /* mid-lightness text color for title, intended for dark backgrounds */\n",
       "}\n",
       "\n",
       "#section688 midi-player {\n",
       "  display: block;\n",
       "  width: inherit;\n",
       "  margin: 4px;\n",
       "  margin-bottom: 0;\n",
       "  color: #d4d4d4; /* Lighter text color for better readability */\n",
       "}\n",
       "#section688 midi-player::part(control-panel) {\n",
       "  background: #222; /* Dark background */\n",
       "  border: 2px solid #888; /* Lightened border color for contrast */\n",
       "  border-radius: 10px 10px 0 0;\n",
       "}\n",
       "#section688 midi-player::part(play-button) {\n",
       "  color: #ffffff; /* White text for visibility */\n",
       "  border: 2px solid currentColor;\n",
       "  background-color: #6c7a89; \n",
       "  border-radius: 20px;\n",
       "  transition: all 0.2s;\n",
       "  content: &#x27;hello&#x27;;\n",
       "}\n",
       "#section688 midi-player::part(play-button):hover {\n",
       "  color: #00a; \n",
       "  background-color: #9fafc9; \n",
       "  border-radius: 10px;\n",
       "}\n",
       "#section688 midi-player::part(time) {\n",
       "  font-family: monospace; /* Monospace font for time */\n",
       "}\n",
       "\n",
       "/* Custom visualizer style */\n",
       "#section688 midi-visualizer .piano-roll-visualizer {\n",
       "  background: #333; /* Dark background for visualizer */\n",
       "  border: 2px solid #505050; /* Dark border for subtle appearance */\n",
       "  border-top: none;\n",
       "  border-radius: 0 0 10px 10px;\n",
       "  margin: 4px;\n",
       "  width: inherit;\n",
       "  margin-top: 0;\n",
       "  overflow: auto;\n",
       "}\n",
       "#section688 midi-visualizer svg rect.note {\n",
       "  opacity: 0.9; \n",
       "  stroke-width: 1; /* Stroke width for note clarity */\n",
       "}\n",
       "\n",
       "/* Different instrument colors */\n",
       "#section688 midi-visualizer svg rect.note[data-instrument=&quot;0&quot;]{\n",
       "  fill: #7aa6ed; /*  blue for Instrument 0 */\n",
       "  stroke: #444; \n",
       "}\n",
       "#section688 midi-visualizer svg rect.note[data-instrument=&quot;2&quot;]{\n",
       "  fill: #d586d0; /* purple for Instrument 2 for consistency */\n",
       "  stroke: #444; /* White stroke for visibility */\n",
       "}\n",
       "#section688 midi-visualizer svg rect.note[data-is-drum=&quot;true&quot;]{\n",
       "  fill: brightorange; \n",
       "  stroke: #bbb;\n",
       "}\n",
       "#section688 midi-visualizer svg rect.note.active {\n",
       "  opacity: 0.9; /* Highlight active notes */\n",
       "  stroke: #ddd; /* White stroke for maximum contrast */\n",
       "  stroke-width: 2; /* Thicker stroke for active notes */\n",
       "}\n",
       "&lt;/style&gt;\n",
       "\n",
       "          &lt;section id=&quot;section688&quot;&gt;&lt;p style=&quot;text-align:left;font-family:Arial;&quot;&gt;&amp;nbsp;&lt;span style=&quot;float:right;&quot;&gt;&lt;a href=&quot;data:audio/midi;base64,TVRoZAAAAAYAAQADANxNVHJrAAAAEwD/UQMST4AA/1gEBAIYCAH/LwBNVHJrAAAAjQD/AyAyMDI0MDMwNS0wNTAtMDNfMDAwMC0wMDA5X3QwOXMwMADAAIEjkCgxPjQwgQk0ABcoAAA0NjcoKgI0AIERKAAXKDA7NDN6KAAiKCAHNAA1NCh7KAAjNAAHKDc5NEqBDDQAFDQwJygAFyg6gQUoABkoNAM0ADc0MYEAKAAgKDUANACBMCgAAf8vAE1UcmsAAABkAP8DBHRpY2uBXP8BBmJlYXQgMIFc/wEGYmVhdCAxgVz/AQZiZWF0IDKBXP8BBmJlYXQgM4Fc/wEGYmVhdCA0gVz/AQZiZWF0IDWBXP8BBmJlYXQgNoFc/wEGYmVhdCA3AP8vAA==&quot; target=&quot;_blank&quot;&gt;Download MIDI&lt;/a&gt;&lt;br&gt;&lt;/span&gt;&lt;/p&gt;\n",
       "          &lt;midi-player src=data:audio/midi;base64,TVRoZAAAAAYAAQADANxNVHJrAAAAEwD/UQMST4AA/1gEBAIYCAH/LwBNVHJrAAAAjQD/AyAyMDI0MDMwNS0wNTAtMDNfMDAwMC0wMDA5X3QwOXMwMADAAIEjkCgxPjQwgQk0ABcoAAA0NjcoKgI0AIERKAAXKDA7NDN6KAAiKCAHNAA1NCh7KAAjNAAHKDc5NEqBDDQAFDQwJygAFyg6gQUoABkoNAM0ADc0MYEAKAAgKDUANACBMCgAAf8vAE1UcmsAAABkAP8DBHRpY2uBXP8BBmJlYXQgMIFc/wEGYmVhdCAxgVz/AQZiZWF0IDKBXP8BBmJlYXQgM4Fc/wEGYmVhdCA0gVz/AQZiZWF0IDWBXP8BBmJlYXQgNoFc/wEGYmVhdCA3AP8vAA== sound-font visualizer=&quot;#section688 midi-visualizer&quot;&gt;&lt;/midi-player&gt;\n",
       "          &lt;midi-visualizer src=data:audio/midi;base64,TVRoZAAAAAYAAQADANxNVHJrAAAAEwD/UQMST4AA/1gEBAIYCAH/LwBNVHJrAAAAjQD/AyAyMDI0MDMwNS0wNTAtMDNfMDAwMC0wMDA5X3QwOXMwMADAAIEjkCgxPjQwgQk0ABcoAAA0NjcoKgI0AIERKAAXKDA7NDN6KAAiKCAHNAA1NCh7KAAjNAAHKDc5NEqBDDQAFDQwJygAFyg6gQUoABkoNAM0ADc0MYEAKAAgKDUANACBMCgAAf8vAE1UcmsAAABkAP8DBHRpY2uBXP8BBmJlYXQgMIFc/wEGYmVhdCAxgVz/AQZiZWF0IDKBXP8BBmJlYXQgM4Fc/wEGYmVhdCA0gVz/AQZiZWF0IDWBXP8BBmJlYXQgNoFc/wEGYmVhdCA3AP8vAA== type=piano-roll&gt;&lt;/midi-visualizer&gt;\n",
       "          &lt;/section&gt;\n",
       "          \" width=\"100%\" height=\"400\"\n",
       "            style=\"border:none !important;\"\n",
       "            \"allowfullscreen\" \"webkitallowfullscreen\" \"mozallowfullscreen\">'\n",
       "            </iframe>"
      ],
      "text/plain": [
       "<midi_player.midi_player.MIDIPlayer at 0x107a45cd0>"
      ]
     },
     "execution_count": 5,
     "metadata": {},
     "output_type": "execute_result"
    }
   ],
   "source": [
    "MIDIPlayer(\n",
    "    midi_path,\n",
    "    400,\n",
    "    styler=dark,\n",
    ")"
   ]
  },
  {
   "cell_type": "code",
   "execution_count": 4,
   "metadata": {},
   "outputs": [
    {
     "name": "stdout",
     "output_type": "stream",
     "text": [
      "('/media/nova/Datasets/maestro/midi/2004/MIDI-Unprocessed_SMF_02_R1_2004_01-05_ORIG_MID--AUDIO_02_R1_2004_05_Track05_wav', '.midi')\n"
     ]
    }
   ],
   "source": [
    "import os\n",
    "\n",
    "print(os.path.splitext(midi_path))"
   ]
  }
 ],
 "metadata": {
  "kernelspec": {
   "display_name": ".venv",
   "language": "python",
   "name": "python3"
  },
  "language_info": {
   "codemirror_mode": {
    "name": "ipython",
    "version": 3
   },
   "file_extension": ".py",
   "mimetype": "text/x-python",
   "name": "python",
   "nbconvert_exporter": "python",
   "pygments_lexer": "ipython3",
   "version": "3.12.2"
  }
 },
 "nbformat": 4,
 "nbformat_minor": 2
}
