{
 "cells": [
  {
   "cell_type": "markdown",
   "metadata": {},
   "source": [
    "# test dataset analytics\n",
    "\n",
    "a set of functions for quickly viewing aggregate properties of a MIDI dataset"
   ]
  },
  {
   "cell_type": "markdown",
   "metadata": {},
   "source": [
    "## parameters\n",
    "edit these before running"
   ]
  },
  {
   "cell_type": "code",
   "execution_count": null,
   "metadata": {},
   "outputs": [],
   "source": [
    "# filesystem parameters\n",
    "# INPUT_DIR = \"/media/nova/Datasets/maestro/segments\"\n",
    "INPUT_DIR = \"../data/datasets/20250110/\"\n",
    "SEGMENT_DIR = INPUT_DIR + \"segmented\"  # basic segmented files\n",
    "AUGMENT_DIR = INPUT_DIR + \"augmented\"  # ^ + all augmentations\n",
    "OUTPUT_DIR = \"../data/tests\"\n",
    "DATASET_NAME = \"20250110\"\n",
    "\n",
    "# dataset parameters\n",
    "NUM_BEATS = 9\n",
    "MIN_BPM = 50\n",
    "MAX_BPM = 130\n",
    "\n",
    "# bounds for outlier detection\n",
    "OUTLIERS = {\n",
    "    \"min_seg_len\": NUM_BEATS * 60 / MAX_BPM\n",
    "    - 1,  # 9 beats per segment * 60 secs per min / 100 bpm (fastest recording tempo) - 1s for buffer = 4.4s\n",
    "    \"max_seg_len\": NUM_BEATS * 60 / MIN_BPM\n",
    "    + 1,  # 9 beats per segment * 60 secs per min / 50 bpm (slowest recording tempo) + 1s for buffer = 11.8s\n",
    "    \"min_note_len\": 0.01,  # 10ms min note len\n",
    "    \"max_note_len\": 12,  # 12s max note len\n",
    "    \"min_pitch\": 0,  # lowest MIDI note, unusual\n",
    "    \"max_pitch\": 127\n",
    "    - 11,  # within an octave of the highest MIDI note, may cause issues transposing\n",
    "    \"min_vel\": 5,  # anything quieter than this is unlikely\n",
    "    \"max_vel\": 120,  # anything louder than this is unlikely\n",
    "}"
   ]
  },
  {
   "cell_type": "markdown",
   "metadata": {},
   "source": [
    "## imports"
   ]
  },
  {
   "cell_type": "code",
   "execution_count": null,
   "metadata": {},
   "outputs": [],
   "source": [
    "import os\n",
    "import json\n",
    "import random\n",
    "import pretty_midi\n",
    "import matplotlib.pyplot as plt\n",
    "from collections import Counter\n",
    "from rich.progress import (\n",
    "    Progress,\n",
    "    SpinnerColumn,\n",
    "    TimeElapsedColumn,\n",
    "    MofNCompleteColumn,\n",
    ")"
   ]
  },
  {
   "cell_type": "markdown",
   "metadata": {},
   "source": [
    "## functions"
   ]
  },
  {
   "cell_type": "code",
   "execution_count": null,
   "metadata": {},
   "outputs": [],
   "source": [
    "def analyze(folder_path):\n",
    "    dur_counter = Counter()\n",
    "    len_counter = Counter()\n",
    "    pch_counter = Counter()\n",
    "    phn_counter = Counter()\n",
    "    vel_counter = Counter()\n",
    "\n",
    "    outliers = []\n",
    "\n",
    "    p = Progress(\n",
    "        SpinnerColumn(),\n",
    "        *Progress.get_default_columns(),\n",
    "        TimeElapsedColumn(),\n",
    "        MofNCompleteColumn(),\n",
    "        refresh_per_second=0.1,\n",
    "    )\n",
    "\n",
    "    with p:\n",
    "        for dir_path, _, files in os.walk(folder_path):\n",
    "            scan_task = p.add_task(\n",
    "                f\"scanning {os.path.basename(dir_path)}\", total=len(files)\n",
    "            )\n",
    "            for file_name in files:\n",
    "                if file_name.endswith(\".mid\") or file_name.endswith(\".midi\"):\n",
    "                    file_path = os.path.join(dir_path, file_name)\n",
    "\n",
    "                    try:\n",
    "                        midi = pretty_midi.PrettyMIDI(file_path)\n",
    "\n",
    "                        # count segment-level properties\n",
    "                        # segment length\n",
    "                        et = midi.get_end_time()\n",
    "                        len_counter[et] += 1\n",
    "                        if et <= OUTLIERS[\"min_seg_len\"]:\n",
    "                            print(\n",
    "                                f\"short segment found w length {et:.03f}s:\\t{file_name}\"\n",
    "                            )\n",
    "                            outliers.append(\n",
    "                                {\n",
    "                                    \"name\": file_name,\n",
    "                                    \"type\": \"under min segment length\",\n",
    "                                    \"value\": et,\n",
    "                                    \"path\": file_path,\n",
    "                                }\n",
    "                            )\n",
    "                        elif et >= OUTLIERS[\"max_seg_len\"]:\n",
    "                            print(\n",
    "                                f\"long segment found w length {et:.03f}s:\\t{file_name}\"\n",
    "                            )\n",
    "                            outliers.append(\n",
    "                                {\n",
    "                                    \"name\": file_name,\n",
    "                                    \"type\": \"over max segment length\",\n",
    "                                    \"value\": et,\n",
    "                                    \"path\": file_path,\n",
    "                                }\n",
    "                            )\n",
    "\n",
    "                        # segment pitch histogram\n",
    "                        phn = midi.get_pitch_class_histogram()\n",
    "                        for i, pitch in enumerate(phn):\n",
    "                            phn_counter[i] += pitch\n",
    "\n",
    "                        # count note-level properties\n",
    "                        midi_data = pretty_midi.PrettyMIDI(file_path)\n",
    "                        for instrument in midi_data.instruments:\n",
    "                            for note in instrument.notes:\n",
    "                                # note duration\n",
    "                                dt = note.end - note.start\n",
    "                                dur_counter[dt] += 1\n",
    "                                if dt <= OUTLIERS[\"min_note_len\"]:\n",
    "                                    print(\n",
    "                                        f\"short note found w note dur {dt:.03f}:\\t{file_name}\"\n",
    "                                    )\n",
    "                                    outliers.append(\n",
    "                                        {\n",
    "                                            \"name\": file_name,\n",
    "                                            \"type\": \"under min note length\",\n",
    "                                            \"value\": dt,\n",
    "                                            \"path\": file_path,\n",
    "                                        }\n",
    "                                    )\n",
    "                                elif dt >= OUTLIERS[\"max_note_len\"]:\n",
    "                                    print(\n",
    "                                        f\"long note found w note dur {dt:.03f}:\\t{file_name}\"\n",
    "                                    )\n",
    "                                    outliers.append(\n",
    "                                        {\n",
    "                                            \"name\": file_name,\n",
    "                                            \"type\": \"over max note length\",\n",
    "                                            \"value\": dt,\n",
    "                                            \"path\": file_path,\n",
    "                                        }\n",
    "                                    )\n",
    "                                # note pitch\n",
    "                                pch_counter[note.pitch] += 1\n",
    "                                if note.pitch <= OUTLIERS[\"min_pitch\"]:\n",
    "                                    print(\n",
    "                                        f\"low note found w pitch {note.pitch}:\\t{file_name}\"\n",
    "                                    )\n",
    "                                    outliers.append(\n",
    "                                        {\n",
    "                                            \"name\": file_name,\n",
    "                                            \"type\": \"under min pitch\",\n",
    "                                            \"value\": note.pitch,\n",
    "                                            \"path\": file_path,\n",
    "                                        }\n",
    "                                    )\n",
    "                                elif note.pitch >= OUTLIERS[\"max_pitch\"]:\n",
    "                                    print(\n",
    "                                        f\"high note found w pitch {note.pitch}:\\t{file_name}\"\n",
    "                                    )\n",
    "                                    outliers.append(\n",
    "                                        {\n",
    "                                            \"name\": file_name,\n",
    "                                            \"type\": \"over max pitch\",\n",
    "                                            \"value\": note.pitch,\n",
    "                                            \"path\": file_path,\n",
    "                                        }\n",
    "                                    )\n",
    "                                # note velocity\n",
    "                                vel_counter[note.velocity] += 1\n",
    "                                if note.velocity <= OUTLIERS[\"min_vel\"]:\n",
    "                                    print(\n",
    "                                        f\"quiet note found w vel {note.velocity:03d}:\\t{file_name}\"\n",
    "                                    )\n",
    "                                    outliers.append(\n",
    "                                        {\n",
    "                                            \"name\": file_name,\n",
    "                                            \"type\": \"under min velocity\",\n",
    "                                            \"value\": note.velocity,\n",
    "                                            \"path\": file_path,\n",
    "                                        }\n",
    "                                    )\n",
    "                                elif note.velocity >= OUTLIERS[\"max_vel\"]:\n",
    "                                    print(\n",
    "                                        f\"loud note found w vel {note.velocity:03d}:\\t{file_name}\"\n",
    "                                    )\n",
    "                                    outliers.append(\n",
    "                                        {\n",
    "                                            \"name\": file_name,\n",
    "                                            \"type\": \"over max velocity\",\n",
    "                                            \"value\": note.velocity,\n",
    "                                            \"path\": file_path,\n",
    "                                        }\n",
    "                                    )\n",
    "                    except Exception as e:\n",
    "                        print(f\"Error processing {file_path}: {e}\")\n",
    "                        outliers.append(\n",
    "                            {\n",
    "                                \"name\": file_name,\n",
    "                                \"type\": \"file processing error\",\n",
    "                                \"value\": None,\n",
    "                                \"path\": file_path,\n",
    "                            }\n",
    "                        )\n",
    "                        continue\n",
    "                p.advance(scan_task)\n",
    "            p.remove_task(scan_task)\n",
    "    return (\n",
    "        len_counter,\n",
    "        pch_counter,\n",
    "        vel_counter,\n",
    "        dur_counter,\n",
    "        phn_counter,\n",
    "    ), outliers"
   ]
  },
  {
   "cell_type": "code",
   "execution_count": 27,
   "metadata": {},
   "outputs": [],
   "source": [
    "def plot_histogram(\n",
    "    histogram,\n",
    "    save_path,\n",
    "    show=True,\n",
    "    grid=False,\n",
    "    x_label=\"Time (s)\",\n",
    "    y_label=\"Count\",\n",
    "    x_tick_labels=None,\n",
    "    title=None,\n",
    ") -> None:\n",
    "    plt.figure(figsize=(10, 6))\n",
    "\n",
    "    plt.bar(\n",
    "        list(histogram.keys()), list(histogram.values())\n",
    "    )  # , width=1.0, edgecolor=\"black\")\n",
    "    plt.xlabel(x_label)\n",
    "    plt.ylabel(y_label)\n",
    "    plt.yscale(\"log\")\n",
    "    plt.grid(grid)\n",
    "\n",
    "    if title:\n",
    "        plt.title(title)\n",
    "    if x_tick_labels:\n",
    "        plt.xticks(range(len(x_tick_labels)), x_tick_labels)\n",
    "\n",
    "    plt.savefig(save_path)\n",
    "\n",
    "    if show:\n",
    "        plt.show()\n",
    "    else:\n",
    "        plt.close()"
   ]
  },
  {
   "cell_type": "code",
   "execution_count": null,
   "metadata": {},
   "outputs": [],
   "source": [
    "def plot_piano_rolls(\n",
    "    pf_midi: list[str],\n",
    "    output_path: str,\n",
    "    main_title: str = f\"{DATASET_NAME} Piano Rolls\",\n",
    ") -> None:\n",
    "    fig, axs = plt.subplots(3, 3, figsize=(15, 10))\n",
    "    for ax, midi_file in zip(axs.flatten(), pf_midi):\n",
    "        midi = pretty_midi.PrettyMIDI(midi_file)\n",
    "        piano_roll = midi.get_piano_roll()\n",
    "        ax.imshow(piano_roll, aspect=\"auto\", cmap=\"gray\", origin=\"lower\")\n",
    "        ax.set_title(os.path.basename(midi_file))\n",
    "        ax.axis(\"off\")\n",
    "\n",
    "    plt.suptitle(main_title)\n",
    "    plt.tight_layout()\n",
    "    plt.savefig(os.path.join(output_path, f\"{main_title}.png\"))\n",
    "    plt.close()"
   ]
  },
  {
   "cell_type": "markdown",
   "metadata": {},
   "source": [
    "## go"
   ]
  },
  {
   "cell_type": "markdown",
   "metadata": {},
   "source": [
    "### calculate"
   ]
  },
  {
   "cell_type": "code",
   "execution_count": null,
   "metadata": {},
   "outputs": [],
   "source": [
    "# parameter verification\n",
    "if len(os.listdir(INPUT_DIR)) < 1:\n",
    "    print(f\"input directory '{INPUT_DIR}' is empty\")\n",
    "    raise IndexError\n",
    "\n",
    "output_dir = os.path.join(OUTPUT_DIR, DATASET_NAME)\n",
    "if os.path.isdir(output_dir):\n",
    "    print(f\"output folder '{output_dir}' already exists, pick a new one\")\n",
    "    raise IsADirectoryError\n",
    "\n",
    "os.makedirs(output_dir)"
   ]
  },
  {
   "cell_type": "code",
   "execution_count": null,
   "metadata": {},
   "outputs": [],
   "source": [
    "(lc, pc, vc, dc, pn), outliers = analyze(SEGMENT_DIR)\n",
    "\n",
    "outlier_file = os.path.join(output_dir, \"outliers.json\")\n",
    "print(f\"{len(outliers)} outliers found, writing out to '{outlier_file}'\")\n",
    "with open(outlier_file, \"w\") as f:\n",
    "    json.dump(outliers, f)"
   ]
  },
  {
   "cell_type": "markdown",
   "metadata": {},
   "source": [
    "### plot"
   ]
  },
  {
   "cell_type": "code",
   "execution_count": null,
   "metadata": {},
   "outputs": [],
   "source": [
    "midi_files = []\n",
    "for dir_path, _, files in os.walk(AUGMENT_DIR):\n",
    "    for file_name in files:\n",
    "        if file_name.endswith(\".mid\") or file_name.endswith(\".midi\"):\n",
    "            midi_files.append(os.path.join(dir_path, file_name))\n",
    "\n",
    "selected_files = random.sample(midi_files, min(9, len(midi_files)))\n",
    "\n",
    "plot_piano_rolls(selected_files, output_dir, \"Randomly Sampled Segments\")"
   ]
  },
  {
   "cell_type": "code",
   "execution_count": null,
   "metadata": {},
   "outputs": [
    {
     "data": {
      "image/png": "[encoded data removed]",
      "text/plain": [
       "<Figure size 1000x600 with 1 Axes>"
      ]
     },
     "metadata": {},
     "output_type": "display_data"
    }
   ],
   "source": [
    "plot_histogram(\n",
    "    lc,\n",
    "    os.path.join(output_dir, \"segment_lengths.png\"),\n",
    "    title=\"Histogram of MIDI File Lengths\",\n",
    ")"
   ]
  },
  {
   "cell_type": "code",
   "execution_count": null,
   "metadata": {},
   "outputs": [],
   "source": [
    "plot_histogram(\n",
    "    pc,\n",
    "    os.path.join(output_dir, \"pitch_counts.png\"),\n",
    "    x_label=\"MIDI Pitch\",\n",
    "    title=\"Histogram of MIDI Note Pitches\",\n",
    ")"
   ]
  },
  {
   "cell_type": "code",
   "execution_count": null,
   "metadata": {},
   "outputs": [],
   "source": [
    "plot_histogram(\n",
    "    vc,\n",
    "    os.path.join(output_dir, \"velocity_counts.png\"),\n",
    "    x_label=\"MIDI Velocity\",\n",
    "    title=\"Histogram of MIDI Note Velocities\",\n",
    ")"
   ]
  },
  {
   "cell_type": "code",
   "execution_count": 29,
   "metadata": {},
   "outputs": [
    {
     "data": {
      "image/png": "[encoded data removed]",
      "text/plain": [
       "<Figure size 1000x600 with 1 Axes>"
      ]
     },
     "metadata": {},
     "output_type": "display_data"
    }
   ],
   "source": [
    "plot_histogram(\n",
    "    dc,\n",
    "    os.path.join(output_dir, \"duration_counts_log.png\"),\n",
    "    x_label=\"Duration (s)\",\n",
    "    title=\"Histogram of MIDI Note Durations\",\n",
    ")"
   ]
  },
  {
   "cell_type": "code",
   "execution_count": null,
   "metadata": {},
   "outputs": [],
   "source": [
    "plot_histogram(\n",
    "    pn,\n",
    "    os.path.join(output_dir, \"pitch_histogram_counts.png\"),\n",
    "    x_tick_labels=[\"C\", \"C#\", \"D\", \"D#\", \"E\", \"F\", \"F#\", \"G\", \"G#\", \"A\", \"A#\", \"B\"],\n",
    "    x_label=\"Note\",\n",
    "    title=\"Sum of Pitch Histograms\",\n",
    ")"
   ]
  },
  {
   "cell_type": "markdown",
   "metadata": {},
   "source": [
    "### empty files"
   ]
  },
  {
   "cell_type": "code",
   "execution_count": null,
   "metadata": {},
   "outputs": [],
   "source": [
    "# find empty files\n",
    "for dir_path, _, files in os.walk(AUGMENT_DIR):\n",
    "    for file_name in files:\n",
    "        if file_name.endswith(\".mid\") or file_name.endswith(\".midi\"):\n",
    "            midi = pretty_midi.PrettyMIDI(os.path.join(dir_path, file_name))\n",
    "            note_count = 0\n",
    "            for ins in midi.instruments:\n",
    "                note_count += len(ins.notes)\n",
    "\n",
    "            if note_count == 0:\n",
    "                print(f\"empty file found: '{file_name}'\\tremoving...\")\n",
    "                os.remove(os.path.join(dir_path, file_name))"
   ]
  }
 ],
 "metadata": {
  "kernelspec": {
   "display_name": ".venv",
   "language": "python",
   "name": "python3"
  },
  "language_info": {
   "codemirror_mode": {
    "name": "ipython",
    "version": 3
   },
   "file_extension": ".py",
   "mimetype": "text/x-python",
   "name": "python",
   "nbconvert_exporter": "python",
   "pygments_lexer": "ipython3",
   "version": "3.12.2"
  }
 },
 "nbformat": 4,
 "nbformat_minor": 2
}
