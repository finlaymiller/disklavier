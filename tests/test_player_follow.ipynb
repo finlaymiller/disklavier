{
 "cells": [
  {
   "cell_type": "markdown",
   "metadata": {},
   "source": [
    "# Player Follow Test"
   ]
  },
  {
   "cell_type": "markdown",
   "metadata": {},
   "source": [
    "**## imports**"
   ]
  },
  {
   "cell_type": "code",
   "execution_count": 1,
   "metadata": {},
   "outputs": [
    {
     "ename": "ModuleNotFoundError",
     "evalue": "No module named 'diffusers'",
     "output_type": "error",
     "traceback": [
      "\u001b[31m---------------------------------------------------------------------------\u001b[39m",
      "\u001b[31mModuleNotFoundError\u001b[39m                       Traceback (most recent call last)",
      "\u001b[36mCell\u001b[39m\u001b[36m \u001b[39m\u001b[32mIn[1]\u001b[39m\u001b[32m, line 22\u001b[39m\n\u001b[32m     20\u001b[39m \u001b[38;5;28;01mfrom\u001b[39;00m\u001b[38;5;250m \u001b[39m\u001b[34;01msrc\u001b[39;00m\u001b[34;01m.\u001b[39;00m\u001b[34;01mutils\u001b[39;00m\u001b[34;01m.\u001b[39;00m\u001b[34;01mmidi\u001b[39;00m\u001b[38;5;250m \u001b[39m\u001b[38;5;28;01mimport\u001b[39;00m transpose_midi\n\u001b[32m     21\u001b[39m \u001b[38;5;28;01mfrom\u001b[39;00m\u001b[38;5;250m \u001b[39m\u001b[34;01msrc\u001b[39;00m\u001b[34;01m.\u001b[39;00m\u001b[34;01mutils\u001b[39;00m\u001b[34;01m.\u001b[39;00m\u001b[34;01mconstants\u001b[39;00m\u001b[38;5;250m \u001b[39m\u001b[38;5;28;01mimport\u001b[39;00m NOTE_NAMES\n\u001b[32m---> \u001b[39m\u001b[32m22\u001b[39m \u001b[38;5;28;01mfrom\u001b[39;00m\u001b[38;5;250m \u001b[39m\u001b[34;01msrc\u001b[39;00m\u001b[34;01m.\u001b[39;00m\u001b[34;01mml\u001b[39;00m\u001b[34;01m.\u001b[39;00m\u001b[34;01mspecdiff\u001b[39;00m\u001b[34;01m.\u001b[39;00m\u001b[34;01mmodel\u001b[39;00m\u001b[38;5;250m \u001b[39m\u001b[38;5;28;01mimport\u001b[39;00m SpectrogramDiffusion\n",
      "\u001b[36mFile \u001b[39m\u001b[32m~/Documents/Programming/disklavier/src/ml/specdiff/model.py:5\u001b[39m\n\u001b[32m      3\u001b[39m \u001b[38;5;28;01mimport\u001b[39;00m\u001b[38;5;250m \u001b[39m\u001b[34;01mtorch\u001b[39;00m\n\u001b[32m      4\u001b[39m \u001b[38;5;28;01mimport\u001b[39;00m\u001b[38;5;250m \u001b[39m\u001b[34;01mpretty_midi\u001b[39;00m\n\u001b[32m----> \u001b[39m\u001b[32m5\u001b[39m \u001b[38;5;28;01mfrom\u001b[39;00m\u001b[38;5;250m \u001b[39m\u001b[34;01mdiffusers\u001b[39;00m\u001b[34;01m.\u001b[39;00m\u001b[34;01mpipelines\u001b[39;00m\u001b[34;01m.\u001b[39;00m\u001b[34;01mdeprecated\u001b[39;00m\u001b[34;01m.\u001b[39;00m\u001b[34;01mspectrogram_diffusion\u001b[39;00m\u001b[34;01m.\u001b[39;00m\u001b[34;01mmidi_utils\u001b[39;00m\u001b[38;5;250m \u001b[39m\u001b[38;5;28;01mimport\u001b[39;00m (\n\u001b[32m      6\u001b[39m     MidiProcessor,\n\u001b[32m      7\u001b[39m )\n\u001b[32m      8\u001b[39m \u001b[38;5;28;01mfrom\u001b[39;00m\u001b[38;5;250m \u001b[39m\u001b[34;01mdiffusers\u001b[39;00m\u001b[34;01m.\u001b[39;00m\u001b[34;01mpipelines\u001b[39;00m\u001b[34;01m.\u001b[39;00m\u001b[34;01mdeprecated\u001b[39;00m\u001b[34;01m.\u001b[39;00m\u001b[34;01mspectrogram_diffusion\u001b[39;00m\u001b[34;01m.\u001b[39;00m\u001b[34;01mnotes_encoder\u001b[39;00m\u001b[38;5;250m \u001b[39m\u001b[38;5;28;01mimport\u001b[39;00m (\n\u001b[32m      9\u001b[39m     SpectrogramNotesEncoder,\n\u001b[32m     10\u001b[39m )\n\u001b[32m     12\u001b[39m project_root = os.path.abspath(os.path.join(os.getcwd(), \u001b[33m\"\u001b[39m\u001b[33m..\u001b[39m\u001b[33m\"\u001b[39m))\n",
      "\u001b[31mModuleNotFoundError\u001b[39m: No module named 'diffusers'"
     ]
    }
   ],
   "source": [
    "import os\n",
    "import sys\n",
    "import pretty_midi\n",
    "import numpy as np\n",
    "from glob import glob\n",
    "import matplotlib.pyplot as plt\n",
    "import seaborn as sns\n",
    "import pandas as pd\n",
    "import re\n",
    "from numpy.linalg import norm\n",
    "from scipy.stats import entropy\n",
    "from itertools import combinations\n",
    "\n",
    "\n",
    "project_root = os.path.abspath(os.path.join(os.getcwd(), \"..\"))\n",
    "if project_root not in sys.path:\n",
    "    sys.path.insert(0, project_root)\n",
    "\n",
    "from src.utils import basename\n",
    "from src.utils.midi import transpose_midi\n",
    "from src.utils.constants import NOTE_NAMES\n",
    "from src.ml.specdiff.model import SpectrogramDiffusion"
   ]
  },
  {
   "cell_type": "markdown",
   "metadata": {},
   "source": [
    "## setup\n",
    "\n",
    "### parameters"
   ]
  },
  {
   "cell_type": "code",
   "execution_count": null,
   "metadata": {},
   "outputs": [],
   "source": [
    "np.random.seed(0)\n",
    "\n",
    "# DATA_DIR = \"/media/scratch/sageev-midi/20250420/augmented\"\n",
    "DATA_DIR = \"/media/scratch/sageev-midi/teeny\"\n",
    "pf_augmentations = os.path.join(\"outputs\", \"augmentations\")\n",
    "os.makedirs(pf_augmentations, exist_ok=True)\n",
    "# temporary directory for transposed files\n",
    "TMP_DIR = \"/home/finlay/disklavier/tests/outputs/tmp\"\n",
    "os.makedirs(TMP_DIR, exist_ok=True)\n",
    "\n",
    "model = SpectrogramDiffusion(fix_time=False, verbose=False)\n",
    "\n",
    "all_files = glob(os.path.join(DATA_DIR, \"*.mid\"))\n",
    "all_files.sort()\n",
    "# base_files = glob(os.path.join(DATA_DIR, \"*t00s00.mid\"))\n",
    "base_files = glob(os.path.join(DATA_DIR, \"*.mid\"))\n",
    "base_files.sort()\n",
    "\n",
    "# chosen_files = np.random.choice(base_files, size=12, replace=False)\n",
    "chosen_files = base_files\n",
    "transposition_pattern = re.compile(r\"_t(\\d+)s\\d+\\.mid$\")\n",
    "\n",
    "all_results = []\n",
    "chosen_files"
   ]
  },
  {
   "cell_type": "markdown",
   "metadata": {},
   "source": [
    "### selected files\n",
    "its not clear from these images, but \"half\" and \"quarter\" files are composed of half and quarter notes respectively. Since i made them in ableton the note ends and starts are at the same time."
   ]
  },
  {
   "cell_type": "code",
   "execution_count": null,
   "metadata": {},
   "outputs": [],
   "source": [
    "# Plot piano rolls of all chosen files in a 3x4 grid\n",
    "fig, axes = plt.subplots(4, 3, figsize=(15, 10))\n",
    "axes = axes.flatten()\n",
    "\n",
    "for i, file_path in enumerate(chosen_files):\n",
    "    if i >= 12:  # Ensure we only plot 12 files\n",
    "        break\n",
    "\n",
    "    # Load MIDI file\n",
    "    midi_data = pretty_midi.PrettyMIDI(file_path)\n",
    "\n",
    "    # Get piano roll (fs=100 means 100 samples per second)\n",
    "    piano_roll = midi_data.get_piano_roll(fs=100)\n",
    "\n",
    "    # Plot piano roll\n",
    "    im = axes[i].imshow(\n",
    "        piano_roll,\n",
    "        aspect=\"auto\",\n",
    "        origin=\"lower\",\n",
    "        cmap=\"gray_r\",\n",
    "        interpolation=\"nearest\",\n",
    "    )\n",
    "\n",
    "    # Set title to the filename (basename only)\n",
    "    axes[i].set_title(basename(file_path), fontsize=8)\n",
    "\n",
    "    # Set y-axis (pitch) labels for leftmost plots only\n",
    "    if i % 3 == 0:\n",
    "        axes[i].set_ylabel(\"Pitch\")\n",
    "    else:\n",
    "        axes[i].set_yticks([])\n",
    "\n",
    "    # Set x-axis (time) labels for bottom plots only\n",
    "    if i >= 9:\n",
    "        axes[i].set_xlabel(\"Time\")\n",
    "    else:\n",
    "        axes[i].set_xticks([])\n",
    "\n",
    "plt.tight_layout()\n",
    "plt.show()"
   ]
  }
 ],
 "metadata": {
  "kernelspec": {
   "display_name": ".venv",
   "language": "python",
   "name": "python3"
  },
  "language_info": {
   "codemirror_mode": {
    "name": "ipython",
    "version": 3
   },
   "file_extension": ".py",
   "mimetype": "text/x-python",
   "name": "python",
   "nbconvert_exporter": "python",
   "pygments_lexer": "ipython3",
   "version": "3.12.2"
  }
 },
 "nbformat": 4,
 "nbformat_minor": 2
}
