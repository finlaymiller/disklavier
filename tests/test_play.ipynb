{
 "cells": [
  {
   "cell_type": "markdown",
   "metadata": {},
   "source": [
    "# test play\n",
    "\n",
    "run through playback of the test dataset"
   ]
  },
  {
   "cell_type": "markdown",
   "metadata": {},
   "source": [
    "## parameters\n",
    "edit these before running"
   ]
  },
  {
   "cell_type": "code",
   "execution_count": null,
   "metadata": {},
   "outputs": [],
   "source": [
    "# filesystem parameters\n",
    "INPUT_DIR = \"data/datasets/test/play\"\n",
    "OUTPUT_PATH = \"data/tests\"\n",
    "OUTPUT_ID = \"test\"  # what identifies this run?\n",
    "\n",
    "# dataset parameters\n",
    "NUM_BEATS = 9\n",
    "MIN_BPM = 40\n",
    "MAX_BPM = 120\n",
    "\n",
    "# playback parameters\n",
    "NUM_STEPS = 5  # how many transitions to run for"
   ]
  },
  {
   "cell_type": "markdown",
   "metadata": {},
   "source": [
    "## imports"
   ]
  },
  {
   "cell_type": "code",
   "execution_count": null,
   "metadata": {},
   "outputs": [],
   "source": [
    "import os\n",
    "from datetime import datetime\n",
    "import subprocess"
   ]
  },
  {
   "cell_type": "markdown",
   "metadata": {},
   "source": [
    "## functions"
   ]
  },
  {
   "cell_type": "code",
   "execution_count": null,
   "metadata": {},
   "outputs": [],
   "source": [
    "def execute_bash_script(\n",
    "    script_path: str, cwd: str, out: str, file: str, tempo: str, num_steps: str\n",
    ") -> str:\n",
    "    \"\"\"\n",
    "    Executes a bash script.\n",
    "\n",
    "    Args:\n",
    "        script_path (str): The path to the bash script to be executed.\n",
    "\n",
    "    Returns:\n",
    "        str: The output from the bash script.\n",
    "    \"\"\"\n",
    "    try:\n",
    "        process = subprocess.Popen(\n",
    "            [\"bash\", script_path, out, file, tempo, num_steps],\n",
    "            text=True,\n",
    "            stdout=subprocess.PIPE,\n",
    "            stderr=subprocess.PIPE,\n",
    "            cwd=cwd,\n",
    "        )\n",
    "\n",
    "        # read and print the stdout and stderr in real-time\n",
    "        while True:\n",
    "            output = process.stdout.readline()\n",
    "            if output == \"\" and process.poll() is not None:\n",
    "                break\n",
    "            if output:\n",
    "                print(output.strip())\n",
    "\n",
    "        # print any remaining stderr\n",
    "        stderr = process.communicate()[1]\n",
    "        if stderr:\n",
    "            print(stderr.strip())\n",
    "    except subprocess.CalledProcessError as e:\n",
    "        # handle errors in the execution\n",
    "        print(f\"Error occurred: {e}\")"
   ]
  },
  {
   "cell_type": "markdown",
   "metadata": {},
   "source": [
    "## go"
   ]
  },
  {
   "cell_type": "code",
   "execution_count": null,
   "metadata": {},
   "outputs": [],
   "source": [
    "parent_dir = os.path.abspath(os.path.join(os.getcwd(), os.pardir))\n",
    "output_dir = os.path.join(\n",
    "    OUTPUT_PATH, f\"{datetime.now().strftime('%y%m%d-%H%M%S')}_{OUTPUT_ID}\"\n",
    ")\n",
    "\n",
    "os.makedirs(output_dir)\n",
    "\n",
    "for filename in os.listdir(f\"../{INPUT_DIR}\")[:3]:\n",
    "    filepath = os.path.join(INPUT_DIR, filename)\n",
    "    print(f\"selecting from {filename}\")\n",
    "    script_path = os.path.join(parent_dir, \"scripts\", \"disklavier_test.sh\")\n",
    "    execute_bash_script(\n",
    "        script_path, parent_dir, output_dir, filepath, \"80\", f\"{NUM_STEPS}\"\n",
    "    )"
   ]
  }
 ],
 "metadata": {
  "kernelspec": {
   "display_name": ".venv",
   "language": "python",
   "name": "python3"
  },
  "language_info": {
   "codemirror_mode": {
    "name": "ipython",
    "version": 3
   },
   "file_extension": ".py",
   "mimetype": "text/x-python",
   "name": "python",
   "nbconvert_exporter": "python",
   "pygments_lexer": "ipython3",
   "version": "3.12.2"
  }
 },
 "nbformat": 4,
 "nbformat_minor": 2
}
